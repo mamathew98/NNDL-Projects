{
  "nbformat": 4,
  "nbformat_minor": 0,
  "metadata": {
    "colab": {
      "provenance": []
    },
    "kernelspec": {
      "name": "python3",
      "display_name": "Python 3"
    },
    "language_info": {
      "name": "python"
    },
    "accelerator": "GPU",
    "gpuClass": "standard"
  },
  "cells": [
    {
      "cell_type": "code",
      "execution_count": 1,
      "metadata": {
        "id": "WUxjoqN7mbD_"
      },
      "outputs": [],
      "source": [
        "import numpy as np\n",
        "import matplotlib.pyplot as plt\n",
        "import os\n",
        "import tensorflow as tf\n",
        "import cv2\n",
        "from keras.models import Sequential, Model\n",
        "from keras.layers import Input, Dense, LeakyReLU, BatchNormalization, ReLU\n",
        "from keras.layers import Conv2D, Conv2DTranspose, Reshape, Flatten\n",
        "from keras.optimizers import Adam\n",
        "from keras import initializers\n",
        "from keras.utils import plot_model, np_utils\n",
        "from keras import backend as K\n",
        "from tensorflow import keras\n",
        "from keras import layers\n",
        "import time\n",
        "import glob\n",
        "import imageio\n",
        "from collections import defaultdict\n",
        "from PIL import Image"
      ]
    },
    {
      "cell_type": "code",
      "source": [
        "path = '/content/Dataset'\n",
        "if not os.path.exists(path):\n",
        "    ! unzip Dataset\n",
        "else: \n",
        "    print('Already Extracted')"
      ],
      "metadata": {
        "id": "o_slW1BdpGJg",
        "colab": {
          "base_uri": "https://localhost:8080/"
        },
        "outputId": "2679faf3-49ee-48b8-9a3a-c6e68e8540c3"
      },
      "execution_count": 2,
      "outputs": [
        {
          "output_type": "stream",
          "name": "stdout",
          "text": [
            "Already Extracted\n"
          ]
        }
      ]
    },
    {
      "cell_type": "code",
      "source": [
        "# Load the data\n",
        "data_dir = '/content/Dataset'\n",
        "class_names = ['1', '2', '3', '4', '5']\n",
        "num_classes = len(class_names)\n",
        "\n",
        "# Create a function to load the data\n",
        "def load_data(data_dir, class_names):\n",
        "    images = []\n",
        "    labels = []\n",
        "    for class_name in class_names:\n",
        "        class_dir = data_dir + '/' + 'Class ' + class_name\n",
        "        for image_path in tf.io.gfile.glob(class_dir + '/*.png'):\n",
        "            img = cv2.imread(image_path, cv2.IMREAD_GRAYSCALE) #, cv2.IMREAD_GRAYSCALE\n",
        "            images.append(img)\n",
        "            labels.append(class_names.index(class_name) + 1)\n",
        "    return np.array(images), np.array(labels)"
      ],
      "metadata": {
        "id": "BAX7bijg7Mlg"
      },
      "execution_count": 3,
      "outputs": []
    },
    {
      "cell_type": "code",
      "source": [
        "# Load the data\n",
        "images, labels = load_data(data_dir, class_names)"
      ],
      "metadata": {
        "id": "XZezrkwEBFUF"
      },
      "execution_count": 4,
      "outputs": []
    },
    {
      "cell_type": "code",
      "source": [
        "# Visualize the data\n",
        "fig, axes = plt.subplots(2, 5, figsize=(10, 5))\n",
        "axes = axes.ravel()\n",
        "i = 0\n",
        "for num in (np.random.randint(0, len(images), 10)):\n",
        "    axes[i].imshow(images[num])\n",
        "    axes[i].set_title(labels[num])\n",
        "    axes[i].axis('off')\n",
        "    i += 1\n",
        "plt.show()"
      ],
      "metadata": {
        "colab": {
          "base_uri": "https://localhost:8080/",
          "height": 291
        },
        "id": "J20OykLm7wpX",
        "outputId": "1b4104dd-6dc8-450c-c68c-5c619bc0af05"
      },
      "execution_count": 5,
      "outputs": [
        {
          "output_type": "display_data",
          "data": {
            "text/plain": [
              "<Figure size 720x360 with 10 Axes>"
            ],
            "image/png": "[encoded data removed]"
          },
          "metadata": {
            "needs_background": "light"
          }
        }
      ]
    },
    {
      "cell_type": "code",
      "source": [
        "print('Images shape:', images.shape)\n",
        "print(images.shape[0], 'train samples')"
      ],
      "metadata": {
        "colab": {
          "base_uri": "https://localhost:8080/"
        },
        "id": "FnekjwGXBhON",
        "outputId": "1f77d3a7-ac0d-4063-977c-8ae830679648"
      },
      "execution_count": 6,
      "outputs": [
        {
          "output_type": "stream",
          "name": "stdout",
          "text": [
            "Images shape: (1005, 32, 32)\n",
            "1005 train samples\n"
          ]
        }
      ]
    },
    {
      "cell_type": "code",
      "source": [
        "np.random.seed(1337)\n",
        "num_classes = 5\n",
        "\n",
        "epochs = 30\n",
        "latent_dim = 128\n",
        "\n",
        "adam_lr = 0.0002\n",
        "adam_beta_1 = 0.5"
      ],
      "metadata": {
        "id": "apsTMkNFmIAr"
      },
      "execution_count": 7,
      "outputs": []
    },
    {
      "cell_type": "code",
      "source": [
        "def build_generator(latent_size):\n",
        "    cnn = tf.keras.Sequential()\n",
        "\n",
        "    cnn.add(layers.Dense(8 * 8 * 128, input_dim=latent_size))\n",
        "    cnn.add(layers.LeakyReLU(alpha=0.2))\n",
        "    cnn.add(layers.Reshape((8, 8, 128)))\n",
        "\n",
        "    cnn.add(layers.Conv2DTranspose(128, 4, strides=2, padding='same',\n",
        "                          kernel_initializer='glorot_normal'))\n",
        "    cnn.add(layers.LeakyReLU(alpha=0.2))\n",
        "    cnn.add(layers.BatchNormalization())\n",
        "\n",
        "    cnn.add(layers.Conv2DTranspose(128, 4, strides=2, padding='same',\n",
        "                          kernel_initializer='glorot_normal'))\n",
        "    cnn.add(layers.LeakyReLU(alpha=0.2))\n",
        "    cnn.add(layers.BatchNormalization())\n",
        "\n",
        "    cnn.add(layers.Conv2D(1, 7, padding='same',\n",
        "                          activation='tanh',\n",
        "                          kernel_initializer='glorot_normal'))\n",
        "    \n",
        "    return cnn"
      ],
      "metadata": {
        "id": "tdCj9TvpmK6j"
      },
      "execution_count": 8,
      "outputs": []
    },
    {
      "cell_type": "code",
      "source": [
        "print('Generator model:')\n",
        "generator = build_generator(latent_dim)\n",
        "generator.summary()"
      ],
      "metadata": {
        "colab": {
          "base_uri": "https://localhost:8080/"
        },
        "id": "l9aBD6QPmMsb",
        "outputId": "01266ec6-18c4-48b5-cee7-aa4e10fe9c5e"
      },
      "execution_count": 9,
      "outputs": [
        {
          "output_type": "stream",
          "name": "stdout",
          "text": [
            "Generator model:\n",
            "Model: \"sequential\"\n",
            "_________________________________________________________________\n",
            " Layer (type)                Output Shape              Param #   \n",
            "=================================================================\n",
            " dense (Dense)               (None, 8192)              1056768   \n",
            "                                                                 \n",
            " leaky_re_lu (LeakyReLU)     (None, 8192)              0         \n",
            "                                                                 \n",
            " reshape (Reshape)           (None, 8, 8, 128)         0         \n",
            "                                                                 \n",
            " conv2d_transpose (Conv2DTra  (None, 16, 16, 128)      262272    \n",
            " nspose)                                                         \n",
            "                                                                 \n",
            " leaky_re_lu_1 (LeakyReLU)   (None, 16, 16, 128)       0         \n",
            "                                                                 \n",
            " batch_normalization (BatchN  (None, 16, 16, 128)      512       \n",
            " ormalization)                                                   \n",
            "                                                                 \n",
            " conv2d_transpose_1 (Conv2DT  (None, 32, 32, 128)      262272    \n",
            " ranspose)                                                       \n",
            "                                                                 \n",
            " leaky_re_lu_2 (LeakyReLU)   (None, 32, 32, 128)       0         \n",
            "                                                                 \n",
            " batch_normalization_1 (Batc  (None, 32, 32, 128)      512       \n",
            " hNormalization)                                                 \n",
            "                                                                 \n",
            " conv2d (Conv2D)             (None, 32, 32, 1)         6273      \n",
            "                                                                 \n",
            "=================================================================\n",
            "Total params: 1,588,609\n",
            "Trainable params: 1,588,097\n",
            "Non-trainable params: 512\n",
            "_________________________________________________________________\n"
          ]
        }
      ]
    },
    {
      "cell_type": "code",
      "source": [
        "def build_discriminator():\n",
        "\n",
        "    cnn = tf.keras.Sequential()\n",
        "\n",
        "    cnn.add(layers.Conv2D(32, 3, padding='same', strides=2,\n",
        "                          input_shape=(32, 32, 1)))\n",
        "    cnn.add(layers.LeakyReLU(0.2))\n",
        "    cnn.add(layers.Dropout(0.3))\n",
        "\n",
        "    cnn.add(layers.Conv2D(64, 3, padding='same', strides=1))\n",
        "    cnn.add(layers.LeakyReLU(0.2))\n",
        "    cnn.add(layers.Dropout(0.3))\n",
        "\n",
        "    cnn.add(layers.Conv2D(128, 3, padding='same', strides=2))\n",
        "    cnn.add(layers.LeakyReLU(0.2))\n",
        "    cnn.add(layers.Dropout(0.3))\n",
        "\n",
        "    cnn.add(layers.Conv2D(256, 3, padding='same', strides=1))\n",
        "    cnn.add(layers.LeakyReLU(0.2))\n",
        "    cnn.add(layers.Dropout(0.3))\n",
        "    \n",
        "    cnn.add(layers.GlobalMaxPooling2D()),\n",
        "    cnn.add(layers.Dense(1))\n",
        "    \n",
        "    return cnn"
      ],
      "metadata": {
        "id": "Ogh7csLkmNCb"
      },
      "execution_count": 10,
      "outputs": []
    },
    {
      "cell_type": "code",
      "source": [
        "print('Discriminator model:')\n",
        "discriminator = build_discriminator()\n",
        "discriminator.summary()"
      ],
      "metadata": {
        "colab": {
          "base_uri": "https://localhost:8080/"
        },
        "id": "ppGAsCTTmPZD",
        "outputId": "5c38cc88-bf94-42d7-a4c9-dbdd6385ed7a"
      },
      "execution_count": 11,
      "outputs": [
        {
          "output_type": "stream",
          "name": "stdout",
          "text": [
            "Discriminator model:\n",
            "Model: \"sequential_1\"\n",
            "_________________________________________________________________\n",
            " Layer (type)                Output Shape              Param #   \n",
            "=================================================================\n",
            " conv2d_1 (Conv2D)           (None, 16, 16, 32)        320       \n",
            "                                                                 \n",
            " leaky_re_lu_3 (LeakyReLU)   (None, 16, 16, 32)        0         \n",
            "                                                                 \n",
            " dropout (Dropout)           (None, 16, 16, 32)        0         \n",
            "                                                                 \n",
            " conv2d_2 (Conv2D)           (None, 16, 16, 64)        18496     \n",
            "                                                                 \n",
            " leaky_re_lu_4 (LeakyReLU)   (None, 16, 16, 64)        0         \n",
            "                                                                 \n",
            " dropout_1 (Dropout)         (None, 16, 16, 64)        0         \n",
            "                                                                 \n",
            " conv2d_3 (Conv2D)           (None, 8, 8, 128)         73856     \n",
            "                                                                 \n",
            " leaky_re_lu_5 (LeakyReLU)   (None, 8, 8, 128)         0         \n",
            "                                                                 \n",
            " dropout_2 (Dropout)         (None, 8, 8, 128)         0         \n",
            "                                                                 \n",
            " conv2d_4 (Conv2D)           (None, 8, 8, 256)         295168    \n",
            "                                                                 \n",
            " leaky_re_lu_6 (LeakyReLU)   (None, 8, 8, 256)         0         \n",
            "                                                                 \n",
            " dropout_3 (Dropout)         (None, 8, 8, 256)         0         \n",
            "                                                                 \n",
            " global_max_pooling2d (Globa  (None, 256)              0         \n",
            " lMaxPooling2D)                                                  \n",
            "                                                                 \n",
            " dense_1 (Dense)             (None, 1)                 257       \n",
            "                                                                 \n",
            "=================================================================\n",
            "Total params: 388,097\n",
            "Trainable params: 388,097\n",
            "Non-trainable params: 0\n",
            "_________________________________________________________________\n"
          ]
        }
      ]
    },
    {
      "cell_type": "code",
      "source": [
        "\n",
        "class GAN(tf.keras.Model):\n",
        "    def __init__(self, discriminator, generator, latent_dim):\n",
        "        super(GAN, self).__init__()\n",
        "        self.discriminator = discriminator\n",
        "        self.generator = generator\n",
        "        self.latent_dim = latent_dim\n",
        "\n",
        "    def compile(self, d_optimizer, g_optimizer, loss_fn):\n",
        "        super(GAN, self).compile()\n",
        "        self.d_optimizer = d_optimizer\n",
        "        self.g_optimizer = g_optimizer\n",
        "        self.loss_fn = loss_fn\n",
        "\n",
        "    def train_step(self, real_images):\n",
        "        if isinstance(real_images, tuple):\n",
        "            real_images = real_images[0]\n",
        "        # Sample random points in the latent space\n",
        "        batch_size = tf.shape(real_images)[0]\n",
        "        random_latent_vectors = tf.random.normal(shape=(batch_size, self.latent_dim))\n",
        "\n",
        "        # Decode them to fake images\n",
        "        generated_images = self.generator(random_latent_vectors)\n",
        "\n",
        "        # Combine them with real images\n",
        "        combined_images = tf.concat([generated_images, real_images], axis=0)\n",
        "\n",
        "        # Assemble labels discriminating real from fake images\n",
        "        labels = tf.concat(\n",
        "            [tf.ones((batch_size, 1)), tf.zeros((batch_size, 1))], axis=0\n",
        "        )\n",
        "        # Add random noise to the labels - important trick!\n",
        "        labels += 0.05 * tf.random.uniform(tf.shape(labels))\n",
        "\n",
        "        # Train the discriminator\n",
        "        with tf.GradientTape() as tape:\n",
        "            predictions = self.discriminator(combined_images)\n",
        "            d_loss = self.loss_fn(labels, predictions)\n",
        "        grads = tape.gradient(d_loss, self.discriminator.trainable_weights)\n",
        "        self.d_optimizer.apply_gradients(\n",
        "            zip(grads, self.discriminator.trainable_weights)\n",
        "        )\n",
        "\n",
        "        # Sample random points in the latent space\n",
        "        random_latent_vectors = tf.random.normal(shape=(batch_size, self.latent_dim))\n",
        "\n",
        "        # Assemble labels that say \"all real images\"\n",
        "        misleading_labels = tf.zeros((batch_size, 1))\n",
        "\n",
        "        # Train the generator (note that we should *not* update the weights\n",
        "        # of the discriminator)!\n",
        "        with tf.GradientTape() as tape:\n",
        "            predictions = self.discriminator(self.generator(random_latent_vectors))\n",
        "            g_loss = self.loss_fn(misleading_labels, predictions)\n",
        "        grads = tape.gradient(g_loss, self.generator.trainable_weights)\n",
        "        self.g_optimizer.apply_gradients(zip(grads, self.generator.trainable_weights))\n",
        "        return {\"d_loss\": d_loss, \"g_loss\": g_loss}"
      ],
      "metadata": {
        "id": "Mirsc3FFmVOb"
      },
      "execution_count": 12,
      "outputs": []
    },
    {
      "cell_type": "code",
      "source": [
        "class GANMonitor(tf.keras.callbacks.Callback):\n",
        "    def __init__(self, num_img=3, latent_dim=128):\n",
        "        self.num_img = num_img\n",
        "        self.latent_dim = latent_dim\n",
        "\n",
        "    def on_epoch_end(self, epoch, logs=None):\n",
        "        random_latent_vectors = tf.random.normal(shape=(self.num_img, self.latent_dim))\n",
        "        generated_images = self.model.generator(random_latent_vectors)\n",
        "        generated_images *= 255\n",
        "        generated_images.numpy()\n",
        "        for i in range(self.num_img):\n",
        "            img = tf.keras.preprocessing.image.array_to_img(generated_images[i])\n",
        "            img.save(\"/content/images/generated_img_{i}_{epoch}.png\".format(i=i, epoch=epoch))"
      ],
      "metadata": {
        "id": "WlI0bA83mdTT"
      },
      "execution_count": 13,
      "outputs": []
    },
    {
      "cell_type": "code",
      "source": [
        "gan = GAN(discriminator=discriminator, generator=generator, latent_dim=latent_dim)\n",
        "gan.compile(\n",
        "    d_optimizer=tf.keras.optimizers.Adam(learning_rate=adam_lr, beta_1=adam_beta_1),\n",
        "    g_optimizer=tf.keras.optimizers.Adam(learning_rate=adam_lr, beta_1=adam_beta_1),\n",
        "    loss_fn=tf.keras.losses.BinaryCrossentropy(from_logits=True),\n",
        ")"
      ],
      "metadata": {
        "id": "eYXkgLtwmedL"
      },
      "execution_count": 14,
      "outputs": []
    },
    {
      "cell_type": "code",
      "source": [
        "batch_size = 64\n",
        "images = images.astype(\"float32\") / 255\n",
        "images = np.expand_dims(images, axis=3)\n",
        "dataset = tf.data.Dataset.from_tensor_slices(images)\n",
        "dataset = dataset.shuffle(buffer_size=1024).batch(batch_size).prefetch(32)"
      ],
      "metadata": {
        "id": "jNUELG39mr4z"
      },
      "execution_count": 15,
      "outputs": []
    },
    {
      "cell_type": "code",
      "source": [
        "hist = gan.fit(\n",
        "    dataset, epochs=epochs, callbacks=[GANMonitor(num_img=3, latent_dim=latent_dim)]\n",
        ")"
      ],
      "metadata": {
        "colab": {
          "base_uri": "https://localhost:8080/"
        },
        "id": "GgE-5BN9muiT",
        "outputId": "ef9b19be-b7f1-4d5d-ea57-6446b72e328e"
      },
      "execution_count": 17,
      "outputs": [
        {
          "output_type": "stream",
          "name": "stdout",
          "text": [
            "Epoch 1/30\n",
            "16/16 [==============================] - 9s 107ms/step - d_loss: 0.6304 - g_loss: 0.6900\n",
            "Epoch 2/30\n",
            "16/16 [==============================] - 1s 49ms/step - d_loss: 0.4582 - g_loss: 0.8143\n",
            "Epoch 3/30\n",
            "16/16 [==============================] - 1s 52ms/step - d_loss: 0.3688 - g_loss: 0.9580\n",
            "Epoch 4/30\n",
            "16/16 [==============================] - 1s 52ms/step - d_loss: 0.1939 - g_loss: 1.5791\n",
            "Epoch 5/30\n",
            "16/16 [==============================] - 1s 51ms/step - d_loss: 0.3595 - g_loss: 1.7816\n",
            "Epoch 6/30\n",
            "16/16 [==============================] - 1s 51ms/step - d_loss: 0.4114 - g_loss: 1.3055\n",
            "Epoch 7/30\n",
            "16/16 [==============================] - 1s 51ms/step - d_loss: 0.4503 - g_loss: 1.2332\n",
            "Epoch 8/30\n",
            "16/16 [==============================] - 1s 53ms/step - d_loss: 0.5453 - g_loss: 1.0926\n",
            "Epoch 9/30\n",
            "16/16 [==============================] - 1s 54ms/step - d_loss: 0.6070 - g_loss: 0.9452\n",
            "Epoch 10/30\n",
            "16/16 [==============================] - 1s 50ms/step - d_loss: 0.5979 - g_loss: 0.9052\n",
            "Epoch 11/30\n",
            "16/16 [==============================] - 1s 51ms/step - d_loss: 0.5956 - g_loss: 0.9148\n",
            "Epoch 12/30\n",
            "16/16 [==============================] - 1s 44ms/step - d_loss: 0.5835 - g_loss: 0.8886\n",
            "Epoch 13/30\n",
            "16/16 [==============================] - 1s 44ms/step - d_loss: 0.5957 - g_loss: 0.9597\n",
            "Epoch 14/30\n",
            "16/16 [==============================] - 1s 44ms/step - d_loss: 0.5792 - g_loss: 0.9100\n",
            "Epoch 15/30\n",
            "16/16 [==============================] - 1s 44ms/step - d_loss: 0.5732 - g_loss: 1.0141\n",
            "Epoch 16/30\n",
            "16/16 [==============================] - 1s 44ms/step - d_loss: 0.5865 - g_loss: 1.0239\n",
            "Epoch 17/30\n",
            "16/16 [==============================] - 1s 44ms/step - d_loss: 0.5432 - g_loss: 0.9590\n",
            "Epoch 18/30\n",
            "16/16 [==============================] - 1s 44ms/step - d_loss: 0.5429 - g_loss: 1.0254\n",
            "Epoch 19/30\n",
            "16/16 [==============================] - 1s 45ms/step - d_loss: 0.5490 - g_loss: 1.0129\n",
            "Epoch 20/30\n",
            "16/16 [==============================] - 1s 44ms/step - d_loss: 0.5363 - g_loss: 1.0023\n",
            "Epoch 21/30\n",
            "16/16 [==============================] - 1s 45ms/step - d_loss: 0.5345 - g_loss: 1.0708\n",
            "Epoch 22/30\n",
            "16/16 [==============================] - 1s 45ms/step - d_loss: 0.5441 - g_loss: 1.0943\n",
            "Epoch 23/30\n",
            "16/16 [==============================] - 1s 45ms/step - d_loss: 0.5332 - g_loss: 1.1349\n",
            "Epoch 24/30\n",
            "16/16 [==============================] - 1s 44ms/step - d_loss: 0.5047 - g_loss: 1.0886\n",
            "Epoch 25/30\n",
            "16/16 [==============================] - 1s 44ms/step - d_loss: 0.5409 - g_loss: 1.2350\n",
            "Epoch 26/30\n",
            "16/16 [==============================] - 1s 44ms/step - d_loss: 0.5008 - g_loss: 1.1550\n",
            "Epoch 27/30\n",
            "16/16 [==============================] - 1s 44ms/step - d_loss: 0.4915 - g_loss: 1.0909\n",
            "Epoch 28/30\n",
            "16/16 [==============================] - 1s 44ms/step - d_loss: 0.5115 - g_loss: 1.2438\n",
            "Epoch 29/30\n",
            "16/16 [==============================] - 1s 44ms/step - d_loss: 0.4972 - g_loss: 1.1969\n",
            "Epoch 30/30\n",
            "16/16 [==============================] - 1s 44ms/step - d_loss: 0.4871 - g_loss: 1.3386\n"
          ]
        }
      ]
    },
    {
      "cell_type": "code",
      "source": [
        "# list all data in history\n",
        "print(hist.history.keys())"
      ],
      "metadata": {
        "colab": {
          "base_uri": "https://localhost:8080/"
        },
        "id": "-2-lcEVhoDa4",
        "outputId": "6ed127d6-77ff-4d85-a24c-182ce6f817d5"
      },
      "execution_count": 18,
      "outputs": [
        {
          "output_type": "stream",
          "name": "stdout",
          "text": [
            "dict_keys(['d_loss', 'g_loss'])\n"
          ]
        }
      ]
    },
    {
      "cell_type": "code",
      "source": [
        "plt.plot(hist.history['d_loss'])\n",
        "plt.plot(hist.history['g_loss'])\n",
        "plt.title('model loss')\n",
        "plt.ylabel('loss')\n",
        "plt.xlabel('epoch')\n",
        "plt.legend(['discriminator', 'generator'], loc='upper left')\n",
        "plt.show()"
      ],
      "metadata": {
        "colab": {
          "base_uri": "https://localhost:8080/",
          "height": 295
        },
        "id": "Qudl7wOHqxFy",
        "outputId": "25a27f38-0e08-47f0-bf37-be6a0a0de3a2"
      },
      "execution_count": 19,
      "outputs": [
        {
          "output_type": "display_data",
          "data": {
            "text/plain": [
              "<Figure size 432x288 with 1 Axes>"
            ],
            "image/png": "[encoded data removed]"
          },
          "metadata": {
            "needs_background": "light"
          }
        }
      ]
    },
    {
      "cell_type": "code",
      "source": [
        "!zip -r /content/file.zip /content/images"
      ],
      "metadata": {
        "colab": {
          "base_uri": "https://localhost:8080/"
        },
        "id": "s8SaaM5htgnW",
        "outputId": "cfa6520b-b6d8-4de0-f3eb-ca14e3d04f74"
      },
      "execution_count": 20,
      "outputs": [
        {
          "output_type": "stream",
          "name": "stdout",
          "text": [
            "  adding: content/images/ (stored 0%)\n",
            "  adding: content/images/generated_img_0_2.png (stored 0%)\n",
            "  adding: content/images/generated_img_1_10.png (stored 0%)\n",
            "  adding: content/images/generated_img_2_5.png (stored 0%)\n",
            "  adding: content/images/generated_img_1_17.png (stored 0%)\n",
            "  adding: content/images/generated_img_2_24.png (stored 0%)\n",
            "  adding: content/images/generated_img_2_15.png (stored 0%)\n",
            "  adding: content/images/generated_img_1_21.png (stored 0%)\n",
            "  adding: content/images/generated_img_1_27.png (stored 0%)\n",
            "  adding: content/images/generated_img_1_24.png (stored 0%)\n",
            "  adding: content/images/generated_img_2_23.png (stored 0%)\n",
            "  adding: content/images/generated_img_0_4.png (stored 0%)\n",
            "  adding: content/images/generated_img_0_0.png (stored 0%)\n",
            "  adding: content/images/generated_img_1_16.png (stored 0%)\n",
            "  adding: content/images/generated_img_0_12.png (stored 0%)\n",
            "  adding: content/images/generated_img_0_11.png (stored 0%)\n",
            "  adding: content/images/generated_img_1_11.png (stored 0%)\n",
            "  adding: content/images/generated_img_0_25.png (stored 0%)\n",
            "  adding: content/images/generated_img_1_8.png (stored 0%)\n",
            "  adding: content/images/generated_img_0_16.png (stored 0%)\n",
            "  adding: content/images/generated_img_0_15.png (stored 0%)\n",
            "  adding: content/images/generated_img_1_23.png (stored 0%)\n",
            "  adding: content/images/generated_img_2_13.png (stored 0%)\n",
            "  adding: content/images/generated_img_0_13.png (stored 0%)\n",
            "  adding: content/images/generated_img_0_14.png (stored 0%)\n",
            "  adding: content/images/generated_img_1_12.png (stored 0%)\n",
            "  adding: content/images/generated_img_1_14.png (stored 0%)\n",
            "  adding: content/images/generated_img_2_14.png (stored 0%)\n",
            "  adding: content/images/generated_img_2_27.png (stored 0%)\n",
            "  adding: content/images/generated_img_2_22.png (stored 0%)\n",
            "  adding: content/images/generated_img_0_8.png (stored 0%)\n",
            "  adding: content/images/generated_img_0_23.png (stored 0%)\n",
            "  adding: content/images/generated_img_1_29.png (stored 0%)\n",
            "  adding: content/images/generated_img_2_9.png (stored 0%)\n",
            "  adding: content/images/generated_img_2_18.png (stored 0%)\n",
            "  adding: content/images/generated_img_1_2.png (stored 0%)\n",
            "  adding: content/images/generated_img_1_22.png (stored 0%)\n",
            "  adding: content/images/generated_img_1_15.png (stored 0%)\n",
            "  adding: content/images/generated_img_0_29.png (stored 0%)\n",
            "  adding: content/images/generated_img_0_10.png (stored 0%)\n",
            "  adding: content/images/generated_img_1_28.png (stored 0%)\n",
            "  adding: content/images/generated_img_2_11.png (stored 0%)\n",
            "  adding: content/images/generated_img_0_20.png (stored 0%)\n",
            "  adding: content/images/generated_img_2_26.png (stored 0%)\n",
            "  adding: content/images/generated_img_0_28.png (stored 0%)\n",
            "  adding: content/images/generated_img_2_1.png (stored 0%)\n",
            "  adding: content/images/generated_img_0_6.png (stored 0%)\n",
            "  adding: content/images/generated_img_2_28.png (stored 0%)\n",
            "  adding: content/images/generated_img_1_1.png (stored 0%)\n",
            "  adding: content/images/generated_img_2_12.png (stored 0%)\n",
            "  adding: content/images/generated_img_2_17.png (stored 0%)\n",
            "  adding: content/images/generated_img_2_16.png (stored 0%)\n",
            "  adding: content/images/generated_img_2_7.png (stored 0%)\n",
            "  adding: content/images/generated_img_0_19.png (stored 0%)\n",
            "  adding: content/images/generated_img_1_6.png (stored 0%)\n",
            "  adding: content/images/generated_img_2_4.png (stored 0%)\n",
            "  adding: content/images/generated_img_2_25.png (stored 0%)\n",
            "  adding: content/images/generated_img_2_8.png (stored 0%)\n",
            "  adding: content/images/generated_img_1_13.png (stored 0%)\n",
            "  adding: content/images/generated_img_1_9.png (stored 0%)\n",
            "  adding: content/images/generated_img_0_17.png (stored 0%)\n",
            "  adding: content/images/generated_img_0_9.png (stored 0%)\n",
            "  adding: content/images/generated_img_0_21.png (stored 0%)\n",
            "  adding: content/images/generated_img_2_0.png (stored 0%)\n",
            "  adding: content/images/generated_img_0_18.png (stored 0%)\n",
            "  adding: content/images/generated_img_1_20.png (stored 0%)\n",
            "  adding: content/images/generated_img_0_5.png (stored 0%)\n",
            "  adding: content/images/generated_img_1_4.png (stored 0%)\n",
            "  adding: content/images/generated_img_0_24.png (stored 0%)\n",
            "  adding: content/images/generated_img_1_18.png (stored 0%)\n",
            "  adding: content/images/generated_img_2_6.png (stored 0%)\n",
            "  adding: content/images/generated_img_2_19.png (stored 0%)\n",
            "  adding: content/images/generated_img_1_5.png (stored 0%)\n",
            "  adding: content/images/generated_img_2_3.png (stored 0%)\n",
            "  adding: content/images/generated_img_2_2.png (stored 0%)\n",
            "  adding: content/images/generated_img_1_26.png (stored 0%)\n",
            "  adding: content/images/generated_img_2_20.png (stored 0%)\n",
            "  adding: content/images/generated_img_1_3.png (stored 0%)\n",
            "  adding: content/images/generated_img_1_7.png (stored 0%)\n",
            "  adding: content/images/generated_img_1_0.png (stored 0%)\n",
            "  adding: content/images/generated_img_2_29.png (stored 0%)\n",
            "  adding: content/images/generated_img_0_27.png (stored 0%)\n",
            "  adding: content/images/generated_img_2_10.png (stored 0%)\n",
            "  adding: content/images/generated_img_0_22.png (stored 0%)\n",
            "  adding: content/images/generated_img_0_7.png (stored 0%)\n",
            "  adding: content/images/generated_img_1_19.png (stored 0%)\n",
            "  adding: content/images/generated_img_2_21.png (stored 0%)\n",
            "  adding: content/images/generated_img_0_3.png (stored 0%)\n",
            "  adding: content/images/generated_img_1_25.png (stored 0%)\n",
            "  adding: content/images/generated_img_0_1.png (stored 0%)\n",
            "  adding: content/images/generated_img_0_26.png (stored 0%)\n"
          ]
        }
      ]
    },
    {
      "cell_type": "code",
      "source": [],
      "metadata": {
        "id": "Q1AWtpKf3xln"
      },
      "execution_count": null,
      "outputs": []
    }
  ]
}