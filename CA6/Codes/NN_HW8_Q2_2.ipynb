{
  "nbformat": 4,
  "nbformat_minor": 0,
  "metadata": {
    "colab": {
      "provenance": []
    },
    "kernelspec": {
      "name": "python3",
      "display_name": "Python 3"
    },
    "language_info": {
      "name": "python"
    },
    "accelerator": "GPU",
    "gpuClass": "standard"
  },
  "cells": [
    {
      "cell_type": "code",
      "execution_count": null,
      "metadata": {
        "id": "WUxjoqN7mbD_"
      },
      "outputs": [],
      "source": [
        "import time\n",
        "\n",
        "import numpy as np\n",
        "import matplotlib.pyplot as plt\n",
        "\n",
        "import tensorflow as tf\n",
        "import os\n",
        "import cv2\n",
        "from keras import backend as K\n",
        "from keras.models import Sequential\n",
        "from keras.layers import Dense, Activation, Flatten, Reshape\n",
        "from keras.layers import Conv2D, Conv2DTranspose, UpSampling2D\n",
        "from keras.models import Sequential, Model\n",
        "from keras.layers import Input, Dense, ReLU, LeakyReLU, BatchNormalization\n",
        "from keras.layers import Conv2D, Conv2DTranspose, Reshape, Flatten\n",
        "from keras.optimizers import RMSprop\n",
        "from keras import initializers\n",
        "from keras import backend as K\n",
        "from keras.optimizers import Adam, RMSprop\n",
        "from tensorflow import keras\n",
        "from keras import layers\n",
        "import time\n",
        "import glob\n",
        "import imageio"
      ]
    },
    {
      "cell_type": "code",
      "source": [
        "path = '/content/Dataset'\n",
        "if not os.path.exists(path):\n",
        "    ! unzip Dataset\n",
        "else: \n",
        "    print('Already Extracted')"
      ],
      "metadata": {
        "id": "o_slW1BdpGJg",
        "colab": {
          "base_uri": "https://localhost:8080/"
        },
        "outputId": "b4d5c0f2-18bf-4e13-9a4b-2562878e9f6c"
      },
      "execution_count": null,
      "outputs": [
        {
          "output_type": "stream",
          "name": "stdout",
          "text": [
            "Already Extracted\n"
          ]
        }
      ]
    },
    {
      "cell_type": "code",
      "source": [
        "# Load the data\n",
        "data_dir = '/content/Dataset'\n",
        "class_names = ['1', '2', '3', '4', '5']\n",
        "num_classes = len(class_names)\n",
        "\n",
        "# Create a function to load the data\n",
        "def load_data(data_dir, class_names):\n",
        "    images = []\n",
        "    labels = []\n",
        "    for class_name in class_names:\n",
        "        class_dir = data_dir + '/' + 'Class ' + class_name\n",
        "        for image_path in tf.io.gfile.glob(class_dir + '/*.png'):\n",
        "            img = cv2.imread(image_path, cv2.IMREAD_GRAYSCALE) #, cv2.IMREAD_GRAYSCALE\n",
        "            res = cv2.resize(img, dsize=(28, 28), interpolation=cv2.INTER_CUBIC)\n",
        "            images.append(res)\n",
        "            labels.append(class_names.index(class_name) + 1)\n",
        "    return np.array(images), np.array(labels)"
      ],
      "metadata": {
        "id": "BAX7bijg7Mlg"
      },
      "execution_count": null,
      "outputs": []
    },
    {
      "cell_type": "code",
      "source": [
        "# Load the data\n",
        "images, labels = load_data(data_dir, class_names)"
      ],
      "metadata": {
        "id": "XZezrkwEBFUF"
      },
      "execution_count": null,
      "outputs": []
    },
    {
      "cell_type": "code",
      "source": [
        "# Visualize the data\n",
        "fig, axes = plt.subplots(2, 5, figsize=(10, 5))\n",
        "axes = axes.ravel()\n",
        "i = 0\n",
        "for num in (np.random.randint(0, len(images), 10)):\n",
        "    axes[i].imshow(images[num])\n",
        "    axes[i].set_title(labels[num])\n",
        "    axes[i].axis('off')\n",
        "    i += 1\n",
        "plt.show()"
      ],
      "metadata": {
        "colab": {
          "base_uri": "https://localhost:8080/",
          "height": 291
        },
        "id": "J20OykLm7wpX",
        "outputId": "5e412705-6474-4d98-f895-aa2c06002b55"
      },
      "execution_count": null,
      "outputs": [
        {
          "output_type": "display_data",
          "data": {
            "text/plain": [
              "<Figure size 720x360 with 10 Axes>"
            ],
            "image/png": "[encoded data removed]"
          },
          "metadata": {}
        }
      ]
    },
    {
      "cell_type": "code",
      "source": [
        "print('Images shape:', images.shape)\n",
        "print(images.shape[0], 'train samples')"
      ],
      "metadata": {
        "colab": {
          "base_uri": "https://localhost:8080/"
        },
        "id": "FnekjwGXBhON",
        "outputId": "8834ca57-9e94-4ad0-fd5e-8d5be2a44c3c"
      },
      "execution_count": null,
      "outputs": [
        {
          "output_type": "stream",
          "name": "stdout",
          "text": [
            "Images shape: (1005, 28, 28)\n",
            "1005 train samples\n"
          ]
        }
      ]
    },
    {
      "cell_type": "code",
      "execution_count": 28,
      "metadata": {
        "colab": {
          "base_uri": "https://localhost:8080/",
          "height": 1000
        },
        "id": "Xq6uzZCUAo4y",
        "outputId": "dafca654-b74c-4e9b-b34f-e001a61ca818"
      },
      "outputs": [
        {
          "metadata": {
            "tags": null
          },
          "name": "stdout",
          "output_type": "stream",
          "text": [
            "Constructing Generator...\n",
            "Generator constructed...\n",
            "Model: \"sequential_9\"\n",
            "_________________________________________________________________\n",
            " Layer (type)                Output Shape              Param #   \n",
            "=================================================================\n",
            " dense_6 (Dense)             (None, 3136)              316736    \n",
            "                                                                 \n",
            " reshape_3 (Reshape)         (None, 7, 7, 64)          0         \n",
            "                                                                 \n",
            " up_sampling2d_9 (UpSampling  (None, 14, 14, 64)       0         \n",
            " 2D)                                                             \n",
            "                                                                 \n",
            " conv2d_27 (Conv2D)          (None, 10, 10, 256)       409856    \n",
            "                                                                 \n",
            " batch_normalization_21 (Bat  (None, 10, 10, 256)      1024      \n",
            " chNormalization)                                                \n",
            "                                                                 \n",
            " activation_9 (Activation)   (None, 10, 10, 256)       0         \n",
            "                                                                 \n",
            " up_sampling2d_10 (UpSamplin  (None, 20, 20, 256)      0         \n",
            " g2D)                                                            \n",
            "                                                                 \n",
            " conv2d_28 (Conv2D)          (None, 16, 16, 128)       819328    \n",
            "                                                                 \n",
            " batch_normalization_22 (Bat  (None, 16, 16, 128)      512       \n",
            " chNormalization)                                                \n",
            "                                                                 \n",
            " activation_10 (Activation)  (None, 16, 16, 128)       0         \n",
            "                                                                 \n",
            " up_sampling2d_11 (UpSamplin  (None, 32, 32, 128)      0         \n",
            " g2D)                                                            \n",
            "                                                                 \n",
            " conv2d_29 (Conv2D)          (None, 29, 29, 64)        131136    \n",
            "                                                                 \n",
            " batch_normalization_23 (Bat  (None, 29, 29, 64)       256       \n",
            " chNormalization)                                                \n",
            "                                                                 \n",
            " activation_11 (Activation)  (None, 29, 29, 64)        0         \n",
            "                                                                 \n",
            " conv2d_30 (Conv2D)          (None, 28, 28, 1)         257       \n",
            "                                                                 \n",
            "=================================================================\n",
            "Total params: 1,679,105\n",
            "Trainable params: 1,678,209\n",
            "Non-trainable params: 896\n",
            "_________________________________________________________________\n",
            "Constructing Discriminator...\n",
            "Discriminator constructed...\n",
            "Model: \"sequential_10\"\n",
            "_________________________________________________________________\n",
            " Layer (type)                Output Shape              Param #   \n",
            "=================================================================\n",
            " conv2d_31 (Conv2D)          (None, 13, 13, 16)        160       \n",
            "                                                                 \n",
            " leaky_re_lu_15 (LeakyReLU)  (None, 13, 13, 16)        0         \n",
            "                                                                 \n",
            " dropout_15 (Dropout)        (None, 13, 13, 16)        0         \n",
            "                                                                 \n",
            " conv2d_32 (Conv2D)          (None, 7, 7, 32)          4640      \n",
            "                                                                 \n",
            " batch_normalization_24 (Bat  (None, 7, 7, 32)         128       \n",
            " chNormalization)                                                \n",
            "                                                                 \n",
            " leaky_re_lu_16 (LeakyReLU)  (None, 7, 7, 32)          0         \n",
            "                                                                 \n",
            " dropout_16 (Dropout)        (None, 7, 7, 32)          0         \n",
            "                                                                 \n",
            " conv2d_33 (Conv2D)          (None, 4, 4, 64)          18496     \n",
            "                                                                 \n",
            " batch_normalization_25 (Bat  (None, 4, 4, 64)         256       \n",
            " chNormalization)                                                \n",
            "                                                                 \n",
            " leaky_re_lu_17 (LeakyReLU)  (None, 4, 4, 64)          0         \n",
            "                                                                 \n",
            " dropout_17 (Dropout)        (None, 4, 4, 64)          0         \n",
            "                                                                 \n",
            " conv2d_34 (Conv2D)          (None, 4, 4, 128)         73856     \n",
            "                                                                 \n",
            " batch_normalization_26 (Bat  (None, 4, 4, 128)        512       \n",
            " chNormalization)                                                \n",
            "                                                                 \n",
            " leaky_re_lu_18 (LeakyReLU)  (None, 4, 4, 128)         0         \n",
            "                                                                 \n",
            " dropout_18 (Dropout)        (None, 4, 4, 128)         0         \n",
            "                                                                 \n",
            " conv2d_35 (Conv2D)          (None, 4, 4, 256)         131328    \n",
            "                                                                 \n",
            " batch_normalization_27 (Bat  (None, 4, 4, 256)        1024      \n",
            " chNormalization)                                                \n",
            "                                                                 \n",
            " leaky_re_lu_19 (LeakyReLU)  (None, 4, 4, 256)         0         \n",
            "                                                                 \n",
            " dropout_19 (Dropout)        (None, 4, 4, 256)         0         \n",
            "                                                                 \n",
            " flatten_3 (Flatten)         (None, 4096)              0         \n",
            "                                                                 \n",
            " dense_7 (Dense)             (None, 1)                 4097      \n",
            "                                                                 \n",
            "=================================================================\n",
            "Total params: 234,497\n",
            "Trainable params: 233,537\n",
            "Non-trainable params: 960\n",
            "_________________________________________________________________\n"
          ]
        },
        {
          "metadata": {
            "tags": null
          },
          "name": "stderr",
          "output_type": "stream",
          "text": [
            "\r                                                                               \r\rTest: N/A% [                                                   ] ETA:  --:--:--"
          ]
        },
        {
          "metadata": {
            "tags": null
          },
          "name": "stdout",
          "output_type": "stream",
          "text": [
            "4/4 [==============================] - 1s 282ms/step\n",
            "4/4 [==============================] - 1s 266ms/step\n",
            "4/4 [==============================] - 1s 269ms/step\n",
            "4/4 [==============================] - 1s 267ms/step\n",
            "4/4 [==============================] - 1s 266ms/step\n"
          ]
        },
        {
          "metadata": {
            "tags": null
          },
          "name": "stderr",
          "output_type": "stream",
          "text": [
            "\r                                                                               \r\rTest: N/A% [                                                   ] ETA:  --:--:--"
          ]
        },
        {
          "metadata": {
            "tags": null
          },
          "name": "stdout",
          "output_type": "stream",
          "text": [
            "1/1 [==============================] - 0s 306ms/step\n",
            "4/4 [==============================] - 1s 262ms/step\n",
            "4/4 [==============================] - 1s 264ms/step\n",
            "4/4 [==============================] - 1s 262ms/step\n",
            "4/4 [==============================] - 1s 261ms/step\n",
            "4/4 [==============================] - 1s 262ms/step\n"
          ]
        },
        {
          "metadata": {
            "tags": null
          },
          "name": "stderr",
          "output_type": "stream",
          "text": [
            "\r                                                                               \r\rTest:   0% [                                                   ] ETA:   0:48:15"
          ]
        },
        {
          "metadata": {
            "tags": null
          },
          "name": "stdout",
          "output_type": "stream",
          "text": [
            "4/4 [==============================] - 1s 265ms/step\n",
            "4/4 [==============================] - 1s 264ms/step\n",
            "4/4 [==============================] - 1s 269ms/step\n",
            "4/4 [==============================] - 1s 263ms/step\n",
            "4/4 [==============================] - 1s 268ms/step\n"
          ]
        },
        {
          "metadata": {
            "tags": null
          },
          "name": "stderr",
          "output_type": "stream",
          "text": [
            "\r                                                                               \r\rTest:   1% [0                                                  ] ETA:   0:34:30"
          ]
        },
        {
          "metadata": {
            "tags": null
          },
          "name": "stdout",
          "output_type": "stream",
          "text": [
            "4/4 [==============================] - 1s 265ms/step\n",
            "4/4 [==============================] - 1s 267ms/step\n",
            "4/4 [==============================] - 1s 269ms/step\n",
            "4/4 [==============================] - 1s 263ms/step\n",
            "4/4 [==============================] - 1s 265ms/step\n"
          ]
        },
        {
          "metadata": {
            "tags": null
          },
          "name": "stderr",
          "output_type": "stream",
          "text": [
            "\r                                                                               \r\rTest:   2% [0                                                  ] ETA:   0:29:53"
          ]
        },
        {
          "metadata": {
            "tags": null
          },
          "name": "stdout",
          "output_type": "stream",
          "text": [
            "4/4 [==============================] - 1s 267ms/step\n",
            "4/4 [==============================] - 1s 268ms/step\n",
            "4/4 [==============================] - 1s 267ms/step\n",
            "4/4 [==============================] - 1s 261ms/step\n",
            "4/4 [==============================] - 2s 422ms/step\n"
          ]
        },
        {
          "metadata": {
            "tags": null
          },
          "name": "stderr",
          "output_type": "stream",
          "text": [
            "\r                                                                               \r\rTest:   3% [00                                                 ] ETA:   0:27:39"
          ]
        },
        {
          "metadata": {
            "tags": null
          },
          "name": "stdout",
          "output_type": "stream",
          "text": [
            "4/4 [==============================] - 1s 263ms/step\n",
            "4/4 [==============================] - 1s 266ms/step\n",
            "4/4 [==============================] - 1s 268ms/step\n",
            "4/4 [==============================] - 1s 267ms/step\n",
            "4/4 [==============================] - 1s 267ms/step\n"
          ]
        },
        {
          "metadata": {
            "tags": null
          },
          "name": "stderr",
          "output_type": "stream",
          "text": [
            "\r                                                                               \r\rTest:   4% [00                                                 ] ETA:   0:26:00"
          ]
        },
        {
          "metadata": {
            "tags": null
          },
          "name": "stdout",
          "output_type": "stream",
          "text": [
            "4/4 [==============================] - 1s 267ms/step\n",
            "4/4 [==============================] - 1s 268ms/step\n",
            "4/4 [==============================] - 1s 263ms/step\n",
            "4/4 [==============================] - 1s 263ms/step\n",
            "4/4 [==============================] - 1s 272ms/step\n"
          ]
        },
        {
          "metadata": {
            "tags": null
          },
          "name": "stderr",
          "output_type": "stream",
          "text": [
            "\r                                                                               \r\rTest:   5% [000                                                ] ETA:   0:24:46"
          ]
        },
        {
          "metadata": {
            "tags": null
          },
          "name": "stdout",
          "output_type": "stream",
          "text": [
            "4/4 [==============================] - 1s 262ms/step\n",
            "4/4 [==============================] - 1s 262ms/step\n",
            "4/4 [==============================] - 1s 264ms/step\n",
            "4/4 [==============================] - 1s 261ms/step\n",
            "4/4 [==============================] - 1s 260ms/step\n"
          ]
        },
        {
          "metadata": {
            "tags": null
          },
          "name": "stderr",
          "output_type": "stream",
          "text": [
            "\r                                                                               \r\rTest:   6% [000                                                ] ETA:   0:23:49"
          ]
        },
        {
          "metadata": {
            "tags": null
          },
          "name": "stdout",
          "output_type": "stream",
          "text": [
            "4/4 [==============================] - 1s 262ms/step\n",
            "4/4 [==============================] - 1s 268ms/step\n",
            "4/4 [==============================] - 1s 263ms/step\n",
            "4/4 [==============================] - 1s 265ms/step\n",
            "4/4 [==============================] - 1s 268ms/step\n"
          ]
        },
        {
          "metadata": {
            "tags": null
          },
          "name": "stderr",
          "output_type": "stream",
          "text": [
            "\r                                                                               \r\rTest:   7% [0000                                               ] ETA:   0:23:04"
          ]
        },
        {
          "metadata": {
            "tags": null
          },
          "name": "stdout",
          "output_type": "stream",
          "text": [
            "4/4 [==============================] - 1s 260ms/step\n",
            "4/4 [==============================] - 1s 269ms/step\n",
            "4/4 [==============================] - 1s 260ms/step\n",
            "4/4 [==============================] - 1s 264ms/step\n",
            "4/4 [==============================] - 1s 262ms/step\n"
          ]
        },
        {
          "metadata": {
            "tags": null
          },
          "name": "stderr",
          "output_type": "stream",
          "text": [
            "\r                                                                               \r\rTest:   8% [0000                                               ] ETA:   0:22:26"
          ]
        },
        {
          "metadata": {
            "tags": null
          },
          "name": "stdout",
          "output_type": "stream",
          "text": [
            "4/4 [==============================] - 1s 261ms/step\n",
            "4/4 [==============================] - 1s 265ms/step\n",
            "4/4 [==============================] - 1s 262ms/step\n",
            "4/4 [==============================] - 1s 267ms/step\n",
            "4/4 [==============================] - 1s 261ms/step\n"
          ]
        },
        {
          "metadata": {
            "tags": null
          },
          "name": "stderr",
          "output_type": "stream",
          "text": [
            "\r                                                                               \r\rTest:   9% [00000                                              ] ETA:   0:21:53"
          ]
        },
        {
          "metadata": {
            "tags": null
          },
          "name": "stdout",
          "output_type": "stream",
          "text": [
            "1/1 [==============================] - 0s 295ms/step\n",
            "4/4 [==============================] - 1s 269ms/step\n",
            "4/4 [==============================] - 1s 260ms/step\n",
            "4/4 [==============================] - 1s 267ms/step\n",
            "4/4 [==============================] - 1s 265ms/step\n",
            "4/4 [==============================] - 1s 271ms/step\n"
          ]
        },
        {
          "metadata": {
            "tags": null
          },
          "name": "stderr",
          "output_type": "stream",
          "text": [
            "\r                                                                               \r\rTest:  10% [00000                                              ] ETA:   0:21:35"
          ]
        },
        {
          "metadata": {
            "tags": null
          },
          "name": "stdout",
          "output_type": "stream",
          "text": [
            "4/4 [==============================] - 1s 273ms/step\n",
            "4/4 [==============================] - 1s 270ms/step\n",
            "4/4 [==============================] - 1s 262ms/step\n",
            "4/4 [==============================] - 1s 268ms/step\n",
            "4/4 [==============================] - 1s 262ms/step\n"
          ]
        },
        {
          "metadata": {
            "tags": null
          },
          "name": "stderr",
          "output_type": "stream",
          "text": [
            "\r                                                                               \r\rTest:  11% [000000                                             ] ETA:   0:21:09"
          ]
        },
        {
          "metadata": {
            "tags": null
          },
          "name": "stdout",
          "output_type": "stream",
          "text": [
            "4/4 [==============================] - 1s 267ms/step\n",
            "4/4 [==============================] - 1s 267ms/step\n",
            "4/4 [==============================] - 1s 267ms/step\n",
            "4/4 [==============================] - 1s 261ms/step\n",
            "4/4 [==============================] - 1s 273ms/step\n"
          ]
        },
        {
          "metadata": {
            "tags": null
          },
          "name": "stderr",
          "output_type": "stream",
          "text": [
            "\r                                                                               \r\rTest:  12% [000000                                             ] ETA:   0:20:52"
          ]
        },
        {
          "metadata": {
            "tags": null
          },
          "name": "stdout",
          "output_type": "stream",
          "text": [
            "4/4 [==============================] - 1s 266ms/step\n",
            "4/4 [==============================] - 1s 267ms/step\n",
            "4/4 [==============================] - 1s 261ms/step\n",
            "4/4 [==============================] - 1s 267ms/step\n",
            "4/4 [==============================] - 1s 267ms/step\n"
          ]
        },
        {
          "metadata": {
            "tags": null
          },
          "name": "stderr",
          "output_type": "stream",
          "text": [
            "\r                                                                               \r\rTest:  13% [0000000                                            ] ETA:   0:20:28"
          ]
        },
        {
          "metadata": {
            "tags": null
          },
          "name": "stdout",
          "output_type": "stream",
          "text": [
            "4/4 [==============================] - 1s 264ms/step\n",
            "4/4 [==============================] - 1s 259ms/step\n",
            "4/4 [==============================] - 1s 267ms/step\n",
            "4/4 [==============================] - 1s 265ms/step\n",
            "4/4 [==============================] - 1s 264ms/step\n"
          ]
        },
        {
          "metadata": {
            "tags": null
          },
          "name": "stderr",
          "output_type": "stream",
          "text": [
            "\r                                                                               \r\rTest:  14% [0000000                                            ] ETA:   0:20:05"
          ]
        },
        {
          "metadata": {
            "tags": null
          },
          "name": "stdout",
          "output_type": "stream",
          "text": [
            "4/4 [==============================] - 1s 264ms/step\n",
            "4/4 [==============================] - 1s 264ms/step\n",
            "4/4 [==============================] - 1s 269ms/step\n",
            "4/4 [==============================] - 1s 263ms/step\n",
            "4/4 [==============================] - 1s 264ms/step\n"
          ]
        },
        {
          "metadata": {
            "tags": null
          },
          "name": "stderr",
          "output_type": "stream",
          "text": [
            "\r                                                                               \r\rTest:  15% [00000000                                           ] ETA:   0:19:43"
          ]
        },
        {
          "metadata": {
            "tags": null
          },
          "name": "stdout",
          "output_type": "stream",
          "text": [
            "4/4 [==============================] - 1s 262ms/step\n",
            "4/4 [==============================] - 1s 266ms/step\n",
            "4/4 [==============================] - 1s 268ms/step\n",
            "4/4 [==============================] - 1s 266ms/step\n",
            "4/4 [==============================] - 1s 269ms/step\n"
          ]
        },
        {
          "metadata": {
            "tags": null
          },
          "name": "stderr",
          "output_type": "stream",
          "text": [
            "\r                                                                               \r\rTest:  16% [00000000                                           ] ETA:   0:19:24"
          ]
        },
        {
          "metadata": {
            "tags": null
          },
          "name": "stdout",
          "output_type": "stream",
          "text": [
            "4/4 [==============================] - 1s 264ms/step\n",
            "4/4 [==============================] - 1s 267ms/step\n",
            "4/4 [==============================] - 1s 266ms/step\n",
            "4/4 [==============================] - 1s 266ms/step\n",
            "4/4 [==============================] - 1s 258ms/step\n"
          ]
        },
        {
          "metadata": {
            "tags": null
          },
          "name": "stderr",
          "output_type": "stream",
          "text": [
            "\r                                                                               \r\rTest:  17% [000000000                                          ] ETA:   0:19:05"
          ]
        },
        {
          "metadata": {
            "tags": null
          },
          "name": "stdout",
          "output_type": "stream",
          "text": [
            "4/4 [==============================] - 1s 265ms/step\n",
            "4/4 [==============================] - 1s 267ms/step\n",
            "4/4 [==============================] - 1s 268ms/step\n",
            "4/4 [==============================] - 1s 260ms/step\n",
            "4/4 [==============================] - 1s 264ms/step\n"
          ]
        },
        {
          "metadata": {
            "tags": null
          },
          "name": "stderr",
          "output_type": "stream",
          "text": [
            "\r                                                                               \r\rTest:  18% [000000000                                          ] ETA:   0:18:46"
          ]
        },
        {
          "metadata": {
            "tags": null
          },
          "name": "stdout",
          "output_type": "stream",
          "text": [
            "4/4 [==============================] - 1s 265ms/step\n",
            "4/4 [==============================] - 1s 268ms/step\n",
            "4/4 [==============================] - 1s 262ms/step\n",
            "4/4 [==============================] - 1s 265ms/step\n",
            "4/4 [==============================] - 1s 261ms/step\n"
          ]
        },
        {
          "metadata": {
            "tags": null
          },
          "name": "stderr",
          "output_type": "stream",
          "text": [
            "\r                                                                               \r\rTest:  19% [0000000000                                         ] ETA:   0:18:29"
          ]
        },
        {
          "metadata": {
            "tags": null
          },
          "name": "stdout",
          "output_type": "stream",
          "text": [
            "1/1 [==============================] - 0s 311ms/step\n",
            "4/4 [==============================] - 1s 267ms/step\n",
            "4/4 [==============================] - 1s 265ms/step\n",
            "4/4 [==============================] - 1s 268ms/step\n",
            "4/4 [==============================] - 1s 266ms/step\n",
            "4/4 [==============================] - 1s 262ms/step\n"
          ]
        },
        {
          "metadata": {
            "tags": null
          },
          "name": "stderr",
          "output_type": "stream",
          "text": [
            "\r                                                                               \r\rTest:  20% [0000000000                                         ] ETA:   0:18:19"
          ]
        },
        {
          "metadata": {
            "tags": null
          },
          "name": "stdout",
          "output_type": "stream",
          "text": [
            "4/4 [==============================] - 1s 268ms/step\n",
            "4/4 [==============================] - 1s 262ms/step\n",
            "4/4 [==============================] - 1s 265ms/step\n",
            "4/4 [==============================] - 1s 265ms/step\n",
            "4/4 [==============================] - 1s 266ms/step\n"
          ]
        },
        {
          "metadata": {
            "tags": null
          },
          "name": "stderr",
          "output_type": "stream",
          "text": [
            "\r                                                                               \r\rTest:  21% [00000000000                                        ] ETA:   0:18:01"
          ]
        },
        {
          "metadata": {
            "tags": null
          },
          "name": "stdout",
          "output_type": "stream",
          "text": [
            "4/4 [==============================] - 1s 267ms/step\n",
            "4/4 [==============================] - 1s 270ms/step\n",
            "4/4 [==============================] - 1s 259ms/step\n",
            "4/4 [==============================] - 1s 272ms/step\n",
            "4/4 [==============================] - 1s 260ms/step\n"
          ]
        },
        {
          "metadata": {
            "tags": null
          },
          "name": "stderr",
          "output_type": "stream",
          "text": [
            "\r                                                                               \r\rTest:  22% [00000000000                                        ] ETA:   0:17:44"
          ]
        },
        {
          "metadata": {
            "tags": null
          },
          "name": "stdout",
          "output_type": "stream",
          "text": [
            "4/4 [==============================] - 1s 268ms/step\n",
            "4/4 [==============================] - 1s 261ms/step\n",
            "4/4 [==============================] - 1s 267ms/step\n",
            "4/4 [==============================] - 1s 265ms/step\n",
            "4/4 [==============================] - 1s 267ms/step\n"
          ]
        },
        {
          "metadata": {
            "tags": null
          },
          "name": "stderr",
          "output_type": "stream",
          "text": [
            "\r                                                                               \r\rTest:  23% [000000000000                                       ] ETA:   0:17:27"
          ]
        },
        {
          "metadata": {
            "tags": null
          },
          "name": "stdout",
          "output_type": "stream",
          "text": [
            "4/4 [==============================] - 1s 263ms/step\n",
            "4/4 [==============================] - 1s 271ms/step\n",
            "4/4 [==============================] - 1s 267ms/step\n",
            "4/4 [==============================] - 1s 264ms/step\n",
            "4/4 [==============================] - 1s 265ms/step\n"
          ]
        },
        {
          "metadata": {
            "tags": null
          },
          "name": "stderr",
          "output_type": "stream",
          "text": [
            "\r                                                                               \r\rTest:  24% [000000000000                                       ] ETA:   0:17:10"
          ]
        },
        {
          "metadata": {
            "tags": null
          },
          "name": "stdout",
          "output_type": "stream",
          "text": [
            "4/4 [==============================] - 1s 263ms/step\n",
            "4/4 [==============================] - 1s 267ms/step\n",
            "4/4 [==============================] - 1s 264ms/step\n",
            "4/4 [==============================] - 1s 268ms/step\n",
            "4/4 [==============================] - 1s 265ms/step\n"
          ]
        },
        {
          "metadata": {
            "tags": null
          },
          "name": "stderr",
          "output_type": "stream",
          "text": [
            "\r                                                                               \r\rTest:  25% [0000000000000                                      ] ETA:   0:16:55"
          ]
        },
        {
          "metadata": {
            "tags": null
          },
          "name": "stdout",
          "output_type": "stream",
          "text": [
            "4/4 [==============================] - 1s 266ms/step\n",
            "4/4 [==============================] - 1s 258ms/step\n",
            "4/4 [==============================] - 1s 263ms/step\n",
            "4/4 [==============================] - 1s 265ms/step\n",
            "4/4 [==============================] - 1s 263ms/step\n"
          ]
        },
        {
          "metadata": {
            "tags": null
          },
          "name": "stderr",
          "output_type": "stream",
          "text": [
            "\r                                                                               \r\rTest:  26% [0000000000000                                      ] ETA:   0:16:42"
          ]
        },
        {
          "metadata": {
            "tags": null
          },
          "name": "stdout",
          "output_type": "stream",
          "text": [
            "4/4 [==============================] - 1s 261ms/step\n",
            "4/4 [==============================] - 1s 262ms/step\n",
            "4/4 [==============================] - 1s 266ms/step\n",
            "4/4 [==============================] - 1s 265ms/step\n",
            "4/4 [==============================] - 1s 266ms/step\n"
          ]
        },
        {
          "metadata": {
            "tags": null
          },
          "name": "stderr",
          "output_type": "stream",
          "text": [
            "\r                                                                               \r\rTest:  27% [00000000000000                                     ] ETA:   0:16:26"
          ]
        },
        {
          "metadata": {
            "tags": null
          },
          "name": "stdout",
          "output_type": "stream",
          "text": [
            "4/4 [==============================] - 1s 264ms/step\n",
            "4/4 [==============================] - 1s 266ms/step\n",
            "4/4 [==============================] - 1s 264ms/step\n",
            "4/4 [==============================] - 1s 261ms/step\n",
            "4/4 [==============================] - 1s 265ms/step\n"
          ]
        },
        {
          "metadata": {
            "tags": null
          },
          "name": "stderr",
          "output_type": "stream",
          "text": [
            "\r                                                                               \r\rTest:  28% [00000000000000                                     ] ETA:   0:16:10"
          ]
        },
        {
          "metadata": {
            "tags": null
          },
          "name": "stdout",
          "output_type": "stream",
          "text": [
            "4/4 [==============================] - 1s 265ms/step\n",
            "4/4 [==============================] - 1s 269ms/step\n",
            "4/4 [==============================] - 1s 270ms/step\n",
            "4/4 [==============================] - 1s 262ms/step\n",
            "4/4 [==============================] - 1s 265ms/step\n"
          ]
        },
        {
          "metadata": {
            "tags": null
          },
          "name": "stderr",
          "output_type": "stream",
          "text": [
            "\r                                                                               \r\rTest:  29% [000000000000000                                    ] ETA:   0:15:55"
          ]
        },
        {
          "metadata": {
            "tags": null
          },
          "name": "stdout",
          "output_type": "stream",
          "text": [
            "1/1 [==============================] - 0s 298ms/step\n",
            "4/4 [==============================] - 1s 261ms/step\n",
            "4/4 [==============================] - 1s 265ms/step\n",
            "4/4 [==============================] - 1s 265ms/step\n",
            "4/4 [==============================] - 1s 262ms/step\n",
            "4/4 [==============================] - 1s 267ms/step\n"
          ]
        },
        {
          "metadata": {
            "tags": null
          },
          "name": "stderr",
          "output_type": "stream",
          "text": [
            "\r                                                                               \r\rTest:  30% [000000000000000                                    ] ETA:   0:15:42"
          ]
        },
        {
          "metadata": {
            "tags": null
          },
          "name": "stdout",
          "output_type": "stream",
          "text": [
            "4/4 [==============================] - 1s 264ms/step\n",
            "4/4 [==============================] - 1s 268ms/step\n",
            "4/4 [==============================] - 1s 261ms/step\n",
            "4/4 [==============================] - 1s 266ms/step\n",
            "4/4 [==============================] - 1s 267ms/step\n"
          ]
        },
        {
          "metadata": {
            "tags": null
          },
          "name": "stderr",
          "output_type": "stream",
          "text": [
            "\r                                                                               \r\rTest:  31% [0000000000000000                                   ] ETA:   0:15:27"
          ]
        },
        {
          "metadata": {
            "tags": null
          },
          "name": "stdout",
          "output_type": "stream",
          "text": [
            "4/4 [==============================] - 1s 265ms/step\n",
            "4/4 [==============================] - 1s 264ms/step\n",
            "4/4 [==============================] - 1s 266ms/step\n",
            "4/4 [==============================] - 1s 264ms/step\n",
            "4/4 [==============================] - 1s 263ms/step\n"
          ]
        },
        {
          "metadata": {
            "tags": null
          },
          "name": "stderr",
          "output_type": "stream",
          "text": [
            "\r                                                                               \r\rTest:  32% [0000000000000000                                   ] ETA:   0:15:12"
          ]
        },
        {
          "metadata": {
            "tags": null
          },
          "name": "stdout",
          "output_type": "stream",
          "text": [
            "4/4 [==============================] - 1s 277ms/step\n",
            "4/4 [==============================] - 1s 264ms/step\n",
            "4/4 [==============================] - 1s 263ms/step\n",
            "4/4 [==============================] - 1s 261ms/step\n",
            "4/4 [==============================] - 1s 265ms/step\n"
          ]
        },
        {
          "metadata": {
            "tags": null
          },
          "name": "stderr",
          "output_type": "stream",
          "text": [
            "\r                                                                               \r\rTest:  33% [00000000000000000                                  ] ETA:   0:14:57"
          ]
        },
        {
          "metadata": {
            "tags": null
          },
          "name": "stdout",
          "output_type": "stream",
          "text": [
            "4/4 [==============================] - 1s 264ms/step\n",
            "4/4 [==============================] - 1s 264ms/step\n",
            "4/4 [==============================] - 1s 263ms/step\n",
            "4/4 [==============================] - 1s 268ms/step\n",
            "4/4 [==============================] - 1s 265ms/step\n"
          ]
        },
        {
          "metadata": {
            "tags": null
          },
          "name": "stderr",
          "output_type": "stream",
          "text": [
            "\r                                                                               \r\rTest:  34% [00000000000000000                                  ] ETA:   0:14:42"
          ]
        },
        {
          "metadata": {
            "tags": null
          },
          "name": "stdout",
          "output_type": "stream",
          "text": [
            "4/4 [==============================] - 1s 264ms/step\n",
            "4/4 [==============================] - 1s 267ms/step\n",
            "4/4 [==============================] - 1s 261ms/step\n",
            "4/4 [==============================] - 1s 264ms/step\n",
            "4/4 [==============================] - 1s 263ms/step\n"
          ]
        },
        {
          "metadata": {
            "tags": null
          },
          "name": "stderr",
          "output_type": "stream",
          "text": [
            "\r                                                                               \r\rTest:  35% [000000000000000000                                 ] ETA:   0:14:27"
          ]
        },
        {
          "metadata": {
            "tags": null
          },
          "name": "stdout",
          "output_type": "stream",
          "text": [
            "4/4 [==============================] - 1s 271ms/step\n",
            "4/4 [==============================] - 1s 266ms/step\n",
            "4/4 [==============================] - 1s 269ms/step\n",
            "4/4 [==============================] - 1s 271ms/step\n",
            "4/4 [==============================] - 1s 265ms/step\n"
          ]
        },
        {
          "metadata": {
            "tags": null
          },
          "name": "stderr",
          "output_type": "stream",
          "text": [
            "\r                                                                               \r\rTest:  36% [000000000000000000                                 ] ETA:   0:14:13"
          ]
        },
        {
          "metadata": {
            "tags": null
          },
          "name": "stdout",
          "output_type": "stream",
          "text": [
            "4/4 [==============================] - 1s 265ms/step\n",
            "4/4 [==============================] - 1s 272ms/step\n",
            "4/4 [==============================] - 1s 263ms/step\n",
            "4/4 [==============================] - 1s 261ms/step\n",
            "4/4 [==============================] - 1s 269ms/step\n"
          ]
        },
        {
          "metadata": {
            "tags": null
          },
          "name": "stderr",
          "output_type": "stream",
          "text": [
            "\r                                                                               \r\rTest:  37% [0000000000000000000                                ] ETA:   0:13:58"
          ]
        },
        {
          "metadata": {
            "tags": null
          },
          "name": "stdout",
          "output_type": "stream",
          "text": [
            "4/4 [==============================] - 1s 269ms/step\n",
            "4/4 [==============================] - 1s 274ms/step\n",
            "4/4 [==============================] - 1s 263ms/step\n",
            "4/4 [==============================] - 1s 267ms/step\n",
            "4/4 [==============================] - 1s 270ms/step\n"
          ]
        },
        {
          "metadata": {
            "tags": null
          },
          "name": "stderr",
          "output_type": "stream",
          "text": [
            "\r                                                                               \r\rTest:  38% [0000000000000000000                                ] ETA:   0:13:44"
          ]
        },
        {
          "metadata": {
            "tags": null
          },
          "name": "stdout",
          "output_type": "stream",
          "text": [
            "4/4 [==============================] - 1s 264ms/step\n",
            "4/4 [==============================] - 1s 265ms/step\n",
            "4/4 [==============================] - 1s 262ms/step\n",
            "4/4 [==============================] - 1s 266ms/step\n",
            "4/4 [==============================] - 1s 265ms/step\n"
          ]
        },
        {
          "metadata": {
            "tags": null
          },
          "name": "stderr",
          "output_type": "stream",
          "text": [
            "\r                                                                               \r\rTest:  39% [00000000000000000000                               ] ETA:   0:13:30"
          ]
        },
        {
          "metadata": {
            "tags": null
          },
          "name": "stdout",
          "output_type": "stream",
          "text": [
            "1/1 [==============================] - 0s 295ms/step\n",
            "4/4 [==============================] - 1s 264ms/step\n",
            "4/4 [==============================] - 1s 266ms/step\n",
            "4/4 [==============================] - 1s 264ms/step\n",
            "4/4 [==============================] - 1s 261ms/step\n",
            "4/4 [==============================] - 1s 266ms/step\n"
          ]
        },
        {
          "metadata": {
            "tags": null
          },
          "name": "stderr",
          "output_type": "stream",
          "text": [
            "\r                                                                               \r\rTest:  40% [00000000000000000000                               ] ETA:   0:13:17"
          ]
        },
        {
          "metadata": {
            "tags": null
          },
          "name": "stdout",
          "output_type": "stream",
          "text": [
            "4/4 [==============================] - 1s 286ms/step\n",
            "4/4 [==============================] - 2s 451ms/step\n",
            "4/4 [==============================] - 1s 264ms/step\n",
            "4/4 [==============================] - 1s 268ms/step\n",
            "4/4 [==============================] - 1s 265ms/step\n"
          ]
        },
        {
          "metadata": {
            "tags": null
          },
          "name": "stderr",
          "output_type": "stream",
          "text": [
            "\r                                                                               \r\rTest:  41% [000000000000000000000                              ] ETA:   0:13:05"
          ]
        },
        {
          "metadata": {
            "tags": null
          },
          "name": "stdout",
          "output_type": "stream",
          "text": [
            "4/4 [==============================] - 1s 263ms/step\n",
            "4/4 [==============================] - 1s 263ms/step\n",
            "4/4 [==============================] - 1s 267ms/step\n",
            "4/4 [==============================] - 1s 263ms/step\n",
            "4/4 [==============================] - 1s 267ms/step\n"
          ]
        },
        {
          "metadata": {
            "tags": null
          },
          "name": "stderr",
          "output_type": "stream",
          "text": [
            "\r                                                                               \r\rTest:  42% [000000000000000000000                              ] ETA:   0:12:51"
          ]
        },
        {
          "metadata": {
            "tags": null
          },
          "name": "stdout",
          "output_type": "stream",
          "text": [
            "4/4 [==============================] - 1s 267ms/step\n",
            "4/4 [==============================] - 1s 265ms/step\n",
            "4/4 [==============================] - 1s 268ms/step\n",
            "4/4 [==============================] - 1s 260ms/step\n",
            "4/4 [==============================] - 1s 266ms/step\n"
          ]
        },
        {
          "metadata": {
            "tags": null
          },
          "name": "stderr",
          "output_type": "stream",
          "text": [
            "\r                                                                               \r\rTest:  43% [0000000000000000000000                             ] ETA:   0:12:36"
          ]
        },
        {
          "metadata": {
            "tags": null
          },
          "name": "stdout",
          "output_type": "stream",
          "text": [
            "4/4 [==============================] - 1s 264ms/step\n",
            "4/4 [==============================] - 1s 268ms/step\n",
            "4/4 [==============================] - 1s 259ms/step\n",
            "4/4 [==============================] - 1s 264ms/step\n",
            "4/4 [==============================] - 1s 259ms/step\n"
          ]
        },
        {
          "metadata": {
            "tags": null
          },
          "name": "stderr",
          "output_type": "stream",
          "text": [
            "\r                                                                               \r\rTest:  44% [0000000000000000000000                             ] ETA:   0:12:22"
          ]
        },
        {
          "metadata": {
            "tags": null
          },
          "name": "stdout",
          "output_type": "stream",
          "text": [
            "4/4 [==============================] - 1s 266ms/step\n",
            "4/4 [==============================] - 1s 263ms/step\n",
            "4/4 [==============================] - 1s 267ms/step\n",
            "4/4 [==============================] - 1s 268ms/step\n",
            "4/4 [==============================] - 1s 265ms/step\n"
          ]
        },
        {
          "metadata": {
            "tags": null
          },
          "name": "stderr",
          "output_type": "stream",
          "text": [
            "\r                                                                               \r\rTest:  45% [00000000000000000000000                            ] ETA:   0:12:09"
          ]
        },
        {
          "metadata": {
            "tags": null
          },
          "name": "stdout",
          "output_type": "stream",
          "text": [
            "4/4 [==============================] - 1s 265ms/step\n",
            "4/4 [==============================] - 1s 269ms/step\n",
            "4/4 [==============================] - 1s 263ms/step\n",
            "4/4 [==============================] - 1s 265ms/step\n",
            "4/4 [==============================] - 1s 266ms/step\n"
          ]
        },
        {
          "metadata": {
            "tags": null
          },
          "name": "stderr",
          "output_type": "stream",
          "text": [
            "\r                                                                               \r\rTest:  46% [00000000000000000000000                            ] ETA:   0:11:55"
          ]
        },
        {
          "metadata": {
            "tags": null
          },
          "name": "stdout",
          "output_type": "stream",
          "text": [
            "4/4 [==============================] - 1s 269ms/step\n",
            "4/4 [==============================] - 1s 264ms/step\n",
            "4/4 [==============================] - 1s 271ms/step\n",
            "4/4 [==============================] - 1s 269ms/step\n",
            "4/4 [==============================] - 1s 262ms/step\n"
          ]
        },
        {
          "metadata": {
            "tags": null
          },
          "name": "stderr",
          "output_type": "stream",
          "text": [
            "\r                                                                               \r\rTest:  47% [000000000000000000000000                           ] ETA:   0:11:41"
          ]
        },
        {
          "metadata": {
            "tags": null
          },
          "name": "stdout",
          "output_type": "stream",
          "text": [
            "4/4 [==============================] - 1s 271ms/step\n",
            "4/4 [==============================] - 1s 270ms/step\n",
            "4/4 [==============================] - 1s 266ms/step\n",
            "4/4 [==============================] - 1s 274ms/step\n",
            "4/4 [==============================] - 1s 268ms/step\n"
          ]
        },
        {
          "metadata": {
            "tags": null
          },
          "name": "stderr",
          "output_type": "stream",
          "text": [
            "\r                                                                               \r\rTest:  48% [000000000000000000000000                           ] ETA:   0:11:27"
          ]
        },
        {
          "metadata": {
            "tags": null
          },
          "name": "stdout",
          "output_type": "stream",
          "text": [
            "4/4 [==============================] - 1s 262ms/step\n",
            "4/4 [==============================] - 1s 265ms/step\n",
            "4/4 [==============================] - 1s 264ms/step\n",
            "4/4 [==============================] - 1s 265ms/step\n",
            "4/4 [==============================] - 1s 265ms/step\n"
          ]
        },
        {
          "metadata": {
            "tags": null
          },
          "name": "stderr",
          "output_type": "stream",
          "text": [
            "\r                                                                               \r\rTest:  49% [0000000000000000000000000                          ] ETA:   0:11:14"
          ]
        },
        {
          "metadata": {
            "tags": null
          },
          "name": "stdout",
          "output_type": "stream",
          "text": [
            "1/1 [==============================] - 0s 293ms/step\n",
            "4/4 [==============================] - 1s 261ms/step\n",
            "4/4 [==============================] - 1s 266ms/step\n",
            "4/4 [==============================] - 1s 268ms/step\n",
            "4/4 [==============================] - 1s 264ms/step\n",
            "4/4 [==============================] - 1s 263ms/step\n"
          ]
        },
        {
          "metadata": {
            "tags": null
          },
          "name": "stderr",
          "output_type": "stream",
          "text": [
            "\r                                                                               \r\rTest:  50% [0000000000000000000000000                          ] ETA:   0:11:01"
          ]
        },
        {
          "metadata": {
            "tags": null
          },
          "name": "stdout",
          "output_type": "stream",
          "text": [
            "4/4 [==============================] - 1s 270ms/step\n",
            "4/4 [==============================] - 1s 264ms/step\n",
            "4/4 [==============================] - 1s 269ms/step\n",
            "4/4 [==============================] - 1s 266ms/step\n",
            "4/4 [==============================] - 1s 272ms/step\n"
          ]
        },
        {
          "metadata": {
            "tags": null
          },
          "name": "stderr",
          "output_type": "stream",
          "text": [
            "\r                                                                               \r\rTest:  51% [00000000000000000000000000                         ] ETA:   0:10:48"
          ]
        },
        {
          "metadata": {
            "tags": null
          },
          "name": "stdout",
          "output_type": "stream",
          "text": [
            "4/4 [==============================] - 1s 271ms/step\n",
            "4/4 [==============================] - 1s 263ms/step\n",
            "4/4 [==============================] - 1s 265ms/step\n",
            "4/4 [==============================] - 1s 266ms/step\n",
            "4/4 [==============================] - 1s 265ms/step\n"
          ]
        },
        {
          "metadata": {
            "tags": null
          },
          "name": "stderr",
          "output_type": "stream",
          "text": [
            "\r                                                                               \r\rTest:  52% [00000000000000000000000000                         ] ETA:   0:10:34"
          ]
        },
        {
          "metadata": {
            "tags": null
          },
          "name": "stdout",
          "output_type": "stream",
          "text": [
            "4/4 [==============================] - 1s 266ms/step\n",
            "4/4 [==============================] - 1s 266ms/step\n",
            "4/4 [==============================] - 1s 261ms/step\n",
            "4/4 [==============================] - 1s 263ms/step\n",
            "4/4 [==============================] - 1s 270ms/step\n"
          ]
        },
        {
          "metadata": {
            "tags": null
          },
          "name": "stderr",
          "output_type": "stream",
          "text": [
            "\r                                                                               \r\rTest:  53% [000000000000000000000000000                        ] ETA:   0:10:20"
          ]
        },
        {
          "metadata": {
            "tags": null
          },
          "name": "stdout",
          "output_type": "stream",
          "text": [
            "4/4 [==============================] - 1s 269ms/step\n",
            "4/4 [==============================] - 1s 265ms/step\n",
            "4/4 [==============================] - 1s 267ms/step\n",
            "4/4 [==============================] - 1s 270ms/step\n",
            "4/4 [==============================] - 1s 266ms/step\n"
          ]
        },
        {
          "metadata": {
            "tags": null
          },
          "name": "stderr",
          "output_type": "stream",
          "text": [
            "\r                                                                               \r\rTest:  54% [000000000000000000000000000                        ] ETA:   0:10:07"
          ]
        },
        {
          "metadata": {
            "tags": null
          },
          "name": "stdout",
          "output_type": "stream",
          "text": [
            "4/4 [==============================] - 1s 270ms/step\n",
            "4/4 [==============================] - 1s 271ms/step\n",
            "4/4 [==============================] - 1s 269ms/step\n",
            "4/4 [==============================] - 1s 278ms/step\n",
            "4/4 [==============================] - 2s 470ms/step\n"
          ]
        },
        {
          "metadata": {
            "tags": null
          },
          "name": "stderr",
          "output_type": "stream",
          "text": [
            "\r                                                                               \r\rTest:  55% [0000000000000000000000000000                       ] ETA:   0:09:55"
          ]
        },
        {
          "metadata": {
            "tags": null
          },
          "name": "stdout",
          "output_type": "stream",
          "text": [
            "4/4 [==============================] - 1s 268ms/step\n",
            "4/4 [==============================] - 1s 264ms/step\n",
            "4/4 [==============================] - 1s 272ms/step\n",
            "4/4 [==============================] - 1s 263ms/step\n",
            "4/4 [==============================] - 1s 264ms/step\n"
          ]
        },
        {
          "metadata": {
            "tags": null
          },
          "name": "stderr",
          "output_type": "stream",
          "text": [
            "\r                                                                               \r\rTest:  56% [0000000000000000000000000000                       ] ETA:   0:09:41"
          ]
        },
        {
          "metadata": {
            "tags": null
          },
          "name": "stdout",
          "output_type": "stream",
          "text": [
            "4/4 [==============================] - 1s 262ms/step\n",
            "4/4 [==============================] - 1s 266ms/step\n",
            "4/4 [==============================] - 1s 271ms/step\n",
            "4/4 [==============================] - 1s 267ms/step\n",
            "4/4 [==============================] - 1s 265ms/step\n"
          ]
        },
        {
          "metadata": {
            "tags": null
          },
          "name": "stderr",
          "output_type": "stream",
          "text": [
            "\r                                                                               \r\rTest:  57% [00000000000000000000000000000                      ] ETA:   0:09:27"
          ]
        },
        {
          "metadata": {
            "tags": null
          },
          "name": "stdout",
          "output_type": "stream",
          "text": [
            "4/4 [==============================] - 1s 265ms/step\n",
            "4/4 [==============================] - 1s 263ms/step\n",
            "4/4 [==============================] - 1s 265ms/step\n",
            "4/4 [==============================] - 1s 269ms/step\n",
            "4/4 [==============================] - 1s 266ms/step\n"
          ]
        },
        {
          "metadata": {
            "tags": null
          },
          "name": "stderr",
          "output_type": "stream",
          "text": [
            "\r                                                                               \r\rTest:  58% [00000000000000000000000000000                      ] ETA:   0:09:14"
          ]
        },
        {
          "metadata": {
            "tags": null
          },
          "name": "stdout",
          "output_type": "stream",
          "text": [
            "4/4 [==============================] - 1s 266ms/step\n",
            "4/4 [==============================] - 1s 264ms/step\n",
            "4/4 [==============================] - 1s 266ms/step\n",
            "4/4 [==============================] - 1s 265ms/step\n",
            "4/4 [==============================] - 1s 264ms/step\n"
          ]
        },
        {
          "metadata": {
            "tags": null
          },
          "name": "stderr",
          "output_type": "stream",
          "text": [
            "\r                                                                               \r\rTest:  59% [000000000000000000000000000000                     ] ETA:   0:09:00"
          ]
        },
        {
          "metadata": {
            "tags": null
          },
          "name": "stdout",
          "output_type": "stream",
          "text": [
            "1/1 [==============================] - 0s 304ms/step\n",
            "4/4 [==============================] - 1s 270ms/step\n",
            "4/4 [==============================] - 1s 261ms/step\n",
            "4/4 [==============================] - 1s 269ms/step\n",
            "4/4 [==============================] - 1s 268ms/step\n",
            "4/4 [==============================] - 1s 263ms/step\n"
          ]
        },
        {
          "metadata": {
            "tags": null
          },
          "name": "stderr",
          "output_type": "stream",
          "text": [
            "\r                                                                               \r\rTest:  60% [000000000000000000000000000000                     ] ETA:   0:08:48"
          ]
        },
        {
          "metadata": {
            "tags": null
          },
          "name": "stdout",
          "output_type": "stream",
          "text": [
            "4/4 [==============================] - 1s 268ms/step\n",
            "4/4 [==============================] - 1s 264ms/step\n",
            "4/4 [==============================] - 1s 267ms/step\n",
            "4/4 [==============================] - 1s 268ms/step\n",
            "4/4 [==============================] - 1s 266ms/step\n"
          ]
        },
        {
          "metadata": {
            "tags": null
          },
          "name": "stderr",
          "output_type": "stream",
          "text": [
            "\r                                                                               \r\rTest:  61% [0000000000000000000000000000000                    ] ETA:   0:08:34"
          ]
        },
        {
          "metadata": {
            "tags": null
          },
          "name": "stdout",
          "output_type": "stream",
          "text": [
            "4/4 [==============================] - 1s 267ms/step\n",
            "4/4 [==============================] - 1s 263ms/step\n",
            "4/4 [==============================] - 1s 268ms/step\n",
            "4/4 [==============================] - 1s 267ms/step\n",
            "4/4 [==============================] - 1s 262ms/step\n"
          ]
        },
        {
          "metadata": {
            "tags": null
          },
          "name": "stderr",
          "output_type": "stream",
          "text": [
            "\r                                                                               \r\rTest:  62% [0000000000000000000000000000000                    ] ETA:   0:08:21"
          ]
        },
        {
          "metadata": {
            "tags": null
          },
          "name": "stdout",
          "output_type": "stream",
          "text": [
            "4/4 [==============================] - 1s 266ms/step\n",
            "4/4 [==============================] - 1s 262ms/step\n",
            "4/4 [==============================] - 1s 267ms/step\n",
            "4/4 [==============================] - 1s 267ms/step\n",
            "4/4 [==============================] - 1s 263ms/step\n"
          ]
        },
        {
          "metadata": {
            "tags": null
          },
          "name": "stderr",
          "output_type": "stream",
          "text": [
            "\r                                                                               \r\rTest:  63% [00000000000000000000000000000000                   ] ETA:   0:08:07"
          ]
        },
        {
          "metadata": {
            "tags": null
          },
          "name": "stdout",
          "output_type": "stream",
          "text": [
            "4/4 [==============================] - 1s 262ms/step\n",
            "4/4 [==============================] - 1s 266ms/step\n",
            "4/4 [==============================] - 1s 262ms/step\n",
            "4/4 [==============================] - 1s 264ms/step\n",
            "4/4 [==============================] - 1s 271ms/step\n"
          ]
        },
        {
          "metadata": {
            "tags": null
          },
          "name": "stderr",
          "output_type": "stream",
          "text": [
            "\r                                                                               \r\rTest:  64% [00000000000000000000000000000000                   ] ETA:   0:07:54"
          ]
        },
        {
          "metadata": {
            "tags": null
          },
          "name": "stdout",
          "output_type": "stream",
          "text": [
            "4/4 [==============================] - 1s 266ms/step\n",
            "4/4 [==============================] - 1s 269ms/step\n",
            "4/4 [==============================] - 1s 266ms/step\n",
            "4/4 [==============================] - 1s 269ms/step\n",
            "4/4 [==============================] - 1s 263ms/step\n"
          ]
        },
        {
          "metadata": {
            "tags": null
          },
          "name": "stderr",
          "output_type": "stream",
          "text": [
            "\r                                                                               \r\rTest:  65% [000000000000000000000000000000000                  ] ETA:   0:07:41"
          ]
        },
        {
          "metadata": {
            "tags": null
          },
          "name": "stdout",
          "output_type": "stream",
          "text": [
            "4/4 [==============================] - 1s 267ms/step\n",
            "4/4 [==============================] - 1s 267ms/step\n",
            "4/4 [==============================] - 1s 269ms/step\n",
            "4/4 [==============================] - 1s 267ms/step\n",
            "4/4 [==============================] - 1s 265ms/step\n"
          ]
        },
        {
          "metadata": {
            "tags": null
          },
          "name": "stderr",
          "output_type": "stream",
          "text": [
            "\r                                                                               \r\rTest:  66% [000000000000000000000000000000000                  ] ETA:   0:07:27"
          ]
        },
        {
          "metadata": {
            "tags": null
          },
          "name": "stdout",
          "output_type": "stream",
          "text": [
            "4/4 [==============================] - 1s 265ms/step\n",
            "4/4 [==============================] - 1s 263ms/step\n",
            "4/4 [==============================] - 1s 265ms/step\n",
            "4/4 [==============================] - 1s 266ms/step\n",
            "4/4 [==============================] - 1s 261ms/step\n"
          ]
        },
        {
          "metadata": {
            "tags": null
          },
          "name": "stderr",
          "output_type": "stream",
          "text": [
            "\r                                                                               \r\rTest:  67% [0000000000000000000000000000000000                 ] ETA:   0:07:14"
          ]
        },
        {
          "metadata": {
            "tags": null
          },
          "name": "stdout",
          "output_type": "stream",
          "text": [
            "4/4 [==============================] - 1s 266ms/step\n",
            "4/4 [==============================] - 1s 266ms/step\n",
            "4/4 [==============================] - 1s 265ms/step\n",
            "4/4 [==============================] - 1s 265ms/step\n",
            "4/4 [==============================] - 1s 264ms/step\n"
          ]
        },
        {
          "metadata": {
            "tags": null
          },
          "name": "stderr",
          "output_type": "stream",
          "text": [
            "\r                                                                               \r\rTest:  68% [0000000000000000000000000000000000                 ] ETA:   0:07:00"
          ]
        },
        {
          "metadata": {
            "tags": null
          },
          "name": "stdout",
          "output_type": "stream",
          "text": [
            "4/4 [==============================] - 1s 258ms/step\n",
            "4/4 [==============================] - 1s 262ms/step\n",
            "4/4 [==============================] - 1s 259ms/step\n",
            "4/4 [==============================] - 1s 261ms/step\n",
            "4/4 [==============================] - 1s 261ms/step\n"
          ]
        },
        {
          "metadata": {
            "tags": null
          },
          "name": "stderr",
          "output_type": "stream",
          "text": [
            "\r                                                                               \r\rTest:  69% [00000000000000000000000000000000000                ] ETA:   0:06:48"
          ]
        },
        {
          "metadata": {
            "tags": null
          },
          "name": "stdout",
          "output_type": "stream",
          "text": [
            "1/1 [==============================] - 0s 294ms/step\n",
            "4/4 [==============================] - 1s 265ms/step\n",
            "4/4 [==============================] - 1s 257ms/step\n",
            "4/4 [==============================] - 1s 264ms/step\n",
            "4/4 [==============================] - 1s 260ms/step\n",
            "4/4 [==============================] - 1s 262ms/step\n"
          ]
        },
        {
          "metadata": {
            "tags": null
          },
          "name": "stderr",
          "output_type": "stream",
          "text": [
            "\r                                                                               \r\rTest:  70% [00000000000000000000000000000000000                ] ETA:   0:06:35"
          ]
        },
        {
          "metadata": {
            "tags": null
          },
          "name": "stdout",
          "output_type": "stream",
          "text": [
            "4/4 [==============================] - 1s 256ms/step\n",
            "4/4 [==============================] - 1s 267ms/step\n",
            "4/4 [==============================] - 1s 259ms/step\n",
            "4/4 [==============================] - 1s 263ms/step\n",
            "4/4 [==============================] - 1s 262ms/step\n"
          ]
        },
        {
          "metadata": {
            "tags": null
          },
          "name": "stderr",
          "output_type": "stream",
          "text": [
            "\r                                                                               \r\rTest:  71% [000000000000000000000000000000000000               ] ETA:   0:06:21"
          ]
        },
        {
          "metadata": {
            "tags": null
          },
          "name": "stdout",
          "output_type": "stream",
          "text": [
            "4/4 [==============================] - 1s 263ms/step\n",
            "4/4 [==============================] - 1s 262ms/step\n",
            "4/4 [==============================] - 1s 260ms/step\n",
            "4/4 [==============================] - 1s 262ms/step\n",
            "4/4 [==============================] - 1s 259ms/step\n"
          ]
        },
        {
          "metadata": {
            "tags": null
          },
          "name": "stderr",
          "output_type": "stream",
          "text": [
            "\r                                                                               \r\rTest:  72% [000000000000000000000000000000000000               ] ETA:   0:06:08"
          ]
        },
        {
          "metadata": {
            "tags": null
          },
          "name": "stdout",
          "output_type": "stream",
          "text": [
            "4/4 [==============================] - 1s 262ms/step\n",
            "4/4 [==============================] - 1s 262ms/step\n",
            "4/4 [==============================] - 1s 262ms/step\n",
            "4/4 [==============================] - 1s 261ms/step\n",
            "4/4 [==============================] - 1s 261ms/step\n"
          ]
        },
        {
          "metadata": {
            "tags": null
          },
          "name": "stderr",
          "output_type": "stream",
          "text": [
            "\r                                                                               \r\rTest:  73% [0000000000000000000000000000000000000              ] ETA:   0:05:55"
          ]
        },
        {
          "output_type": "stream",
          "name": "stdout",
          "text": [
            "4/4 [==============================] - 1s 268ms/step\n",
            "4/4 [==============================] - 1s 270ms/step\n",
            "4/4 [==============================] - 1s 264ms/step\n",
            "4/4 [==============================] - 1s 263ms/step\n",
            "4/4 [==============================] - 1s 266ms/step\n"
          ]
        },
        {
          "output_type": "stream",
          "name": "stderr",
          "text": [
            "\r                                                                               \r\rTest:  74% [0000000000000000000000000000000000000              ] ETA:   0:05:43"
          ]
        },
        {
          "output_type": "stream",
          "name": "stdout",
          "text": [
            "4/4 [==============================] - 1s 269ms/step\n",
            "4/4 [==============================] - 1s 270ms/step\n",
            "4/4 [==============================] - 1s 268ms/step\n",
            "4/4 [==============================] - 1s 265ms/step\n",
            "4/4 [==============================] - 1s 271ms/step\n"
          ]
        },
        {
          "output_type": "stream",
          "name": "stderr",
          "text": [
            "\r                                                                               \r\rTest:  75% [00000000000000000000000000000000000000             ] ETA:   0:05:30"
          ]
        },
        {
          "output_type": "stream",
          "name": "stdout",
          "text": [
            "4/4 [==============================] - 1s 263ms/step\n",
            "4/4 [==============================] - 1s 266ms/step\n",
            "4/4 [==============================] - 1s 263ms/step\n",
            "4/4 [==============================] - 1s 266ms/step\n",
            "4/4 [==============================] - 1s 268ms/step\n"
          ]
        },
        {
          "output_type": "stream",
          "name": "stderr",
          "text": [
            "\r                                                                               \r\rTest:  76% [00000000000000000000000000000000000000             ] ETA:   0:05:16"
          ]
        },
        {
          "output_type": "stream",
          "name": "stdout",
          "text": [
            "4/4 [==============================] - 1s 267ms/step\n",
            "4/4 [==============================] - 1s 261ms/step\n",
            "4/4 [==============================] - 1s 265ms/step\n",
            "4/4 [==============================] - 1s 270ms/step\n",
            "4/4 [==============================] - 1s 271ms/step\n"
          ]
        },
        {
          "output_type": "stream",
          "name": "stderr",
          "text": [
            "\r                                                                               \r\rTest:  77% [000000000000000000000000000000000000000            ] ETA:   0:05:03"
          ]
        },
        {
          "output_type": "stream",
          "name": "stdout",
          "text": [
            "4/4 [==============================] - 1s 260ms/step\n",
            "4/4 [==============================] - 1s 268ms/step\n",
            "4/4 [==============================] - 1s 265ms/step\n",
            "4/4 [==============================] - 1s 269ms/step\n",
            "4/4 [==============================] - 1s 269ms/step\n"
          ]
        },
        {
          "output_type": "stream",
          "name": "stderr",
          "text": [
            "\r                                                                               \r\rTest:  78% [000000000000000000000000000000000000000            ] ETA:   0:04:50"
          ]
        },
        {
          "output_type": "stream",
          "name": "stdout",
          "text": [
            "4/4 [==============================] - 1s 270ms/step\n",
            "4/4 [==============================] - 1s 266ms/step\n",
            "4/4 [==============================] - 1s 261ms/step\n",
            "4/4 [==============================] - 1s 265ms/step\n",
            "4/4 [==============================] - 1s 265ms/step\n"
          ]
        },
        {
          "output_type": "stream",
          "name": "stderr",
          "text": [
            "\r                                                                               \r\rTest:  79% [0000000000000000000000000000000000000000           ] ETA:   0:04:36"
          ]
        },
        {
          "output_type": "stream",
          "name": "stdout",
          "text": [
            "1/1 [==============================] - 0s 291ms/step\n",
            "4/4 [==============================] - 1s 265ms/step\n",
            "4/4 [==============================] - 1s 268ms/step\n",
            "4/4 [==============================] - 1s 267ms/step\n",
            "4/4 [==============================] - 1s 263ms/step\n",
            "4/4 [==============================] - 1s 265ms/step\n"
          ]
        },
        {
          "output_type": "stream",
          "name": "stderr",
          "text": [
            "\r                                                                               \r\rTest:  80% [0000000000000000000000000000000000000000           ] ETA:   0:04:23"
          ]
        },
        {
          "output_type": "stream",
          "name": "stdout",
          "text": [
            "4/4 [==============================] - 1s 266ms/step\n",
            "4/4 [==============================] - 1s 265ms/step\n",
            "4/4 [==============================] - 1s 263ms/step\n",
            "4/4 [==============================] - 1s 268ms/step\n",
            "4/4 [==============================] - 1s 266ms/step\n"
          ]
        },
        {
          "output_type": "stream",
          "name": "stderr",
          "text": [
            "\r                                                                               \r\rTest:  81% [00000000000000000000000000000000000000000          ] ETA:   0:04:10"
          ]
        },
        {
          "output_type": "stream",
          "name": "stdout",
          "text": [
            "4/4 [==============================] - 1s 267ms/step\n",
            "4/4 [==============================] - 1s 262ms/step\n",
            "4/4 [==============================] - 1s 270ms/step\n",
            "4/4 [==============================] - 1s 267ms/step\n",
            "4/4 [==============================] - 1s 265ms/step\n"
          ]
        },
        {
          "output_type": "stream",
          "name": "stderr",
          "text": [
            "\r                                                                               \r\rTest:  82% [00000000000000000000000000000000000000000          ] ETA:   0:03:56"
          ]
        },
        {
          "output_type": "stream",
          "name": "stdout",
          "text": [
            "4/4 [==============================] - 1s 266ms/step\n",
            "4/4 [==============================] - 1s 265ms/step\n",
            "4/4 [==============================] - 1s 269ms/step\n",
            "4/4 [==============================] - 1s 263ms/step\n",
            "4/4 [==============================] - 1s 265ms/step\n"
          ]
        },
        {
          "output_type": "stream",
          "name": "stderr",
          "text": [
            "\r                                                                               \r\rTest:  83% [000000000000000000000000000000000000000000         ] ETA:   0:03:43"
          ]
        },
        {
          "output_type": "stream",
          "name": "stdout",
          "text": [
            "4/4 [==============================] - 2s 446ms/step\n",
            "4/4 [==============================] - 1s 267ms/step\n",
            "4/4 [==============================] - 1s 264ms/step\n",
            "4/4 [==============================] - 1s 266ms/step\n",
            "4/4 [==============================] - 1s 274ms/step\n"
          ]
        },
        {
          "output_type": "stream",
          "name": "stderr",
          "text": [
            "\r                                                                               \r\rTest:  84% [000000000000000000000000000000000000000000         ] ETA:   0:03:30"
          ]
        },
        {
          "output_type": "stream",
          "name": "stdout",
          "text": [
            "4/4 [==============================] - 1s 262ms/step\n",
            "4/4 [==============================] - 1s 269ms/step\n",
            "4/4 [==============================] - 1s 264ms/step\n",
            "4/4 [==============================] - 1s 267ms/step\n",
            "4/4 [==============================] - 1s 266ms/step\n"
          ]
        },
        {
          "output_type": "stream",
          "name": "stderr",
          "text": [
            "\r                                                                               \r\rTest:  85% [0000000000000000000000000000000000000000000        ] ETA:   0:03:17"
          ]
        },
        {
          "output_type": "stream",
          "name": "stdout",
          "text": [
            "4/4 [==============================] - 1s 265ms/step\n",
            "4/4 [==============================] - 1s 267ms/step\n",
            "4/4 [==============================] - 1s 265ms/step\n",
            "4/4 [==============================] - 1s 265ms/step\n",
            "4/4 [==============================] - 1s 264ms/step\n"
          ]
        },
        {
          "output_type": "stream",
          "name": "stderr",
          "text": [
            "\r                                                                               \r\rTest:  86% [0000000000000000000000000000000000000000000        ] ETA:   0:03:04"
          ]
        },
        {
          "output_type": "stream",
          "name": "stdout",
          "text": [
            "4/4 [==============================] - 1s 269ms/step\n",
            "4/4 [==============================] - 1s 264ms/step\n",
            "4/4 [==============================] - 1s 264ms/step\n",
            "4/4 [==============================] - 1s 266ms/step\n",
            "4/4 [==============================] - 1s 265ms/step\n"
          ]
        },
        {
          "output_type": "stream",
          "name": "stderr",
          "text": [
            "\r                                                                               \r\rTest:  87% [00000000000000000000000000000000000000000000       ] ETA:   0:02:50"
          ]
        },
        {
          "output_type": "stream",
          "name": "stdout",
          "text": [
            "4/4 [==============================] - 1s 265ms/step\n",
            "4/4 [==============================] - 1s 263ms/step\n",
            "4/4 [==============================] - 1s 266ms/step\n",
            "4/4 [==============================] - 1s 263ms/step\n",
            "4/4 [==============================] - 1s 268ms/step\n"
          ]
        },
        {
          "output_type": "stream",
          "name": "stderr",
          "text": [
            "\r                                                                               \r\rTest:  88% [00000000000000000000000000000000000000000000       ] ETA:   0:02:37"
          ]
        },
        {
          "output_type": "stream",
          "name": "stdout",
          "text": [
            "4/4 [==============================] - 1s 262ms/step\n",
            "4/4 [==============================] - 1s 268ms/step\n",
            "4/4 [==============================] - 1s 269ms/step\n",
            "4/4 [==============================] - 1s 270ms/step\n",
            "4/4 [==============================] - 1s 265ms/step\n"
          ]
        },
        {
          "output_type": "stream",
          "name": "stderr",
          "text": [
            "\r                                                                               \r\rTest:  89% [000000000000000000000000000000000000000000000      ] ETA:   0:02:24"
          ]
        },
        {
          "output_type": "stream",
          "name": "stdout",
          "text": [
            "1/1 [==============================] - 0s 292ms/step\n",
            "4/4 [==============================] - 1s 266ms/step\n",
            "4/4 [==============================] - 1s 260ms/step\n",
            "4/4 [==============================] - 1s 266ms/step\n",
            "4/4 [==============================] - 1s 266ms/step\n",
            "4/4 [==============================] - 1s 267ms/step\n"
          ]
        },
        {
          "output_type": "stream",
          "name": "stderr",
          "text": [
            "\r                                                                               \r\rTest:  90% [000000000000000000000000000000000000000000000      ] ETA:   0:02:11"
          ]
        },
        {
          "output_type": "stream",
          "name": "stdout",
          "text": [
            "4/4 [==============================] - 1s 272ms/step\n",
            "4/4 [==============================] - 1s 266ms/step\n",
            "4/4 [==============================] - 1s 263ms/step\n",
            "4/4 [==============================] - 1s 268ms/step\n",
            "4/4 [==============================] - 1s 264ms/step\n"
          ]
        },
        {
          "output_type": "stream",
          "name": "stderr",
          "text": [
            "\r                                                                               \r\rTest:  91% [0000000000000000000000000000000000000000000000     ] ETA:   0:01:58"
          ]
        },
        {
          "output_type": "stream",
          "name": "stdout",
          "text": [
            "4/4 [==============================] - 1s 266ms/step\n",
            "4/4 [==============================] - 1s 268ms/step\n",
            "4/4 [==============================] - 1s 268ms/step\n",
            "4/4 [==============================] - 1s 261ms/step\n",
            "4/4 [==============================] - 1s 262ms/step\n"
          ]
        },
        {
          "output_type": "stream",
          "name": "stderr",
          "text": [
            "\r                                                                               \r\rTest:  92% [0000000000000000000000000000000000000000000000     ] ETA:   0:01:45"
          ]
        },
        {
          "output_type": "stream",
          "name": "stdout",
          "text": [
            "4/4 [==============================] - 1s 268ms/step\n",
            "4/4 [==============================] - 1s 264ms/step\n",
            "4/4 [==============================] - 1s 264ms/step\n",
            "4/4 [==============================] - 1s 260ms/step\n",
            "4/4 [==============================] - 1s 261ms/step\n"
          ]
        },
        {
          "output_type": "stream",
          "name": "stderr",
          "text": [
            "\r                                                                               \r\rTest:  93% [00000000000000000000000000000000000000000000000    ] ETA:   0:01:31"
          ]
        },
        {
          "output_type": "stream",
          "name": "stdout",
          "text": [
            "4/4 [==============================] - 1s 261ms/step\n",
            "4/4 [==============================] - 1s 266ms/step\n",
            "4/4 [==============================] - 1s 266ms/step\n",
            "4/4 [==============================] - 1s 267ms/step\n",
            "4/4 [==============================] - 1s 268ms/step\n"
          ]
        },
        {
          "output_type": "stream",
          "name": "stderr",
          "text": [
            "\r                                                                               \r\rTest:  94% [00000000000000000000000000000000000000000000000    ] ETA:   0:01:18"
          ]
        },
        {
          "output_type": "stream",
          "name": "stdout",
          "text": [
            "4/4 [==============================] - 1s 261ms/step\n",
            "4/4 [==============================] - 1s 266ms/step\n",
            "4/4 [==============================] - 1s 264ms/step\n",
            "4/4 [==============================] - 1s 269ms/step\n",
            "4/4 [==============================] - 1s 260ms/step\n"
          ]
        },
        {
          "output_type": "stream",
          "name": "stderr",
          "text": [
            "\r                                                                               \r\rTest:  95% [000000000000000000000000000000000000000000000000   ] ETA:   0:01:05"
          ]
        },
        {
          "output_type": "stream",
          "name": "stdout",
          "text": [
            "4/4 [==============================] - 1s 268ms/step\n",
            "4/4 [==============================] - 1s 271ms/step\n",
            "4/4 [==============================] - 1s 267ms/step\n",
            "4/4 [==============================] - 1s 268ms/step\n",
            "4/4 [==============================] - 1s 266ms/step\n"
          ]
        },
        {
          "output_type": "stream",
          "name": "stderr",
          "text": [
            "\r                                                                               \r\rTest:  96% [000000000000000000000000000000000000000000000000   ] ETA:   0:00:52"
          ]
        },
        {
          "output_type": "stream",
          "name": "stdout",
          "text": [
            "4/4 [==============================] - 1s 267ms/step\n",
            "4/4 [==============================] - 1s 264ms/step\n",
            "4/4 [==============================] - 1s 264ms/step\n",
            "4/4 [==============================] - 1s 268ms/step\n",
            "4/4 [==============================] - 1s 268ms/step\n"
          ]
        },
        {
          "output_type": "stream",
          "name": "stderr",
          "text": [
            "\r                                                                               \r\rTest:  97% [0000000000000000000000000000000000000000000000000  ] ETA:   0:00:39"
          ]
        },
        {
          "output_type": "stream",
          "name": "stdout",
          "text": [
            "4/4 [==============================] - 1s 266ms/step\n",
            "4/4 [==============================] - 1s 266ms/step\n",
            "4/4 [==============================] - 1s 267ms/step\n",
            "4/4 [==============================] - 1s 352ms/step\n",
            "4/4 [==============================] - 1s 271ms/step\n"
          ]
        },
        {
          "output_type": "stream",
          "name": "stderr",
          "text": [
            "Test: 100% [000000000000000000000000000000000000000000000000000] Time:  0:21:39\n",
            "WARNING:absl:Found untraced functions such as _jit_compiled_convolution_op, _jit_compiled_convolution_op, _jit_compiled_convolution_op, _jit_compiled_convolution_op, _jit_compiled_convolution_op while saving (showing 5 of 5). These functions will not be directly callable after loading.\n",
            "WARNING:tensorflow:Compiled the loaded model, but the compiled metrics have yet to be built. `model.compile_metrics` will be empty until you train or evaluate the model.\n",
            "WARNING:absl:Found untraced functions such as _jit_compiled_convolution_op, _jit_compiled_convolution_op, _jit_compiled_convolution_op, _jit_compiled_convolution_op while saving (showing 4 of 4). These functions will not be directly callable after loading.\n",
            "WARNING:absl:Found untraced functions such as _jit_compiled_convolution_op, _jit_compiled_convolution_op, _jit_compiled_convolution_op, _jit_compiled_convolution_op, _jit_compiled_convolution_op while saving (showing 5 of 9). These functions will not be directly callable after loading.\n"
          ]
        },
        {
          "output_type": "display_data",
          "data": {
            "text/plain": [
              "<Figure size 432x288 with 1 Axes>"
            ],
            "image/png": "[encoded data removed]"
          },
          "metadata": {}
        }
      ],
      "source": [
        "import numpy as np\n",
        "import keras\n",
        "import seaborn as sns\n",
        "sns.set()\n",
        "from progressbar import ProgressBar\n",
        "from progressbar import Bar, ETA, Percentage\n",
        "from keras.datasets import mnist\n",
        "from keras.models import Sequential\n",
        "from keras.layers import Activation, Conv2D, Reshape, UpSampling2D, BatchNormalization, LeakyReLU, ZeroPadding2D\n",
        "from keras.layers.core import Dense, Flatten, Dropout\n",
        "from keras.optimizers import Adam\n",
        "from keras import optimizers\n",
        "from keras.metrics import categorical_crossentropy\n",
        "import matplotlib.pyplot as plt\n",
        "import keras.backend as K\n",
        "import random\n",
        "\n",
        "\n",
        "class WGAN():\n",
        "\n",
        "\tdef __init__(self):\n",
        "\t\tself.image_rows = 28\n",
        "\t\tself.image_cols = 28\n",
        "\t\tself.channels = 1\n",
        "\t\tself.image_shape = (self.image_rows, self.image_cols, self.channels)\n",
        "\n",
        "\t\t# Our noise representation dimensions.\n",
        "\t\tself.latent_dimensions = 100\n",
        "\n",
        "\t\tself.discriminator_iterations = 5\n",
        "\n",
        "\t\t# Optimizer to be used for both the generator and discriminator.\n",
        "\t\tself.optimizer = Adam(0.0001, beta_1=0.5, beta_2=0.9)\n",
        "\n",
        "\t\t# Build both the generator and discriminator.\n",
        "\t\tself.generator = self.build_generator()\n",
        "\t\tself.discriminator = self.build_discriminator()\n",
        "\n",
        "\t\t#########################\n",
        "\t\t#   Constructing GAN \n",
        "\t\t#########################\n",
        "\t\tself.GAN = Sequential()\n",
        "\t\tself.GAN.add(self.generator)\n",
        "\t\tself.discriminator.trainable = False\n",
        "\t\tself.GAN.add(self.discriminator)\n",
        "\t\tself.GAN.compile(loss=self.wasserstein_loss, optimizer=self.optimizer)\n",
        "\n",
        "\n",
        "\tdef build_generator(self):\n",
        "\t\t\n",
        "\t\tprint('Constructing Generator...')\n",
        "\n",
        "\t\t#########################\n",
        "\t\t#   Creating generator  \n",
        "\t\t#########################\n",
        "\t\tgenerator = Sequential()\n",
        "\t\t\n",
        "\t\t# Conv2DTranspose seemed to give bad results.\n",
        "\n",
        "\t\t# UpSampling and applying a consecutive Conv layers seems to remove 'checkerboard' generated images.\n",
        "\t\t\t# https://distill.pub/2016/deconv-checkerboard/\n",
        "\t\tgenerator.add(Dense(7*7*64, activation=\"relu\", input_shape=(self.latent_dimensions,)))\n",
        "\t\tgenerator.add(Reshape((7,7,64)))\n",
        "\n",
        "\t\t# Upsample to increase image dimensions(Generative Portion).\n",
        "\t\tgenerator.add(UpSampling2D())\n",
        "\t\t# Apply convolution in hope of generalizing features.\n",
        "\t\tgenerator.add(Conv2D(filters=256, kernel_size=(5,5), padding=\"VALID\"))\n",
        "\t\t# Transformation that maintains mean close to 0 and standard deviation close to 1.\n",
        "\t\t\t# Momentum helps converge to 'optima' faster.\n",
        "\t\tgenerator.add(BatchNormalization(momentum=0.8))\n",
        "\t\tgenerator.add(Activation(\"relu\"))\n",
        "\n",
        "\t\tgenerator.add(UpSampling2D())\n",
        "\t\tgenerator.add(Conv2D(filters=128, kernel_size=(5,5), padding=\"VALID\"))\n",
        "\t\tgenerator.add(BatchNormalization(momentum=0.8))\n",
        "\t\tgenerator.add(Activation(\"relu\"))\n",
        "\n",
        "\t\tgenerator.add(UpSampling2D())\n",
        "\t\tgenerator.add(Conv2D(filters=64, kernel_size=(4,4), padding=\"VALID\"))\n",
        "\t\tgenerator.add(BatchNormalization(momentum=0.8))\n",
        "\t\tgenerator.add(Activation(\"relu\"))\n",
        "\n",
        "\t\tgenerator.add(Conv2D(filters=1, kernel_size=(2,2), strides=(1,1), padding=\"VALID\", activation=\"tanh\"))\n",
        "\t\n",
        "\t\tprint('Generator constructed...')\n",
        "\t\tgenerator.summary()\n",
        "\t\t\t\t\t\n",
        "\t\treturn generator\n",
        "\n",
        "\t\t\t\t\t\n",
        "\t\n",
        "\tdef build_discriminator(self):\n",
        "\t\t\n",
        "\t\tprint('Constructing Discriminator...')\n",
        "\t\t\t\t\t\n",
        "\t\t#########################\n",
        "\t\t# Creating Discriminator  \n",
        "\t\t#########################\n",
        "\t\tdiscriminator = Sequential()\n",
        "\n",
        "\t\tdiscriminator.add(Conv2D(16, kernel_size=(3,3), strides=(2,2), padding=\"VALID\", input_shape=self.image_shape))\n",
        "\t\tdiscriminator.add(LeakyReLU(alpha=0.2))\n",
        "\t\tdiscriminator.add(Dropout(0.20))\n",
        "\n",
        "\t\tdiscriminator.add(Conv2D(32, kernel_size=(3,3), strides=(2,2), padding=\"same\"))\n",
        "\t\tdiscriminator.add(BatchNormalization(momentum=0.8))\n",
        "\t\tdiscriminator.add(LeakyReLU(alpha=0.2))\n",
        "\t\tdiscriminator.add(Dropout(0.30))\n",
        "\n",
        "\t\tdiscriminator.add(Conv2D(64, kernel_size=(3,3), strides=(2,2), padding=\"same\"))\n",
        "\t\tdiscriminator.add(BatchNormalization(momentum=0.8))\n",
        "\t\tdiscriminator.add(LeakyReLU(alpha=0.2))\n",
        "\t\tdiscriminator.add(Dropout(0.40))\n",
        "\n",
        "\t\tdiscriminator.add(Conv2D(128, kernel_size=(3,3), strides=(1,1), padding=\"same\"))\n",
        "\t\tdiscriminator.add(BatchNormalization(momentum=0.8))\n",
        "\t\tdiscriminator.add(LeakyReLU(alpha=0.2))\n",
        "\t\tdiscriminator.add(Dropout(0.30))\n",
        "\n",
        "\t\tdiscriminator.add(Conv2D(256, kernel_size=(2,2), strides=(1,1), padding=\"same\"))\n",
        "\t\tdiscriminator.add(BatchNormalization(momentum=0.8))\n",
        "\t\tdiscriminator.add(LeakyReLU(alpha=0.2))\n",
        "\t\tdiscriminator.add(Dropout(0.30))\n",
        "\n",
        "\t\tdiscriminator.add(Flatten())\n",
        "\t\t# Fully connected layer             \n",
        "\t\tdiscriminator.add(Dense(1, activation='sigmoid'))\n",
        "\t\t\t\t\t\t\n",
        "\t\t# Sigmoid for binary classification (real = 1 or fake = 0)\n",
        "\t\t# discriminator.add(Activation('sigmoid'))\n",
        "\n",
        "\t\tdiscriminator.compile(loss=self.wasserstein_loss, optimizer=self.optimizer)\n",
        "\t\tprint('Discriminator constructed...')\n",
        "\t\tdiscriminator.summary()\n",
        "\t\t\n",
        "\t\treturn discriminator\n",
        "\t\n",
        "\t# Using Wasserstein Loss as it shows promising results.\n",
        "\t\t# https://arxiv.org/pdf/1701.07875.pdf\n",
        "\tdef wasserstein_loss(self, y_true, y_pred):\n",
        "\t\t#y_true and y_pred are tensors and thus tensor computations are needed.\n",
        "\t\t# K.mean (keras.backend) takes mean of tensor.\n",
        "\t\treturn K.mean(y_true * y_pred)\n",
        "\n",
        "\t\t\t\t\n",
        "\tdef resize_image_data(self, X_train):\n",
        "\t\t# Rescales to [-1, 1], helps when updating gradients (Smaller window to move through, previously [0,255]).       \n",
        "\t\tX_train = (X_train.astype(np.float32) - 127.5) / 127.5\n",
        "\t\tX_train = np.expand_dims(X_train, axis=3)\n",
        "\t\treturn X_train\n",
        "\t\t\t\t\t\t\n",
        "\tdef train(self, epochs, batch_size=100, save_interval=100): \n",
        "\t\t# Used to create a progress bar for the epochs forloop.\n",
        "\t\twidgets = ['Test: ', Percentage(), ' ',Bar(marker='0',left='[',right=']'), ' ', ETA()]\n",
        "\t\tpbar = ProgressBar(widgets=widgets, maxval=epochs+1)\n",
        "\t\t\n",
        "\t\tdiscriminator_losses = []\n",
        "\t\tgenerator_losses = []\n",
        "\n",
        "\t\t# Normalization:\n",
        "\t\t\t# Load dataset and resize images for model.\n",
        "\t\tX_train, _ = images, labels\n",
        "\t\tX_train = self.resize_image_data(X_train)\n",
        "\n",
        "\t\t# TODO: Possibly implement soft/noisy labels. Salimans et. al. 2016\n",
        "\t\treal_labels  =  np.ones((batch_size,1))\n",
        "\t\tfake_labels  = -np.ones((batch_size,1))\n",
        "\t\t\n",
        "\t\tpbar.start()\n",
        "\t\tfor epoch in range(epochs):\n",
        "\t\t\t# WassersteinGAN from original paper used a 1:5 (generator:discriminator) training ratio.\n",
        "\t\t\tfor _ in range(self.discriminator_iterations):\n",
        "\t\t\t\t#########################\n",
        "\t\t\t\t#  Train Discriminator \n",
        "\t\t\t\t#########################\n",
        "\n",
        "\t\t\t\t# Grab batch of images from training data.\n",
        "\t\t\t\treal_images = X_train[np.random.randint(0, X_train.shape[0], batch_size)]\n",
        "\n",
        "\t\t\t\t# TODO: Possibly add noise to inputs, decaying overtime.\n",
        "\t\t\t\t# Sample noise from gaussian(normal) distribution to feed into generator.\n",
        "\t\t\t\tnoise = np.random.normal(0, 1, (batch_size, self.latent_dimensions))   \n",
        "\t\t\t\tfake_images = self.generator.predict(noise)\n",
        "\n",
        "\t\t\t\tself.discriminator.trainable = True\n",
        "\t\t\t\t# Found that when training on seperate real and fake batches, performance increased.\n",
        "\t\t\t\treal_loss = self.discriminator.train_on_batch(real_images, real_labels)\n",
        "\t\t\t\tfake_loss = self.discriminator.train_on_batch(fake_images, fake_labels)\n",
        "\t\t\t\ttotal_loss = real_loss + fake_loss\n",
        "\n",
        "\t\t\tdiscriminator_losses.append(total_loss)\n",
        "\n",
        "\t\t\t#########################\n",
        "\t\t\t#    Train Generator \n",
        "\t\t\t#########################\n",
        "\t\t\tself.discriminator.trainable = False\n",
        "\t\t\t# Train generator with random sampled noise and also real labels in an attempt to trick discriminator.\n",
        "\t\t\tGAN_loss = self.GAN.train_on_batch(noise, real_labels)\n",
        "\t\t\tgenerator_losses.append(GAN_loss)\n",
        "\n",
        "\t\t\t# Plot the progress\n",
        "\t\t\tpbar.update(epoch)\n",
        "\t\t\t# print (\"Epoch: %d [D loss: %f] [G loss: %f]\" % (epoch, total_loss, GAN_loss))\n",
        "\n",
        "\t\t\tif epoch % save_interval == 0:\n",
        "\t\t\t\tself.save_images(epoch)\n",
        "\t\tpbar.finish()\n",
        "\t\tself.save_models()\n",
        "\t\tself.plot_loss(discriminator_losses, generator_losses)\n",
        "\n",
        "\tdef save_models(self):\n",
        "\t\tself.discriminator.save(\"d_model\")\n",
        "\t\tself.GAN.layers[0].save(\"g_model\")\n",
        "\t\tself.GAN.save(\"GAN_model\")\n",
        "\n",
        "\tdef plot_loss(self, discriminator_losses, generator_losses):\n",
        "\t\tplt.plot(discriminator_losses, color='b', label=\"Discriminator Loss\")\n",
        "\t\tplt.plot(generator_losses, color='r', label=\"Generator Loss\")\n",
        "\t\tplt.legend(loc=\"upper right\")\n",
        "\t\tplt.title(\"Change of Loss Over Iterations\")\n",
        "\t\tplt.xlabel(\"Iteration\")\n",
        "\t\tplt.ylabel(\"Loss\")\n",
        "\t\tplt.show()\n",
        "\n",
        "\tdef save_images(self, epoch):\n",
        "\t\t# Creating 25 images to be displayed in a 5x5 image.\n",
        "\t\tnoise = np.random.normal(0, 1, (25, self.latent_dimensions))\n",
        "\t\tgenerated_images = self.generator.predict(noise)\n",
        "\n",
        "\t\t# Rescale images 0 - 1\n",
        "\t\tgenerated_images = 0.5 * generated_images + 1\n",
        "\n",
        "\t\tfig, axs = plt.subplots(5, 5)\n",
        "\t\tcnt = 0\n",
        "\t\tfor i in range(5):\n",
        "\t\t\tfor j in range(5):\n",
        "\t\t\t\taxs[i,j].imshow(generated_images[cnt, :,:,0], cmap='gray')\n",
        "\t\t\t\taxs[i,j].axis('off')\n",
        "\t\t\t\tcnt += 1\n",
        "\t\tfig.savefig(\"images2/mnist_%d.png\" % epoch)\n",
        "\t\tplt.close()\n",
        "\t\t\t\t\t\t\t\t\t\t\t \n",
        "\t\t\t\t\t\t\n",
        "\t\t\t\t\t\t\n",
        "model = WGAN()\n",
        "model.train(1000)"
      ]
    },
    {
      "cell_type": "code",
      "source": [
        "!zip -r /content/file.zip /content/images2"
      ],
      "metadata": {
        "colab": {
          "base_uri": "https://localhost:8080/"
        },
        "id": "1G2dv-qZU2Nm",
        "outputId": "a0bbba12-bfd3-4ec2-902c-c315e979165a"
      },
      "execution_count": 29,
      "outputs": [
        {
          "output_type": "stream",
          "name": "stdout",
          "text": [
            "  adding: content/images2/ (stored 0%)\n",
            "  adding: content/images2/mnist_20.png (deflated 6%)\n",
            "  adding: content/images2/mnist_60.png (deflated 7%)\n",
            "  adding: content/images2/mnist_90.png (deflated 9%)\n",
            "  adding: content/images2/mnist_50.png (deflated 7%)\n",
            "  adding: content/images2/mnist_30.png (deflated 7%)\n",
            "  adding: content/images2/mnist_10.png (deflated 5%)\n",
            "  adding: content/images2/mnist_70.png (deflated 8%)\n",
            "  adding: content/images2/mnist_80.png (deflated 7%)\n",
            "  adding: content/images2/mnist_0.png (deflated 5%)\n",
            "  adding: content/images2/mnist_40.png (deflated 7%)\n"
          ]
        }
      ]
    },
    {
      "cell_type": "code",
      "source": [],
      "metadata": {
        "id": "x6NjOpdIU3BG"
      },
      "execution_count": null,
      "outputs": []
    }
  ]
}