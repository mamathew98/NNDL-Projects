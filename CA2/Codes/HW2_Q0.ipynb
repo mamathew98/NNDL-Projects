{
  "nbformat": 4,
  "nbformat_minor": 0,
  "metadata": {
    "colab": {
      "provenance": []
    },
    "kernelspec": {
      "name": "python3",
      "display_name": "Python 3"
    },
    "language_info": {
      "name": "python"
    }
  },
  "cells": [
    {
      "cell_type": "code",
      "execution_count": null,
      "metadata": {
        "id": "w-V_T3UDBREd"
      },
      "outputs": [],
      "source": [
        "import numpy as np\n",
        "input1 = np.array([[0,0,0,0],\n",
        "          [1,1,1,1],\n",
        "          [1,0,0,1],\n",
        "          [1,1,1,1]])\n",
        "input2 = np.array([[1,1,1,0],\n",
        "          [1,0,1,0],\n",
        "          [1,1,1,0],\n",
        "          [0,0,0,1]])\n",
        "input3 = np.array([[0,0,0,0],\n",
        "          [0,1,1,1],\n",
        "          [0,0,1,0],\n",
        "          [0,0,0,0]])\n",
        "input4 = np.array([[0,0,0,1],\n",
        "          [0,1,0,0],\n",
        "          [1,1,1,1],\n",
        "          [0,1,0,0]])\n",
        "filter1 = np.array([[0,1,0],\n",
        "           [1,1,1],\n",
        "           [0,1,0]])\n",
        "filter2 = np.array([[1,1,1],\n",
        "           [1,0,1],\n",
        "           [1,1,1]])\n",
        "bias = -2"
      ]
    },
    {
      "cell_type": "code",
      "source": [
        "output_height = input1.shape[0] - filter.shape[0] + 1\n",
        "output_width =  input1.shape[1] - filter.shape[1] + 1\n",
        "def Stride1(inputx, filter):\n",
        "    output = np.zeros((output_height,output_width))\n",
        "    for i in range(output_height):\n",
        "      for j in range(output_width):\n",
        "        for ii in range(filter.shape[0]):\n",
        "          for jj in range(filter.shape[1]):\n",
        "            output[i,j] += inputx[i+ii,j+jj] * filter[ii,jj]\n",
        "        output[i,j] += bias\n",
        "    return output\n"
      ],
      "metadata": {
        "id": "-X3Gs-8cCXmF"
      },
      "execution_count": null,
      "outputs": []
    },
    {
      "cell_type": "code",
      "source": [
        "def show_stride1():\n",
        "  for i, n in enumerate([input1, input2, input3, input4]):\n",
        "    for j, m in enumerate([filter1, filter2]):\n",
        "       print(f'Stride1 of input{i +1}, filter{j +1} is: \\n', Stride1(n,m))\n"
      ],
      "metadata": {
        "id": "5QFxfebEVW13"
      },
      "execution_count": null,
      "outputs": []
    },
    {
      "cell_type": "code",
      "source": [
        "show_stride1()"
      ],
      "metadata": {
        "colab": {
          "base_uri": "https://localhost:8080/"
        },
        "id": "AHd_3RZAV9CC",
        "outputId": "ee1d0d7d-5922-40d9-c828-1ed7df29cb00"
      },
      "execution_count": null,
      "outputs": [
        {
          "output_type": "stream",
          "name": "stdout",
          "text": [
            "Stride1 of input1, filter1 is: \n",
            " [[1. 1.]\n",
            " [1. 1.]]\n",
            "Stride1 of input1, filter2 is: \n",
            " [[1. 1.]\n",
            " [5. 5.]]\n",
            "Stride1 of input2, filter1 is: \n",
            " [[2. 1.]\n",
            " [1. 1.]]\n",
            "Stride1 of input2, filter2 is: \n",
            " [[6. 2.]\n",
            " [2. 1.]]\n",
            "Stride1 of input3, filter1 is: \n",
            " [[0. 2.]\n",
            " [0. 0.]]\n",
            "Stride1 of input3, filter2 is: \n",
            " [[0. 1.]\n",
            " [1. 1.]]\n",
            "Stride1 of input4, filter1 is: \n",
            " [[0. 0.]\n",
            " [3. 1.]]\n",
            "Stride1 of input4, filter2 is: \n",
            " [[1. 3.]\n",
            " [2. 2.]]\n"
          ]
        }
      ]
    },
    {
      "cell_type": "code",
      "source": [
        "def MaxPooling(inputx):\n",
        "    output = np.zeros((output_height,output_width))\n",
        "    for m,i in enumerate(range(0,inputx.shape[0],2)):\n",
        "      for n,j in enumerate(range(0,inputx.shape[1],2)):\n",
        "        temp = []\n",
        "        for ii in range(output_width):\n",
        "          for jj in range(output_width):\n",
        "            temp.append(inputx[i+ii,j+jj])\n",
        "        output[m,n] = max(temp)\n",
        "    return output"
      ],
      "metadata": {
        "id": "k8XeFi4TIHsZ"
      },
      "execution_count": null,
      "outputs": []
    },
    {
      "cell_type": "code",
      "source": [
        "def show_MaxPooling():\n",
        "  for i, n in enumerate([input1, input2, input3, input4]):\n",
        "    print(f'MaxPooling of input{i +1} is: \\n', MaxPooling(n))\n"
      ],
      "metadata": {
        "id": "WGULKr3hIL1o"
      },
      "execution_count": null,
      "outputs": []
    },
    {
      "cell_type": "code",
      "source": [
        "show_MaxPooling()"
      ],
      "metadata": {
        "colab": {
          "base_uri": "https://localhost:8080/"
        },
        "id": "e8jKSBvSIRDY",
        "outputId": "7ccb1770-5ed4-4d16-e64b-5c7b027e35f5"
      },
      "execution_count": null,
      "outputs": [
        {
          "output_type": "stream",
          "name": "stdout",
          "text": [
            "MaxPooling of input1 is: \n",
            " [[1. 1.]\n",
            " [1. 1.]]\n",
            "MaxPooling of input2 is: \n",
            " [[1. 1.]\n",
            " [1. 1.]]\n",
            "MaxPooling of input3 is: \n",
            " [[1. 1.]\n",
            " [0. 1.]]\n",
            "MaxPooling of input4 is: \n",
            " [[1. 1.]\n",
            " [1. 1.]]\n"
          ]
        }
      ]
    }
  ]
}