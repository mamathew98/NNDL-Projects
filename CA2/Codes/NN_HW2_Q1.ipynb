{
  "nbformat": 4,
  "nbformat_minor": 0,
  "metadata": {
    "colab": {
      "provenance": []
    },
    "kernelspec": {
      "name": "python3",
      "display_name": "Python 3"
    },
    "language_info": {
      "name": "python"
    },
    "accelerator": "GPU",
    "gpuClass": "standard"
  },
  "cells": [
    {
      "cell_type": "markdown",
      "source": [
        "# HW2 Q1"
      ],
      "metadata": {
        "id": "623MDeMZyfG2"
      }
    },
    {
      "cell_type": "code",
      "source": [
        "# baseline model with dropout on the cifar10 dataset\n",
        "import sys\n",
        "from matplotlib import pyplot\n",
        "from keras.datasets import cifar10\n",
        "from keras.utils import to_categorical\n",
        "from keras.models import Sequential\n",
        "from keras.layers import Conv2D\n",
        "from keras.layers import MaxPooling2D\n",
        "from keras.layers import Dense\n",
        "from keras.layers import Flatten\n",
        "from keras.layers import Dropout\n",
        "from keras.optimizers import SGD\n",
        "import cv2\n",
        "import numpy as np\n",
        "from keras.datasets import cifar10\n",
        "from keras import backend as K\n",
        "from keras.utils import np_utils"
      ],
      "metadata": {
        "id": "KH69vf-ZY7_8"
      },
      "execution_count": 16,
      "outputs": []
    },
    {
      "cell_type": "code",
      "source": [
        "# load train and test dataset\n",
        "def load_dataset(img_rows, img_cols):\n",
        "    # Load cifar10 training and validation sets\n",
        "    (trainX, trainY), (testX, testY) = cifar10.load_data()\n",
        "\n",
        "    # Resize trainging images\n",
        "    if K.image_data_format() == 'th':\n",
        "        trainX = np.array([cv2.resize(img.transpose(1,2,0), (img_rows,img_cols)).transpose(2,0,1) for img in trainX])\n",
        "        testX = np.array([cv2.resize(img.transpose(1,2,0), (img_rows,img_cols)).transpose(2,0,1) for img in testX])\n",
        "    else:\n",
        "        trainX = np.array([cv2.resize(img, (img_rows,img_cols)) for img in trainX])\n",
        "        testX = np.array([cv2.resize(img, (img_rows,img_cols)) for img in testX])\n",
        "\n",
        "    # Transform targets to keras compatible format\n",
        "    trainY = to_categorical(trainY)\n",
        "    testY = to_categorical(testY)\n",
        "\n",
        "    return trainX, trainY, testX, testY"
      ],
      "metadata": {
        "id": "4yslkoFiY-a0"
      },
      "execution_count": 17,
      "outputs": []
    },
    {
      "cell_type": "code",
      "source": [
        "def image_resizer(img_rows, img_cols, X):\n",
        "        # Resize trainging images\n",
        "    if K.image_data_format() == 'th':\n",
        "        X = np.array([cv2.resize(img.transpose(1,2,0), (img_rows,img_cols)).transpose(2,0,1) for img in trainX])\n",
        "    else:\n",
        "        X = np.array([cv2.resize(img, (img_rows,img_cols)) for img in X])\n",
        "    return X"
      ],
      "metadata": {
        "id": "YnUB5eTPmbeh"
      },
      "execution_count": 27,
      "outputs": []
    },
    {
      "cell_type": "code",
      "source": [
        "# scale pixels\n",
        "def prep_pixels(train, test):\n",
        "\t# convert from integers to floats\n",
        "\ttrain_norm = train.astype('float32')\n",
        "\ttest_norm = test.astype('float32')\n",
        "\t# normalize to range 0-1\n",
        "\ttrain_norm = train_norm / 255.0\n",
        "\ttest_norm = test_norm / 255.0\n",
        "\t# return normalized images\n",
        "\treturn train_norm, test_norm"
      ],
      "metadata": {
        "id": "xQWA6X8CatYD"
      },
      "execution_count": 18,
      "outputs": []
    },
    {
      "cell_type": "code",
      "source": [
        "# define cnn model\n",
        "def define_model():\n",
        "\tmodel = Sequential()\n",
        "\tmodel.add(Conv2D(32, (3, 3), activation='relu', kernel_initializer='he_uniform', padding='same'))\n",
        "\tmodel.add(Conv2D(32, (3, 3), activation='relu', kernel_initializer='he_uniform', padding='same'))\n",
        "\tmodel.add(MaxPooling2D((2, 2)))\n",
        "\tmodel.add(Dropout(0.2))\n",
        "\tmodel.add(Conv2D(64, (3, 3), activation='relu', kernel_initializer='he_uniform', padding='same'))\n",
        "\tmodel.add(Conv2D(64, (3, 3), activation='relu', kernel_initializer='he_uniform', padding='same'))\n",
        "\tmodel.add(MaxPooling2D((2, 2)))\n",
        "\tmodel.add(Dropout(0.2))\n",
        "\tmodel.add(Conv2D(128, (3, 3), activation='relu', kernel_initializer='he_uniform', padding='same'))\n",
        "\tmodel.add(Conv2D(128, (3, 3), activation='relu', kernel_initializer='he_uniform', padding='same'))\n",
        "\tmodel.add(MaxPooling2D((2, 2)))\n",
        "\tmodel.add(Dropout(0.2))\n",
        "\tmodel.add(Flatten())\n",
        "\tmodel.add(Dense(128, activation='relu', kernel_initializer='he_uniform'))\n",
        "\tmodel.add(Dropout(0.2))\n",
        "\tmodel.add(Dense(10, activation='softmax'))\n",
        "\t# compile model\n",
        "\topt = SGD(lr=0.001, momentum=0.9)\n",
        "\tmodel.compile(optimizer=opt, loss='categorical_crossentropy', metrics=['accuracy',f1_m, precision_m, recall_m])\n",
        "\treturn model"
      ],
      "metadata": {
        "id": "qkqVQNxPauYa"
      },
      "execution_count": 19,
      "outputs": []
    },
    {
      "cell_type": "code",
      "source": [
        "# plot diagnostic learning curves\n",
        "def summarize_diagnostics(history):\n",
        "\t# plot loss\n",
        "\tpyplot.subplot(211)\n",
        "\tpyplot.title('Cross Entropy Loss')\n",
        "\tpyplot.plot(history.history['loss'], color='blue', label='train')\n",
        "\tpyplot.plot(history.history['val_loss'], color='orange', label='test')\n",
        "\tpyplot.show()\n",
        "\t# plot accuracy\n",
        "\tpyplot.subplot(212)\n",
        "\tpyplot.title('Classification Accuracy')\n",
        "\tpyplot.plot(history.history['accuracy'], color='blue', label='train')\n",
        "\tpyplot.plot(history.history['val_accuracy'], color='orange', label='test')\n",
        "\tpyplot.show()\n",
        "\t# save plot to file\n",
        "\tfilename = sys.argv[0].split('/')[-1]\n",
        "\tpyplot.savefig(filename + '_plot.png')\n",
        "\tpyplot.close()"
      ],
      "metadata": {
        "id": "40TeHPn_aw4L"
      },
      "execution_count": 20,
      "outputs": []
    },
    {
      "cell_type": "code",
      "source": [
        "from keras import backend as K\n",
        "\n",
        "def recall_m(y_true, y_pred):\n",
        "    true_positives = K.sum(K.round(K.clip(y_true * y_pred, 0, 1)))\n",
        "    possible_positives = K.sum(K.round(K.clip(y_true, 0, 1)))\n",
        "    recall = true_positives / (possible_positives + K.epsilon())\n",
        "    return recall\n",
        "\n",
        "def precision_m(y_true, y_pred):\n",
        "    true_positives = K.sum(K.round(K.clip(y_true * y_pred, 0, 1)))\n",
        "    predicted_positives = K.sum(K.round(K.clip(y_pred, 0, 1)))\n",
        "    precision = true_positives / (predicted_positives + K.epsilon())\n",
        "    return precision\n",
        "\n",
        "def f1_m(y_true, y_pred):\n",
        "    precision = precision_m(y_true, y_pred)\n",
        "    recall = recall_m(y_true, y_pred)\n",
        "    return 2*((precision*recall)/(precision+recall+K.epsilon()))"
      ],
      "metadata": {
        "id": "kJsKlaXDc1YR"
      },
      "execution_count": 21,
      "outputs": []
    },
    {
      "cell_type": "markdown",
      "source": [
        "## TOTV"
      ],
      "metadata": {
        "id": "Zjq9On-gyXtn"
      }
    },
    {
      "cell_type": "code",
      "source": [
        "# load dataset\n",
        "trainX, trainY, testX, testY = load_dataset(32, 32)\n",
        "# prepare pixel data\n",
        "trainX, testX = prep_pixels(trainX, testX)\n",
        "# define model\n",
        "model = define_model()\n",
        "# fit model\n",
        "history = model.fit(trainX, trainY, epochs=100, batch_size=64, validation_data=(testX, testY), verbose=1)"
      ],
      "metadata": {
        "colab": {
          "base_uri": "https://localhost:8080/",
          "height": 0
        },
        "id": "IwpZDJK8ayZM",
        "outputId": "4ef4336b-c6e5-4aa3-a4af-d4c53ce55a9b"
      },
      "execution_count": 22,
      "outputs": [
        {
          "output_type": "stream",
          "name": "stderr",
          "text": [
            "/usr/local/lib/python3.7/dist-packages/keras/optimizers/optimizer_v2/gradient_descent.py:108: UserWarning: The `lr` argument is deprecated, use `learning_rate` instead.\n",
            "  super(SGD, self).__init__(name, **kwargs)\n"
          ]
        },
        {
          "output_type": "stream",
          "name": "stdout",
          "text": [
            "Epoch 1/100\n",
            "782/782 [==============================] - 8s 9ms/step - loss: 2.0043 - accuracy: 0.2556 - f1_m: 0.0403 - precision_m: 0.3031 - recall_m: 0.0223 - val_loss: 1.7380 - val_accuracy: 0.3656 - val_f1_m: 0.0540 - val_precision_m: 0.6574 - val_recall_m: 0.0285\n",
            "Epoch 2/100\n",
            "782/782 [==============================] - 7s 8ms/step - loss: 1.6627 - accuracy: 0.3914 - f1_m: 0.1984 - precision_m: 0.6172 - recall_m: 0.1204 - val_loss: 1.4970 - val_accuracy: 0.4521 - val_f1_m: 0.2574 - val_precision_m: 0.7013 - val_recall_m: 0.1594\n",
            "Epoch 3/100\n",
            "782/782 [==============================] - 7s 8ms/step - loss: 1.5168 - accuracy: 0.4449 - f1_m: 0.3053 - precision_m: 0.6548 - recall_m: 0.2013 - val_loss: 1.3859 - val_accuracy: 0.4933 - val_f1_m: 0.3683 - val_precision_m: 0.7231 - val_recall_m: 0.2493\n",
            "Epoch 4/100\n",
            "782/782 [==============================] - 7s 8ms/step - loss: 1.4216 - accuracy: 0.4809 - f1_m: 0.3743 - precision_m: 0.6759 - recall_m: 0.2611 - val_loss: 1.3088 - val_accuracy: 0.5284 - val_f1_m: 0.4272 - val_precision_m: 0.7372 - val_recall_m: 0.3030\n",
            "Epoch 5/100\n",
            "782/782 [==============================] - 7s 9ms/step - loss: 1.3424 - accuracy: 0.5151 - f1_m: 0.4279 - precision_m: 0.7019 - recall_m: 0.3102 - val_loss: 1.2095 - val_accuracy: 0.5662 - val_f1_m: 0.4896 - val_precision_m: 0.7541 - val_recall_m: 0.3645\n",
            "Epoch 6/100\n",
            "782/782 [==============================] - 7s 9ms/step - loss: 1.2752 - accuracy: 0.5400 - f1_m: 0.4690 - precision_m: 0.7190 - recall_m: 0.3503 - val_loss: 1.1661 - val_accuracy: 0.5850 - val_f1_m: 0.5112 - val_precision_m: 0.7673 - val_recall_m: 0.3854\n",
            "Epoch 7/100\n",
            "782/782 [==============================] - 7s 9ms/step - loss: 1.2123 - accuracy: 0.5658 - f1_m: 0.5050 - precision_m: 0.7288 - recall_m: 0.3882 - val_loss: 1.1189 - val_accuracy: 0.5993 - val_f1_m: 0.5480 - val_precision_m: 0.7533 - val_recall_m: 0.4326\n",
            "Epoch 8/100\n",
            "782/782 [==============================] - 7s 9ms/step - loss: 1.1567 - accuracy: 0.5875 - f1_m: 0.5342 - precision_m: 0.7389 - recall_m: 0.4203 - val_loss: 1.0408 - val_accuracy: 0.6298 - val_f1_m: 0.5835 - val_precision_m: 0.7686 - val_recall_m: 0.4721\n",
            "Epoch 9/100\n",
            "782/782 [==============================] - 7s 9ms/step - loss: 1.1137 - accuracy: 0.6043 - f1_m: 0.5611 - precision_m: 0.7522 - recall_m: 0.4494 - val_loss: 1.0044 - val_accuracy: 0.6472 - val_f1_m: 0.5988 - val_precision_m: 0.7927 - val_recall_m: 0.4834\n",
            "Epoch 10/100\n",
            "782/782 [==============================] - 7s 9ms/step - loss: 1.0753 - accuracy: 0.6176 - f1_m: 0.5796 - precision_m: 0.7600 - recall_m: 0.4702 - val_loss: 0.9889 - val_accuracy: 0.6525 - val_f1_m: 0.6168 - val_precision_m: 0.7907 - val_recall_m: 0.5076\n",
            "Epoch 11/100\n",
            "782/782 [==============================] - 7s 9ms/step - loss: 1.0325 - accuracy: 0.6333 - f1_m: 0.5994 - precision_m: 0.7690 - recall_m: 0.4931 - val_loss: 0.9593 - val_accuracy: 0.6591 - val_f1_m: 0.6320 - val_precision_m: 0.7778 - val_recall_m: 0.5339\n",
            "Epoch 12/100\n",
            "782/782 [==============================] - 7s 9ms/step - loss: 0.9980 - accuracy: 0.6470 - f1_m: 0.6178 - precision_m: 0.7762 - recall_m: 0.5148 - val_loss: 0.8922 - val_accuracy: 0.6874 - val_f1_m: 0.6578 - val_precision_m: 0.8030 - val_recall_m: 0.5588\n",
            "Epoch 13/100\n",
            "782/782 [==============================] - 7s 9ms/step - loss: 0.9644 - accuracy: 0.6585 - f1_m: 0.6309 - precision_m: 0.7798 - recall_m: 0.5314 - val_loss: 0.8869 - val_accuracy: 0.6843 - val_f1_m: 0.6610 - val_precision_m: 0.7985 - val_recall_m: 0.5655\n",
            "Epoch 14/100\n",
            "782/782 [==============================] - 7s 9ms/step - loss: 0.9385 - accuracy: 0.6683 - f1_m: 0.6447 - precision_m: 0.7887 - recall_m: 0.5468 - val_loss: 0.8705 - val_accuracy: 0.6956 - val_f1_m: 0.6689 - val_precision_m: 0.8154 - val_recall_m: 0.5688\n",
            "Epoch 15/100\n",
            "782/782 [==============================] - 7s 9ms/step - loss: 0.9118 - accuracy: 0.6765 - f1_m: 0.6568 - precision_m: 0.7933 - recall_m: 0.5620 - val_loss: 0.8327 - val_accuracy: 0.7052 - val_f1_m: 0.6851 - val_precision_m: 0.8180 - val_recall_m: 0.5912\n",
            "Epoch 16/100\n",
            "782/782 [==============================] - 7s 9ms/step - loss: 0.8916 - accuracy: 0.6843 - f1_m: 0.6645 - precision_m: 0.7958 - recall_m: 0.5721 - val_loss: 0.8339 - val_accuracy: 0.7063 - val_f1_m: 0.6858 - val_precision_m: 0.8090 - val_recall_m: 0.5968\n",
            "Epoch 17/100\n",
            "782/782 [==============================] - 7s 9ms/step - loss: 0.8634 - accuracy: 0.6964 - f1_m: 0.6804 - precision_m: 0.8042 - recall_m: 0.5912 - val_loss: 0.8140 - val_accuracy: 0.7140 - val_f1_m: 0.6942 - val_precision_m: 0.8264 - val_recall_m: 0.6001\n",
            "Epoch 18/100\n",
            "782/782 [==============================] - 7s 9ms/step - loss: 0.8424 - accuracy: 0.7030 - f1_m: 0.6886 - precision_m: 0.8077 - recall_m: 0.6016 - val_loss: 0.8069 - val_accuracy: 0.7150 - val_f1_m: 0.7016 - val_precision_m: 0.8116 - val_recall_m: 0.6193\n",
            "Epoch 19/100\n",
            "782/782 [==============================] - 7s 9ms/step - loss: 0.8253 - accuracy: 0.7081 - f1_m: 0.6933 - precision_m: 0.8072 - recall_m: 0.6089 - val_loss: 0.7766 - val_accuracy: 0.7256 - val_f1_m: 0.7130 - val_precision_m: 0.8213 - val_recall_m: 0.6312\n",
            "Epoch 20/100\n",
            "782/782 [==============================] - 7s 9ms/step - loss: 0.8051 - accuracy: 0.7186 - f1_m: 0.7031 - precision_m: 0.8137 - recall_m: 0.6204 - val_loss: 0.7455 - val_accuracy: 0.7363 - val_f1_m: 0.7292 - val_precision_m: 0.8197 - val_recall_m: 0.6580\n",
            "Epoch 21/100\n",
            "782/782 [==============================] - 7s 9ms/step - loss: 0.7879 - accuracy: 0.7229 - f1_m: 0.7113 - precision_m: 0.8156 - recall_m: 0.6320 - val_loss: 0.7764 - val_accuracy: 0.7244 - val_f1_m: 0.7111 - val_precision_m: 0.8140 - val_recall_m: 0.6325\n",
            "Epoch 22/100\n",
            "782/782 [==============================] - 7s 9ms/step - loss: 0.7674 - accuracy: 0.7305 - f1_m: 0.7189 - precision_m: 0.8205 - recall_m: 0.6411 - val_loss: 0.7345 - val_accuracy: 0.7434 - val_f1_m: 0.7338 - val_precision_m: 0.8352 - val_recall_m: 0.6556\n",
            "Epoch 23/100\n",
            "782/782 [==============================] - 7s 9ms/step - loss: 0.7496 - accuracy: 0.7355 - f1_m: 0.7266 - precision_m: 0.8240 - recall_m: 0.6508 - val_loss: 0.7096 - val_accuracy: 0.7519 - val_f1_m: 0.7423 - val_precision_m: 0.8402 - val_recall_m: 0.6659\n",
            "Epoch 24/100\n",
            "782/782 [==============================] - 7s 9ms/step - loss: 0.7348 - accuracy: 0.7422 - f1_m: 0.7322 - precision_m: 0.8255 - recall_m: 0.6590 - val_loss: 0.7380 - val_accuracy: 0.7427 - val_f1_m: 0.7349 - val_precision_m: 0.8234 - val_recall_m: 0.6648\n",
            "Epoch 25/100\n",
            "782/782 [==============================] - 7s 9ms/step - loss: 0.7165 - accuracy: 0.7495 - f1_m: 0.7416 - precision_m: 0.8321 - recall_m: 0.6700 - val_loss: 0.7269 - val_accuracy: 0.7447 - val_f1_m: 0.7373 - val_precision_m: 0.8244 - val_recall_m: 0.6681\n",
            "Epoch 26/100\n",
            "782/782 [==============================] - 7s 9ms/step - loss: 0.7074 - accuracy: 0.7510 - f1_m: 0.7430 - precision_m: 0.8318 - recall_m: 0.6726 - val_loss: 0.6854 - val_accuracy: 0.7603 - val_f1_m: 0.7532 - val_precision_m: 0.8401 - val_recall_m: 0.6836\n",
            "Epoch 27/100\n",
            "782/782 [==============================] - 7s 9ms/step - loss: 0.6861 - accuracy: 0.7585 - f1_m: 0.7518 - precision_m: 0.8367 - recall_m: 0.6837 - val_loss: 0.7172 - val_accuracy: 0.7484 - val_f1_m: 0.7425 - val_precision_m: 0.8167 - val_recall_m: 0.6818\n",
            "Epoch 28/100\n",
            "782/782 [==============================] - 7s 9ms/step - loss: 0.6785 - accuracy: 0.7622 - f1_m: 0.7550 - precision_m: 0.8373 - recall_m: 0.6885 - val_loss: 0.6692 - val_accuracy: 0.7691 - val_f1_m: 0.7635 - val_precision_m: 0.8457 - val_recall_m: 0.6971\n",
            "Epoch 29/100\n",
            "782/782 [==============================] - 7s 9ms/step - loss: 0.6658 - accuracy: 0.7668 - f1_m: 0.7584 - precision_m: 0.8390 - recall_m: 0.6931 - val_loss: 0.6702 - val_accuracy: 0.7633 - val_f1_m: 0.7587 - val_precision_m: 0.8352 - val_recall_m: 0.6961\n",
            "Epoch 30/100\n",
            "782/782 [==============================] - 7s 9ms/step - loss: 0.6520 - accuracy: 0.7697 - f1_m: 0.7652 - precision_m: 0.8424 - recall_m: 0.7021 - val_loss: 0.6558 - val_accuracy: 0.7736 - val_f1_m: 0.7688 - val_precision_m: 0.8427 - val_recall_m: 0.7079\n",
            "Epoch 31/100\n",
            "782/782 [==============================] - 7s 9ms/step - loss: 0.6426 - accuracy: 0.7735 - f1_m: 0.7673 - precision_m: 0.8433 - recall_m: 0.7048 - val_loss: 0.6568 - val_accuracy: 0.7711 - val_f1_m: 0.7692 - val_precision_m: 0.8446 - val_recall_m: 0.7073\n",
            "Epoch 32/100\n",
            "782/782 [==============================] - 7s 9ms/step - loss: 0.6339 - accuracy: 0.7747 - f1_m: 0.7715 - precision_m: 0.8460 - recall_m: 0.7102 - val_loss: 0.6623 - val_accuracy: 0.7683 - val_f1_m: 0.7659 - val_precision_m: 0.8314 - val_recall_m: 0.7109\n",
            "Epoch 33/100\n",
            "782/782 [==============================] - 7s 9ms/step - loss: 0.6193 - accuracy: 0.7824 - f1_m: 0.7767 - precision_m: 0.8491 - recall_m: 0.7167 - val_loss: 0.6396 - val_accuracy: 0.7793 - val_f1_m: 0.7777 - val_precision_m: 0.8479 - val_recall_m: 0.7191\n",
            "Epoch 34/100\n",
            "782/782 [==============================] - 7s 9ms/step - loss: 0.6072 - accuracy: 0.7853 - f1_m: 0.7819 - precision_m: 0.8515 - recall_m: 0.7240 - val_loss: 0.6309 - val_accuracy: 0.7816 - val_f1_m: 0.7804 - val_precision_m: 0.8435 - val_recall_m: 0.7272\n",
            "Epoch 35/100\n",
            "782/782 [==============================] - 7s 9ms/step - loss: 0.5971 - accuracy: 0.7896 - f1_m: 0.7864 - precision_m: 0.8547 - recall_m: 0.7292 - val_loss: 0.6391 - val_accuracy: 0.7797 - val_f1_m: 0.7788 - val_precision_m: 0.8403 - val_recall_m: 0.7264\n",
            "Epoch 36/100\n",
            "782/782 [==============================] - 7s 9ms/step - loss: 0.5936 - accuracy: 0.7899 - f1_m: 0.7859 - precision_m: 0.8518 - recall_m: 0.7303 - val_loss: 0.6119 - val_accuracy: 0.7884 - val_f1_m: 0.7873 - val_precision_m: 0.8529 - val_recall_m: 0.7319\n",
            "Epoch 37/100\n",
            "782/782 [==============================] - 7s 9ms/step - loss: 0.5794 - accuracy: 0.7956 - f1_m: 0.7930 - precision_m: 0.8589 - recall_m: 0.7376 - val_loss: 0.6168 - val_accuracy: 0.7891 - val_f1_m: 0.7867 - val_precision_m: 0.8504 - val_recall_m: 0.7327\n",
            "Epoch 38/100\n",
            "782/782 [==============================] - 7s 9ms/step - loss: 0.5693 - accuracy: 0.7994 - f1_m: 0.7954 - precision_m: 0.8595 - recall_m: 0.7411 - val_loss: 0.6118 - val_accuracy: 0.7887 - val_f1_m: 0.7892 - val_precision_m: 0.8504 - val_recall_m: 0.7372\n",
            "Epoch 39/100\n",
            "782/782 [==============================] - 7s 9ms/step - loss: 0.5588 - accuracy: 0.8016 - f1_m: 0.7991 - precision_m: 0.8621 - recall_m: 0.7455 - val_loss: 0.6163 - val_accuracy: 0.7884 - val_f1_m: 0.7874 - val_precision_m: 0.8446 - val_recall_m: 0.7382\n",
            "Epoch 40/100\n",
            "782/782 [==============================] - 7s 9ms/step - loss: 0.5480 - accuracy: 0.8065 - f1_m: 0.8031 - precision_m: 0.8620 - recall_m: 0.7526 - val_loss: 0.6017 - val_accuracy: 0.7936 - val_f1_m: 0.7929 - val_precision_m: 0.8510 - val_recall_m: 0.7431\n",
            "Epoch 41/100\n",
            "782/782 [==============================] - 7s 9ms/step - loss: 0.5477 - accuracy: 0.8067 - f1_m: 0.8039 - precision_m: 0.8633 - recall_m: 0.7529 - val_loss: 0.5967 - val_accuracy: 0.7954 - val_f1_m: 0.7964 - val_precision_m: 0.8528 - val_recall_m: 0.7478\n",
            "Epoch 42/100\n",
            "782/782 [==============================] - 7s 9ms/step - loss: 0.5365 - accuracy: 0.8097 - f1_m: 0.8075 - precision_m: 0.8653 - recall_m: 0.7576 - val_loss: 0.5919 - val_accuracy: 0.7992 - val_f1_m: 0.7981 - val_precision_m: 0.8544 - val_recall_m: 0.7498\n",
            "Epoch 43/100\n",
            "782/782 [==============================] - 7s 9ms/step - loss: 0.5260 - accuracy: 0.8147 - f1_m: 0.8127 - precision_m: 0.8694 - recall_m: 0.7637 - val_loss: 0.6049 - val_accuracy: 0.7933 - val_f1_m: 0.7914 - val_precision_m: 0.8509 - val_recall_m: 0.7406\n",
            "Epoch 44/100\n",
            "782/782 [==============================] - 7s 9ms/step - loss: 0.5216 - accuracy: 0.8162 - f1_m: 0.8139 - precision_m: 0.8677 - recall_m: 0.7671 - val_loss: 0.6095 - val_accuracy: 0.7890 - val_f1_m: 0.7930 - val_precision_m: 0.8430 - val_recall_m: 0.7494\n",
            "Epoch 45/100\n",
            "782/782 [==============================] - 7s 9ms/step - loss: 0.5103 - accuracy: 0.8182 - f1_m: 0.8164 - precision_m: 0.8698 - recall_m: 0.7699 - val_loss: 0.5967 - val_accuracy: 0.7932 - val_f1_m: 0.7950 - val_precision_m: 0.8445 - val_recall_m: 0.7517\n",
            "Epoch 46/100\n",
            "782/782 [==============================] - 7s 9ms/step - loss: 0.5016 - accuracy: 0.8217 - f1_m: 0.8205 - precision_m: 0.8727 - recall_m: 0.7750 - val_loss: 0.5827 - val_accuracy: 0.8008 - val_f1_m: 0.7999 - val_precision_m: 0.8502 - val_recall_m: 0.7559\n",
            "Epoch 47/100\n",
            "782/782 [==============================] - 7s 9ms/step - loss: 0.4969 - accuracy: 0.8223 - f1_m: 0.8207 - precision_m: 0.8721 - recall_m: 0.7758 - val_loss: 0.5875 - val_accuracy: 0.7967 - val_f1_m: 0.7983 - val_precision_m: 0.8535 - val_recall_m: 0.7505\n",
            "Epoch 48/100\n",
            "782/782 [==============================] - 7s 9ms/step - loss: 0.4887 - accuracy: 0.8248 - f1_m: 0.8243 - precision_m: 0.8753 - recall_m: 0.7798 - val_loss: 0.5764 - val_accuracy: 0.8044 - val_f1_m: 0.8046 - val_precision_m: 0.8581 - val_recall_m: 0.7582\n",
            "Epoch 49/100\n",
            "782/782 [==============================] - 7s 9ms/step - loss: 0.4822 - accuracy: 0.8280 - f1_m: 0.8266 - precision_m: 0.8742 - recall_m: 0.7846 - val_loss: 0.5725 - val_accuracy: 0.8025 - val_f1_m: 0.8056 - val_precision_m: 0.8511 - val_recall_m: 0.7653\n",
            "Epoch 50/100\n",
            "782/782 [==============================] - 7s 9ms/step - loss: 0.4746 - accuracy: 0.8314 - f1_m: 0.8308 - precision_m: 0.8796 - recall_m: 0.7878 - val_loss: 0.5739 - val_accuracy: 0.8077 - val_f1_m: 0.8086 - val_precision_m: 0.8510 - val_recall_m: 0.7708\n",
            "Epoch 51/100\n",
            "782/782 [==============================] - 7s 9ms/step - loss: 0.4703 - accuracy: 0.8333 - f1_m: 0.8319 - precision_m: 0.8780 - recall_m: 0.7911 - val_loss: 0.5847 - val_accuracy: 0.8047 - val_f1_m: 0.8073 - val_precision_m: 0.8512 - val_recall_m: 0.7683\n",
            "Epoch 52/100\n",
            "782/782 [==============================] - 7s 9ms/step - loss: 0.4650 - accuracy: 0.8337 - f1_m: 0.8322 - precision_m: 0.8787 - recall_m: 0.7911 - val_loss: 0.5613 - val_accuracy: 0.8130 - val_f1_m: 0.8115 - val_precision_m: 0.8584 - val_recall_m: 0.7701\n",
            "Epoch 53/100\n",
            "782/782 [==============================] - 7s 9ms/step - loss: 0.4514 - accuracy: 0.8378 - f1_m: 0.8365 - precision_m: 0.8801 - recall_m: 0.7976 - val_loss: 0.5711 - val_accuracy: 0.8083 - val_f1_m: 0.8081 - val_precision_m: 0.8488 - val_recall_m: 0.7718\n",
            "Epoch 54/100\n",
            "782/782 [==============================] - 7s 9ms/step - loss: 0.4486 - accuracy: 0.8397 - f1_m: 0.8386 - precision_m: 0.8829 - recall_m: 0.7992 - val_loss: 0.5669 - val_accuracy: 0.8098 - val_f1_m: 0.8098 - val_precision_m: 0.8495 - val_recall_m: 0.7743\n",
            "Epoch 55/100\n",
            "782/782 [==============================] - 7s 9ms/step - loss: 0.4400 - accuracy: 0.8432 - f1_m: 0.8425 - precision_m: 0.8850 - recall_m: 0.8046 - val_loss: 0.5856 - val_accuracy: 0.8029 - val_f1_m: 0.8042 - val_precision_m: 0.8452 - val_recall_m: 0.7676\n",
            "Epoch 56/100\n",
            "782/782 [==============================] - 7s 9ms/step - loss: 0.4349 - accuracy: 0.8453 - f1_m: 0.8445 - precision_m: 0.8857 - recall_m: 0.8075 - val_loss: 0.5617 - val_accuracy: 0.8122 - val_f1_m: 0.8128 - val_precision_m: 0.8564 - val_recall_m: 0.7742\n",
            "Epoch 57/100\n",
            "782/782 [==============================] - 7s 9ms/step - loss: 0.4257 - accuracy: 0.8477 - f1_m: 0.8469 - precision_m: 0.8879 - recall_m: 0.8101 - val_loss: 0.5616 - val_accuracy: 0.8099 - val_f1_m: 0.8120 - val_precision_m: 0.8523 - val_recall_m: 0.7759\n",
            "Epoch 58/100\n",
            "782/782 [==============================] - 7s 9ms/step - loss: 0.4201 - accuracy: 0.8513 - f1_m: 0.8505 - precision_m: 0.8894 - recall_m: 0.8154 - val_loss: 0.5676 - val_accuracy: 0.8104 - val_f1_m: 0.8123 - val_precision_m: 0.8497 - val_recall_m: 0.7787\n",
            "Epoch 59/100\n",
            "782/782 [==============================] - 7s 9ms/step - loss: 0.4173 - accuracy: 0.8498 - f1_m: 0.8500 - precision_m: 0.8895 - recall_m: 0.8143 - val_loss: 0.5693 - val_accuracy: 0.8112 - val_f1_m: 0.8117 - val_precision_m: 0.8533 - val_recall_m: 0.7747\n",
            "Epoch 60/100\n",
            "782/782 [==============================] - 7s 9ms/step - loss: 0.4133 - accuracy: 0.8520 - f1_m: 0.8506 - precision_m: 0.8886 - recall_m: 0.8163 - val_loss: 0.5675 - val_accuracy: 0.8124 - val_f1_m: 0.8146 - val_precision_m: 0.8496 - val_recall_m: 0.7829\n",
            "Epoch 61/100\n",
            "782/782 [==============================] - 7s 9ms/step - loss: 0.4038 - accuracy: 0.8557 - f1_m: 0.8549 - precision_m: 0.8930 - recall_m: 0.8205 - val_loss: 0.5675 - val_accuracy: 0.8058 - val_f1_m: 0.8099 - val_precision_m: 0.8470 - val_recall_m: 0.7765\n",
            "Epoch 62/100\n",
            "782/782 [==============================] - 7s 9ms/step - loss: 0.4022 - accuracy: 0.8561 - f1_m: 0.8561 - precision_m: 0.8931 - recall_m: 0.8227 - val_loss: 0.5593 - val_accuracy: 0.8123 - val_f1_m: 0.8139 - val_precision_m: 0.8516 - val_recall_m: 0.7801\n",
            "Epoch 63/100\n",
            "782/782 [==============================] - 7s 9ms/step - loss: 0.3957 - accuracy: 0.8593 - f1_m: 0.8581 - precision_m: 0.8943 - recall_m: 0.8251 - val_loss: 0.5521 - val_accuracy: 0.8154 - val_f1_m: 0.8167 - val_precision_m: 0.8557 - val_recall_m: 0.7818\n",
            "Epoch 64/100\n",
            "782/782 [==============================] - 7s 9ms/step - loss: 0.3887 - accuracy: 0.8601 - f1_m: 0.8596 - precision_m: 0.8954 - recall_m: 0.8271 - val_loss: 0.5586 - val_accuracy: 0.8138 - val_f1_m: 0.8164 - val_precision_m: 0.8539 - val_recall_m: 0.7826\n",
            "Epoch 65/100\n",
            "782/782 [==============================] - 7s 9ms/step - loss: 0.3807 - accuracy: 0.8624 - f1_m: 0.8633 - precision_m: 0.8965 - recall_m: 0.8330 - val_loss: 0.5703 - val_accuracy: 0.8130 - val_f1_m: 0.8167 - val_precision_m: 0.8532 - val_recall_m: 0.7837\n",
            "Epoch 66/100\n",
            "782/782 [==============================] - 7s 9ms/step - loss: 0.3753 - accuracy: 0.8667 - f1_m: 0.8655 - precision_m: 0.8986 - recall_m: 0.8352 - val_loss: 0.5481 - val_accuracy: 0.8178 - val_f1_m: 0.8201 - val_precision_m: 0.8533 - val_recall_m: 0.7898\n",
            "Epoch 67/100\n",
            "782/782 [==============================] - 7s 9ms/step - loss: 0.3754 - accuracy: 0.8648 - f1_m: 0.8648 - precision_m: 0.8981 - recall_m: 0.8344 - val_loss: 0.5762 - val_accuracy: 0.8116 - val_f1_m: 0.8146 - val_precision_m: 0.8491 - val_recall_m: 0.7832\n",
            "Epoch 68/100\n",
            "782/782 [==============================] - 7s 9ms/step - loss: 0.3684 - accuracy: 0.8676 - f1_m: 0.8680 - precision_m: 0.9010 - recall_m: 0.8378 - val_loss: 0.5654 - val_accuracy: 0.8135 - val_f1_m: 0.8159 - val_precision_m: 0.8502 - val_recall_m: 0.7848\n",
            "Epoch 69/100\n",
            "782/782 [==============================] - 7s 9ms/step - loss: 0.3611 - accuracy: 0.8702 - f1_m: 0.8707 - precision_m: 0.9022 - recall_m: 0.8417 - val_loss: 0.5598 - val_accuracy: 0.8203 - val_f1_m: 0.8211 - val_precision_m: 0.8519 - val_recall_m: 0.7929\n",
            "Epoch 70/100\n",
            "782/782 [==============================] - 7s 9ms/step - loss: 0.3544 - accuracy: 0.8724 - f1_m: 0.8734 - precision_m: 0.9029 - recall_m: 0.8463 - val_loss: 0.5657 - val_accuracy: 0.8144 - val_f1_m: 0.8165 - val_precision_m: 0.8494 - val_recall_m: 0.7865\n",
            "Epoch 71/100\n",
            "782/782 [==============================] - 7s 9ms/step - loss: 0.3476 - accuracy: 0.8737 - f1_m: 0.8750 - precision_m: 0.9042 - recall_m: 0.8481 - val_loss: 0.5694 - val_accuracy: 0.8161 - val_f1_m: 0.8182 - val_precision_m: 0.8495 - val_recall_m: 0.7896\n",
            "Epoch 72/100\n",
            "782/782 [==============================] - 7s 9ms/step - loss: 0.3520 - accuracy: 0.8728 - f1_m: 0.8736 - precision_m: 0.9030 - recall_m: 0.8465 - val_loss: 0.5638 - val_accuracy: 0.8176 - val_f1_m: 0.8189 - val_precision_m: 0.8493 - val_recall_m: 0.7911\n",
            "Epoch 73/100\n",
            "782/782 [==============================] - 7s 9ms/step - loss: 0.3426 - accuracy: 0.8768 - f1_m: 0.8763 - precision_m: 0.9052 - recall_m: 0.8496 - val_loss: 0.5768 - val_accuracy: 0.8193 - val_f1_m: 0.8205 - val_precision_m: 0.8482 - val_recall_m: 0.7950\n",
            "Epoch 74/100\n",
            "782/782 [==============================] - 7s 9ms/step - loss: 0.3364 - accuracy: 0.8794 - f1_m: 0.8787 - precision_m: 0.9057 - recall_m: 0.8536 - val_loss: 0.5597 - val_accuracy: 0.8183 - val_f1_m: 0.8214 - val_precision_m: 0.8508 - val_recall_m: 0.7944\n",
            "Epoch 75/100\n",
            "782/782 [==============================] - 7s 9ms/step - loss: 0.3294 - accuracy: 0.8803 - f1_m: 0.8799 - precision_m: 0.9071 - recall_m: 0.8547 - val_loss: 0.5581 - val_accuracy: 0.8220 - val_f1_m: 0.8253 - val_precision_m: 0.8570 - val_recall_m: 0.7963\n",
            "Epoch 76/100\n",
            "782/782 [==============================] - 7s 9ms/step - loss: 0.3261 - accuracy: 0.8819 - f1_m: 0.8817 - precision_m: 0.9084 - recall_m: 0.8568 - val_loss: 0.5861 - val_accuracy: 0.8134 - val_f1_m: 0.8160 - val_precision_m: 0.8444 - val_recall_m: 0.7898\n",
            "Epoch 77/100\n",
            "782/782 [==============================] - 7s 9ms/step - loss: 0.3298 - accuracy: 0.8824 - f1_m: 0.8822 - precision_m: 0.9088 - recall_m: 0.8575 - val_loss: 0.5654 - val_accuracy: 0.8169 - val_f1_m: 0.8202 - val_precision_m: 0.8532 - val_recall_m: 0.7902\n",
            "Epoch 78/100\n",
            "782/782 [==============================] - 7s 9ms/step - loss: 0.3195 - accuracy: 0.8841 - f1_m: 0.8841 - precision_m: 0.9097 - recall_m: 0.8602 - val_loss: 0.5727 - val_accuracy: 0.8209 - val_f1_m: 0.8232 - val_precision_m: 0.8507 - val_recall_m: 0.7978\n",
            "Epoch 79/100\n",
            "782/782 [==============================] - 7s 9ms/step - loss: 0.3146 - accuracy: 0.8861 - f1_m: 0.8868 - precision_m: 0.9118 - recall_m: 0.8636 - val_loss: 0.5637 - val_accuracy: 0.8231 - val_f1_m: 0.8231 - val_precision_m: 0.8506 - val_recall_m: 0.7978\n",
            "Epoch 80/100\n",
            "782/782 [==============================] - 7s 9ms/step - loss: 0.3166 - accuracy: 0.8855 - f1_m: 0.8854 - precision_m: 0.9103 - recall_m: 0.8622 - val_loss: 0.5658 - val_accuracy: 0.8250 - val_f1_m: 0.8249 - val_precision_m: 0.8513 - val_recall_m: 0.8004\n",
            "Epoch 81/100\n",
            "782/782 [==============================] - 7s 9ms/step - loss: 0.3060 - accuracy: 0.8896 - f1_m: 0.8899 - precision_m: 0.9129 - recall_m: 0.8685 - val_loss: 0.5877 - val_accuracy: 0.8191 - val_f1_m: 0.8219 - val_precision_m: 0.8474 - val_recall_m: 0.7983\n",
            "Epoch 82/100\n",
            "782/782 [==============================] - 7s 9ms/step - loss: 0.3012 - accuracy: 0.8915 - f1_m: 0.8915 - precision_m: 0.9143 - recall_m: 0.8702 - val_loss: 0.5695 - val_accuracy: 0.8239 - val_f1_m: 0.8259 - val_precision_m: 0.8513 - val_recall_m: 0.8024\n",
            "Epoch 83/100\n",
            "782/782 [==============================] - 7s 9ms/step - loss: 0.2992 - accuracy: 0.8919 - f1_m: 0.8921 - precision_m: 0.9145 - recall_m: 0.8711 - val_loss: 0.5736 - val_accuracy: 0.8214 - val_f1_m: 0.8250 - val_precision_m: 0.8521 - val_recall_m: 0.8000\n",
            "Epoch 84/100\n",
            "782/782 [==============================] - 7s 9ms/step - loss: 0.2967 - accuracy: 0.8916 - f1_m: 0.8922 - precision_m: 0.9156 - recall_m: 0.8703 - val_loss: 0.5699 - val_accuracy: 0.8223 - val_f1_m: 0.8254 - val_precision_m: 0.8501 - val_recall_m: 0.8023\n",
            "Epoch 85/100\n",
            "782/782 [==============================] - 7s 9ms/step - loss: 0.2921 - accuracy: 0.8947 - f1_m: 0.8952 - precision_m: 0.9165 - recall_m: 0.8752 - val_loss: 0.5678 - val_accuracy: 0.8205 - val_f1_m: 0.8236 - val_precision_m: 0.8487 - val_recall_m: 0.8003\n",
            "Epoch 86/100\n",
            "782/782 [==============================] - 7s 9ms/step - loss: 0.2918 - accuracy: 0.8935 - f1_m: 0.8936 - precision_m: 0.9156 - recall_m: 0.8729 - val_loss: 0.5702 - val_accuracy: 0.8246 - val_f1_m: 0.8258 - val_precision_m: 0.8474 - val_recall_m: 0.8056\n",
            "Epoch 87/100\n",
            "782/782 [==============================] - 7s 9ms/step - loss: 0.2843 - accuracy: 0.8978 - f1_m: 0.8972 - precision_m: 0.9184 - recall_m: 0.8773 - val_loss: 0.5732 - val_accuracy: 0.8243 - val_f1_m: 0.8279 - val_precision_m: 0.8517 - val_recall_m: 0.8057\n",
            "Epoch 88/100\n",
            "782/782 [==============================] - 7s 9ms/step - loss: 0.2808 - accuracy: 0.8980 - f1_m: 0.8981 - precision_m: 0.9192 - recall_m: 0.8782 - val_loss: 0.5802 - val_accuracy: 0.8207 - val_f1_m: 0.8235 - val_precision_m: 0.8476 - val_recall_m: 0.8011\n",
            "Epoch 89/100\n",
            "782/782 [==============================] - 7s 9ms/step - loss: 0.2776 - accuracy: 0.9003 - f1_m: 0.9008 - precision_m: 0.9199 - recall_m: 0.8827 - val_loss: 0.5808 - val_accuracy: 0.8232 - val_f1_m: 0.8251 - val_precision_m: 0.8494 - val_recall_m: 0.8024\n",
            "Epoch 90/100\n",
            "782/782 [==============================] - 7s 9ms/step - loss: 0.2731 - accuracy: 0.9011 - f1_m: 0.9015 - precision_m: 0.9209 - recall_m: 0.8831 - val_loss: 0.5816 - val_accuracy: 0.8219 - val_f1_m: 0.8249 - val_precision_m: 0.8486 - val_recall_m: 0.8028\n",
            "Epoch 91/100\n",
            "782/782 [==============================] - 7s 9ms/step - loss: 0.2694 - accuracy: 0.9013 - f1_m: 0.9013 - precision_m: 0.9209 - recall_m: 0.8829 - val_loss: 0.5861 - val_accuracy: 0.8241 - val_f1_m: 0.8259 - val_precision_m: 0.8488 - val_recall_m: 0.8045\n",
            "Epoch 92/100\n",
            "782/782 [==============================] - 7s 9ms/step - loss: 0.2671 - accuracy: 0.9037 - f1_m: 0.9050 - precision_m: 0.9236 - recall_m: 0.8875 - val_loss: 0.5823 - val_accuracy: 0.8251 - val_f1_m: 0.8279 - val_precision_m: 0.8503 - val_recall_m: 0.8070\n",
            "Epoch 93/100\n",
            "782/782 [==============================] - 7s 9ms/step - loss: 0.2622 - accuracy: 0.9049 - f1_m: 0.9052 - precision_m: 0.9234 - recall_m: 0.8879 - val_loss: 0.5868 - val_accuracy: 0.8249 - val_f1_m: 0.8286 - val_precision_m: 0.8505 - val_recall_m: 0.8081\n",
            "Epoch 94/100\n",
            "782/782 [==============================] - 7s 9ms/step - loss: 0.2590 - accuracy: 0.9068 - f1_m: 0.9073 - precision_m: 0.9252 - recall_m: 0.8903 - val_loss: 0.5959 - val_accuracy: 0.8260 - val_f1_m: 0.8281 - val_precision_m: 0.8517 - val_recall_m: 0.8061\n",
            "Epoch 95/100\n",
            "782/782 [==============================] - 7s 9ms/step - loss: 0.2602 - accuracy: 0.9044 - f1_m: 0.9056 - precision_m: 0.9232 - recall_m: 0.8889 - val_loss: 0.6010 - val_accuracy: 0.8251 - val_f1_m: 0.8275 - val_precision_m: 0.8476 - val_recall_m: 0.8086\n",
            "Epoch 96/100\n",
            "782/782 [==============================] - 7s 9ms/step - loss: 0.2547 - accuracy: 0.9072 - f1_m: 0.9082 - precision_m: 0.9252 - recall_m: 0.8920 - val_loss: 0.6031 - val_accuracy: 0.8260 - val_f1_m: 0.8269 - val_precision_m: 0.8468 - val_recall_m: 0.8082\n",
            "Epoch 97/100\n",
            "782/782 [==============================] - 7s 9ms/step - loss: 0.2483 - accuracy: 0.9077 - f1_m: 0.9083 - precision_m: 0.9250 - recall_m: 0.8925 - val_loss: 0.5960 - val_accuracy: 0.8257 - val_f1_m: 0.8280 - val_precision_m: 0.8485 - val_recall_m: 0.8088\n",
            "Epoch 98/100\n",
            "782/782 [==============================] - 7s 9ms/step - loss: 0.2516 - accuracy: 0.9083 - f1_m: 0.9082 - precision_m: 0.9248 - recall_m: 0.8924 - val_loss: 0.5952 - val_accuracy: 0.8238 - val_f1_m: 0.8265 - val_precision_m: 0.8479 - val_recall_m: 0.8065\n",
            "Epoch 99/100\n",
            "782/782 [==============================] - 7s 9ms/step - loss: 0.2465 - accuracy: 0.9119 - f1_m: 0.9127 - precision_m: 0.9288 - recall_m: 0.8974 - val_loss: 0.5939 - val_accuracy: 0.8230 - val_f1_m: 0.8266 - val_precision_m: 0.8447 - val_recall_m: 0.8094\n",
            "Epoch 100/100\n",
            "782/782 [==============================] - 7s 9ms/step - loss: 0.2407 - accuracy: 0.9121 - f1_m: 0.9124 - precision_m: 0.9285 - recall_m: 0.8972 - val_loss: 0.6058 - val_accuracy: 0.8256 - val_f1_m: 0.8285 - val_precision_m: 0.8488 - val_recall_m: 0.8094\n"
          ]
        }
      ]
    },
    {
      "cell_type": "code",
      "source": [
        "# evaluate the model\n",
        "loss, acc, f1_score, precision, recall = model.evaluate(testX, testY, verbose=0)\n",
        "print(f\"\\nLOSS: {loss}, ACCURACY: {acc}, F1_SCORE: {f1_score}, PRECISION: {precision}, RECALL: {recall}\\n\")\n",
        "\n",
        "# learning curves\n",
        "summarize_diagnostics(history)"
      ],
      "metadata": {
        "colab": {
          "base_uri": "https://localhost:8080/",
          "height": 361
        },
        "id": "2YycVyUxbP0C",
        "outputId": "252c38f8-8e23-4a84-c89d-c606809bcdf1"
      },
      "execution_count": 23,
      "outputs": [
        {
          "output_type": "stream",
          "name": "stdout",
          "text": [
            "\n",
            "LOSS: 0.605827808380127, ACCURACY: 0.8256000280380249, F1_SCORE: 0.8284942507743835, PRECISION: 0.8489955067634583, RECALL: 0.8096046447753906\n",
            "\n"
          ]
        },
        {
          "output_type": "display_data",
          "data": {
            "text/plain": [
              "<Figure size 432x288 with 1 Axes>"
            ],
            "image/png": "[encoded data removed]"
          },
          "metadata": {
            "needs_background": "light"
          }
        },
        {
          "output_type": "display_data",
          "data": {
            "text/plain": [
              "<Figure size 432x288 with 1 Axes>"
            ],
            "image/png": "[encoded data removed]"
          },
          "metadata": {
            "needs_background": "light"
          }
        }
      ]
    },
    {
      "cell_type": "code",
      "source": [
        "trainX16, trainY16, testX16, testY16 = load_dataset(16, 16)\n",
        "testX16 = image_resizer(32, 32, testX16)\n",
        "trainX16, testX16 = prep_pixels(trainX16, testX16)\n",
        "# evaluate the model\n",
        "loss, acc, f1_score, precision, recall = model.evaluate(testX16, testY16, verbose=0)\n",
        "print(f\"\\nLOSS: {loss}, ACCURACY: {acc}, F1_SCORE: {f1_score}, PRECISION: {precision}, RECALL: {recall}\\n\")"
      ],
      "metadata": {
        "colab": {
          "base_uri": "https://localhost:8080/",
          "height": 0
        },
        "id": "b2nZEj1cgr6P",
        "outputId": "cd2dfe66-4f47-408e-9519-46e02c59b528"
      },
      "execution_count": 28,
      "outputs": [
        {
          "output_type": "stream",
          "name": "stdout",
          "text": [
            "\n",
            "LOSS: 2.0250144004821777, ACCURACY: 0.4848000109195709, F1_SCORE: 0.48083916306495667, PRECISION: 0.5226601362228394, RECALL: 0.44648560881614685\n",
            "\n"
          ]
        }
      ]
    },
    {
      "cell_type": "code",
      "source": [
        "trainX8, trainY8, testX8, testY8 = load_dataset(8, 8)\n",
        "testX8 = image_resizer(32, 32, testX16)\n",
        "trainX8, testX8 = prep_pixels(trainX8, testX8)\n",
        "# evaluate the model\n",
        "loss, acc, f1_score, precision, recall = model.evaluate(testX8, testY8, verbose=0)\n",
        "print(f\"\\nLOSS: {loss}, ACCURACY: {acc}, F1_SCORE: {f1_score}, PRECISION: {precision}, RECALL: {recall}\\n\")"
      ],
      "metadata": {
        "colab": {
          "base_uri": "https://localhost:8080/",
          "height": 0
        },
        "id": "A4A_GLcdhldt",
        "outputId": "98d45c44-4d4c-4abd-9443-395649e0edf9"
      },
      "execution_count": 29,
      "outputs": [
        {
          "output_type": "stream",
          "name": "stdout",
          "text": [
            "\n",
            "LOSS: 3.795569896697998, ACCURACY: 0.10000000149011612, F1_SCORE: 0.037637487053871155, PRECISION: 0.12782639265060425, RECALL: 0.02256389707326889\n",
            "\n"
          ]
        }
      ]
    },
    {
      "cell_type": "markdown",
      "source": [
        "## TVTV"
      ],
      "metadata": {
        "id": "lRpfkN_Rycsm"
      }
    },
    {
      "cell_type": "code",
      "source": [
        "# load dataset\n",
        "trainX, trainY, testX, testY = load_dataset(32, 32)\n",
        "# prepare pixel data\n",
        "trainX, testX = prep_pixels(trainX, testX)\n",
        "# define model\n",
        "model = define_model()\n",
        "# fit model\n",
        "history = model.fit(trainX, trainY, epochs=100, batch_size=64, validation_data=(testX, testY), verbose=0)\n",
        "\n",
        "# evaluate the model\n",
        "loss, acc, f1_score, precision, recall = model.evaluate(testX, testY, verbose=0)\n",
        "print(f\"\\nLOSS: {loss}, ACCURACY: {acc}, F1_SCORE: {f1_score}, PRECISION: {precision}, RECALL: {recall}\\n\")\n",
        "\n",
        "# learning curves\n",
        "summarize_diagnostics(history)"
      ],
      "metadata": {
        "colab": {
          "base_uri": "https://localhost:8080/",
          "height": 396
        },
        "id": "yMzWI4vsnsnn",
        "outputId": "19e75585-2427-4d5d-f130-5df17c295ae5"
      },
      "execution_count": 30,
      "outputs": [
        {
          "output_type": "stream",
          "name": "stderr",
          "text": [
            "/usr/local/lib/python3.7/dist-packages/keras/optimizers/optimizer_v2/gradient_descent.py:108: UserWarning: The `lr` argument is deprecated, use `learning_rate` instead.\n",
            "  super(SGD, self).__init__(name, **kwargs)\n"
          ]
        },
        {
          "output_type": "stream",
          "name": "stdout",
          "text": [
            "\n",
            "LOSS: 0.5750920176506042, ACCURACY: 0.8295000195503235, F1_SCORE: 0.8326408267021179, PRECISION: 0.8528531789779663, RECALL: 0.8139976263046265\n",
            "\n"
          ]
        },
        {
          "output_type": "display_data",
          "data": {
            "text/plain": [
              "<Figure size 432x288 with 1 Axes>"
            ],
            "image/png": "[encoded data removed]"
          },
          "metadata": {
            "needs_background": "light"
          }
        },
        {
          "output_type": "display_data",
          "data": {
            "text/plain": [
              "<Figure size 432x288 with 1 Axes>"
            ],
            "image/png": "[encoded data removed]"
          },
          "metadata": {
            "needs_background": "light"
          }
        }
      ]
    },
    {
      "cell_type": "code",
      "source": [
        "# load dataset\n",
        "trainX, trainY, testX, testY = load_dataset(16, 16)\n",
        "# prepare pixel data\n",
        "trainX, testX = prep_pixels(trainX, testX)\n",
        "# define model\n",
        "model = define_model()\n",
        "# fit model\n",
        "history = model.fit(trainX, trainY, epochs=100, batch_size=64, validation_data=(testX, testY), verbose=0)\n",
        "\n",
        "# evaluate the model\n",
        "loss, acc, f1_score, precision, recall = model.evaluate(testX, testY, verbose=0)\n",
        "print(f\"\\nLOSS: {loss}, ACCURACY: {acc}, F1_SCORE: {f1_score}, PRECISION: {precision}, RECALL: {recall}\\n\")\n",
        "\n",
        "# learning curves\n",
        "summarize_diagnostics(history)"
      ],
      "metadata": {
        "colab": {
          "base_uri": "https://localhost:8080/",
          "height": 361
        },
        "id": "W2FzhdlNo-_G",
        "outputId": "cc317476-7fc9-4a2a-87c5-e05b66a58ca2"
      },
      "execution_count": 31,
      "outputs": [
        {
          "output_type": "stream",
          "name": "stdout",
          "text": [
            "\n",
            "LOSS: 0.7148781418800354, ACCURACY: 0.7577999830245972, F1_SCORE: 0.7563764452934265, PRECISION: 0.8110974431037903, RECALL: 0.7101637125015259\n",
            "\n"
          ]
        },
        {
          "output_type": "display_data",
          "data": {
            "text/plain": [
              "<Figure size 432x288 with 1 Axes>"
            ],
            "image/png": "[encoded data removed]"
          },
          "metadata": {
            "needs_background": "light"
          }
        },
        {
          "output_type": "display_data",
          "data": {
            "text/plain": [
              "<Figure size 432x288 with 1 Axes>"
            ],
            "image/png": "[encoded data removed]"
          },
          "metadata": {
            "needs_background": "light"
          }
        }
      ]
    },
    {
      "cell_type": "code",
      "source": [
        "# load dataset\n",
        "trainX, trainY, testX, testY = load_dataset(8, 8)\n",
        "# prepare pixel data\n",
        "trainX, testX = prep_pixels(trainX, testX)\n",
        "# define model\n",
        "model = define_model()\n",
        "# fit model\n",
        "history = model.fit(trainX, trainY, epochs=100, batch_size=64, validation_data=(testX, testY), verbose=0)\n",
        "\n",
        "# evaluate the model\n",
        "loss, acc, f1_score, precision, recall = model.evaluate(testX, testY, verbose=0)\n",
        "print(f\"\\nLOSS: {loss}, ACCURACY: {acc}, F1_SCORE: {f1_score}, PRECISION: {precision}, RECALL: {recall}\\n\")\n",
        "\n",
        "# learning curves\n",
        "summarize_diagnostics(history)"
      ],
      "metadata": {
        "colab": {
          "base_uri": "https://localhost:8080/",
          "height": 361
        },
        "id": "c46bl0Xxo_rW",
        "outputId": "bbee656e-b66c-4f8e-ea5b-c64d763c14a4"
      },
      "execution_count": 32,
      "outputs": [
        {
          "output_type": "stream",
          "name": "stdout",
          "text": [
            "\n",
            "LOSS: 1.0892610549926758, ACCURACY: 0.6169000267982483, F1_SCORE: 0.5919186472892761, PRECISION: 0.7319719195365906, RECALL: 0.49980032444000244\n",
            "\n"
          ]
        },
        {
          "output_type": "display_data",
          "data": {
            "text/plain": [
              "<Figure size 432x288 with 1 Axes>"
            ],
            "image/png": "[encoded data removed]"
          },
          "metadata": {
            "needs_background": "light"
          }
        },
        {
          "output_type": "display_data",
          "data": {
            "text/plain": [
              "<Figure size 432x288 with 1 Axes>"
            ],
            "image/png": "[encoded data removed]"
          },
          "metadata": {
            "needs_background": "light"
          }
        }
      ]
    }
  ]
}