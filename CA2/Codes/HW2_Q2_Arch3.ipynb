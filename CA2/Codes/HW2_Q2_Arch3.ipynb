{
  "nbformat": 4,
  "nbformat_minor": 0,
  "metadata": {
    "colab": {
      "provenance": []
    },
    "kernelspec": {
      "name": "python3",
      "display_name": "Python 3"
    },
    "language_info": {
      "name": "python"
    },
    "accelerator": "GPU",
    "gpuClass": "standard",
    "widgets": {
      "application/vnd.jupyter.widget-state+json": {
        "c1956366c35a43a4815c2014f892c3ab": {
          "model_module": "@jupyter-widgets/controls",
          "model_name": "HBoxModel",
          "model_module_version": "1.5.0",
          "state": {
            "_dom_classes": [],
            "_model_module": "@jupyter-widgets/controls",
            "_model_module_version": "1.5.0",
            "_model_name": "HBoxModel",
            "_view_count": null,
            "_view_module": "@jupyter-widgets/controls",
            "_view_module_version": "1.5.0",
            "_view_name": "HBoxView",
            "box_style": "",
            "children": [
              "IPY_MODEL_01402c2eeb984a57a87116612bae2b1d",
              "IPY_MODEL_d05d155bb99f46ca8ea7d1d3e8cbfc14",
              "IPY_MODEL_1cab948e68f04b20887ecee0268ca39e"
            ],
            "layout": "IPY_MODEL_fad6659229744f84961754b1a671d268"
          }
        },
        "01402c2eeb984a57a87116612bae2b1d": {
          "model_module": "@jupyter-widgets/controls",
          "model_name": "HTMLModel",
          "model_module_version": "1.5.0",
          "state": {
            "_dom_classes": [],
            "_model_module": "@jupyter-widgets/controls",
            "_model_module_version": "1.5.0",
            "_model_name": "HTMLModel",
            "_view_count": null,
            "_view_module": "@jupyter-widgets/controls",
            "_view_module_version": "1.5.0",
            "_view_name": "HTMLView",
            "description": "",
            "description_tooltip": null,
            "layout": "IPY_MODEL_7d4786f8a82e49649300334cfddac57d",
            "placeholder": "​",
            "style": "IPY_MODEL_94011d69f1904338a01738b946f0fdcd",
            "value": "100%"
          }
        },
        "d05d155bb99f46ca8ea7d1d3e8cbfc14": {
          "model_module": "@jupyter-widgets/controls",
          "model_name": "FloatProgressModel",
          "model_module_version": "1.5.0",
          "state": {
            "_dom_classes": [],
            "_model_module": "@jupyter-widgets/controls",
            "_model_module_version": "1.5.0",
            "_model_name": "FloatProgressModel",
            "_view_count": null,
            "_view_module": "@jupyter-widgets/controls",
            "_view_module_version": "1.5.0",
            "_view_name": "ProgressView",
            "bar_style": "success",
            "description": "",
            "description_tooltip": null,
            "layout": "IPY_MODEL_091aa6c039ee49f09b0b5a7722d9d956",
            "max": 26421880,
            "min": 0,
            "orientation": "horizontal",
            "style": "IPY_MODEL_e6e97f96d6cb499f8960122efdfd866a",
            "value": 26421880
          }
        },
        "1cab948e68f04b20887ecee0268ca39e": {
          "model_module": "@jupyter-widgets/controls",
          "model_name": "HTMLModel",
          "model_module_version": "1.5.0",
          "state": {
            "_dom_classes": [],
            "_model_module": "@jupyter-widgets/controls",
            "_model_module_version": "1.5.0",
            "_model_name": "HTMLModel",
            "_view_count": null,
            "_view_module": "@jupyter-widgets/controls",
            "_view_module_version": "1.5.0",
            "_view_name": "HTMLView",
            "description": "",
            "description_tooltip": null,
            "layout": "IPY_MODEL_8af3ab8b950244ec9756e5fa58082191",
            "placeholder": "​",
            "style": "IPY_MODEL_66545455d0704d929678067255da6509",
            "value": " 26421880/26421880 [00:02&lt;00:00, 19547015.93it/s]"
          }
        },
        "fad6659229744f84961754b1a671d268": {
          "model_module": "@jupyter-widgets/base",
          "model_name": "LayoutModel",
          "model_module_version": "1.2.0",
          "state": {
            "_model_module": "@jupyter-widgets/base",
            "_model_module_version": "1.2.0",
            "_model_name": "LayoutModel",
            "_view_count": null,
            "_view_module": "@jupyter-widgets/base",
            "_view_module_version": "1.2.0",
            "_view_name": "LayoutView",
            "align_content": null,
            "align_items": null,
            "align_self": null,
            "border": null,
            "bottom": null,
            "display": null,
            "flex": null,
            "flex_flow": null,
            "grid_area": null,
            "grid_auto_columns": null,
            "grid_auto_flow": null,
            "grid_auto_rows": null,
            "grid_column": null,
            "grid_gap": null,
            "grid_row": null,
            "grid_template_areas": null,
            "grid_template_columns": null,
            "grid_template_rows": null,
            "height": null,
            "justify_content": null,
            "justify_items": null,
            "left": null,
            "margin": null,
            "max_height": null,
            "max_width": null,
            "min_height": null,
            "min_width": null,
            "object_fit": null,
            "object_position": null,
            "order": null,
            "overflow": null,
            "overflow_x": null,
            "overflow_y": null,
            "padding": null,
            "right": null,
            "top": null,
            "visibility": null,
            "width": null
          }
        },
        "7d4786f8a82e49649300334cfddac57d": {
          "model_module": "@jupyter-widgets/base",
          "model_name": "LayoutModel",
          "model_module_version": "1.2.0",
          "state": {
            "_model_module": "@jupyter-widgets/base",
            "_model_module_version": "1.2.0",
            "_model_name": "LayoutModel",
            "_view_count": null,
            "_view_module": "@jupyter-widgets/base",
            "_view_module_version": "1.2.0",
            "_view_name": "LayoutView",
            "align_content": null,
            "align_items": null,
            "align_self": null,
            "border": null,
            "bottom": null,
            "display": null,
            "flex": null,
            "flex_flow": null,
            "grid_area": null,
            "grid_auto_columns": null,
            "grid_auto_flow": null,
            "grid_auto_rows": null,
            "grid_column": null,
            "grid_gap": null,
            "grid_row": null,
            "grid_template_areas": null,
            "grid_template_columns": null,
            "grid_template_rows": null,
            "height": null,
            "justify_content": null,
            "justify_items": null,
            "left": null,
            "margin": null,
            "max_height": null,
            "max_width": null,
            "min_height": null,
            "min_width": null,
            "object_fit": null,
            "object_position": null,
            "order": null,
            "overflow": null,
            "overflow_x": null,
            "overflow_y": null,
            "padding": null,
            "right": null,
            "top": null,
            "visibility": null,
            "width": null
          }
        },
        "94011d69f1904338a01738b946f0fdcd": {
          "model_module": "@jupyter-widgets/controls",
          "model_name": "DescriptionStyleModel",
          "model_module_version": "1.5.0",
          "state": {
            "_model_module": "@jupyter-widgets/controls",
            "_model_module_version": "1.5.0",
            "_model_name": "DescriptionStyleModel",
            "_view_count": null,
            "_view_module": "@jupyter-widgets/base",
            "_view_module_version": "1.2.0",
            "_view_name": "StyleView",
            "description_width": ""
          }
        },
        "091aa6c039ee49f09b0b5a7722d9d956": {
          "model_module": "@jupyter-widgets/base",
          "model_name": "LayoutModel",
          "model_module_version": "1.2.0",
          "state": {
            "_model_module": "@jupyter-widgets/base",
            "_model_module_version": "1.2.0",
            "_model_name": "LayoutModel",
            "_view_count": null,
            "_view_module": "@jupyter-widgets/base",
            "_view_module_version": "1.2.0",
            "_view_name": "LayoutView",
            "align_content": null,
            "align_items": null,
            "align_self": null,
            "border": null,
            "bottom": null,
            "display": null,
            "flex": null,
            "flex_flow": null,
            "grid_area": null,
            "grid_auto_columns": null,
            "grid_auto_flow": null,
            "grid_auto_rows": null,
            "grid_column": null,
            "grid_gap": null,
            "grid_row": null,
            "grid_template_areas": null,
            "grid_template_columns": null,
            "grid_template_rows": null,
            "height": null,
            "justify_content": null,
            "justify_items": null,
            "left": null,
            "margin": null,
            "max_height": null,
            "max_width": null,
            "min_height": null,
            "min_width": null,
            "object_fit": null,
            "object_position": null,
            "order": null,
            "overflow": null,
            "overflow_x": null,
            "overflow_y": null,
            "padding": null,
            "right": null,
            "top": null,
            "visibility": null,
            "width": null
          }
        },
        "e6e97f96d6cb499f8960122efdfd866a": {
          "model_module": "@jupyter-widgets/controls",
          "model_name": "ProgressStyleModel",
          "model_module_version": "1.5.0",
          "state": {
            "_model_module": "@jupyter-widgets/controls",
            "_model_module_version": "1.5.0",
            "_model_name": "ProgressStyleModel",
            "_view_count": null,
            "_view_module": "@jupyter-widgets/base",
            "_view_module_version": "1.2.0",
            "_view_name": "StyleView",
            "bar_color": null,
            "description_width": ""
          }
        },
        "8af3ab8b950244ec9756e5fa58082191": {
          "model_module": "@jupyter-widgets/base",
          "model_name": "LayoutModel",
          "model_module_version": "1.2.0",
          "state": {
            "_model_module": "@jupyter-widgets/base",
            "_model_module_version": "1.2.0",
            "_model_name": "LayoutModel",
            "_view_count": null,
            "_view_module": "@jupyter-widgets/base",
            "_view_module_version": "1.2.0",
            "_view_name": "LayoutView",
            "align_content": null,
            "align_items": null,
            "align_self": null,
            "border": null,
            "bottom": null,
            "display": null,
            "flex": null,
            "flex_flow": null,
            "grid_area": null,
            "grid_auto_columns": null,
            "grid_auto_flow": null,
            "grid_auto_rows": null,
            "grid_column": null,
            "grid_gap": null,
            "grid_row": null,
            "grid_template_areas": null,
            "grid_template_columns": null,
            "grid_template_rows": null,
            "height": null,
            "justify_content": null,
            "justify_items": null,
            "left": null,
            "margin": null,
            "max_height": null,
            "max_width": null,
            "min_height": null,
            "min_width": null,
            "object_fit": null,
            "object_position": null,
            "order": null,
            "overflow": null,
            "overflow_x": null,
            "overflow_y": null,
            "padding": null,
            "right": null,
            "top": null,
            "visibility": null,
            "width": null
          }
        },
        "66545455d0704d929678067255da6509": {
          "model_module": "@jupyter-widgets/controls",
          "model_name": "DescriptionStyleModel",
          "model_module_version": "1.5.0",
          "state": {
            "_model_module": "@jupyter-widgets/controls",
            "_model_module_version": "1.5.0",
            "_model_name": "DescriptionStyleModel",
            "_view_count": null,
            "_view_module": "@jupyter-widgets/base",
            "_view_module_version": "1.2.0",
            "_view_name": "StyleView",
            "description_width": ""
          }
        },
        "7cfaca9ae5864983bc96e7c330c8dc33": {
          "model_module": "@jupyter-widgets/controls",
          "model_name": "HBoxModel",
          "model_module_version": "1.5.0",
          "state": {
            "_dom_classes": [],
            "_model_module": "@jupyter-widgets/controls",
            "_model_module_version": "1.5.0",
            "_model_name": "HBoxModel",
            "_view_count": null,
            "_view_module": "@jupyter-widgets/controls",
            "_view_module_version": "1.5.0",
            "_view_name": "HBoxView",
            "box_style": "",
            "children": [
              "IPY_MODEL_710a9bd92f2e45acb0a9b4dd8f095ab2",
              "IPY_MODEL_222cbdd5b59746e6ac435cfccd7ee111",
              "IPY_MODEL_3574b7cc2ae14c3895be2c0de39074d1"
            ],
            "layout": "IPY_MODEL_a055f94b5c78412581a09744bb190b66"
          }
        },
        "710a9bd92f2e45acb0a9b4dd8f095ab2": {
          "model_module": "@jupyter-widgets/controls",
          "model_name": "HTMLModel",
          "model_module_version": "1.5.0",
          "state": {
            "_dom_classes": [],
            "_model_module": "@jupyter-widgets/controls",
            "_model_module_version": "1.5.0",
            "_model_name": "HTMLModel",
            "_view_count": null,
            "_view_module": "@jupyter-widgets/controls",
            "_view_module_version": "1.5.0",
            "_view_name": "HTMLView",
            "description": "",
            "description_tooltip": null,
            "layout": "IPY_MODEL_220c7bca14a847eda39d9de957e0b22e",
            "placeholder": "​",
            "style": "IPY_MODEL_3c89c21d738146088a389b8326b62b12",
            "value": "100%"
          }
        },
        "222cbdd5b59746e6ac435cfccd7ee111": {
          "model_module": "@jupyter-widgets/controls",
          "model_name": "FloatProgressModel",
          "model_module_version": "1.5.0",
          "state": {
            "_dom_classes": [],
            "_model_module": "@jupyter-widgets/controls",
            "_model_module_version": "1.5.0",
            "_model_name": "FloatProgressModel",
            "_view_count": null,
            "_view_module": "@jupyter-widgets/controls",
            "_view_module_version": "1.5.0",
            "_view_name": "ProgressView",
            "bar_style": "success",
            "description": "",
            "description_tooltip": null,
            "layout": "IPY_MODEL_56db5386099f4b9eb39213774338cb02",
            "max": 29515,
            "min": 0,
            "orientation": "horizontal",
            "style": "IPY_MODEL_d11430a470154724a29bcbc9ab73a4cb",
            "value": 29515
          }
        },
        "3574b7cc2ae14c3895be2c0de39074d1": {
          "model_module": "@jupyter-widgets/controls",
          "model_name": "HTMLModel",
          "model_module_version": "1.5.0",
          "state": {
            "_dom_classes": [],
            "_model_module": "@jupyter-widgets/controls",
            "_model_module_version": "1.5.0",
            "_model_name": "HTMLModel",
            "_view_count": null,
            "_view_module": "@jupyter-widgets/controls",
            "_view_module_version": "1.5.0",
            "_view_name": "HTMLView",
            "description": "",
            "description_tooltip": null,
            "layout": "IPY_MODEL_4083e08025ec493ba080b92f6252bd09",
            "placeholder": "​",
            "style": "IPY_MODEL_33430bce98a2421b80f7fbad9ce6b889",
            "value": " 29515/29515 [00:00&lt;00:00, 202059.99it/s]"
          }
        },
        "a055f94b5c78412581a09744bb190b66": {
          "model_module": "@jupyter-widgets/base",
          "model_name": "LayoutModel",
          "model_module_version": "1.2.0",
          "state": {
            "_model_module": "@jupyter-widgets/base",
            "_model_module_version": "1.2.0",
            "_model_name": "LayoutModel",
            "_view_count": null,
            "_view_module": "@jupyter-widgets/base",
            "_view_module_version": "1.2.0",
            "_view_name": "LayoutView",
            "align_content": null,
            "align_items": null,
            "align_self": null,
            "border": null,
            "bottom": null,
            "display": null,
            "flex": null,
            "flex_flow": null,
            "grid_area": null,
            "grid_auto_columns": null,
            "grid_auto_flow": null,
            "grid_auto_rows": null,
            "grid_column": null,
            "grid_gap": null,
            "grid_row": null,
            "grid_template_areas": null,
            "grid_template_columns": null,
            "grid_template_rows": null,
            "height": null,
            "justify_content": null,
            "justify_items": null,
            "left": null,
            "margin": null,
            "max_height": null,
            "max_width": null,
            "min_height": null,
            "min_width": null,
            "object_fit": null,
            "object_position": null,
            "order": null,
            "overflow": null,
            "overflow_x": null,
            "overflow_y": null,
            "padding": null,
            "right": null,
            "top": null,
            "visibility": null,
            "width": null
          }
        },
        "220c7bca14a847eda39d9de957e0b22e": {
          "model_module": "@jupyter-widgets/base",
          "model_name": "LayoutModel",
          "model_module_version": "1.2.0",
          "state": {
            "_model_module": "@jupyter-widgets/base",
            "_model_module_version": "1.2.0",
            "_model_name": "LayoutModel",
            "_view_count": null,
            "_view_module": "@jupyter-widgets/base",
            "_view_module_version": "1.2.0",
            "_view_name": "LayoutView",
            "align_content": null,
            "align_items": null,
            "align_self": null,
            "border": null,
            "bottom": null,
            "display": null,
            "flex": null,
            "flex_flow": null,
            "grid_area": null,
            "grid_auto_columns": null,
            "grid_auto_flow": null,
            "grid_auto_rows": null,
            "grid_column": null,
            "grid_gap": null,
            "grid_row": null,
            "grid_template_areas": null,
            "grid_template_columns": null,
            "grid_template_rows": null,
            "height": null,
            "justify_content": null,
            "justify_items": null,
            "left": null,
            "margin": null,
            "max_height": null,
            "max_width": null,
            "min_height": null,
            "min_width": null,
            "object_fit": null,
            "object_position": null,
            "order": null,
            "overflow": null,
            "overflow_x": null,
            "overflow_y": null,
            "padding": null,
            "right": null,
            "top": null,
            "visibility": null,
            "width": null
          }
        },
        "3c89c21d738146088a389b8326b62b12": {
          "model_module": "@jupyter-widgets/controls",
          "model_name": "DescriptionStyleModel",
          "model_module_version": "1.5.0",
          "state": {
            "_model_module": "@jupyter-widgets/controls",
            "_model_module_version": "1.5.0",
            "_model_name": "DescriptionStyleModel",
            "_view_count": null,
            "_view_module": "@jupyter-widgets/base",
            "_view_module_version": "1.2.0",
            "_view_name": "StyleView",
            "description_width": ""
          }
        },
        "56db5386099f4b9eb39213774338cb02": {
          "model_module": "@jupyter-widgets/base",
          "model_name": "LayoutModel",
          "model_module_version": "1.2.0",
          "state": {
            "_model_module": "@jupyter-widgets/base",
            "_model_module_version": "1.2.0",
            "_model_name": "LayoutModel",
            "_view_count": null,
            "_view_module": "@jupyter-widgets/base",
            "_view_module_version": "1.2.0",
            "_view_name": "LayoutView",
            "align_content": null,
            "align_items": null,
            "align_self": null,
            "border": null,
            "bottom": null,
            "display": null,
            "flex": null,
            "flex_flow": null,
            "grid_area": null,
            "grid_auto_columns": null,
            "grid_auto_flow": null,
            "grid_auto_rows": null,
            "grid_column": null,
            "grid_gap": null,
            "grid_row": null,
            "grid_template_areas": null,
            "grid_template_columns": null,
            "grid_template_rows": null,
            "height": null,
            "justify_content": null,
            "justify_items": null,
            "left": null,
            "margin": null,
            "max_height": null,
            "max_width": null,
            "min_height": null,
            "min_width": null,
            "object_fit": null,
            "object_position": null,
            "order": null,
            "overflow": null,
            "overflow_x": null,
            "overflow_y": null,
            "padding": null,
            "right": null,
            "top": null,
            "visibility": null,
            "width": null
          }
        },
        "d11430a470154724a29bcbc9ab73a4cb": {
          "model_module": "@jupyter-widgets/controls",
          "model_name": "ProgressStyleModel",
          "model_module_version": "1.5.0",
          "state": {
            "_model_module": "@jupyter-widgets/controls",
            "_model_module_version": "1.5.0",
            "_model_name": "ProgressStyleModel",
            "_view_count": null,
            "_view_module": "@jupyter-widgets/base",
            "_view_module_version": "1.2.0",
            "_view_name": "StyleView",
            "bar_color": null,
            "description_width": ""
          }
        },
        "4083e08025ec493ba080b92f6252bd09": {
          "model_module": "@jupyter-widgets/base",
          "model_name": "LayoutModel",
          "model_module_version": "1.2.0",
          "state": {
            "_model_module": "@jupyter-widgets/base",
            "_model_module_version": "1.2.0",
            "_model_name": "LayoutModel",
            "_view_count": null,
            "_view_module": "@jupyter-widgets/base",
            "_view_module_version": "1.2.0",
            "_view_name": "LayoutView",
            "align_content": null,
            "align_items": null,
            "align_self": null,
            "border": null,
            "bottom": null,
            "display": null,
            "flex": null,
            "flex_flow": null,
            "grid_area": null,
            "grid_auto_columns": null,
            "grid_auto_flow": null,
            "grid_auto_rows": null,
            "grid_column": null,
            "grid_gap": null,
            "grid_row": null,
            "grid_template_areas": null,
            "grid_template_columns": null,
            "grid_template_rows": null,
            "height": null,
            "justify_content": null,
            "justify_items": null,
            "left": null,
            "margin": null,
            "max_height": null,
            "max_width": null,
            "min_height": null,
            "min_width": null,
            "object_fit": null,
            "object_position": null,
            "order": null,
            "overflow": null,
            "overflow_x": null,
            "overflow_y": null,
            "padding": null,
            "right": null,
            "top": null,
            "visibility": null,
            "width": null
          }
        },
        "33430bce98a2421b80f7fbad9ce6b889": {
          "model_module": "@jupyter-widgets/controls",
          "model_name": "DescriptionStyleModel",
          "model_module_version": "1.5.0",
          "state": {
            "_model_module": "@jupyter-widgets/controls",
            "_model_module_version": "1.5.0",
            "_model_name": "DescriptionStyleModel",
            "_view_count": null,
            "_view_module": "@jupyter-widgets/base",
            "_view_module_version": "1.2.0",
            "_view_name": "StyleView",
            "description_width": ""
          }
        },
        "41f4c095a1ba4f7eb4f44c18c02d28cd": {
          "model_module": "@jupyter-widgets/controls",
          "model_name": "HBoxModel",
          "model_module_version": "1.5.0",
          "state": {
            "_dom_classes": [],
            "_model_module": "@jupyter-widgets/controls",
            "_model_module_version": "1.5.0",
            "_model_name": "HBoxModel",
            "_view_count": null,
            "_view_module": "@jupyter-widgets/controls",
            "_view_module_version": "1.5.0",
            "_view_name": "HBoxView",
            "box_style": "",
            "children": [
              "IPY_MODEL_0dc0efb3687541859887c6ca531f5d3f",
              "IPY_MODEL_ea8b04e078ff4f72881c098335283e17",
              "IPY_MODEL_d515498d13054bf1a63f64c2123f0e41"
            ],
            "layout": "IPY_MODEL_6903e80186324763908f56727e6926a4"
          }
        },
        "0dc0efb3687541859887c6ca531f5d3f": {
          "model_module": "@jupyter-widgets/controls",
          "model_name": "HTMLModel",
          "model_module_version": "1.5.0",
          "state": {
            "_dom_classes": [],
            "_model_module": "@jupyter-widgets/controls",
            "_model_module_version": "1.5.0",
            "_model_name": "HTMLModel",
            "_view_count": null,
            "_view_module": "@jupyter-widgets/controls",
            "_view_module_version": "1.5.0",
            "_view_name": "HTMLView",
            "description": "",
            "description_tooltip": null,
            "layout": "IPY_MODEL_13b84af70180437f8beb8aeed34f8ab1",
            "placeholder": "​",
            "style": "IPY_MODEL_8fdcd5743fe242139a47ca80101fe497",
            "value": "100%"
          }
        },
        "ea8b04e078ff4f72881c098335283e17": {
          "model_module": "@jupyter-widgets/controls",
          "model_name": "FloatProgressModel",
          "model_module_version": "1.5.0",
          "state": {
            "_dom_classes": [],
            "_model_module": "@jupyter-widgets/controls",
            "_model_module_version": "1.5.0",
            "_model_name": "FloatProgressModel",
            "_view_count": null,
            "_view_module": "@jupyter-widgets/controls",
            "_view_module_version": "1.5.0",
            "_view_name": "ProgressView",
            "bar_style": "success",
            "description": "",
            "description_tooltip": null,
            "layout": "IPY_MODEL_befff75fd79141069dacd6564930b446",
            "max": 4422102,
            "min": 0,
            "orientation": "horizontal",
            "style": "IPY_MODEL_50d66a3de84a40c9ab10eefc794e58b5",
            "value": 4422102
          }
        },
        "d515498d13054bf1a63f64c2123f0e41": {
          "model_module": "@jupyter-widgets/controls",
          "model_name": "HTMLModel",
          "model_module_version": "1.5.0",
          "state": {
            "_dom_classes": [],
            "_model_module": "@jupyter-widgets/controls",
            "_model_module_version": "1.5.0",
            "_model_name": "HTMLModel",
            "_view_count": null,
            "_view_module": "@jupyter-widgets/controls",
            "_view_module_version": "1.5.0",
            "_view_name": "HTMLView",
            "description": "",
            "description_tooltip": null,
            "layout": "IPY_MODEL_c0b358467d8b44ce9a564fec7c154f2e",
            "placeholder": "​",
            "style": "IPY_MODEL_352eb9f5cd1640729a0919ccc4f23239",
            "value": " 4422102/4422102 [00:01&lt;00:00, 5936049.68it/s]"
          }
        },
        "6903e80186324763908f56727e6926a4": {
          "model_module": "@jupyter-widgets/base",
          "model_name": "LayoutModel",
          "model_module_version": "1.2.0",
          "state": {
            "_model_module": "@jupyter-widgets/base",
            "_model_module_version": "1.2.0",
            "_model_name": "LayoutModel",
            "_view_count": null,
            "_view_module": "@jupyter-widgets/base",
            "_view_module_version": "1.2.0",
            "_view_name": "LayoutView",
            "align_content": null,
            "align_items": null,
            "align_self": null,
            "border": null,
            "bottom": null,
            "display": null,
            "flex": null,
            "flex_flow": null,
            "grid_area": null,
            "grid_auto_columns": null,
            "grid_auto_flow": null,
            "grid_auto_rows": null,
            "grid_column": null,
            "grid_gap": null,
            "grid_row": null,
            "grid_template_areas": null,
            "grid_template_columns": null,
            "grid_template_rows": null,
            "height": null,
            "justify_content": null,
            "justify_items": null,
            "left": null,
            "margin": null,
            "max_height": null,
            "max_width": null,
            "min_height": null,
            "min_width": null,
            "object_fit": null,
            "object_position": null,
            "order": null,
            "overflow": null,
            "overflow_x": null,
            "overflow_y": null,
            "padding": null,
            "right": null,
            "top": null,
            "visibility": null,
            "width": null
          }
        },
        "13b84af70180437f8beb8aeed34f8ab1": {
          "model_module": "@jupyter-widgets/base",
          "model_name": "LayoutModel",
          "model_module_version": "1.2.0",
          "state": {
            "_model_module": "@jupyter-widgets/base",
            "_model_module_version": "1.2.0",
            "_model_name": "LayoutModel",
            "_view_count": null,
            "_view_module": "@jupyter-widgets/base",
            "_view_module_version": "1.2.0",
            "_view_name": "LayoutView",
            "align_content": null,
            "align_items": null,
            "align_self": null,
            "border": null,
            "bottom": null,
            "display": null,
            "flex": null,
            "flex_flow": null,
            "grid_area": null,
            "grid_auto_columns": null,
            "grid_auto_flow": null,
            "grid_auto_rows": null,
            "grid_column": null,
            "grid_gap": null,
            "grid_row": null,
            "grid_template_areas": null,
            "grid_template_columns": null,
            "grid_template_rows": null,
            "height": null,
            "justify_content": null,
            "justify_items": null,
            "left": null,
            "margin": null,
            "max_height": null,
            "max_width": null,
            "min_height": null,
            "min_width": null,
            "object_fit": null,
            "object_position": null,
            "order": null,
            "overflow": null,
            "overflow_x": null,
            "overflow_y": null,
            "padding": null,
            "right": null,
            "top": null,
            "visibility": null,
            "width": null
          }
        },
        "8fdcd5743fe242139a47ca80101fe497": {
          "model_module": "@jupyter-widgets/controls",
          "model_name": "DescriptionStyleModel",
          "model_module_version": "1.5.0",
          "state": {
            "_model_module": "@jupyter-widgets/controls",
            "_model_module_version": "1.5.0",
            "_model_name": "DescriptionStyleModel",
            "_view_count": null,
            "_view_module": "@jupyter-widgets/base",
            "_view_module_version": "1.2.0",
            "_view_name": "StyleView",
            "description_width": ""
          }
        },
        "befff75fd79141069dacd6564930b446": {
          "model_module": "@jupyter-widgets/base",
          "model_name": "LayoutModel",
          "model_module_version": "1.2.0",
          "state": {
            "_model_module": "@jupyter-widgets/base",
            "_model_module_version": "1.2.0",
            "_model_name": "LayoutModel",
            "_view_count": null,
            "_view_module": "@jupyter-widgets/base",
            "_view_module_version": "1.2.0",
            "_view_name": "LayoutView",
            "align_content": null,
            "align_items": null,
            "align_self": null,
            "border": null,
            "bottom": null,
            "display": null,
            "flex": null,
            "flex_flow": null,
            "grid_area": null,
            "grid_auto_columns": null,
            "grid_auto_flow": null,
            "grid_auto_rows": null,
            "grid_column": null,
            "grid_gap": null,
            "grid_row": null,
            "grid_template_areas": null,
            "grid_template_columns": null,
            "grid_template_rows": null,
            "height": null,
            "justify_content": null,
            "justify_items": null,
            "left": null,
            "margin": null,
            "max_height": null,
            "max_width": null,
            "min_height": null,
            "min_width": null,
            "object_fit": null,
            "object_position": null,
            "order": null,
            "overflow": null,
            "overflow_x": null,
            "overflow_y": null,
            "padding": null,
            "right": null,
            "top": null,
            "visibility": null,
            "width": null
          }
        },
        "50d66a3de84a40c9ab10eefc794e58b5": {
          "model_module": "@jupyter-widgets/controls",
          "model_name": "ProgressStyleModel",
          "model_module_version": "1.5.0",
          "state": {
            "_model_module": "@jupyter-widgets/controls",
            "_model_module_version": "1.5.0",
            "_model_name": "ProgressStyleModel",
            "_view_count": null,
            "_view_module": "@jupyter-widgets/base",
            "_view_module_version": "1.2.0",
            "_view_name": "StyleView",
            "bar_color": null,
            "description_width": ""
          }
        },
        "c0b358467d8b44ce9a564fec7c154f2e": {
          "model_module": "@jupyter-widgets/base",
          "model_name": "LayoutModel",
          "model_module_version": "1.2.0",
          "state": {
            "_model_module": "@jupyter-widgets/base",
            "_model_module_version": "1.2.0",
            "_model_name": "LayoutModel",
            "_view_count": null,
            "_view_module": "@jupyter-widgets/base",
            "_view_module_version": "1.2.0",
            "_view_name": "LayoutView",
            "align_content": null,
            "align_items": null,
            "align_self": null,
            "border": null,
            "bottom": null,
            "display": null,
            "flex": null,
            "flex_flow": null,
            "grid_area": null,
            "grid_auto_columns": null,
            "grid_auto_flow": null,
            "grid_auto_rows": null,
            "grid_column": null,
            "grid_gap": null,
            "grid_row": null,
            "grid_template_areas": null,
            "grid_template_columns": null,
            "grid_template_rows": null,
            "height": null,
            "justify_content": null,
            "justify_items": null,
            "left": null,
            "margin": null,
            "max_height": null,
            "max_width": null,
            "min_height": null,
            "min_width": null,
            "object_fit": null,
            "object_position": null,
            "order": null,
            "overflow": null,
            "overflow_x": null,
            "overflow_y": null,
            "padding": null,
            "right": null,
            "top": null,
            "visibility": null,
            "width": null
          }
        },
        "352eb9f5cd1640729a0919ccc4f23239": {
          "model_module": "@jupyter-widgets/controls",
          "model_name": "DescriptionStyleModel",
          "model_module_version": "1.5.0",
          "state": {
            "_model_module": "@jupyter-widgets/controls",
            "_model_module_version": "1.5.0",
            "_model_name": "DescriptionStyleModel",
            "_view_count": null,
            "_view_module": "@jupyter-widgets/base",
            "_view_module_version": "1.2.0",
            "_view_name": "StyleView",
            "description_width": ""
          }
        },
        "91a32c7c03c94ed5ba98882bae492f18": {
          "model_module": "@jupyter-widgets/controls",
          "model_name": "HBoxModel",
          "model_module_version": "1.5.0",
          "state": {
            "_dom_classes": [],
            "_model_module": "@jupyter-widgets/controls",
            "_model_module_version": "1.5.0",
            "_model_name": "HBoxModel",
            "_view_count": null,
            "_view_module": "@jupyter-widgets/controls",
            "_view_module_version": "1.5.0",
            "_view_name": "HBoxView",
            "box_style": "",
            "children": [
              "IPY_MODEL_035ac28a114142fe9a978482fc1ac418",
              "IPY_MODEL_3813d6ac781d403a8fdb2fe94c82c353",
              "IPY_MODEL_03f832edd9464267b47694041e70bad3"
            ],
            "layout": "IPY_MODEL_40d5020004e944218fc7be37671ae6c5"
          }
        },
        "035ac28a114142fe9a978482fc1ac418": {
          "model_module": "@jupyter-widgets/controls",
          "model_name": "HTMLModel",
          "model_module_version": "1.5.0",
          "state": {
            "_dom_classes": [],
            "_model_module": "@jupyter-widgets/controls",
            "_model_module_version": "1.5.0",
            "_model_name": "HTMLModel",
            "_view_count": null,
            "_view_module": "@jupyter-widgets/controls",
            "_view_module_version": "1.5.0",
            "_view_name": "HTMLView",
            "description": "",
            "description_tooltip": null,
            "layout": "IPY_MODEL_3a82fcf7217c41738568450c9824a9a9",
            "placeholder": "​",
            "style": "IPY_MODEL_084cb6c5064c4564b793f0fc9006a2b9",
            "value": "100%"
          }
        },
        "3813d6ac781d403a8fdb2fe94c82c353": {
          "model_module": "@jupyter-widgets/controls",
          "model_name": "FloatProgressModel",
          "model_module_version": "1.5.0",
          "state": {
            "_dom_classes": [],
            "_model_module": "@jupyter-widgets/controls",
            "_model_module_version": "1.5.0",
            "_model_name": "FloatProgressModel",
            "_view_count": null,
            "_view_module": "@jupyter-widgets/controls",
            "_view_module_version": "1.5.0",
            "_view_name": "ProgressView",
            "bar_style": "success",
            "description": "",
            "description_tooltip": null,
            "layout": "IPY_MODEL_8ca67be4e2144c6aaec880d5208f7f9c",
            "max": 5148,
            "min": 0,
            "orientation": "horizontal",
            "style": "IPY_MODEL_f74376083a9a4bff8f684019404af483",
            "value": 5148
          }
        },
        "03f832edd9464267b47694041e70bad3": {
          "model_module": "@jupyter-widgets/controls",
          "model_name": "HTMLModel",
          "model_module_version": "1.5.0",
          "state": {
            "_dom_classes": [],
            "_model_module": "@jupyter-widgets/controls",
            "_model_module_version": "1.5.0",
            "_model_name": "HTMLModel",
            "_view_count": null,
            "_view_module": "@jupyter-widgets/controls",
            "_view_module_version": "1.5.0",
            "_view_name": "HTMLView",
            "description": "",
            "description_tooltip": null,
            "layout": "IPY_MODEL_631404db9c7a4da8a9cec4b8a4019522",
            "placeholder": "​",
            "style": "IPY_MODEL_221bf41dbd164329bbc6241980b3c5de",
            "value": " 5148/5148 [00:00&lt;00:00, 178117.36it/s]"
          }
        },
        "40d5020004e944218fc7be37671ae6c5": {
          "model_module": "@jupyter-widgets/base",
          "model_name": "LayoutModel",
          "model_module_version": "1.2.0",
          "state": {
            "_model_module": "@jupyter-widgets/base",
            "_model_module_version": "1.2.0",
            "_model_name": "LayoutModel",
            "_view_count": null,
            "_view_module": "@jupyter-widgets/base",
            "_view_module_version": "1.2.0",
            "_view_name": "LayoutView",
            "align_content": null,
            "align_items": null,
            "align_self": null,
            "border": null,
            "bottom": null,
            "display": null,
            "flex": null,
            "flex_flow": null,
            "grid_area": null,
            "grid_auto_columns": null,
            "grid_auto_flow": null,
            "grid_auto_rows": null,
            "grid_column": null,
            "grid_gap": null,
            "grid_row": null,
            "grid_template_areas": null,
            "grid_template_columns": null,
            "grid_template_rows": null,
            "height": null,
            "justify_content": null,
            "justify_items": null,
            "left": null,
            "margin": null,
            "max_height": null,
            "max_width": null,
            "min_height": null,
            "min_width": null,
            "object_fit": null,
            "object_position": null,
            "order": null,
            "overflow": null,
            "overflow_x": null,
            "overflow_y": null,
            "padding": null,
            "right": null,
            "top": null,
            "visibility": null,
            "width": null
          }
        },
        "3a82fcf7217c41738568450c9824a9a9": {
          "model_module": "@jupyter-widgets/base",
          "model_name": "LayoutModel",
          "model_module_version": "1.2.0",
          "state": {
            "_model_module": "@jupyter-widgets/base",
            "_model_module_version": "1.2.0",
            "_model_name": "LayoutModel",
            "_view_count": null,
            "_view_module": "@jupyter-widgets/base",
            "_view_module_version": "1.2.0",
            "_view_name": "LayoutView",
            "align_content": null,
            "align_items": null,
            "align_self": null,
            "border": null,
            "bottom": null,
            "display": null,
            "flex": null,
            "flex_flow": null,
            "grid_area": null,
            "grid_auto_columns": null,
            "grid_auto_flow": null,
            "grid_auto_rows": null,
            "grid_column": null,
            "grid_gap": null,
            "grid_row": null,
            "grid_template_areas": null,
            "grid_template_columns": null,
            "grid_template_rows": null,
            "height": null,
            "justify_content": null,
            "justify_items": null,
            "left": null,
            "margin": null,
            "max_height": null,
            "max_width": null,
            "min_height": null,
            "min_width": null,
            "object_fit": null,
            "object_position": null,
            "order": null,
            "overflow": null,
            "overflow_x": null,
            "overflow_y": null,
            "padding": null,
            "right": null,
            "top": null,
            "visibility": null,
            "width": null
          }
        },
        "084cb6c5064c4564b793f0fc9006a2b9": {
          "model_module": "@jupyter-widgets/controls",
          "model_name": "DescriptionStyleModel",
          "model_module_version": "1.5.0",
          "state": {
            "_model_module": "@jupyter-widgets/controls",
            "_model_module_version": "1.5.0",
            "_model_name": "DescriptionStyleModel",
            "_view_count": null,
            "_view_module": "@jupyter-widgets/base",
            "_view_module_version": "1.2.0",
            "_view_name": "StyleView",
            "description_width": ""
          }
        },
        "8ca67be4e2144c6aaec880d5208f7f9c": {
          "model_module": "@jupyter-widgets/base",
          "model_name": "LayoutModel",
          "model_module_version": "1.2.0",
          "state": {
            "_model_module": "@jupyter-widgets/base",
            "_model_module_version": "1.2.0",
            "_model_name": "LayoutModel",
            "_view_count": null,
            "_view_module": "@jupyter-widgets/base",
            "_view_module_version": "1.2.0",
            "_view_name": "LayoutView",
            "align_content": null,
            "align_items": null,
            "align_self": null,
            "border": null,
            "bottom": null,
            "display": null,
            "flex": null,
            "flex_flow": null,
            "grid_area": null,
            "grid_auto_columns": null,
            "grid_auto_flow": null,
            "grid_auto_rows": null,
            "grid_column": null,
            "grid_gap": null,
            "grid_row": null,
            "grid_template_areas": null,
            "grid_template_columns": null,
            "grid_template_rows": null,
            "height": null,
            "justify_content": null,
            "justify_items": null,
            "left": null,
            "margin": null,
            "max_height": null,
            "max_width": null,
            "min_height": null,
            "min_width": null,
            "object_fit": null,
            "object_position": null,
            "order": null,
            "overflow": null,
            "overflow_x": null,
            "overflow_y": null,
            "padding": null,
            "right": null,
            "top": null,
            "visibility": null,
            "width": null
          }
        },
        "f74376083a9a4bff8f684019404af483": {
          "model_module": "@jupyter-widgets/controls",
          "model_name": "ProgressStyleModel",
          "model_module_version": "1.5.0",
          "state": {
            "_model_module": "@jupyter-widgets/controls",
            "_model_module_version": "1.5.0",
            "_model_name": "ProgressStyleModel",
            "_view_count": null,
            "_view_module": "@jupyter-widgets/base",
            "_view_module_version": "1.2.0",
            "_view_name": "StyleView",
            "bar_color": null,
            "description_width": ""
          }
        },
        "631404db9c7a4da8a9cec4b8a4019522": {
          "model_module": "@jupyter-widgets/base",
          "model_name": "LayoutModel",
          "model_module_version": "1.2.0",
          "state": {
            "_model_module": "@jupyter-widgets/base",
            "_model_module_version": "1.2.0",
            "_model_name": "LayoutModel",
            "_view_count": null,
            "_view_module": "@jupyter-widgets/base",
            "_view_module_version": "1.2.0",
            "_view_name": "LayoutView",
            "align_content": null,
            "align_items": null,
            "align_self": null,
            "border": null,
            "bottom": null,
            "display": null,
            "flex": null,
            "flex_flow": null,
            "grid_area": null,
            "grid_auto_columns": null,
            "grid_auto_flow": null,
            "grid_auto_rows": null,
            "grid_column": null,
            "grid_gap": null,
            "grid_row": null,
            "grid_template_areas": null,
            "grid_template_columns": null,
            "grid_template_rows": null,
            "height": null,
            "justify_content": null,
            "justify_items": null,
            "left": null,
            "margin": null,
            "max_height": null,
            "max_width": null,
            "min_height": null,
            "min_width": null,
            "object_fit": null,
            "object_position": null,
            "order": null,
            "overflow": null,
            "overflow_x": null,
            "overflow_y": null,
            "padding": null,
            "right": null,
            "top": null,
            "visibility": null,
            "width": null
          }
        },
        "221bf41dbd164329bbc6241980b3c5de": {
          "model_module": "@jupyter-widgets/controls",
          "model_name": "DescriptionStyleModel",
          "model_module_version": "1.5.0",
          "state": {
            "_model_module": "@jupyter-widgets/controls",
            "_model_module_version": "1.5.0",
            "_model_name": "DescriptionStyleModel",
            "_view_count": null,
            "_view_module": "@jupyter-widgets/base",
            "_view_module_version": "1.2.0",
            "_view_name": "StyleView",
            "description_width": ""
          }
        }
      }
    }
  },
  "cells": [
    {
      "cell_type": "code",
      "execution_count": null,
      "metadata": {
        "id": "UOkkvBZMgksR"
      },
      "outputs": [],
      "source": [
        "from torchvision.datasets import FashionMNIST\n",
        "import torch\n",
        "import torch.nn as nn\n",
        "import torchvision\n",
        "from torchvision.transforms import transforms\n",
        "import numpy as np\n",
        "import matplotlib.pyplot as plt\n",
        "from datetime import datetime"
      ]
    },
    {
      "cell_type": "code",
      "source": [
        "train_dataset = torchvision.datasets.FashionMNIST(\n",
        "    root ='.',\n",
        "    train = True,\n",
        "    transform = transforms.ToTensor(),\n",
        "    download = True\n",
        ")"
      ],
      "metadata": {
        "id": "YT0o3ivaCcXQ",
        "colab": {
          "base_uri": "https://localhost:8080/",
          "height": 423,
          "referenced_widgets": [
            "c1956366c35a43a4815c2014f892c3ab",
            "01402c2eeb984a57a87116612bae2b1d",
            "d05d155bb99f46ca8ea7d1d3e8cbfc14",
            "1cab948e68f04b20887ecee0268ca39e",
            "fad6659229744f84961754b1a671d268",
            "7d4786f8a82e49649300334cfddac57d",
            "94011d69f1904338a01738b946f0fdcd",
            "091aa6c039ee49f09b0b5a7722d9d956",
            "e6e97f96d6cb499f8960122efdfd866a",
            "8af3ab8b950244ec9756e5fa58082191",
            "66545455d0704d929678067255da6509",
            "7cfaca9ae5864983bc96e7c330c8dc33",
            "710a9bd92f2e45acb0a9b4dd8f095ab2",
            "222cbdd5b59746e6ac435cfccd7ee111",
            "3574b7cc2ae14c3895be2c0de39074d1",
            "a055f94b5c78412581a09744bb190b66",
            "220c7bca14a847eda39d9de957e0b22e",
            "3c89c21d738146088a389b8326b62b12",
            "56db5386099f4b9eb39213774338cb02",
            "d11430a470154724a29bcbc9ab73a4cb",
            "4083e08025ec493ba080b92f6252bd09",
            "33430bce98a2421b80f7fbad9ce6b889",
            "41f4c095a1ba4f7eb4f44c18c02d28cd",
            "0dc0efb3687541859887c6ca531f5d3f",
            "ea8b04e078ff4f72881c098335283e17",
            "d515498d13054bf1a63f64c2123f0e41",
            "6903e80186324763908f56727e6926a4",
            "13b84af70180437f8beb8aeed34f8ab1",
            "8fdcd5743fe242139a47ca80101fe497",
            "befff75fd79141069dacd6564930b446",
            "50d66a3de84a40c9ab10eefc794e58b5",
            "c0b358467d8b44ce9a564fec7c154f2e",
            "352eb9f5cd1640729a0919ccc4f23239",
            "91a32c7c03c94ed5ba98882bae492f18",
            "035ac28a114142fe9a978482fc1ac418",
            "3813d6ac781d403a8fdb2fe94c82c353",
            "03f832edd9464267b47694041e70bad3",
            "40d5020004e944218fc7be37671ae6c5",
            "3a82fcf7217c41738568450c9824a9a9",
            "084cb6c5064c4564b793f0fc9006a2b9",
            "8ca67be4e2144c6aaec880d5208f7f9c",
            "f74376083a9a4bff8f684019404af483",
            "631404db9c7a4da8a9cec4b8a4019522",
            "221bf41dbd164329bbc6241980b3c5de"
          ]
        },
        "outputId": "5bc141b1-9af5-4106-9b9f-574c02f8a1ed"
      },
      "execution_count": null,
      "outputs": [
        {
          "output_type": "stream",
          "name": "stdout",
          "text": [
            "Downloading http://fashion-mnist.s3-website.eu-central-1.amazonaws.com/train-images-idx3-ubyte.gz\n",
            "Downloading http://fashion-mnist.s3-website.eu-central-1.amazonaws.com/train-images-idx3-ubyte.gz to ./FashionMNIST/raw/train-images-idx3-ubyte.gz\n"
          ]
        },
        {
          "output_type": "display_data",
          "data": {
            "text/plain": [
              "  0%|          | 0/26421880 [00:00<?, ?it/s]"
            ],
            "application/vnd.jupyter.widget-view+json": {
              "version_major": 2,
              "version_minor": 0,
              "model_id": "c1956366c35a43a4815c2014f892c3ab"
            }
          },
          "metadata": {}
        },
        {
          "output_type": "stream",
          "name": "stdout",
          "text": [
            "Extracting ./FashionMNIST/raw/train-images-idx3-ubyte.gz to ./FashionMNIST/raw\n",
            "\n",
            "Downloading http://fashion-mnist.s3-website.eu-central-1.amazonaws.com/train-labels-idx1-ubyte.gz\n",
            "Downloading http://fashion-mnist.s3-website.eu-central-1.amazonaws.com/train-labels-idx1-ubyte.gz to ./FashionMNIST/raw/train-labels-idx1-ubyte.gz\n"
          ]
        },
        {
          "output_type": "display_data",
          "data": {
            "text/plain": [
              "  0%|          | 0/29515 [00:00<?, ?it/s]"
            ],
            "application/vnd.jupyter.widget-view+json": {
              "version_major": 2,
              "version_minor": 0,
              "model_id": "7cfaca9ae5864983bc96e7c330c8dc33"
            }
          },
          "metadata": {}
        },
        {
          "output_type": "stream",
          "name": "stdout",
          "text": [
            "Extracting ./FashionMNIST/raw/train-labels-idx1-ubyte.gz to ./FashionMNIST/raw\n",
            "\n",
            "Downloading http://fashion-mnist.s3-website.eu-central-1.amazonaws.com/t10k-images-idx3-ubyte.gz\n",
            "Downloading http://fashion-mnist.s3-website.eu-central-1.amazonaws.com/t10k-images-idx3-ubyte.gz to ./FashionMNIST/raw/t10k-images-idx3-ubyte.gz\n"
          ]
        },
        {
          "output_type": "display_data",
          "data": {
            "text/plain": [
              "  0%|          | 0/4422102 [00:00<?, ?it/s]"
            ],
            "application/vnd.jupyter.widget-view+json": {
              "version_major": 2,
              "version_minor": 0,
              "model_id": "41f4c095a1ba4f7eb4f44c18c02d28cd"
            }
          },
          "metadata": {}
        },
        {
          "output_type": "stream",
          "name": "stdout",
          "text": [
            "Extracting ./FashionMNIST/raw/t10k-images-idx3-ubyte.gz to ./FashionMNIST/raw\n",
            "\n",
            "Downloading http://fashion-mnist.s3-website.eu-central-1.amazonaws.com/t10k-labels-idx1-ubyte.gz\n",
            "Downloading http://fashion-mnist.s3-website.eu-central-1.amazonaws.com/t10k-labels-idx1-ubyte.gz to ./FashionMNIST/raw/t10k-labels-idx1-ubyte.gz\n"
          ]
        },
        {
          "output_type": "display_data",
          "data": {
            "text/plain": [
              "  0%|          | 0/5148 [00:00<?, ?it/s]"
            ],
            "application/vnd.jupyter.widget-view+json": {
              "version_major": 2,
              "version_minor": 0,
              "model_id": "91a32c7c03c94ed5ba98882bae492f18"
            }
          },
          "metadata": {}
        },
        {
          "output_type": "stream",
          "name": "stdout",
          "text": [
            "Extracting ./FashionMNIST/raw/t10k-labels-idx1-ubyte.gz to ./FashionMNIST/raw\n",
            "\n"
          ]
        }
      ]
    },
    {
      "cell_type": "code",
      "source": [
        "test_dataset = torchvision.datasets.FashionMNIST(\n",
        "    root ='.',\n",
        "    train = False,\n",
        "    transform = transforms.ToTensor(),\n",
        "    download = True\n",
        ")"
      ],
      "metadata": {
        "id": "cIN5cy8cFUCz"
      },
      "execution_count": null,
      "outputs": []
    },
    {
      "cell_type": "code",
      "source": [
        "#number of classes\n",
        "K = len(set(train_dataset.targets.numpy()))\n",
        "print(f'The number of classes is: {K}')"
      ],
      "metadata": {
        "colab": {
          "base_uri": "https://localhost:8080/"
        },
        "id": "VVqMGB68F9E5",
        "outputId": "ddda4b08-e6fd-42dd-f456-74fc79b91f5d"
      },
      "execution_count": null,
      "outputs": [
        {
          "output_type": "stream",
          "name": "stdout",
          "text": [
            "The number of classes is: 10\n"
          ]
        }
      ]
    },
    {
      "cell_type": "code",
      "source": [
        "#label classes\n",
        "labels = '''T-shirt/Top,\n",
        "Trouser,\n",
        "Pullover,\n",
        "Dress,\n",
        "Coat,\n",
        "Sandals, \n",
        "Shirt,\n",
        "Sneaker,\n",
        "Bag,\n",
        "Ankle boots'''.split()"
      ],
      "metadata": {
        "id": "8V_Z2xEzMjBw"
      },
      "execution_count": null,
      "outputs": []
    },
    {
      "cell_type": "code",
      "source": [
        "print(train_dataset.data.shape)\n",
        "print(test_dataset.data.shape)"
      ],
      "metadata": {
        "colab": {
          "base_uri": "https://localhost:8080/"
        },
        "id": "sz42Uv_PcprH",
        "outputId": "76354fcb-cf0d-44a5-eaa3-20bb685bdb07"
      },
      "execution_count": null,
      "outputs": [
        {
          "output_type": "stream",
          "name": "stdout",
          "text": [
            "torch.Size([60000, 28, 28])\n",
            "torch.Size([10000, 28, 28])\n"
          ]
        }
      ]
    },
    {
      "cell_type": "code",
      "source": [],
      "metadata": {
        "id": "TCBgaqEXCAd7"
      },
      "execution_count": null,
      "outputs": []
    },
    {
      "cell_type": "code",
      "source": [
        "from torch.nn.modules.dropout import Dropout\n",
        "from torch.nn.modules.activation import Softmax\n",
        "from torch.nn.modules import MaxPool2d\n",
        "\n",
        "class CNN_Arch3(nn.Module):\n",
        "    def __init__(self):\n",
        "      super(CNN_Arch3, self).__init__()\n",
        "      # First convolution\n",
        "      self.cnn1 = nn.Conv2d(in_channels=1 , out_channels=64 , kernel_size=2 , stride=1 )\n",
        "      self.af1 = nn.Softmax()\n",
        "      self.mp1 = nn.MaxPool2d(kernel_size=2)\n",
        "      self.do1 = nn.Dropout(0.25)\n",
        "      \n",
        "      # Second convolution\n",
        "      self.cnn2 = nn.Conv2d(in_channels=64 , out_channels=64, kernel_size=2 , stride=1 )\n",
        "      self.af2 = nn.Softmax()\n",
        "      self.mp2 = nn.MaxPool2d(kernel_size=2)\n",
        "      self.do2 = nn.Dropout(0.25)\n",
        "      # Third convolution\n",
        "      self.cnn3 = nn.Conv2d(in_channels=64 , out_channels=64 , kernel_size=2 , stride=1 )\n",
        "      self.af3 = nn.Softmax()\n",
        "      self.do3 = nn.Dropout(0.25)\n",
        "      self.fc1 = nn.Linear(1600  , 64 )\n",
        "      self.af4 = nn.Softmax()\n",
        "      self.do4 = nn.Dropout(0.25)\n",
        "      self.fc2 = nn.Linear(64, 10)\n",
        "\n",
        "    def forward(self, x):\n",
        "      output = self.cnn1(x)\n",
        "      output = self.af1(output)\n",
        "      output = self.mp1(output)\n",
        "      output = self.do1(output)\n",
        "\n",
        "      output = self.cnn2(output)\n",
        "      output = self.af2(output)\n",
        "      output = self.mp2(output)\n",
        "      output = self.do2(output)\n",
        "\n",
        "      output = self.cnn3(output)\n",
        "      output = self.af3(output)\n",
        "      output = self.do3(output)\n",
        "      \n",
        "      output = torch.flatten(output, 1)\n",
        "      output = self.fc1(output)\n",
        "      output = self.af4(output)\n",
        "      output = self.do4(output)\n",
        "      output = self.fc2(output)\n",
        "      return output\n"
      ],
      "metadata": {
        "id": "ifbn1gajFgvF"
      },
      "execution_count": null,
      "outputs": []
    },
    {
      "cell_type": "code",
      "source": [
        "model = CNN_Arch3()"
      ],
      "metadata": {
        "id": "YqoM75fQB0IE"
      },
      "execution_count": null,
      "outputs": []
    },
    {
      "cell_type": "code",
      "source": [
        "device = torch.device('cuda:0' if torch.cuda.is_available() else 'cpu')\n",
        "print(device)\n",
        "model.to(device)"
      ],
      "metadata": {
        "colab": {
          "base_uri": "https://localhost:8080/"
        },
        "id": "qM97zATO-GF9",
        "outputId": "abbb998c-a700-4744-b651-e9fb3b9d8dac"
      },
      "execution_count": null,
      "outputs": [
        {
          "output_type": "stream",
          "name": "stdout",
          "text": [
            "cuda:0\n"
          ]
        },
        {
          "output_type": "execute_result",
          "data": {
            "text/plain": [
              "CNN_Arch3(\n",
              "  (cnn1): Conv2d(1, 64, kernel_size=(2, 2), stride=(1, 1))\n",
              "  (af1): Softmax(dim=None)\n",
              "  (mp1): MaxPool2d(kernel_size=2, stride=2, padding=0, dilation=1, ceil_mode=False)\n",
              "  (do1): Dropout(p=0.25, inplace=False)\n",
              "  (cnn2): Conv2d(64, 64, kernel_size=(2, 2), stride=(1, 1))\n",
              "  (af2): Softmax(dim=None)\n",
              "  (mp2): MaxPool2d(kernel_size=2, stride=2, padding=0, dilation=1, ceil_mode=False)\n",
              "  (do2): Dropout(p=0.25, inplace=False)\n",
              "  (cnn3): Conv2d(64, 64, kernel_size=(2, 2), stride=(1, 1))\n",
              "  (af3): Softmax(dim=None)\n",
              "  (do3): Dropout(p=0.25, inplace=False)\n",
              "  (fc1): Linear(in_features=1600, out_features=64, bias=True)\n",
              "  (af4): Softmax(dim=None)\n",
              "  (do4): Dropout(p=0.25, inplace=False)\n",
              "  (fc2): Linear(in_features=64, out_features=10, bias=True)\n",
              ")"
            ]
          },
          "metadata": {},
          "execution_count": 9
        }
      ]
    },
    {
      "cell_type": "code",
      "source": [
        "criterion = nn.CrossEntropyLoss()\n",
        "optimizer_adam = torch.optim.Adam(model.parameters(), lr=0.002)\n",
        "optimizer_SGD = torch.optim.SGD(model.parameters(), lr=0.002)"
      ],
      "metadata": {
        "id": "Ze2FrdD8DCT1"
      },
      "execution_count": null,
      "outputs": []
    },
    {
      "cell_type": "code",
      "source": [
        "batch_size = 128\n",
        "train_loader = torch.utils.data.DataLoader(dataset = train_dataset,\n",
        "                                           batch_size = batch_size,\n",
        "                                           shuffle = True)\n",
        "test_loader = torch.utils.data.DataLoader(dataset = test_dataset,\n",
        "                                           batch_size = batch_size,\n",
        "                                           shuffle = True)"
      ],
      "metadata": {
        "id": "A7jRKBVUaY14"
      },
      "execution_count": null,
      "outputs": []
    },
    {
      "cell_type": "code",
      "source": [
        "def batch_gd(model, criterion, optimizer, train_loader, test_loader, epochs):\n",
        "  train_losses = np.zeros(epochs)\n",
        "  test_losses = np.zeros(epochs)\n",
        "  for it in range(epochs):\n",
        "      model.train()\n",
        "      t0 = datetime.now()\n",
        "      train_loss = []\n",
        "      for inputs, targets in train_loader:\n",
        "        # move data to GPU\n",
        "        inputs, targets = inputs.to(device), targets.to(device)\n",
        "        # zero the parameter gradients\n",
        "        optimizer.zero_grad()\n",
        "        \n",
        "        # forward pass\n",
        "        outputs = model(inputs)\n",
        "        loss = criterion(outputs, targets)\n",
        "\n",
        "        #backward and optimize\n",
        "        loss.backward()\n",
        "        optimizer.step()\n",
        "        \n",
        "        train_loss.append(loss.item())\n",
        "      # Get train loss and test loss\n",
        "      train_loss = np.mean(train_loss)\n",
        "      model.eval()\n",
        "      test_loss = []\n",
        "      for inputs, targets in test_loader:\n",
        "        inputs, targets = inputs.to(device), targets.to(device)\n",
        "        outputs = model(inputs)\n",
        "        loss = criterion(outputs, targets)\n",
        "        test_loss.append(loss.item())\n",
        "      test_loss = np.mean(test_loss)\n",
        "\n",
        "      #save_losses\n",
        "      train_losses[it] = train_loss\n",
        "      test_losses[it] = test_loss\n",
        "\n",
        "      dt = datetime.now() - t0\n",
        "      print(f'Epoch {it + 1} / {epochs}, Train Loss: {train_loss:.4f}, \\ Test Loss: {test_loss:.4f}, Duration: {dt}')\n",
        "  return train_losses, test_losses"
      ],
      "metadata": {
        "id": "eHfEeITwFIaD"
      },
      "execution_count": null,
      "outputs": []
    },
    {
      "cell_type": "code",
      "source": [
        "train_losses, test_losses = batch_gd(model, criterion, optimizer_adam, train_loader, test_loader, 50)\n"
      ],
      "metadata": {
        "colab": {
          "base_uri": "https://localhost:8080/"
        },
        "id": "7CogCOpJFNM3",
        "outputId": "6046606d-6244-4580-b7c1-b57ac99647ca"
      },
      "execution_count": null,
      "outputs": [
        {
          "output_type": "stream",
          "name": "stderr",
          "text": [
            "/usr/local/lib/python3.7/dist-packages/ipykernel_launcher.py:30: UserWarning: Implicit dimension choice for softmax has been deprecated. Change the call to include dim=X as an argument.\n",
            "/usr/local/lib/python3.7/dist-packages/ipykernel_launcher.py:35: UserWarning: Implicit dimension choice for softmax has been deprecated. Change the call to include dim=X as an argument.\n",
            "/usr/local/lib/python3.7/dist-packages/ipykernel_launcher.py:40: UserWarning: Implicit dimension choice for softmax has been deprecated. Change the call to include dim=X as an argument.\n",
            "/usr/local/lib/python3.7/dist-packages/ipykernel_launcher.py:45: UserWarning: Implicit dimension choice for softmax has been deprecated. Change the call to include dim=X as an argument.\n"
          ]
        },
        {
          "output_type": "stream",
          "name": "stdout",
          "text": [
            "Epoch 1 / 50, Train Loss: 2.2909, \\ Test Loss: 2.0170, Duration: 0:00:15.191522\n",
            "Epoch 2 / 50, Train Loss: 1.6894, \\ Test Loss: 1.3682, Duration: 0:00:08.509501\n",
            "Epoch 3 / 50, Train Loss: 1.4430, \\ Test Loss: 1.1902, Duration: 0:00:08.537380\n",
            "Epoch 4 / 50, Train Loss: 1.3599, \\ Test Loss: 1.1056, Duration: 0:00:10.321038\n",
            "Epoch 5 / 50, Train Loss: 1.3121, \\ Test Loss: 1.0567, Duration: 0:00:08.793903\n",
            "Epoch 6 / 50, Train Loss: 1.2389, \\ Test Loss: 0.9506, Duration: 0:00:08.492835\n",
            "Epoch 7 / 50, Train Loss: 1.2025, \\ Test Loss: 0.9294, Duration: 0:00:08.481218\n",
            "Epoch 8 / 50, Train Loss: 1.1746, \\ Test Loss: 0.8897, Duration: 0:00:08.500533\n",
            "Epoch 9 / 50, Train Loss: 1.1446, \\ Test Loss: 0.8483, Duration: 0:00:08.500948\n",
            "Epoch 10 / 50, Train Loss: 1.0953, \\ Test Loss: 0.8163, Duration: 0:00:08.412049\n",
            "Epoch 11 / 50, Train Loss: 1.0435, \\ Test Loss: 0.7479, Duration: 0:00:08.435992\n",
            "Epoch 12 / 50, Train Loss: 0.9918, \\ Test Loss: 0.6980, Duration: 0:00:08.508718\n",
            "Epoch 13 / 50, Train Loss: 0.9524, \\ Test Loss: 0.6696, Duration: 0:00:08.589261\n",
            "Epoch 14 / 50, Train Loss: 0.8862, \\ Test Loss: 0.6173, Duration: 0:00:08.475791\n",
            "Epoch 15 / 50, Train Loss: 0.8513, \\ Test Loss: 0.5838, Duration: 0:00:08.451660\n",
            "Epoch 16 / 50, Train Loss: 0.8192, \\ Test Loss: 0.5698, Duration: 0:00:08.472167\n",
            "Epoch 17 / 50, Train Loss: 0.7848, \\ Test Loss: 0.5419, Duration: 0:00:08.445108\n",
            "Epoch 18 / 50, Train Loss: 0.7397, \\ Test Loss: 0.5230, Duration: 0:00:08.514606\n",
            "Epoch 19 / 50, Train Loss: 0.7026, \\ Test Loss: 0.5029, Duration: 0:00:08.599322\n",
            "Epoch 20 / 50, Train Loss: 0.6836, \\ Test Loss: 0.4847, Duration: 0:00:08.451669\n",
            "Epoch 21 / 50, Train Loss: 0.6651, \\ Test Loss: 0.4793, Duration: 0:00:08.597700\n",
            "Epoch 22 / 50, Train Loss: 0.6574, \\ Test Loss: 0.4702, Duration: 0:00:08.553249\n",
            "Epoch 23 / 50, Train Loss: 0.6480, \\ Test Loss: 0.4633, Duration: 0:00:08.526627\n",
            "Epoch 24 / 50, Train Loss: 0.6409, \\ Test Loss: 0.4515, Duration: 0:00:08.527079\n",
            "Epoch 25 / 50, Train Loss: 0.6331, \\ Test Loss: 0.4505, Duration: 0:00:11.732625\n",
            "Epoch 26 / 50, Train Loss: 0.6162, \\ Test Loss: 0.4408, Duration: 0:00:12.992925\n",
            "Epoch 27 / 50, Train Loss: 0.6027, \\ Test Loss: 0.4324, Duration: 0:00:08.461837\n",
            "Epoch 28 / 50, Train Loss: 0.5953, \\ Test Loss: 0.4261, Duration: 0:00:08.493247\n",
            "Epoch 29 / 50, Train Loss: 0.5777, \\ Test Loss: 0.4122, Duration: 0:00:08.582956\n",
            "Epoch 30 / 50, Train Loss: 0.5686, \\ Test Loss: 0.4085, Duration: 0:00:08.552892\n",
            "Epoch 31 / 50, Train Loss: 0.5558, \\ Test Loss: 0.4024, Duration: 0:00:08.543110\n",
            "Epoch 32 / 50, Train Loss: 0.5441, \\ Test Loss: 0.3949, Duration: 0:00:08.553018\n",
            "Epoch 33 / 50, Train Loss: 0.5375, \\ Test Loss: 0.3884, Duration: 0:00:08.435714\n",
            "Epoch 34 / 50, Train Loss: 0.5256, \\ Test Loss: 0.3789, Duration: 0:00:08.587613\n",
            "Epoch 35 / 50, Train Loss: 0.5203, \\ Test Loss: 0.3734, Duration: 0:00:08.508705\n",
            "Epoch 36 / 50, Train Loss: 0.5131, \\ Test Loss: 0.3720, Duration: 0:00:08.514410\n",
            "Epoch 37 / 50, Train Loss: 0.5117, \\ Test Loss: 0.3731, Duration: 0:00:08.496443\n",
            "Epoch 38 / 50, Train Loss: 0.5044, \\ Test Loss: 0.3647, Duration: 0:00:08.472981\n",
            "Epoch 39 / 50, Train Loss: 0.4914, \\ Test Loss: 0.3581, Duration: 0:00:08.607970\n",
            "Epoch 40 / 50, Train Loss: 0.4834, \\ Test Loss: 0.3572, Duration: 0:00:08.487084\n",
            "Epoch 41 / 50, Train Loss: 0.4798, \\ Test Loss: 0.3522, Duration: 0:00:08.460695\n",
            "Epoch 42 / 50, Train Loss: 0.4676, \\ Test Loss: 0.3500, Duration: 0:00:08.523524\n",
            "Epoch 43 / 50, Train Loss: 0.4604, \\ Test Loss: 0.3395, Duration: 0:00:08.472286\n",
            "Epoch 44 / 50, Train Loss: 0.4571, \\ Test Loss: 0.3377, Duration: 0:00:08.478633\n",
            "Epoch 45 / 50, Train Loss: 0.4533, \\ Test Loss: 0.3342, Duration: 0:00:09.144961\n",
            "Epoch 46 / 50, Train Loss: 0.4469, \\ Test Loss: 0.3347, Duration: 0:00:08.544797\n",
            "Epoch 47 / 50, Train Loss: 0.4486, \\ Test Loss: 0.3314, Duration: 0:00:08.512956\n",
            "Epoch 48 / 50, Train Loss: 0.4349, \\ Test Loss: 0.3350, Duration: 0:00:08.537005\n",
            "Epoch 49 / 50, Train Loss: 0.4326, \\ Test Loss: 0.3275, Duration: 0:00:08.449148\n",
            "Epoch 50 / 50, Train Loss: 0.4292, \\ Test Loss: 0.3237, Duration: 0:00:08.549823\n"
          ]
        }
      ]
    },
    {
      "cell_type": "code",
      "source": [
        "train_losses, test_losses = batch_gd(model, criterion, optimizer_SGD, train_loader, test_loader, 50)"
      ],
      "metadata": {
        "id": "O2ozaG9U8aNF"
      },
      "execution_count": null,
      "outputs": []
    },
    {
      "cell_type": "code",
      "source": [
        "plt.semilogy(train_losses, label='train')\n",
        "plt.semilogy(test_losses, label='test')\n",
        "plt.legend()\n",
        "plt.show()"
      ],
      "metadata": {
        "colab": {
          "base_uri": "https://localhost:8080/",
          "height": 265
        },
        "id": "drBvpOmXq-pU",
        "outputId": "de4dc5ca-6416-4766-ab5a-a4c41f056797"
      },
      "execution_count": null,
      "outputs": [
        {
          "output_type": "display_data",
          "data": {
            "text/plain": [
              "<Figure size 432x288 with 1 Axes>"
            ],
            "image/png": "[encoded data removed]"
          },
          "metadata": {
            "needs_background": "light"
          }
        }
      ]
    },
    {
      "cell_type": "code",
      "source": [
        "# Accuracy, f1_score, precision\n",
        "from sklearn.metrics import f1_score, precision_score\n",
        "x_test = test_dataset.data.numpy()\n",
        "y_test = test_dataset.targets.numpy()\n",
        "x_train = train_dataset.data.numpy()\n",
        "y_train = train_dataset.targets.numpy()\n",
        "p_test = np.array([])\n",
        "p_train = np.array([])\n",
        "model.eval()\n",
        "n_correct = 0.\n",
        "n_total = 0.\n",
        "for inputs, targets in train_loader:\n",
        "  inputs, targets = inputs.to(device), targets.to(device)\n",
        "  outputs = model(inputs)\n",
        "\n",
        "  # Get prediction\n",
        "  _, predictions = torch.max(outputs, 1)\n",
        "  p_train = np.concatenate((p_train, predictions.cpu().numpy()))\n",
        "  # update counts\n",
        "  n_correct += (predictions == targets).sum().item()\n",
        "  n_total += targets.shape[0]\n",
        "train_f1 = f1_score(y_train, p_train, average='micro')\n",
        "train_precision = precision_score(y_train, p_train, average='micro')\n",
        "train_acc = n_correct / n_total\n",
        "n_correct = 0.\n",
        "n_total = 0.\n",
        "for inputs, targets in test_loader:\n",
        "  inputs, targets = inputs.to(device), targets.to(device)\n",
        "  outputs = model(inputs)\n",
        "\n",
        "  # Get prediction\n",
        "  _, predictions = torch.max(outputs, 1)\n",
        "  p_test = np.concatenate((p_test, predictions.cpu().numpy()))\n",
        "  # update counts\n",
        "  n_correct += (predictions == targets).sum().item()\n",
        "  n_total += targets.shape[0]\n",
        "test_f1 = f1_score(y_test, p_test, average='micro')\n",
        "test_precision = precision_score(y_test, p_test, average='micro')\n",
        "test_acc = n_correct / n_total\n",
        "print(f'Train acc: {train_acc:.4f}, Test acc: {test_acc:.4f}')\n",
        "print(f'Train f1_score: {train_f1:.4f}, Test f1_score: {test_f1:.4f}')\n",
        "print(f'Train precision: {train_precision:.4f}, Test precision: {test_precision:.4f}')"
      ],
      "metadata": {
        "id": "272RRcDEFM1S",
        "colab": {
          "base_uri": "https://localhost:8080/"
        },
        "outputId": "97bb6342-1800-412d-867f-f8c1361394c3"
      },
      "execution_count": null,
      "outputs": [
        {
          "output_type": "stream",
          "name": "stderr",
          "text": [
            "/usr/local/lib/python3.7/dist-packages/ipykernel_launcher.py:30: UserWarning: Implicit dimension choice for softmax has been deprecated. Change the call to include dim=X as an argument.\n",
            "/usr/local/lib/python3.7/dist-packages/ipykernel_launcher.py:35: UserWarning: Implicit dimension choice for softmax has been deprecated. Change the call to include dim=X as an argument.\n",
            "/usr/local/lib/python3.7/dist-packages/ipykernel_launcher.py:40: UserWarning: Implicit dimension choice for softmax has been deprecated. Change the call to include dim=X as an argument.\n",
            "/usr/local/lib/python3.7/dist-packages/ipykernel_launcher.py:45: UserWarning: Implicit dimension choice for softmax has been deprecated. Change the call to include dim=X as an argument.\n",
            "/usr/local/lib/python3.7/dist-packages/ipykernel_launcher.py:30: UserWarning: Implicit dimension choice for softmax has been deprecated. Change the call to include dim=X as an argument.\n",
            "/usr/local/lib/python3.7/dist-packages/ipykernel_launcher.py:35: UserWarning: Implicit dimension choice for softmax has been deprecated. Change the call to include dim=X as an argument.\n",
            "/usr/local/lib/python3.7/dist-packages/ipykernel_launcher.py:40: UserWarning: Implicit dimension choice for softmax has been deprecated. Change the call to include dim=X as an argument.\n",
            "/usr/local/lib/python3.7/dist-packages/ipykernel_launcher.py:45: UserWarning: Implicit dimension choice for softmax has been deprecated. Change the call to include dim=X as an argument.\n"
          ]
        },
        {
          "output_type": "stream",
          "name": "stdout",
          "text": [
            "Train acc: 0.8997, Test acc: 0.8815\n",
            "Train f1_score: 0.1000, Test f1_score: 0.1022\n",
            "Train precision: 0.1000, Test precision: 0.1022\n"
          ]
        }
      ]
    },
    {
      "cell_type": "markdown",
      "source": [
        "using dropout in our model increased the accuracy and decreased the loss value.\n",
        "The main advantage of dropout method is that it prevents all neurons in a layer from syn\u0002chronously optimizing their weights. This adaptation, made in random groups, prevents all the\n",
        "neurons from converging to the same goal, thus decorrelating the weights.\n",
        "A second property discovered for the application of dropout is that the activations of the hidden\n",
        "units become sparse, which is also a desirable characteristic."
      ],
      "metadata": {
        "id": "m4trUr-S0teE"
      }
    }
  ]
}