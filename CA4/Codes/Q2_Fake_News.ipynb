{
  "nbformat": 4,
  "nbformat_minor": 0,
  "metadata": {
    "colab": {
      "provenance": []
    },
    "kernelspec": {
      "name": "python3",
      "display_name": "Python 3"
    },
    "language_info": {
      "name": "python"
    }
  },
  "cells": [
    {
      "cell_type": "code",
      "source": [
        "import pandas as pd\n",
        "import re\n",
        "import os \n",
        "import keras\n",
        "import numpy as np\n",
        "\n",
        "from keras.preprocessing.text import Tokenizer\n",
        "from keras_preprocessing.sequence import pad_sequences\n",
        "\n",
        "from keras.layers import Dense, Input, Flatten\n",
        "from keras.layers import Conv1D, MaxPooling1D, Embedding, Dropout\n",
        "from keras.layers import LSTM\n",
        "from keras.layers import BatchNormalization\n",
        "from keras.models import Model\n"
      ],
      "metadata": {
        "id": "R7lMATxIQaF2"
      },
      "execution_count": 1,
      "outputs": []
    },
    {
      "cell_type": "code",
      "source": [
        "#Hyperparameter\n",
        "\n",
        "MAX_SEQUENCE_LENGTH = 300\n",
        "MAX_NB_WORDS = 200000\n",
        "EMBEDDING_DIM = 100\n",
        "VALIDATION_SPLIT = 0.2"
      ],
      "metadata": {
        "id": "2n3Ypw4CQXuy"
      },
      "execution_count": 2,
      "outputs": []
    },
    {
      "cell_type": "code",
      "source": [
        "data_train = pd.read_csv(\"/content/FA-KES-Dataset.csv\", encoding ='ISO-8859-1')\n",
        "data_train.head()"
      ],
      "metadata": {
        "colab": {
          "base_uri": "https://localhost:8080/",
          "height": 513
        },
        "id": "3II-h6xPpJu6",
        "outputId": "0f9b0972-12d8-4a60-8030-1b826bae99fe"
      },
      "execution_count": 4,
      "outputs": [
        {
          "output_type": "execute_result",
          "data": {
            "text/plain": [
              "      unit_id                                      article_title  \\\n",
              "0  1914947530  Syria attack symptoms consistent with nerve ag...   \n",
              "1  1914947532  Homs governor says U.S. attack caused deaths b...   \n",
              "2  1914947533    Death toll from Aleppo bomb attack at least 112   \n",
              "3  1914947534        Aleppo bomb blast kills six Syrian state TV   \n",
              "4  1914947535  29 Syria Rebels Dead in Fighting for Key Alepp...   \n",
              "\n",
              "                                     article_content source       date  \\\n",
              "0  Wed 05 Apr 2017 Syria attack symptoms consiste...    nna   4/5/2017   \n",
              "1  Fri 07 Apr 2017 at 0914 Homs governor says U.S...    nna   4/7/2017   \n",
              "2  Sun 16 Apr 2017 Death toll from Aleppo bomb at...    nna  4/16/2017   \n",
              "3  Wed 19 Apr 2017 Aleppo bomb blast kills six Sy...    nna  4/19/2017   \n",
              "4  Sun 10 Jul 2016 29 Syria Rebels Dead in Fighti...    nna  7/10/2016   \n",
              "\n",
              "  location  labels  \n",
              "0    idlib       0  \n",
              "1     homs       0  \n",
              "2   aleppo       0  \n",
              "3   aleppo       0  \n",
              "4   aleppo       0  "
            ],
            "text/html": [
              "\n",
              "  <div id=\"df-a954a75d-57ad-4053-b6bd-81c613f029ae\">\n",
              "    <div class=\"colab-df-container\">\n",
              "      <div>\n",
              "<style scoped>\n",
              "    .dataframe tbody tr th:only-of-type {\n",
              "        vertical-align: middle;\n",
              "    }\n",
              "\n",
              "    .dataframe tbody tr th {\n",
              "        vertical-align: top;\n",
              "    }\n",
              "\n",
              "    .dataframe thead th {\n",
              "        text-align: right;\n",
              "    }\n",
              "</style>\n",
              "<table border=\"1\" class=\"dataframe\">\n",
              "  <thead>\n",
              "    <tr style=\"text-align: right;\">\n",
              "      <th></th>\n",
              "      <th>unit_id</th>\n",
              "      <th>article_title</th>\n",
              "      <th>article_content</th>\n",
              "      <th>source</th>\n",
              "      <th>date</th>\n",
              "      <th>location</th>\n",
              "      <th>labels</th>\n",
              "    </tr>\n",
              "  </thead>\n",
              "  <tbody>\n",
              "    <tr>\n",
              "      <th>0</th>\n",
              "      <td>1914947530</td>\n",
              "      <td>Syria attack symptoms consistent with nerve ag...</td>\n",
              "      <td>Wed 05 Apr 2017 Syria attack symptoms consiste...</td>\n",
              "      <td>nna</td>\n",
              "      <td>4/5/2017</td>\n",
              "      <td>idlib</td>\n",
              "      <td>0</td>\n",
              "    </tr>\n",
              "    <tr>\n",
              "      <th>1</th>\n",
              "      <td>1914947532</td>\n",
              "      <td>Homs governor says U.S. attack caused deaths b...</td>\n",
              "      <td>Fri 07 Apr 2017 at 0914 Homs governor says U.S...</td>\n",
              "      <td>nna</td>\n",
              "      <td>4/7/2017</td>\n",
              "      <td>homs</td>\n",
              "      <td>0</td>\n",
              "    </tr>\n",
              "    <tr>\n",
              "      <th>2</th>\n",
              "      <td>1914947533</td>\n",
              "      <td>Death toll from Aleppo bomb attack at least 112</td>\n",
              "      <td>Sun 16 Apr 2017 Death toll from Aleppo bomb at...</td>\n",
              "      <td>nna</td>\n",
              "      <td>4/16/2017</td>\n",
              "      <td>aleppo</td>\n",
              "      <td>0</td>\n",
              "    </tr>\n",
              "    <tr>\n",
              "      <th>3</th>\n",
              "      <td>1914947534</td>\n",
              "      <td>Aleppo bomb blast kills six Syrian state TV</td>\n",
              "      <td>Wed 19 Apr 2017 Aleppo bomb blast kills six Sy...</td>\n",
              "      <td>nna</td>\n",
              "      <td>4/19/2017</td>\n",
              "      <td>aleppo</td>\n",
              "      <td>0</td>\n",
              "    </tr>\n",
              "    <tr>\n",
              "      <th>4</th>\n",
              "      <td>1914947535</td>\n",
              "      <td>29 Syria Rebels Dead in Fighting for Key Alepp...</td>\n",
              "      <td>Sun 10 Jul 2016 29 Syria Rebels Dead in Fighti...</td>\n",
              "      <td>nna</td>\n",
              "      <td>7/10/2016</td>\n",
              "      <td>aleppo</td>\n",
              "      <td>0</td>\n",
              "    </tr>\n",
              "  </tbody>\n",
              "</table>\n",
              "</div>\n",
              "      <button class=\"colab-df-convert\" onclick=\"convertToInteractive('df-a954a75d-57ad-4053-b6bd-81c613f029ae')\"\n",
              "              title=\"Convert this dataframe to an interactive table.\"\n",
              "              style=\"display:none;\">\n",
              "        \n",
              "  <svg xmlns=\"http://www.w3.org/2000/svg\" height=\"24px\"viewBox=\"0 0 24 24\"\n",
              "       width=\"24px\">\n",
              "    <path d=\"M0 0h24v24H0V0z\" fill=\"none\"/>\n",
              "    <path d=\"M18.56 5.44l.94 2.06.94-2.06 2.06-.94-2.06-.94-.94-2.06-.94 2.06-2.06.94zm-11 1L8.5 8.5l.94-2.06 2.06-.94-2.06-.94L8.5 2.5l-.94 2.06-2.06.94zm10 10l.94 2.06.94-2.06 2.06-.94-2.06-.94-.94-2.06-.94 2.06-2.06.94z\"/><path d=\"M17.41 7.96l-1.37-1.37c-.4-.4-.92-.59-1.43-.59-.52 0-1.04.2-1.43.59L10.3 9.45l-7.72 7.72c-.78.78-.78 2.05 0 2.83L4 21.41c.39.39.9.59 1.41.59.51 0 1.02-.2 1.41-.59l7.78-7.78 2.81-2.81c.8-.78.8-2.07 0-2.86zM5.41 20L4 18.59l7.72-7.72 1.47 1.35L5.41 20z\"/>\n",
              "  </svg>\n",
              "      </button>\n",
              "      \n",
              "  <style>\n",
              "    .colab-df-container {\n",
              "      display:flex;\n",
              "      flex-wrap:wrap;\n",
              "      gap: 12px;\n",
              "    }\n",
              "\n",
              "    .colab-df-convert {\n",
              "      background-color: #E8F0FE;\n",
              "      border: none;\n",
              "      border-radius: 50%;\n",
              "      cursor: pointer;\n",
              "      display: none;\n",
              "      fill: #1967D2;\n",
              "      height: 32px;\n",
              "      padding: 0 0 0 0;\n",
              "      width: 32px;\n",
              "    }\n",
              "\n",
              "    .colab-df-convert:hover {\n",
              "      background-color: #E2EBFA;\n",
              "      box-shadow: 0px 1px 2px rgba(60, 64, 67, 0.3), 0px 1px 3px 1px rgba(60, 64, 67, 0.15);\n",
              "      fill: #174EA6;\n",
              "    }\n",
              "\n",
              "    [theme=dark] .colab-df-convert {\n",
              "      background-color: #3B4455;\n",
              "      fill: #D2E3FC;\n",
              "    }\n",
              "\n",
              "    [theme=dark] .colab-df-convert:hover {\n",
              "      background-color: #434B5C;\n",
              "      box-shadow: 0px 1px 3px 1px rgba(0, 0, 0, 0.15);\n",
              "      filter: drop-shadow(0px 1px 2px rgba(0, 0, 0, 0.3));\n",
              "      fill: #FFFFFF;\n",
              "    }\n",
              "  </style>\n",
              "\n",
              "      <script>\n",
              "        const buttonEl =\n",
              "          document.querySelector('#df-a954a75d-57ad-4053-b6bd-81c613f029ae button.colab-df-convert');\n",
              "        buttonEl.style.display =\n",
              "          google.colab.kernel.accessAllowed ? 'block' : 'none';\n",
              "\n",
              "        async function convertToInteractive(key) {\n",
              "          const element = document.querySelector('#df-a954a75d-57ad-4053-b6bd-81c613f029ae');\n",
              "          const dataTable =\n",
              "            await google.colab.kernel.invokeFunction('convertToInteractive',\n",
              "                                                     [key], {});\n",
              "          if (!dataTable) return;\n",
              "\n",
              "          const docLinkHtml = 'Like what you see? Visit the ' +\n",
              "            '<a target=\"_blank\" href=https://colab.research.google.com/notebooks/data_table.ipynb>data table notebook</a>'\n",
              "            + ' to learn more about interactive tables.';\n",
              "          element.innerHTML = '';\n",
              "          dataTable['output_type'] = 'display_data';\n",
              "          await google.colab.output.renderOutput(dataTable, element);\n",
              "          const docLink = document.createElement('div');\n",
              "          docLink.innerHTML = docLinkHtml;\n",
              "          element.appendChild(docLink);\n",
              "        }\n",
              "      </script>\n",
              "    </div>\n",
              "  </div>\n",
              "  "
            ]
          },
          "metadata": {},
          "execution_count": 4
        }
      ]
    },
    {
      "cell_type": "code",
      "source": [
        "texts = []\n",
        "labels = []\n",
        "for i in range(data_train.article_content.shape[0]):\n",
        "    text1 = data_train.article_title[i]\n",
        "    text2 = data_train.article_content[i]\n",
        "    text = str(text1) +\"\"+ str(text2)\n",
        "    texts.append(text)\n",
        "    labels.append(data_train.labels[i])\n",
        "\n",
        "News = pd.DataFrame()    \n",
        "News['text'] = texts\n",
        "News['label'] = labels\n",
        "News"
      ],
      "metadata": {
        "id": "UkGQ7TSDQnjx",
        "colab": {
          "base_uri": "https://localhost:8080/",
          "height": 424
        },
        "outputId": "427057ca-2790-45c2-96e2-f63fbfbfe263"
      },
      "execution_count": 5,
      "outputs": [
        {
          "output_type": "execute_result",
          "data": {
            "text/plain": [
              "                                                  text  label\n",
              "0    Syria attack symptoms consistent with nerve ag...      0\n",
              "1    Homs governor says U.S. attack caused deaths b...      0\n",
              "2    Death toll from Aleppo bomb attack at least 11...      0\n",
              "3    Aleppo bomb blast kills six Syrian state TVWed...      0\n",
              "4    29 Syria Rebels Dead in Fighting for Key Alepp...      0\n",
              "..                                                 ...    ...\n",
              "799  Turkish Bombardment Kills 20 Civilians in Syri...      1\n",
              "800  Martyrs as Terrorists Shell Aleppos Salah Eddi...      1\n",
              "801  Chemical Attack Kills Five Syrians in Aleppo S...      0\n",
              "802  5 Killed as Russian Military Chopper Shot down...      1\n",
              "803  Syrian Army Kills 48 ISIL Terrorists in Deir E...      1\n",
              "\n",
              "[804 rows x 2 columns]"
            ],
            "text/html": [
              "\n",
              "  <div id=\"df-76b2dad7-ec1c-49ed-8c99-5ed0a281c5c2\">\n",
              "    <div class=\"colab-df-container\">\n",
              "      <div>\n",
              "<style scoped>\n",
              "    .dataframe tbody tr th:only-of-type {\n",
              "        vertical-align: middle;\n",
              "    }\n",
              "\n",
              "    .dataframe tbody tr th {\n",
              "        vertical-align: top;\n",
              "    }\n",
              "\n",
              "    .dataframe thead th {\n",
              "        text-align: right;\n",
              "    }\n",
              "</style>\n",
              "<table border=\"1\" class=\"dataframe\">\n",
              "  <thead>\n",
              "    <tr style=\"text-align: right;\">\n",
              "      <th></th>\n",
              "      <th>text</th>\n",
              "      <th>label</th>\n",
              "    </tr>\n",
              "  </thead>\n",
              "  <tbody>\n",
              "    <tr>\n",
              "      <th>0</th>\n",
              "      <td>Syria attack symptoms consistent with nerve ag...</td>\n",
              "      <td>0</td>\n",
              "    </tr>\n",
              "    <tr>\n",
              "      <th>1</th>\n",
              "      <td>Homs governor says U.S. attack caused deaths b...</td>\n",
              "      <td>0</td>\n",
              "    </tr>\n",
              "    <tr>\n",
              "      <th>2</th>\n",
              "      <td>Death toll from Aleppo bomb attack at least 11...</td>\n",
              "      <td>0</td>\n",
              "    </tr>\n",
              "    <tr>\n",
              "      <th>3</th>\n",
              "      <td>Aleppo bomb blast kills six Syrian state TVWed...</td>\n",
              "      <td>0</td>\n",
              "    </tr>\n",
              "    <tr>\n",
              "      <th>4</th>\n",
              "      <td>29 Syria Rebels Dead in Fighting for Key Alepp...</td>\n",
              "      <td>0</td>\n",
              "    </tr>\n",
              "    <tr>\n",
              "      <th>...</th>\n",
              "      <td>...</td>\n",
              "      <td>...</td>\n",
              "    </tr>\n",
              "    <tr>\n",
              "      <th>799</th>\n",
              "      <td>Turkish Bombardment Kills 20 Civilians in Syri...</td>\n",
              "      <td>1</td>\n",
              "    </tr>\n",
              "    <tr>\n",
              "      <th>800</th>\n",
              "      <td>Martyrs as Terrorists Shell Aleppos Salah Eddi...</td>\n",
              "      <td>1</td>\n",
              "    </tr>\n",
              "    <tr>\n",
              "      <th>801</th>\n",
              "      <td>Chemical Attack Kills Five Syrians in Aleppo S...</td>\n",
              "      <td>0</td>\n",
              "    </tr>\n",
              "    <tr>\n",
              "      <th>802</th>\n",
              "      <td>5 Killed as Russian Military Chopper Shot down...</td>\n",
              "      <td>1</td>\n",
              "    </tr>\n",
              "    <tr>\n",
              "      <th>803</th>\n",
              "      <td>Syrian Army Kills 48 ISIL Terrorists in Deir E...</td>\n",
              "      <td>1</td>\n",
              "    </tr>\n",
              "  </tbody>\n",
              "</table>\n",
              "<p>804 rows × 2 columns</p>\n",
              "</div>\n",
              "      <button class=\"colab-df-convert\" onclick=\"convertToInteractive('df-76b2dad7-ec1c-49ed-8c99-5ed0a281c5c2')\"\n",
              "              title=\"Convert this dataframe to an interactive table.\"\n",
              "              style=\"display:none;\">\n",
              "        \n",
              "  <svg xmlns=\"http://www.w3.org/2000/svg\" height=\"24px\"viewBox=\"0 0 24 24\"\n",
              "       width=\"24px\">\n",
              "    <path d=\"M0 0h24v24H0V0z\" fill=\"none\"/>\n",
              "    <path d=\"M18.56 5.44l.94 2.06.94-2.06 2.06-.94-2.06-.94-.94-2.06-.94 2.06-2.06.94zm-11 1L8.5 8.5l.94-2.06 2.06-.94-2.06-.94L8.5 2.5l-.94 2.06-2.06.94zm10 10l.94 2.06.94-2.06 2.06-.94-2.06-.94-.94-2.06-.94 2.06-2.06.94z\"/><path d=\"M17.41 7.96l-1.37-1.37c-.4-.4-.92-.59-1.43-.59-.52 0-1.04.2-1.43.59L10.3 9.45l-7.72 7.72c-.78.78-.78 2.05 0 2.83L4 21.41c.39.39.9.59 1.41.59.51 0 1.02-.2 1.41-.59l7.78-7.78 2.81-2.81c.8-.78.8-2.07 0-2.86zM5.41 20L4 18.59l7.72-7.72 1.47 1.35L5.41 20z\"/>\n",
              "  </svg>\n",
              "      </button>\n",
              "      \n",
              "  <style>\n",
              "    .colab-df-container {\n",
              "      display:flex;\n",
              "      flex-wrap:wrap;\n",
              "      gap: 12px;\n",
              "    }\n",
              "\n",
              "    .colab-df-convert {\n",
              "      background-color: #E8F0FE;\n",
              "      border: none;\n",
              "      border-radius: 50%;\n",
              "      cursor: pointer;\n",
              "      display: none;\n",
              "      fill: #1967D2;\n",
              "      height: 32px;\n",
              "      padding: 0 0 0 0;\n",
              "      width: 32px;\n",
              "    }\n",
              "\n",
              "    .colab-df-convert:hover {\n",
              "      background-color: #E2EBFA;\n",
              "      box-shadow: 0px 1px 2px rgba(60, 64, 67, 0.3), 0px 1px 3px 1px rgba(60, 64, 67, 0.15);\n",
              "      fill: #174EA6;\n",
              "    }\n",
              "\n",
              "    [theme=dark] .colab-df-convert {\n",
              "      background-color: #3B4455;\n",
              "      fill: #D2E3FC;\n",
              "    }\n",
              "\n",
              "    [theme=dark] .colab-df-convert:hover {\n",
              "      background-color: #434B5C;\n",
              "      box-shadow: 0px 1px 3px 1px rgba(0, 0, 0, 0.15);\n",
              "      filter: drop-shadow(0px 1px 2px rgba(0, 0, 0, 0.3));\n",
              "      fill: #FFFFFF;\n",
              "    }\n",
              "  </style>\n",
              "\n",
              "      <script>\n",
              "        const buttonEl =\n",
              "          document.querySelector('#df-76b2dad7-ec1c-49ed-8c99-5ed0a281c5c2 button.colab-df-convert');\n",
              "        buttonEl.style.display =\n",
              "          google.colab.kernel.accessAllowed ? 'block' : 'none';\n",
              "\n",
              "        async function convertToInteractive(key) {\n",
              "          const element = document.querySelector('#df-76b2dad7-ec1c-49ed-8c99-5ed0a281c5c2');\n",
              "          const dataTable =\n",
              "            await google.colab.kernel.invokeFunction('convertToInteractive',\n",
              "                                                     [key], {});\n",
              "          if (!dataTable) return;\n",
              "\n",
              "          const docLinkHtml = 'Like what you see? Visit the ' +\n",
              "            '<a target=\"_blank\" href=https://colab.research.google.com/notebooks/data_table.ipynb>data table notebook</a>'\n",
              "            + ' to learn more about interactive tables.';\n",
              "          element.innerHTML = '';\n",
              "          dataTable['output_type'] = 'display_data';\n",
              "          await google.colab.output.renderOutput(dataTable, element);\n",
              "          const docLink = document.createElement('div');\n",
              "          docLink.innerHTML = docLinkHtml;\n",
              "          element.appendChild(docLink);\n",
              "        }\n",
              "      </script>\n",
              "    </div>\n",
              "  </div>\n",
              "  "
            ]
          },
          "metadata": {},
          "execution_count": 5
        }
      ]
    },
    {
      "cell_type": "code",
      "source": [
        "import nltk\n",
        "from nltk.corpus import stopwords\n",
        "from nltk.stem import WordNetLemmatizer\n",
        "from nltk.stem import PorterStemmer \n",
        "nltk.download('stopwords')\n",
        "nltk.download('wordnet')\n",
        "nltk.download('omw-1.4')\n",
        "def pre_process_news(news):\n",
        "    \n",
        "    lemm = WordNetLemmatizer()\n",
        "    ps = PorterStemmer() \n",
        "    stop_words = set(stopwords.words('english'))\n",
        "    news = news.lower()\n",
        "    news = re.sub(\"[^0-9a-z]\", ' ' , news) # removes punctuations\n",
        "    news = re.sub(r\"http\\S+\", \"\", news)\n",
        "    tokenized = news.split(\" \")\n",
        "    news = [ ps.stem(word) for word in tokenized if word not in stop_words] # apply stemming and drop stopwords\n",
        "    news = \" \".join(news)  # join the tokens into a string\n",
        "    news = lemm.lemmatize(news)  \n",
        "    return news\n",
        "News['processed_text'] = News['text'].apply(lambda news : pre_process_news(news))\n",
        "data = News[\"processed_text\"]"
      ],
      "metadata": {
        "colab": {
          "base_uri": "https://localhost:8080/"
        },
        "id": "dVWNUjbbBz4H",
        "outputId": "2b32b578-6d1e-48a9-e7a3-87a3e347d615"
      },
      "execution_count": 6,
      "outputs": [
        {
          "output_type": "stream",
          "name": "stderr",
          "text": [
            "[nltk_data] Downloading package stopwords to /root/nltk_data...\n",
            "[nltk_data]   Unzipping corpora/stopwords.zip.\n",
            "[nltk_data] Downloading package wordnet to /root/nltk_data...\n",
            "[nltk_data] Downloading package omw-1.4 to /root/nltk_data...\n"
          ]
        }
      ]
    },
    {
      "cell_type": "code",
      "source": [
        "tokenizer = Tokenizer(filters='!\"#$%&()*+,-./:;<=>?@[\\\\]^_`{|}~\\t\\n', lower = True, split = ' ')\n",
        "tokenizer.fit_on_texts(texts = data)\n",
        "sequences = tokenizer.texts_to_sequences(texts = data)\n",
        "word_index = tokenizer.word_index"
      ],
      "metadata": {
        "id": "CZ4tnE_B-xcq"
      },
      "execution_count": 7,
      "outputs": []
    },
    {
      "cell_type": "code",
      "source": [
        "data = pad_sequences(sequences, maxlen=MAX_SEQUENCE_LENGTH)\n",
        "labels = keras.utils.to_categorical(np.asarray(labels),num_classes = 2)\n",
        "labels = np.asarray(labels)"
      ],
      "metadata": {
        "id": "DygfMODq-4-n"
      },
      "execution_count": 8,
      "outputs": []
    },
    {
      "cell_type": "code",
      "source": [
        "from sklearn.model_selection import train_test_split\n",
        "indices = np.arange(data.shape[0])\n",
        "np.random.shuffle(indices)\n",
        "data = data[indices]\n",
        "labels = labels[indices]\n",
        "x_train, x_test, y_train, y_test = train_test_split( data, labels, test_size=0.20, random_state=42)\n",
        "x_test, x_val, y_test, y_val = train_test_split( x_test, y_test, test_size=0.50, random_state=42)  "
      ],
      "metadata": {
        "id": "s4JJyciPyzt5"
      },
      "execution_count": 9,
      "outputs": []
    },
    {
      "cell_type": "code",
      "source": [
        "y_train = np.array([np.argmax(y, axis=None, out=None) for y in y_train], dtype=np.float32)\n",
        "y_test = np.array([np.argmax(y, axis=None, out=None) for y in y_test], dtype=np.float32)\n"
      ],
      "metadata": {
        "id": "aezjHU7kp7ZF"
      },
      "execution_count": 10,
      "outputs": []
    },
    {
      "cell_type": "code",
      "source": [
        "x_test, x_valid, y_test, y_valid = train_test_split(x_test, y_test, test_size=0.20, random_state=42)\n"
      ],
      "metadata": {
        "id": "DTVVBQXasfd-"
      },
      "execution_count": 11,
      "outputs": []
    },
    {
      "cell_type": "code",
      "source": [
        "!rm -r ~/.kaggle\n",
        "! mkdir ~/.kaggle\n",
        "from google.colab import files\n",
        "files.upload() \n",
        "!cp ./kaggle.json ~/.kaggle/\n",
        "!chmod 600 ~/.kaggle/kaggle.json\n",
        "! kaggle datasets download danielwillgeorge/glove6b100dtxt"
      ],
      "metadata": {
        "colab": {
          "base_uri": "https://localhost:8080/",
          "height": 143
        },
        "id": "EjCGnmNAxZh8",
        "outputId": "e0b9714c-7af5-4786-99e3-550809ad90c5"
      },
      "execution_count": 12,
      "outputs": [
        {
          "output_type": "stream",
          "name": "stdout",
          "text": [
            "rm: cannot remove '/root/.kaggle': No such file or directory\n"
          ]
        },
        {
          "output_type": "display_data",
          "data": {
            "text/plain": [
              "<IPython.core.display.HTML object>"
            ],
            "text/html": [
              "\n",
              "     <input type=\"file\" id=\"files-3abc6169-8964-4ef3-a4c9-516850f1f0a8\" name=\"files[]\" multiple disabled\n",
              "        style=\"border:none\" />\n",
              "     <output id=\"result-3abc6169-8964-4ef3-a4c9-516850f1f0a8\">\n",
              "      Upload widget is only available when the cell has been executed in the\n",
              "      current browser session. Please rerun this cell to enable.\n",
              "      </output>\n",
              "      <script>// Copyright 2017 Google LLC\n",
              "//\n",
              "// Licensed under the Apache License, Version 2.0 (the \"License\");\n",
              "// you may not use this file except in compliance with the License.\n",
              "// You may obtain a copy of the License at\n",
              "//\n",
              "//      http://www.apache.org/licenses/LICENSE-2.0\n",
              "//\n",
              "// Unless required by applicable law or agreed to in writing, software\n",
              "// distributed under the License is distributed on an \"AS IS\" BASIS,\n",
              "// WITHOUT WARRANTIES OR CONDITIONS OF ANY KIND, either express or implied.\n",
              "// See the License for the specific language governing permissions and\n",
              "// limitations under the License.\n",
              "\n",
              "/**\n",
              " * @fileoverview Helpers for google.colab Python module.\n",
              " */\n",
              "(function(scope) {\n",
              "function span(text, styleAttributes = {}) {\n",
              "  const element = document.createElement('span');\n",
              "  element.textContent = text;\n",
              "  for (const key of Object.keys(styleAttributes)) {\n",
              "    element.style[key] = styleAttributes[key];\n",
              "  }\n",
              "  return element;\n",
              "}\n",
              "\n",
              "// Max number of bytes which will be uploaded at a time.\n",
              "const MAX_PAYLOAD_SIZE = 100 * 1024;\n",
              "\n",
              "function _uploadFiles(inputId, outputId) {\n",
              "  const steps = uploadFilesStep(inputId, outputId);\n",
              "  const outputElement = document.getElementById(outputId);\n",
              "  // Cache steps on the outputElement to make it available for the next call\n",
              "  // to uploadFilesContinue from Python.\n",
              "  outputElement.steps = steps;\n",
              "\n",
              "  return _uploadFilesContinue(outputId);\n",
              "}\n",
              "\n",
              "// This is roughly an async generator (not supported in the browser yet),\n",
              "// where there are multiple asynchronous steps and the Python side is going\n",
              "// to poll for completion of each step.\n",
              "// This uses a Promise to block the python side on completion of each step,\n",
              "// then passes the result of the previous step as the input to the next step.\n",
              "function _uploadFilesContinue(outputId) {\n",
              "  const outputElement = document.getElementById(outputId);\n",
              "  const steps = outputElement.steps;\n",
              "\n",
              "  const next = steps.next(outputElement.lastPromiseValue);\n",
              "  return Promise.resolve(next.value.promise).then((value) => {\n",
              "    // Cache the last promise value to make it available to the next\n",
              "    // step of the generator.\n",
              "    outputElement.lastPromiseValue = value;\n",
              "    return next.value.response;\n",
              "  });\n",
              "}\n",
              "\n",
              "/**\n",
              " * Generator function which is called between each async step of the upload\n",
              " * process.\n",
              " * @param {string} inputId Element ID of the input file picker element.\n",
              " * @param {string} outputId Element ID of the output display.\n",
              " * @return {!Iterable<!Object>} Iterable of next steps.\n",
              " */\n",
              "function* uploadFilesStep(inputId, outputId) {\n",
              "  const inputElement = document.getElementById(inputId);\n",
              "  inputElement.disabled = false;\n",
              "\n",
              "  const outputElement = document.getElementById(outputId);\n",
              "  outputElement.innerHTML = '';\n",
              "\n",
              "  const pickedPromise = new Promise((resolve) => {\n",
              "    inputElement.addEventListener('change', (e) => {\n",
              "      resolve(e.target.files);\n",
              "    });\n",
              "  });\n",
              "\n",
              "  const cancel = document.createElement('button');\n",
              "  inputElement.parentElement.appendChild(cancel);\n",
              "  cancel.textContent = 'Cancel upload';\n",
              "  const cancelPromise = new Promise((resolve) => {\n",
              "    cancel.onclick = () => {\n",
              "      resolve(null);\n",
              "    };\n",
              "  });\n",
              "\n",
              "  // Wait for the user to pick the files.\n",
              "  const files = yield {\n",
              "    promise: Promise.race([pickedPromise, cancelPromise]),\n",
              "    response: {\n",
              "      action: 'starting',\n",
              "    }\n",
              "  };\n",
              "\n",
              "  cancel.remove();\n",
              "\n",
              "  // Disable the input element since further picks are not allowed.\n",
              "  inputElement.disabled = true;\n",
              "\n",
              "  if (!files) {\n",
              "    return {\n",
              "      response: {\n",
              "        action: 'complete',\n",
              "      }\n",
              "    };\n",
              "  }\n",
              "\n",
              "  for (const file of files) {\n",
              "    const li = document.createElement('li');\n",
              "    li.append(span(file.name, {fontWeight: 'bold'}));\n",
              "    li.append(span(\n",
              "        `(${file.type || 'n/a'}) - ${file.size} bytes, ` +\n",
              "        `last modified: ${\n",
              "            file.lastModifiedDate ? file.lastModifiedDate.toLocaleDateString() :\n",
              "                                    'n/a'} - `));\n",
              "    const percent = span('0% done');\n",
              "    li.appendChild(percent);\n",
              "\n",
              "    outputElement.appendChild(li);\n",
              "\n",
              "    const fileDataPromise = new Promise((resolve) => {\n",
              "      const reader = new FileReader();\n",
              "      reader.onload = (e) => {\n",
              "        resolve(e.target.result);\n",
              "      };\n",
              "      reader.readAsArrayBuffer(file);\n",
              "    });\n",
              "    // Wait for the data to be ready.\n",
              "    let fileData = yield {\n",
              "      promise: fileDataPromise,\n",
              "      response: {\n",
              "        action: 'continue',\n",
              "      }\n",
              "    };\n",
              "\n",
              "    // Use a chunked sending to avoid message size limits. See b/62115660.\n",
              "    let position = 0;\n",
              "    do {\n",
              "      const length = Math.min(fileData.byteLength - position, MAX_PAYLOAD_SIZE);\n",
              "      const chunk = new Uint8Array(fileData, position, length);\n",
              "      position += length;\n",
              "\n",
              "      const base64 = btoa(String.fromCharCode.apply(null, chunk));\n",
              "      yield {\n",
              "        response: {\n",
              "          action: 'append',\n",
              "          file: file.name,\n",
              "          data: base64,\n",
              "        },\n",
              "      };\n",
              "\n",
              "      let percentDone = fileData.byteLength === 0 ?\n",
              "          100 :\n",
              "          Math.round((position / fileData.byteLength) * 100);\n",
              "      percent.textContent = `${percentDone}% done`;\n",
              "\n",
              "    } while (position < fileData.byteLength);\n",
              "  }\n",
              "\n",
              "  // All done.\n",
              "  yield {\n",
              "    response: {\n",
              "      action: 'complete',\n",
              "    }\n",
              "  };\n",
              "}\n",
              "\n",
              "scope.google = scope.google || {};\n",
              "scope.google.colab = scope.google.colab || {};\n",
              "scope.google.colab._files = {\n",
              "  _uploadFiles,\n",
              "  _uploadFilesContinue,\n",
              "};\n",
              "})(self);\n",
              "</script> "
            ]
          },
          "metadata": {}
        },
        {
          "output_type": "stream",
          "name": "stdout",
          "text": [
            "Saving kaggle.json to kaggle.json\n",
            "Downloading glove6b100dtxt.zip to /content\n",
            " 94% 123M/131M [00:01<00:00, 94.1MB/s]\n",
            "100% 131M/131M [00:01<00:00, 87.9MB/s]\n"
          ]
        }
      ]
    },
    {
      "cell_type": "code",
      "source": [
        "! unzip glove6b100dtxt"
      ],
      "metadata": {
        "colab": {
          "base_uri": "https://localhost:8080/"
        },
        "id": "GoCVJpVyzg07",
        "outputId": "0077b7d9-020c-4dbe-cf75-fccb91d1b29e"
      },
      "execution_count": 13,
      "outputs": [
        {
          "output_type": "stream",
          "name": "stdout",
          "text": [
            "Archive:  glove6b100dtxt.zip\n",
            "  inflating: glove.6B.100d.txt       \n"
          ]
        }
      ]
    },
    {
      "cell_type": "code",
      "source": [
        "from keras.models import Sequential\n",
        "from matplotlib import pyplot as plt\n",
        "\n",
        "%matplotlib inline\n",
        "\n",
        "#Using Pre-trained word embeddings: GLOVE Method\n",
        "GLOVE_DIR = \"/content\" \n",
        "embeddings_index = {}\n",
        "f = open(os.path.join(GLOVE_DIR, 'glove.6B.100d.txt'), encoding=\"utf8\")\n",
        "for line in f:\n",
        "    values = line.split()\n",
        "    word = values[0]\n",
        "    vecs = np.asarray(values[1:], dtype='float32')\n",
        "    embeddings_index[word] = vecs\n",
        "f.close()\n",
        "embedding_matrix = np.zeros((len(word_index) + 1, EMBEDDING_DIM))\n",
        "for word, i in word_index.items():\n",
        "    embedding_vector = embeddings_index.get(word)\n",
        "    if embedding_vector is not None:\n",
        "        embedding_matrix[i] = embedding_vector\n",
        "        \n",
        "embedding_layer = Embedding(len(word_index) + 1, EMBEDDING_DIM, weights=[embedding_matrix], input_length=MAX_SEQUENCE_LENGTH)\n"
      ],
      "metadata": {
        "id": "nxYuID-ARZ6t"
      },
      "execution_count": 14,
      "outputs": []
    },
    {
      "cell_type": "code",
      "source": [
        "from keras import backend as K\n",
        "\n",
        "def recall_m(y_true, y_pred):\n",
        "    true_positives = K.sum(K.round(K.clip(y_true * y_pred, 0, 1)))\n",
        "    possible_positives = K.sum(K.round(K.clip(y_true, 0, 1)))\n",
        "    recall = true_positives / (possible_positives + K.epsilon())\n",
        "    return recall\n",
        "\n",
        "def precision_m(y_true, y_pred):\n",
        "    true_positives = K.sum(K.round(K.clip(y_true * y_pred, 0, 1)))\n",
        "    predicted_positives = K.sum(K.round(K.clip(y_pred, 0, 1)))\n",
        "    precision = true_positives / (predicted_positives + K.epsilon())\n",
        "    return precision\n",
        "\n",
        "def f1_m(y_true, y_pred):\n",
        "    precision = precision_m(y_true, y_pred)\n",
        "    recall = recall_m(y_true, y_pred)\n",
        "    return 2*((precision*recall)/(precision+recall+K.epsilon()))"
      ],
      "metadata": {
        "id": "Yb_XmU5VJa_w"
      },
      "execution_count": 15,
      "outputs": []
    },
    {
      "cell_type": "code",
      "source": [
        "EPOCHS = 10\n",
        "# CNN-RNN Model\n",
        "modell = Sequential()\n",
        "modell.add(embedding_layer)\n",
        "modell.add(Conv1D(filters=128, kernel_size=5, padding='valid', activation='relu'))\n",
        "modell.add(MaxPooling1D(pool_size=2))\n",
        "modell.add(LSTM(100, dropout=0.2))\n",
        "modell.add(BatchNormalization())\n",
        "modell.add(Dense(32, activation='relu'))\n",
        "modell.add(Dense(1, activation='sigmoid'))\n",
        "modell.compile(loss='binary_crossentropy', optimizer='adam', metrics=['accuracy',f1_m, precision_m, recall_m])\n",
        "print(modell.summary())\n",
        "history=modell.fit(x_train, y_train, epochs=EPOCHS, batch_size=64, validation_data=(x_valid, y_valid))\n",
        "\n",
        "modell.save('lstm.h5')"
      ],
      "metadata": {
        "id": "3b20WlDuRlzc",
        "colab": {
          "base_uri": "https://localhost:8080/"
        },
        "outputId": "abfd9613-4309-4c6d-8edb-32c8eded4518"
      },
      "execution_count": 16,
      "outputs": [
        {
          "output_type": "stream",
          "name": "stdout",
          "text": [
            "Model: \"sequential\"\n",
            "_________________________________________________________________\n",
            " Layer (type)                Output Shape              Param #   \n",
            "=================================================================\n",
            " embedding (Embedding)       (None, 300, 100)          797600    \n",
            "                                                                 \n",
            " conv1d (Conv1D)             (None, 296, 128)          64128     \n",
            "                                                                 \n",
            " max_pooling1d (MaxPooling1D  (None, 148, 128)         0         \n",
            " )                                                               \n",
            "                                                                 \n",
            " lstm (LSTM)                 (None, 100)               91600     \n",
            "                                                                 \n",
            " batch_normalization (BatchN  (None, 100)              400       \n",
            " ormalization)                                                   \n",
            "                                                                 \n",
            " dense (Dense)               (None, 32)                3232      \n",
            "                                                                 \n",
            " dense_1 (Dense)             (None, 1)                 33        \n",
            "                                                                 \n",
            "=================================================================\n",
            "Total params: 956,993\n",
            "Trainable params: 956,793\n",
            "Non-trainable params: 200\n",
            "_________________________________________________________________\n",
            "None\n",
            "Epoch 1/10\n",
            "11/11 [==============================] - 10s 573ms/step - loss: 0.8149 - accuracy: 0.4868 - f1_m: 0.5324 - precision_m: 0.5635 - recall_m: 0.5182 - val_loss: 0.6315 - val_accuracy: 0.7500 - val_f1_m: 0.8571 - val_precision_m: 0.7500 - val_recall_m: 1.0000\n",
            "Epoch 2/10\n",
            "11/11 [==============================] - 5s 491ms/step - loss: 0.6214 - accuracy: 0.6594 - f1_m: 0.6885 - precision_m: 0.6992 - recall_m: 0.7016 - val_loss: 0.5967 - val_accuracy: 0.7500 - val_f1_m: 0.8571 - val_precision_m: 0.7500 - val_recall_m: 1.0000\n",
            "Epoch 3/10\n",
            "11/11 [==============================] - 5s 480ms/step - loss: 0.5452 - accuracy: 0.7138 - f1_m: 0.7263 - precision_m: 0.6900 - recall_m: 0.7735 - val_loss: 0.6304 - val_accuracy: 0.7500 - val_f1_m: 0.8571 - val_precision_m: 0.7500 - val_recall_m: 1.0000\n",
            "Epoch 4/10\n",
            "11/11 [==============================] - 5s 489ms/step - loss: 0.4664 - accuracy: 0.8072 - f1_m: 0.7444 - precision_m: 0.7383 - recall_m: 0.7525 - val_loss: 0.6461 - val_accuracy: 0.8125 - val_f1_m: 0.8889 - val_precision_m: 0.8000 - val_recall_m: 1.0000\n",
            "Epoch 5/10\n",
            "11/11 [==============================] - 7s 622ms/step - loss: 0.4165 - accuracy: 0.8336 - f1_m: 0.8253 - precision_m: 0.8754 - recall_m: 0.7944 - val_loss: 0.6506 - val_accuracy: 0.6250 - val_f1_m: 0.7692 - val_precision_m: 0.7143 - val_recall_m: 0.8333\n",
            "Epoch 6/10\n",
            "11/11 [==============================] - 8s 574ms/step - loss: 0.3853 - accuracy: 0.8460 - f1_m: 0.8540 - precision_m: 0.8562 - recall_m: 0.8611 - val_loss: 0.7270 - val_accuracy: 0.4375 - val_f1_m: 0.4000 - val_precision_m: 1.0000 - val_recall_m: 0.2500\n",
            "Epoch 7/10\n",
            "11/11 [==============================] - 5s 488ms/step - loss: 0.3286 - accuracy: 0.8802 - f1_m: 0.8997 - precision_m: 0.8832 - recall_m: 0.9188 - val_loss: 0.6376 - val_accuracy: 0.6875 - val_f1_m: 0.8148 - val_precision_m: 0.7333 - val_recall_m: 0.9167\n",
            "Epoch 8/10\n",
            "11/11 [==============================] - 5s 487ms/step - loss: 0.3177 - accuracy: 0.8631 - f1_m: 0.8806 - precision_m: 0.8674 - recall_m: 0.9068 - val_loss: 0.6350 - val_accuracy: 0.6250 - val_f1_m: 0.7692 - val_precision_m: 0.7143 - val_recall_m: 0.8333\n",
            "Epoch 9/10\n",
            "11/11 [==============================] - 5s 487ms/step - loss: 0.2715 - accuracy: 0.9082 - f1_m: 0.9044 - precision_m: 0.9129 - recall_m: 0.9047 - val_loss: 0.6135 - val_accuracy: 0.5625 - val_f1_m: 0.7200 - val_precision_m: 0.6923 - val_recall_m: 0.7500\n",
            "Epoch 10/10\n",
            "11/11 [==============================] - 5s 486ms/step - loss: 0.2258 - accuracy: 0.9331 - f1_m: 0.9435 - precision_m: 0.9373 - recall_m: 0.9515 - val_loss: 0.6384 - val_accuracy: 0.5625 - val_f1_m: 0.7200 - val_precision_m: 0.6923 - val_recall_m: 0.7500\n"
          ]
        }
      ]
    },
    {
      "cell_type": "code",
      "source": [
        "loss, acc, f1_score, precision, recall = modell.evaluate(x_test, y_test, verbose=0)\n",
        "print(f\"\\n LOSS: {loss},\\n\\n ACCURACY: {acc},\\n\\n F1_SCORE: {f1_score},\\n\\n PRECISION: {precision},\\n\\n RECALL: {recall}\\n\")"
      ],
      "metadata": {
        "colab": {
          "base_uri": "https://localhost:8080/"
        },
        "id": "Td8HWzEnJqcX",
        "outputId": "c16dac62-27bc-4464-c776-64c9eb222072"
      },
      "execution_count": 17,
      "outputs": [
        {
          "output_type": "stream",
          "name": "stdout",
          "text": [
            "\n",
            " LOSS: 0.7606476545333862,\n",
            "\n",
            " ACCURACY: 0.46875,\n",
            "\n",
            " F1_SCORE: 0.5863247513771057,\n",
            "\n",
            " PRECISION: 0.4743589758872986,\n",
            "\n",
            " RECALL: 0.7960526347160339\n",
            "\n"
          ]
        }
      ]
    },
    {
      "cell_type": "code",
      "source": [
        "import matplotlib.pyplot as plt\n",
        "import seaborn as sns\n",
        "\n",
        "plt.plot(range(EPOCHS),history.history['loss'])\n",
        "plt.plot(range(EPOCHS),history.history['val_loss'])\n",
        "plt.title(\"Training loss and validation loss v/s epoch\")\n",
        "plt.legend([\"Training_loss\",\"Validation_loss\"])\n",
        "\n",
        "plt.figure()\n",
        "\n",
        "plt.plot(range(EPOCHS),history.history['accuracy'])\n",
        "plt.plot(range(EPOCHS),history.history['val_accuracy'])\n",
        "plt.title(\"Training accuracy and validation accuracy v/s epoch\")\n",
        "plt.legend([\"Training_accuracy\",\"Validation_accuracy\"])"
      ],
      "metadata": {
        "id": "bA_S4xGiR1-n",
        "colab": {
          "base_uri": "https://localhost:8080/",
          "height": 562
        },
        "outputId": "c1a924dc-3487-49f5-99af-70694301341f"
      },
      "execution_count": 18,
      "outputs": [
        {
          "output_type": "execute_result",
          "data": {
            "text/plain": [
              "<matplotlib.legend.Legend at 0x7f3c0726a2e0>"
            ]
          },
          "metadata": {},
          "execution_count": 18
        },
        {
          "output_type": "display_data",
          "data": {
            "text/plain": [
              "<Figure size 432x288 with 1 Axes>"
            ],
            "image/png": "[encoded data removed]"
          },
          "metadata": {
            "needs_background": "light"
          }
        },
        {
          "output_type": "display_data",
          "data": {
            "text/plain": [
              "<Figure size 432x288 with 1 Axes>"
            ],
            "image/png": "[encoded data removed]"
          },
          "metadata": {
            "needs_background": "light"
          }
        }
      ]
    },
    {
      "cell_type": "code",
      "source": [
        "# RNN_MODEL\n",
        "EPOCHS = 10\n",
        "model = Sequential()\n",
        "model.add(embedding_layer)\n",
        "model.add(LSTM(100, dropout=0.2))\n",
        "model.add(Dense(64, activation='relu'))\n",
        "model.add(Dropout(0.5))\n",
        "model.add(Dense(1, activation='sigmoid'))\n",
        "model.compile(loss='binary_crossentropy', optimizer='adam', metrics=['accuracy',f1_m, precision_m, recall_m])\n",
        "print(model.summary())\n",
        "history_rnn=model.fit(x_train, y_train, epochs=EPOCHS, batch_size=64, validation_data=(x_valid,y_valid))\n"
      ],
      "metadata": {
        "colab": {
          "base_uri": "https://localhost:8080/"
        },
        "id": "FAN7jpYrG4TI",
        "outputId": "a61c3569-cb73-41ba-c576-d0ddc8ba8a3e"
      },
      "execution_count": 19,
      "outputs": [
        {
          "output_type": "stream",
          "name": "stdout",
          "text": [
            "Model: \"sequential_1\"\n",
            "_________________________________________________________________\n",
            " Layer (type)                Output Shape              Param #   \n",
            "=================================================================\n",
            " embedding (Embedding)       (None, 300, 100)          797600    \n",
            "                                                                 \n",
            " lstm_1 (LSTM)               (None, 100)               80400     \n",
            "                                                                 \n",
            " dense_2 (Dense)             (None, 64)                6464      \n",
            "                                                                 \n",
            " dropout (Dropout)           (None, 64)                0         \n",
            "                                                                 \n",
            " dense_3 (Dense)             (None, 1)                 65        \n",
            "                                                                 \n",
            "=================================================================\n",
            "Total params: 884,529\n",
            "Trainable params: 884,529\n",
            "Non-trainable params: 0\n",
            "_________________________________________________________________\n",
            "None\n",
            "Epoch 1/10\n",
            "11/11 [==============================] - 11s 745ms/step - loss: 0.6961 - accuracy: 0.5179 - f1_m: 0.5959 - precision_m: 0.5415 - recall_m: 0.6816 - val_loss: 0.6452 - val_accuracy: 0.7500 - val_f1_m: 0.8571 - val_precision_m: 0.7500 - val_recall_m: 1.0000\n",
            "Epoch 2/10\n",
            "11/11 [==============================] - 6s 552ms/step - loss: 0.6864 - accuracy: 0.5661 - f1_m: 0.7238 - precision_m: 0.5970 - recall_m: 0.9473 - val_loss: 0.6268 - val_accuracy: 0.7500 - val_f1_m: 0.8571 - val_precision_m: 0.7500 - val_recall_m: 1.0000\n",
            "Epoch 3/10\n",
            "11/11 [==============================] - 6s 554ms/step - loss: 0.6838 - accuracy: 0.5630 - f1_m: 0.6970 - precision_m: 0.6036 - recall_m: 0.8448 - val_loss: 0.6402 - val_accuracy: 0.7500 - val_f1_m: 0.8333 - val_precision_m: 0.8333 - val_recall_m: 0.8333\n",
            "Epoch 4/10\n",
            "11/11 [==============================] - 6s 549ms/step - loss: 0.6717 - accuracy: 0.5879 - f1_m: 0.6850 - precision_m: 0.5934 - recall_m: 0.8164 - val_loss: 0.6294 - val_accuracy: 0.7500 - val_f1_m: 0.8462 - val_precision_m: 0.7857 - val_recall_m: 0.9167\n",
            "Epoch 5/10\n",
            "11/11 [==============================] - 6s 547ms/step - loss: 0.6574 - accuracy: 0.6174 - f1_m: 0.7062 - precision_m: 0.6458 - recall_m: 0.7962 - val_loss: 0.6137 - val_accuracy: 0.6875 - val_f1_m: 0.8148 - val_precision_m: 0.7333 - val_recall_m: 0.9167\n",
            "Epoch 6/10\n",
            "11/11 [==============================] - 6s 558ms/step - loss: 0.6570 - accuracy: 0.5925 - f1_m: 0.6344 - precision_m: 0.5305 - recall_m: 0.8058 - val_loss: 0.6835 - val_accuracy: 0.3750 - val_f1_m: 0.4444 - val_precision_m: 0.6667 - val_recall_m: 0.3333\n",
            "Epoch 7/10\n",
            "11/11 [==============================] - 6s 560ms/step - loss: 0.6265 - accuracy: 0.6579 - f1_m: 0.6786 - precision_m: 0.6940 - recall_m: 0.6955 - val_loss: 0.6006 - val_accuracy: 0.5625 - val_f1_m: 0.7200 - val_precision_m: 0.6923 - val_recall_m: 0.7500\n",
            "Epoch 8/10\n",
            "11/11 [==============================] - 6s 554ms/step - loss: 0.5839 - accuracy: 0.7045 - f1_m: 0.6702 - precision_m: 0.6464 - recall_m: 0.7186 - val_loss: 0.7064 - val_accuracy: 0.5000 - val_f1_m: 0.6364 - val_precision_m: 0.7000 - val_recall_m: 0.5833\n",
            "Epoch 9/10\n",
            "11/11 [==============================] - 6s 561ms/step - loss: 0.5205 - accuracy: 0.7434 - f1_m: 0.6858 - precision_m: 0.7058 - recall_m: 0.6904 - val_loss: 0.9300 - val_accuracy: 0.4375 - val_f1_m: 0.5263 - val_precision_m: 0.7143 - val_recall_m: 0.4167\n",
            "Epoch 10/10\n",
            "11/11 [==============================] - 6s 557ms/step - loss: 0.4705 - accuracy: 0.7745 - f1_m: 0.8041 - precision_m: 0.8132 - recall_m: 0.8052 - val_loss: 0.8670 - val_accuracy: 0.4375 - val_f1_m: 0.5263 - val_precision_m: 0.7143 - val_recall_m: 0.4167\n"
          ]
        }
      ]
    },
    {
      "cell_type": "code",
      "source": [
        "loss_rnn, acc_rnn, f1_score_rnn, precision_rnn, recall_rnn = model.evaluate(x_test, y_test, verbose=0)\n",
        "print(f\"\\n LOSS: {loss_rnn},\\n\\n ACCURACY: {acc_rnn},\\n\\n F1_SCORE: {f1_score_rnn},\\n\\n PRECISION: {precision_rnn},\\n\\n RECALL: {recall_rnn}\\n\")"
      ],
      "metadata": {
        "colab": {
          "base_uri": "https://localhost:8080/"
        },
        "id": "PoiZ2qBbO3Rq",
        "outputId": "c8927ec6-d694-4df7-c422-dbca9b695d4c"
      },
      "execution_count": 20,
      "outputs": [
        {
          "output_type": "stream",
          "name": "stdout",
          "text": [
            "\n",
            " LOSS: 0.93572598695755,\n",
            "\n",
            " ACCURACY: 0.46875,\n",
            "\n",
            " F1_SCORE: 0.4554554224014282,\n",
            "\n",
            " PRECISION: 0.444444477558136,\n",
            "\n",
            " RECALL: 0.4714912176132202\n",
            "\n"
          ]
        }
      ]
    },
    {
      "cell_type": "code",
      "source": [
        "plt.plot(range(EPOCHS),history_rnn.history['loss'])\n",
        "plt.plot(range(EPOCHS),history_rnn.history['val_loss'])\n",
        "plt.title(\"Training loss and validation loss v/s epoch\")\n",
        "plt.legend([\"Training_loss\",\"Validation_loss\"])\n",
        "\n",
        "plt.figure()\n",
        "plt.plot(range(EPOCHS),history_rnn.history['accuracy'])\n",
        "plt.plot(range(EPOCHS),history_rnn.history['val_accuracy'])\n",
        "plt.title(\"Training accuracy and validation accuracy v/s epoch\")\n",
        "plt.legend([\"Training_accuracy\",\"Validation_accuracy\"])\n"
      ],
      "metadata": {
        "colab": {
          "base_uri": "https://localhost:8080/",
          "height": 562
        },
        "id": "s4E0hJ1kP17F",
        "outputId": "37e6e7d7-0223-4959-baf6-b4277296c7ac"
      },
      "execution_count": 21,
      "outputs": [
        {
          "output_type": "execute_result",
          "data": {
            "text/plain": [
              "<matplotlib.legend.Legend at 0x7f3c05891100>"
            ]
          },
          "metadata": {},
          "execution_count": 21
        },
        {
          "output_type": "display_data",
          "data": {
            "text/plain": [
              "<Figure size 432x288 with 1 Axes>"
            ],
            "image/png": "[encoded data removed]"
          },
          "metadata": {
            "needs_background": "light"
          }
        },
        {
          "output_type": "display_data",
          "data": {
            "text/plain": [
              "<Figure size 432x288 with 1 Axes>"
            ],
            "image/png": "[encoded data removed]"
          },
          "metadata": {
            "needs_background": "light"
          }
        }
      ]
    },
    {
      "cell_type": "code",
      "source": [],
      "metadata": {
        "id": "mgfNnOxfQWs_"
      },
      "execution_count": 21,
      "outputs": []
    }
  ]
}