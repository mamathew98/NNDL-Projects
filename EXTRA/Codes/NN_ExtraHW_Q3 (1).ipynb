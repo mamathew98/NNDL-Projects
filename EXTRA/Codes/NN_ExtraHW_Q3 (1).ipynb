{
  "nbformat": 4,
  "nbformat_minor": 0,
  "metadata": {
    "colab": {
      "provenance": []
    },
    "kernelspec": {
      "name": "python3",
      "display_name": "Python 3"
    },
    "language_info": {
      "name": "python"
    },
    "accelerator": "GPU",
    "gpuClass": "standard"
  },
  "cells": [
    {
      "cell_type": "markdown",
      "source": [
        "## Import Libraries"
      ],
      "metadata": {
        "id": "ZLkmP1EazPO5"
      }
    },
    {
      "cell_type": "code",
      "source": [
        "from scipy import io\n",
        "import struct\n",
        "import numpy as np\n",
        "import cv2\n",
        "from matplotlib import pyplot as plt\n",
        "from skimage.transform import resize\n",
        "from tqdm import tqdm\n",
        "import keras\n",
        "from keras import layers\n",
        "from keras.models import Sequential\n",
        "from keras.layers import Dense, Dropout, Activation\n",
        "from keras.layers import Dense, BatchNormalization"
      ],
      "metadata": {
        "id": "1ps0VHR13-2-"
      },
      "execution_count": 1,
      "outputs": []
    },
    {
      "cell_type": "code",
      "source": [
        "! unzip HODA"
      ],
      "metadata": {
        "colab": {
          "base_uri": "https://localhost:8080/"
        },
        "id": "OC3rWLvGyueJ",
        "outputId": "aa3c94e9-17b7-46d3-e5ad-be5d1f1d35a6"
      },
      "execution_count": 2,
      "outputs": [
        {
          "output_type": "stream",
          "name": "stdout",
          "text": [
            "Archive:  HODA.zip\n",
            "  inflating: Train 60000.cdb         \n",
            "  inflating: RemainingSamples.cdb    \n",
            "  inflating: Test 20000.cdb          \n"
          ]
        }
      ]
    },
    {
      "cell_type": "markdown",
      "source": [
        "## Read cdb Dataset"
      ],
      "metadata": {
        "id": "YgXeugIKzStJ"
      }
    },
    {
      "cell_type": "code",
      "source": [
        "def read_hoda_cdb(file_name):\n",
        "    with open(file_name, 'rb') as binary_file:\n",
        "\n",
        "        data = binary_file.read()\n",
        "\n",
        "        offset = 0\n",
        "\n",
        "        # read private header\n",
        "\n",
        "        yy = struct.unpack_from('H', data, offset)[0]\n",
        "        offset += 2\n",
        "\n",
        "        m = struct.unpack_from('B', data, offset)[0]\n",
        "        offset += 1\n",
        "\n",
        "        d = struct.unpack_from('B', data, offset)[0]\n",
        "        offset += 1\n",
        "\n",
        "        H = struct.unpack_from('B', data, offset)[0]\n",
        "        offset += 1\n",
        "\n",
        "        W = struct.unpack_from('B', data, offset)[0]\n",
        "        offset += 1\n",
        "\n",
        "        TotalRec = struct.unpack_from('I', data, offset)[0]\n",
        "        offset += 4\n",
        "\n",
        "        LetterCount = struct.unpack_from('128I', data, offset)\n",
        "        offset += 128 * 4\n",
        "\n",
        "        imgType = struct.unpack_from('B', data, offset)[0]  # 0: binary, 1: gray\n",
        "        offset += 1\n",
        "\n",
        "        Comments = struct.unpack_from('256c', data, offset)\n",
        "        offset += 256 * 1\n",
        "\n",
        "        Reserved = struct.unpack_from('245c', data, offset)\n",
        "        offset += 245 * 1\n",
        "\n",
        "        if (W > 0) and (H > 0):\n",
        "            normal = True\n",
        "        else:\n",
        "            normal = False\n",
        "\n",
        "        images = []\n",
        "        labels = []\n",
        "\n",
        "        for i in range(TotalRec):\n",
        "\n",
        "            StartByte = struct.unpack_from('B', data, offset)[0]  # must be 0xff\n",
        "            offset += 1\n",
        "\n",
        "            label = struct.unpack_from('B', data, offset)[0]\n",
        "            offset += 1\n",
        "\n",
        "            if not normal:\n",
        "                W = struct.unpack_from('B', data, offset)[0]\n",
        "                offset += 1\n",
        "\n",
        "                H = struct.unpack_from('B', data, offset)[0]\n",
        "                offset += 1\n",
        "\n",
        "            ByteCount = struct.unpack_from('H', data, offset)[0]\n",
        "            offset += 2\n",
        "\n",
        "            image = np.zeros(shape=[H, W], dtype=np.uint8)\n",
        "\n",
        "            if imgType == 0:\n",
        "                # Binary\n",
        "                for y in range(H):\n",
        "                    bWhite = True\n",
        "                    counter = 0\n",
        "                    while counter < W:\n",
        "                        WBcount = struct.unpack_from('B', data, offset)[0]\n",
        "                        offset += 1\n",
        "                        # x = 0\n",
        "                        # while x < WBcount:\n",
        "                        #     if bWhite:\n",
        "                        #         image[y, x + counter] = 0  # Background\n",
        "                        #     else:\n",
        "                        #         image[y, x + counter] = 255  # ForeGround\n",
        "                        #     x += 1\n",
        "                        if bWhite:\n",
        "                            image[y, counter:counter + WBcount] = 0  # Background\n",
        "                        else:\n",
        "                            image[y, counter:counter + WBcount] = 255  # ForeGround\n",
        "                        bWhite = not bWhite  # black white black white ...\n",
        "                        counter += WBcount\n",
        "            else:\n",
        "                # GrayScale mode\n",
        "                data = struct.unpack_from('{}B'.format(W * H), data, offset)\n",
        "                offset += W * H\n",
        "                image = np.asarray(data, dtype=np.uint8).reshape([W, H]).T\n",
        "\n",
        "            images.append(image)\n",
        "            labels.append(label)\n",
        "\n",
        "        return images, labels"
      ],
      "metadata": {
        "id": "RaonLGfJ3_g9"
      },
      "execution_count": 3,
      "outputs": []
    },
    {
      "cell_type": "code",
      "source": [
        "print('Reading Train 60000.cdb ...')\n",
        "train_images, train_labels = read_hoda_cdb('/content/Train 60000.cdb')\n",
        "print('Reading Test 20000.cdb ...')\n",
        "test_images, test_labels = read_hoda_cdb('/content/Test 20000.cdb')\n",
        "print('Reading RemainingSamples.cdb ...')\n",
        "remaining_images, remaining_labels = read_hoda_cdb('/content/RemainingSamples.cdb')"
      ],
      "metadata": {
        "id": "cGbgbmI54CaV",
        "colab": {
          "base_uri": "https://localhost:8080/"
        },
        "outputId": "a82536cf-cef7-4c22-ae68-787bb2fed8d1"
      },
      "execution_count": 4,
      "outputs": [
        {
          "output_type": "stream",
          "name": "stdout",
          "text": [
            "Reading Train 60000.cdb ...\n",
            "Reading Test 20000.cdb ...\n",
            "Reading RemainingSamples.cdb ...\n"
          ]
        }
      ]
    },
    {
      "cell_type": "markdown",
      "source": [
        "## Visualize Some Data"
      ],
      "metadata": {
        "id": "ISQrtitszVy5"
      }
    },
    {
      "cell_type": "code",
      "source": [
        "fig = plt.figure(figsize=(25, 10))\n",
        "for i in range(10):\n",
        "    fig.add_subplot(1, 10, i + 1)\n",
        "    plt.title('train_labels[' + str(i) + '] = ' + str(train_labels[i]))\n",
        "    plt.imshow(train_images[i], cmap='gray')\n",
        "\n",
        "print('----------------------------------------')\n",
        "print('type(train_images[', 0, ']):', type(train_images[0]))\n",
        "print('train_images[', 0, '].dtype:', train_images[0].dtype)\n",
        "print('train_images[', 0, '].min():', train_images[0].min())\n",
        "print('train_images[', 0, '].max():', train_images[0].max())\n",
        "print('train_images[', 0, '].shape = (HEIGHT, WIDTH):', train_images[0].shape)\n",
        "print('type(train_labels[', 0, ']):', type(train_labels[0]))\n",
        "print('train_labels[', 0, ']:', train_labels[0])\n",
        "print('----------------------------------------')\n",
        "print('data matrix: \\n')\n",
        "print(train_images[0])\n",
        "print('----------------------------------------')\n",
        "\n",
        "plt.show()"
      ],
      "metadata": {
        "colab": {
          "base_uri": "https://localhost:8080/",
          "height": 1000
        },
        "id": "rStp0H3ZzJtI",
        "outputId": "b27e62fa-e0fe-4a1f-dd40-2a6a79759bd6"
      },
      "execution_count": 5,
      "outputs": [
        {
          "output_type": "stream",
          "name": "stdout",
          "text": [
            "----------------------------------------\n",
            "type(train_images[ 0 ]): <class 'numpy.ndarray'>\n",
            "train_images[ 0 ].dtype: uint8\n",
            "train_images[ 0 ].min(): 0\n",
            "train_images[ 0 ].max(): 255\n",
            "train_images[ 0 ].shape = (HEIGHT, WIDTH): (27, 20)\n",
            "type(train_labels[ 0 ]): <class 'int'>\n",
            "train_labels[ 0 ]: 6\n",
            "----------------------------------------\n",
            "data matrix: \n",
            "\n",
            "[[  0   0   0   0 255 255   0   0   0   0   0   0   0   0   0   0   0   0\n",
            "    0   0]\n",
            " [  0   0   0 255 255 255 255   0   0   0   0   0   0   0   0   0   0   0\n",
            "    0   0]\n",
            " [  0   0 255 255 255 255 255   0   0   0   0   0   0   0   0   0   0 255\n",
            "  255   0]\n",
            " [  0 255 255 255 255 255   0   0   0   0   0   0   0   0   0   0 255 255\n",
            "  255 255]\n",
            " [  0 255 255 255 255   0   0   0   0   0   0   0   0   0   0 255 255 255\n",
            "  255   0]\n",
            " [  0 255 255 255   0   0   0   0   0   0   0   0   0   0 255 255 255 255\n",
            "  255   0]\n",
            " [255 255 255 255   0   0   0   0   0   0   0   0   0 255 255 255 255 255\n",
            "    0   0]\n",
            " [255 255 255   0   0   0   0   0   0   0   0   0 255 255 255 255 255   0\n",
            "    0   0]\n",
            " [255 255 255   0   0   0   0   0   0   0 255 255 255 255 255 255 255   0\n",
            "    0   0]\n",
            " [255 255 255   0   0   0   0   0   0 255 255 255 255 255 255 255   0   0\n",
            "    0   0]\n",
            " [255 255 255 255 255 255 255 255 255 255 255 255 255 255 255   0   0   0\n",
            "    0   0]\n",
            " [255 255 255 255 255 255 255 255 255 255 255 255 255 255   0   0   0   0\n",
            "    0   0]\n",
            " [  0 255 255 255 255 255 255 255 255 255 255 255 255   0   0   0   0   0\n",
            "    0   0]\n",
            " [  0   0   0   0 255 255 255 255 255 255 255 255 255   0   0   0   0   0\n",
            "    0   0]\n",
            " [  0   0   0   0   0   0   0 255 255 255 255 255   0   0   0   0   0   0\n",
            "    0   0]\n",
            " [  0   0   0   0   0   0   0 255 255 255 255   0   0   0   0   0   0   0\n",
            "    0   0]\n",
            " [  0   0   0   0   0   0 255 255 255 255 255   0   0   0   0   0   0   0\n",
            "    0   0]\n",
            " [  0   0   0   0   0   0 255 255 255 255   0   0   0   0   0   0   0   0\n",
            "    0   0]\n",
            " [  0   0   0   0   0 255 255 255 255 255   0   0   0   0   0   0   0   0\n",
            "    0   0]\n",
            " [  0   0   0   0   0 255 255 255 255   0   0   0   0   0   0   0   0   0\n",
            "    0   0]\n",
            " [  0   0   0   0   0 255 255 255 255   0   0   0   0   0   0   0   0   0\n",
            "    0   0]\n",
            " [  0   0   0   0   0 255 255 255 255   0   0   0   0   0   0   0   0   0\n",
            "    0   0]\n",
            " [  0   0   0   0   0 255 255 255   0   0   0   0   0   0   0   0   0   0\n",
            "    0   0]\n",
            " [  0   0   0   0 255 255 255 255   0   0   0   0   0   0   0   0   0   0\n",
            "    0   0]\n",
            " [  0   0   0   0 255 255 255 255   0   0   0   0   0   0   0   0   0   0\n",
            "    0   0]\n",
            " [  0   0   0   0 255 255 255   0   0   0   0   0   0   0   0   0   0   0\n",
            "    0   0]\n",
            " [  0   0   0   0   0 255 255   0   0   0   0   0   0   0   0   0   0   0\n",
            "    0   0]]\n",
            "----------------------------------------\n"
          ]
        },
        {
          "output_type": "display_data",
          "data": {
            "text/plain": [
              "<Figure size 1800x720 with 10 Axes>"
            ],
            "image/png": "[encoded data removed]"
          },
          "metadata": {
            "needs_background": "light"
          }
        }
      ]
    },
    {
      "cell_type": "markdown",
      "source": [
        "## Split data to train and test and convert to 0/1"
      ],
      "metadata": {
        "id": "YUttLxwTzhwY"
      }
    },
    {
      "cell_type": "code",
      "source": [
        "X_train, y_train = np.array(train_images, dtype=object), np.array(train_labels, dtype=object)\n",
        "X_test, y_test = np.array(test_images, dtype=object), np.array(test_labels, dtype=object)\n",
        "X_train /= 255\n",
        "X_test /= 255\n",
        "\n",
        "fig = plt.figure(figsize=(15, 5))\n",
        "for i in range(5):\n",
        "    fig.add_subplot(1, 5, i + 1)\n",
        "    plt.title('train_labels[' + str(i) + '] = ' + str(y_train[i]))\n",
        "    plt.imshow(X_train[i], cmap='gray')\n",
        "print('data matrix: \\n')\n",
        "print(X_train[0])\n",
        "plt.show()"
      ],
      "metadata": {
        "colab": {
          "base_uri": "https://localhost:8080/",
          "height": 866
        },
        "id": "C-Q5uaaHIzUe",
        "outputId": "08b67c15-44dd-45cd-a466-07ec57653735"
      },
      "execution_count": 6,
      "outputs": [
        {
          "output_type": "stream",
          "name": "stdout",
          "text": [
            "data matrix: \n",
            "\n",
            "[[0. 0. 0. 0. 1. 1. 0. 0. 0. 0. 0. 0. 0. 0. 0. 0. 0. 0. 0. 0.]\n",
            " [0. 0. 0. 1. 1. 1. 1. 0. 0. 0. 0. 0. 0. 0. 0. 0. 0. 0. 0. 0.]\n",
            " [0. 0. 1. 1. 1. 1. 1. 0. 0. 0. 0. 0. 0. 0. 0. 0. 0. 1. 1. 0.]\n",
            " [0. 1. 1. 1. 1. 1. 0. 0. 0. 0. 0. 0. 0. 0. 0. 0. 1. 1. 1. 1.]\n",
            " [0. 1. 1. 1. 1. 0. 0. 0. 0. 0. 0. 0. 0. 0. 0. 1. 1. 1. 1. 0.]\n",
            " [0. 1. 1. 1. 0. 0. 0. 0. 0. 0. 0. 0. 0. 0. 1. 1. 1. 1. 1. 0.]\n",
            " [1. 1. 1. 1. 0. 0. 0. 0. 0. 0. 0. 0. 0. 1. 1. 1. 1. 1. 0. 0.]\n",
            " [1. 1. 1. 0. 0. 0. 0. 0. 0. 0. 0. 0. 1. 1. 1. 1. 1. 0. 0. 0.]\n",
            " [1. 1. 1. 0. 0. 0. 0. 0. 0. 0. 1. 1. 1. 1. 1. 1. 1. 0. 0. 0.]\n",
            " [1. 1. 1. 0. 0. 0. 0. 0. 0. 1. 1. 1. 1. 1. 1. 1. 0. 0. 0. 0.]\n",
            " [1. 1. 1. 1. 1. 1. 1. 1. 1. 1. 1. 1. 1. 1. 1. 0. 0. 0. 0. 0.]\n",
            " [1. 1. 1. 1. 1. 1. 1. 1. 1. 1. 1. 1. 1. 1. 0. 0. 0. 0. 0. 0.]\n",
            " [0. 1. 1. 1. 1. 1. 1. 1. 1. 1. 1. 1. 1. 0. 0. 0. 0. 0. 0. 0.]\n",
            " [0. 0. 0. 0. 1. 1. 1. 1. 1. 1. 1. 1. 1. 0. 0. 0. 0. 0. 0. 0.]\n",
            " [0. 0. 0. 0. 0. 0. 0. 1. 1. 1. 1. 1. 0. 0. 0. 0. 0. 0. 0. 0.]\n",
            " [0. 0. 0. 0. 0. 0. 0. 1. 1. 1. 1. 0. 0. 0. 0. 0. 0. 0. 0. 0.]\n",
            " [0. 0. 0. 0. 0. 0. 1. 1. 1. 1. 1. 0. 0. 0. 0. 0. 0. 0. 0. 0.]\n",
            " [0. 0. 0. 0. 0. 0. 1. 1. 1. 1. 0. 0. 0. 0. 0. 0. 0. 0. 0. 0.]\n",
            " [0. 0. 0. 0. 0. 1. 1. 1. 1. 1. 0. 0. 0. 0. 0. 0. 0. 0. 0. 0.]\n",
            " [0. 0. 0. 0. 0. 1. 1. 1. 1. 0. 0. 0. 0. 0. 0. 0. 0. 0. 0. 0.]\n",
            " [0. 0. 0. 0. 0. 1. 1. 1. 1. 0. 0. 0. 0. 0. 0. 0. 0. 0. 0. 0.]\n",
            " [0. 0. 0. 0. 0. 1. 1. 1. 1. 0. 0. 0. 0. 0. 0. 0. 0. 0. 0. 0.]\n",
            " [0. 0. 0. 0. 0. 1. 1. 1. 0. 0. 0. 0. 0. 0. 0. 0. 0. 0. 0. 0.]\n",
            " [0. 0. 0. 0. 1. 1. 1. 1. 0. 0. 0. 0. 0. 0. 0. 0. 0. 0. 0. 0.]\n",
            " [0. 0. 0. 0. 1. 1. 1. 1. 0. 0. 0. 0. 0. 0. 0. 0. 0. 0. 0. 0.]\n",
            " [0. 0. 0. 0. 1. 1. 1. 0. 0. 0. 0. 0. 0. 0. 0. 0. 0. 0. 0. 0.]\n",
            " [0. 0. 0. 0. 0. 1. 1. 0. 0. 0. 0. 0. 0. 0. 0. 0. 0. 0. 0. 0.]]\n"
          ]
        },
        {
          "output_type": "display_data",
          "data": {
            "text/plain": [
              "<Figure size 1080x360 with 5 Axes>"
            ],
            "image/png": "[encoded data removed]"
          },
          "metadata": {
            "needs_background": "light"
          }
        }
      ]
    },
    {
      "cell_type": "markdown",
      "source": [
        "## Resize images to 40*40"
      ],
      "metadata": {
        "id": "IR81DkM8zcBo"
      }
    },
    {
      "cell_type": "code",
      "source": [
        "X_train = [cv2.resize(img, dsize=(40, 40)) for img in X_train]\n",
        "X_test = [cv2.resize(img, dsize=(40, 40)) for img in X_test]\n",
        "\n",
        "fig = plt.figure(figsize=(15, 5))\n",
        "for i in range(5):\n",
        "    fig.add_subplot(1, 5, i + 1)\n",
        "    plt.title('train_labels[' + str(i) + '] = ' + str(y_train[i]))\n",
        "    plt.imshow(X_train[i], cmap='gray')\n",
        "print('data matrix: \\n')\n",
        "print(X_train[0])\n",
        "plt.show()"
      ],
      "metadata": {
        "colab": {
          "base_uri": "https://localhost:8080/",
          "height": 372
        },
        "id": "RnGTVM_yJ0qW",
        "outputId": "d27c5bf8-7a92-47fe-9680-9a009b0e9f3a"
      },
      "execution_count": 7,
      "outputs": [
        {
          "output_type": "stream",
          "name": "stdout",
          "text": [
            "data matrix: \n",
            "\n",
            "[[0.       0.       0.       ... 0.       0.       0.      ]\n",
            " [0.       0.       0.       ... 0.       0.       0.      ]\n",
            " [0.       0.       0.       ... 0.140625 0.046875 0.      ]\n",
            " ...\n",
            " [0.       0.       0.       ... 0.       0.       0.      ]\n",
            " [0.       0.       0.       ... 0.       0.       0.      ]\n",
            " [0.       0.       0.       ... 0.       0.       0.      ]]\n"
          ]
        },
        {
          "output_type": "display_data",
          "data": {
            "text/plain": [
              "<Figure size 1080x360 with 5 Axes>"
            ],
            "image/png": "[encoded data removed]"
          },
          "metadata": {
            "needs_background": "light"
          }
        }
      ]
    },
    {
      "cell_type": "code",
      "source": [
        "#reshape\n",
        "X_train = np.array([x.reshape(40*40) for x in X_train], dtype=object)\n",
        "X_test = np.array([x.reshape(40*40) for x in X_test], dtype=object)\n",
        "\n",
        "print(f'Train Shape: {X_train.shape}\\nTest Shape: {X_test.shape}')"
      ],
      "metadata": {
        "colab": {
          "base_uri": "https://localhost:8080/"
        },
        "id": "wOoMJGg9FYSH",
        "outputId": "d1a21b01-e7ce-46f8-c1d1-e2bff860159a"
      },
      "execution_count": 8,
      "outputs": [
        {
          "output_type": "stream",
          "name": "stdout",
          "text": [
            "Train Shape: (60000, 1600)\n",
            "Test Shape: (20000, 1600)\n"
          ]
        }
      ]
    },
    {
      "cell_type": "code",
      "source": [
        "# 4. Preprocess class labels\n",
        "y_train = keras.utils.to_categorical(y_train, num_classes=10)\n",
        "y_test = keras.utils.to_categorical(y_test, num_classes=10)\n",
        "y_train"
      ],
      "metadata": {
        "colab": {
          "base_uri": "https://localhost:8080/"
        },
        "id": "B0YMYu2RHWwm",
        "outputId": "707593cc-2df9-428d-e746-6c06fdb5ea11"
      },
      "execution_count": 9,
      "outputs": [
        {
          "output_type": "execute_result",
          "data": {
            "text/plain": [
              "array([[0., 0., 0., ..., 0., 0., 0.],\n",
              "       [0., 0., 0., ..., 0., 0., 0.],\n",
              "       [1., 0., 0., ..., 0., 0., 0.],\n",
              "       ...,\n",
              "       [0., 0., 1., ..., 0., 0., 0.],\n",
              "       [0., 0., 0., ..., 0., 0., 0.],\n",
              "       [0., 0., 0., ..., 0., 0., 0.]], dtype=float32)"
            ]
          },
          "metadata": {},
          "execution_count": 9
        }
      ]
    },
    {
      "cell_type": "markdown",
      "source": [
        "## Reshape to match input of network"
      ],
      "metadata": {
        "id": "rTaX7uA30npt"
      }
    },
    {
      "cell_type": "code",
      "source": [
        "X_train = X_train.reshape(-1,40,40,1)\n",
        "X_test = X_test.reshape(-1,40,40,1)\n",
        "\n",
        "print(f'Train Shape: {X_train.shape}\\nTest Shape: {X_test.shape}')"
      ],
      "metadata": {
        "colab": {
          "base_uri": "https://localhost:8080/"
        },
        "id": "2agqB9CMKgXV",
        "outputId": "175d7014-fbb8-4a49-dc0a-971d446c6125"
      },
      "execution_count": 10,
      "outputs": [
        {
          "output_type": "stream",
          "name": "stdout",
          "text": [
            "Train Shape: (60000, 40, 40, 1)\n",
            "Test Shape: (20000, 40, 40, 1)\n"
          ]
        }
      ]
    },
    {
      "cell_type": "markdown",
      "source": [
        "## Take a validation set"
      ],
      "metadata": {
        "id": "euvmGMpe0lF-"
      }
    },
    {
      "cell_type": "code",
      "source": [
        "# test and validation set\n",
        "X_val = X_test[200:]\n",
        "X_test = X_test[:200]\n",
        "y_val = y_test[200:]\n",
        "y_test = y_test[:200]"
      ],
      "metadata": {
        "id": "L5Z6kimBLBh9"
      },
      "execution_count": 11,
      "outputs": []
    },
    {
      "cell_type": "markdown",
      "source": [
        "## Evaluation measures"
      ],
      "metadata": {
        "id": "3RNMXtvZ0qtl"
      }
    },
    {
      "cell_type": "code",
      "source": [
        "from sklearn import metrics\n",
        "import matplotlib.pyplot as plt\n",
        "import seaborn as sns\n",
        "\n",
        "from keras import backend as K\n",
        "\n",
        "def recall_m(y_true, y_pred):\n",
        "    true_positives = K.sum(K.round(K.clip(y_true * y_pred, 0, 1)))\n",
        "    possible_positives = K.sum(K.round(K.clip(y_true, 0, 1)))\n",
        "    recall = true_positives / (possible_positives + K.epsilon())\n",
        "    return recall\n",
        "\n",
        "def precision_m(y_true, y_pred):\n",
        "    true_positives = K.sum(K.round(K.clip(y_true * y_pred, 0, 1)))\n",
        "    predicted_positives = K.sum(K.round(K.clip(y_pred, 0, 1)))\n",
        "    precision = true_positives / (predicted_positives + K.epsilon())\n",
        "    return precision\n",
        "\n",
        "def f1_m(y_true, y_pred):\n",
        "    precision = precision_m(y_true, y_pred)\n",
        "    recall = recall_m(y_true, y_pred)\n",
        "    return 2*((precision*recall)/(precision+recall+K.epsilon()))"
      ],
      "metadata": {
        "id": "vqvaiUZhO_mc"
      },
      "execution_count": 12,
      "outputs": []
    },
    {
      "cell_type": "markdown",
      "source": [
        "## Define model"
      ],
      "metadata": {
        "id": "8Hl3oiIM0vH9"
      }
    },
    {
      "cell_type": "markdown",
      "source": [
        "## ADAM model"
      ],
      "metadata": {
        "id": "PqNiXh0EZwSX"
      }
    },
    {
      "cell_type": "code",
      "source": [
        "# Define model architecture\n",
        "model = Sequential()\n",
        "model.add(layers.Conv2D(64, (3, 3), strides=(1,1), activation='relu', input_shape=(40, 40, 1), padding='same'))\n",
        "model.add(BatchNormalization())\n",
        "model.add(layers.MaxPooling2D((2, 2)))\n",
        "model.add(Dropout(0.1))\n",
        "\n",
        "model.add(layers.Conv2D(128, (3, 3), strides=(1,1), activation='relu', padding='same'))\n",
        "model.add(BatchNormalization())\n",
        "model.add(layers.Conv2D(128, (3, 3), strides=(1,1), activation='relu', padding='same'))\n",
        "model.add(BatchNormalization())\n",
        "model.add(layers.MaxPooling2D((3, 3), strides=(2,2)))\n",
        "model.add(Dropout(0.2))\n",
        "\n",
        "model.add(layers.Conv2D(256, (3, 3), strides=(1,1), activation='relu', padding='same'))\n",
        "model.add(BatchNormalization())\n",
        "model.add(layers.Conv2D(256, (3, 3), strides=(1,1), activation='relu', padding='same'))\n",
        "model.add(BatchNormalization())\n",
        "model.add(layers.MaxPooling2D((3, 3), strides=(2,2)))\n",
        "model.add(Dropout(0.3))\n",
        "\n",
        "model.add(layers.Conv2D(512, (3, 3), strides=(1,1), activation='relu', padding='same'))\n",
        "model.add(BatchNormalization())\n",
        "model.add(layers.Conv2D(512, (3, 3), strides=(1,1), activation='relu', padding='same'))\n",
        "model.add(BatchNormalization())\n",
        "model.add(layers.MaxPooling2D((3, 3), strides=(2,2)))\n",
        "model.add(Dropout(0.4))\n",
        "\n",
        "model.add(layers.Flatten())\n",
        "model.add(layers.Dense(1024, activation='relu'))\n",
        "model.add(BatchNormalization())\n",
        "model.add(Dropout(0.5))\n",
        "model.add(layers.Dense(10, activation='softmax'))\n",
        "\n",
        "# Compile model\n",
        "model.compile(loss='categorical_crossentropy',\n",
        "              optimizer='adam',\n",
        "              metrics=['accuracy', recall_m, precision_m, f1_m])\n",
        "\n",
        "model.summary()"
      ],
      "metadata": {
        "colab": {
          "base_uri": "https://localhost:8080/"
        },
        "id": "J0pTkWbnLNzl",
        "outputId": "c6d52bac-008d-4135-9e2d-01d356e886a8"
      },
      "execution_count": 13,
      "outputs": [
        {
          "output_type": "stream",
          "name": "stdout",
          "text": [
            "Model: \"sequential\"\n",
            "_________________________________________________________________\n",
            " Layer (type)                Output Shape              Param #   \n",
            "=================================================================\n",
            " conv2d (Conv2D)             (None, 40, 40, 64)        640       \n",
            "                                                                 \n",
            " batch_normalization (BatchN  (None, 40, 40, 64)       256       \n",
            " ormalization)                                                   \n",
            "                                                                 \n",
            " max_pooling2d (MaxPooling2D  (None, 20, 20, 64)       0         \n",
            " )                                                               \n",
            "                                                                 \n",
            " dropout (Dropout)           (None, 20, 20, 64)        0         \n",
            "                                                                 \n",
            " conv2d_1 (Conv2D)           (None, 20, 20, 128)       73856     \n",
            "                                                                 \n",
            " batch_normalization_1 (Batc  (None, 20, 20, 128)      512       \n",
            " hNormalization)                                                 \n",
            "                                                                 \n",
            " conv2d_2 (Conv2D)           (None, 20, 20, 128)       147584    \n",
            "                                                                 \n",
            " batch_normalization_2 (Batc  (None, 20, 20, 128)      512       \n",
            " hNormalization)                                                 \n",
            "                                                                 \n",
            " max_pooling2d_1 (MaxPooling  (None, 9, 9, 128)        0         \n",
            " 2D)                                                             \n",
            "                                                                 \n",
            " dropout_1 (Dropout)         (None, 9, 9, 128)         0         \n",
            "                                                                 \n",
            " conv2d_3 (Conv2D)           (None, 9, 9, 256)         295168    \n",
            "                                                                 \n",
            " batch_normalization_3 (Batc  (None, 9, 9, 256)        1024      \n",
            " hNormalization)                                                 \n",
            "                                                                 \n",
            " conv2d_4 (Conv2D)           (None, 9, 9, 256)         590080    \n",
            "                                                                 \n",
            " batch_normalization_4 (Batc  (None, 9, 9, 256)        1024      \n",
            " hNormalization)                                                 \n",
            "                                                                 \n",
            " max_pooling2d_2 (MaxPooling  (None, 4, 4, 256)        0         \n",
            " 2D)                                                             \n",
            "                                                                 \n",
            " dropout_2 (Dropout)         (None, 4, 4, 256)         0         \n",
            "                                                                 \n",
            " conv2d_5 (Conv2D)           (None, 4, 4, 512)         1180160   \n",
            "                                                                 \n",
            " batch_normalization_5 (Batc  (None, 4, 4, 512)        2048      \n",
            " hNormalization)                                                 \n",
            "                                                                 \n",
            " conv2d_6 (Conv2D)           (None, 4, 4, 512)         2359808   \n",
            "                                                                 \n",
            " batch_normalization_6 (Batc  (None, 4, 4, 512)        2048      \n",
            " hNormalization)                                                 \n",
            "                                                                 \n",
            " max_pooling2d_3 (MaxPooling  (None, 1, 1, 512)        0         \n",
            " 2D)                                                             \n",
            "                                                                 \n",
            " dropout_3 (Dropout)         (None, 1, 1, 512)         0         \n",
            "                                                                 \n",
            " flatten (Flatten)           (None, 512)               0         \n",
            "                                                                 \n",
            " dense (Dense)               (None, 1024)              525312    \n",
            "                                                                 \n",
            " batch_normalization_7 (Batc  (None, 1024)             4096      \n",
            " hNormalization)                                                 \n",
            "                                                                 \n",
            " dropout_4 (Dropout)         (None, 1024)              0         \n",
            "                                                                 \n",
            " dense_1 (Dense)             (None, 10)                10250     \n",
            "                                                                 \n",
            "=================================================================\n",
            "Total params: 5,194,378\n",
            "Trainable params: 5,188,618\n",
            "Non-trainable params: 5,760\n",
            "_________________________________________________________________\n"
          ]
        }
      ]
    },
    {
      "cell_type": "code",
      "source": [
        "# Fit model on training data\n",
        "history = model.fit(X_train.astype(np.float32), y_train.astype(np.float32),\n",
        "          epochs=100, batch_size=256, validation_data = (X_val.astype(np.float32), y_val.astype(np.float32)))"
      ],
      "metadata": {
        "colab": {
          "base_uri": "https://localhost:8080/"
        },
        "id": "NPHlxJOGMlE8",
        "outputId": "d35628b1-e763-465c-8af2-a51dbff39f3d"
      },
      "execution_count": 15,
      "outputs": [
        {
          "output_type": "stream",
          "name": "stdout",
          "text": [
            "Epoch 1/100\n",
            "235/235 [==============================] - 22s 92ms/step - loss: 0.0028 - accuracy: 0.9993 - recall_m: 0.9993 - precision_m: 0.9993 - f1_m: 0.9993 - val_loss: 0.0279 - val_accuracy: 0.9952 - val_recall_m: 0.9952 - val_precision_m: 0.9953 - val_f1_m: 0.9952\n",
            "Epoch 2/100\n",
            "235/235 [==============================] - 22s 93ms/step - loss: 0.0018 - accuracy: 0.9995 - recall_m: 0.9995 - precision_m: 0.9995 - f1_m: 0.9995 - val_loss: 0.0209 - val_accuracy: 0.9962 - val_recall_m: 0.9962 - val_precision_m: 0.9963 - val_f1_m: 0.9962\n",
            "Epoch 3/100\n",
            "235/235 [==============================] - 22s 92ms/step - loss: 0.0040 - accuracy: 0.9989 - recall_m: 0.9989 - precision_m: 0.9989 - f1_m: 0.9989 - val_loss: 0.0392 - val_accuracy: 0.9928 - val_recall_m: 0.9928 - val_precision_m: 0.9930 - val_f1_m: 0.9929\n",
            "Epoch 4/100\n",
            "235/235 [==============================] - 21s 92ms/step - loss: 0.0037 - accuracy: 0.9990 - recall_m: 0.9990 - precision_m: 0.9990 - f1_m: 0.9990 - val_loss: 0.0233 - val_accuracy: 0.9952 - val_recall_m: 0.9950 - val_precision_m: 0.9952 - val_f1_m: 0.9951\n",
            "Epoch 5/100\n",
            "235/235 [==============================] - 22s 92ms/step - loss: 0.0023 - accuracy: 0.9994 - recall_m: 0.9994 - precision_m: 0.9994 - f1_m: 0.9994 - val_loss: 0.0258 - val_accuracy: 0.9957 - val_recall_m: 0.9954 - val_precision_m: 0.9957 - val_f1_m: 0.9956\n",
            "Epoch 6/100\n",
            "235/235 [==============================] - 22s 92ms/step - loss: 0.0015 - accuracy: 0.9996 - recall_m: 0.9996 - precision_m: 0.9996 - f1_m: 0.9996 - val_loss: 0.0334 - val_accuracy: 0.9945 - val_recall_m: 0.9942 - val_precision_m: 0.9945 - val_f1_m: 0.9944\n",
            "Epoch 7/100\n",
            "235/235 [==============================] - 22s 92ms/step - loss: 0.0021 - accuracy: 0.9994 - recall_m: 0.9994 - precision_m: 0.9994 - f1_m: 0.9994 - val_loss: 0.0290 - val_accuracy: 0.9946 - val_recall_m: 0.9946 - val_precision_m: 0.9947 - val_f1_m: 0.9947\n",
            "Epoch 8/100\n",
            "235/235 [==============================] - 22s 92ms/step - loss: 0.0035 - accuracy: 0.9988 - recall_m: 0.9988 - precision_m: 0.9988 - f1_m: 0.9988 - val_loss: 0.0545 - val_accuracy: 0.9908 - val_recall_m: 0.9908 - val_precision_m: 0.9912 - val_f1_m: 0.9910\n",
            "Epoch 9/100\n",
            "235/235 [==============================] - 22s 92ms/step - loss: 0.0032 - accuracy: 0.9990 - recall_m: 0.9990 - precision_m: 0.9991 - f1_m: 0.9991 - val_loss: 0.0217 - val_accuracy: 0.9964 - val_recall_m: 0.9962 - val_precision_m: 0.9963 - val_f1_m: 0.9962\n",
            "Epoch 10/100\n",
            "235/235 [==============================] - 22s 92ms/step - loss: 0.0025 - accuracy: 0.9994 - recall_m: 0.9994 - precision_m: 0.9994 - f1_m: 0.9994 - val_loss: 0.0407 - val_accuracy: 0.9938 - val_recall_m: 0.9936 - val_precision_m: 0.9939 - val_f1_m: 0.9937\n",
            "Epoch 11/100\n",
            "235/235 [==============================] - 22s 92ms/step - loss: 0.0013 - accuracy: 0.9996 - recall_m: 0.9996 - precision_m: 0.9997 - f1_m: 0.9996 - val_loss: 0.0324 - val_accuracy: 0.9950 - val_recall_m: 0.9948 - val_precision_m: 0.9949 - val_f1_m: 0.9948\n",
            "Epoch 12/100\n",
            "235/235 [==============================] - 22s 92ms/step - loss: 5.2432e-04 - accuracy: 0.9998 - recall_m: 0.9998 - precision_m: 0.9998 - f1_m: 0.9998 - val_loss: 0.0241 - val_accuracy: 0.9957 - val_recall_m: 0.9955 - val_precision_m: 0.9958 - val_f1_m: 0.9957\n",
            "Epoch 13/100\n",
            "235/235 [==============================] - 22s 92ms/step - loss: 0.0031 - accuracy: 0.9992 - recall_m: 0.9992 - precision_m: 0.9992 - f1_m: 0.9992 - val_loss: 0.0395 - val_accuracy: 0.9933 - val_recall_m: 0.9931 - val_precision_m: 0.9935 - val_f1_m: 0.9933\n",
            "Epoch 14/100\n",
            "235/235 [==============================] - 22s 92ms/step - loss: 0.0037 - accuracy: 0.9990 - recall_m: 0.9989 - precision_m: 0.9990 - f1_m: 0.9989 - val_loss: 0.0232 - val_accuracy: 0.9959 - val_recall_m: 0.9957 - val_precision_m: 0.9960 - val_f1_m: 0.9958\n",
            "Epoch 15/100\n",
            "235/235 [==============================] - 22s 92ms/step - loss: 0.0020 - accuracy: 0.9995 - recall_m: 0.9994 - precision_m: 0.9995 - f1_m: 0.9995 - val_loss: 0.0321 - val_accuracy: 0.9953 - val_recall_m: 0.9951 - val_precision_m: 0.9953 - val_f1_m: 0.9952\n",
            "Epoch 16/100\n",
            "235/235 [==============================] - 22s 92ms/step - loss: 0.0019 - accuracy: 0.9995 - recall_m: 0.9995 - precision_m: 0.9996 - f1_m: 0.9995 - val_loss: 0.0213 - val_accuracy: 0.9966 - val_recall_m: 0.9964 - val_precision_m: 0.9965 - val_f1_m: 0.9965\n",
            "Epoch 17/100\n",
            "235/235 [==============================] - 22s 92ms/step - loss: 0.0021 - accuracy: 0.9994 - recall_m: 0.9994 - precision_m: 0.9994 - f1_m: 0.9994 - val_loss: 0.0330 - val_accuracy: 0.9941 - val_recall_m: 0.9937 - val_precision_m: 0.9940 - val_f1_m: 0.9939\n",
            "Epoch 18/100\n",
            "235/235 [==============================] - 22s 92ms/step - loss: 0.0028 - accuracy: 0.9993 - recall_m: 0.9992 - precision_m: 0.9993 - f1_m: 0.9993 - val_loss: 0.0250 - val_accuracy: 0.9961 - val_recall_m: 0.9959 - val_precision_m: 0.9959 - val_f1_m: 0.9959\n",
            "Epoch 19/100\n",
            "235/235 [==============================] - 22s 92ms/step - loss: 0.0010 - accuracy: 0.9997 - recall_m: 0.9997 - precision_m: 0.9997 - f1_m: 0.9997 - val_loss: 0.0232 - val_accuracy: 0.9963 - val_recall_m: 0.9961 - val_precision_m: 0.9963 - val_f1_m: 0.9962\n",
            "Epoch 20/100\n",
            "235/235 [==============================] - 22s 92ms/step - loss: 0.0012 - accuracy: 0.9997 - recall_m: 0.9997 - precision_m: 0.9997 - f1_m: 0.9997 - val_loss: 0.0219 - val_accuracy: 0.9962 - val_recall_m: 0.9960 - val_precision_m: 0.9962 - val_f1_m: 0.9961\n",
            "Epoch 21/100\n",
            "235/235 [==============================] - 22s 92ms/step - loss: 0.0013 - accuracy: 0.9995 - recall_m: 0.9995 - precision_m: 0.9995 - f1_m: 0.9995 - val_loss: 0.0242 - val_accuracy: 0.9967 - val_recall_m: 0.9967 - val_precision_m: 0.9968 - val_f1_m: 0.9967\n",
            "Epoch 22/100\n",
            "235/235 [==============================] - 22s 92ms/step - loss: 0.0020 - accuracy: 0.9995 - recall_m: 0.9995 - precision_m: 0.9995 - f1_m: 0.9995 - val_loss: 0.0235 - val_accuracy: 0.9962 - val_recall_m: 0.9960 - val_precision_m: 0.9964 - val_f1_m: 0.9962\n",
            "Epoch 23/100\n",
            "235/235 [==============================] - 22s 92ms/step - loss: 0.0017 - accuracy: 0.9996 - recall_m: 0.9996 - precision_m: 0.9996 - f1_m: 0.9996 - val_loss: 0.0367 - val_accuracy: 0.9944 - val_recall_m: 0.9941 - val_precision_m: 0.9943 - val_f1_m: 0.9942\n",
            "Epoch 24/100\n",
            "235/235 [==============================] - 22s 95ms/step - loss: 8.9055e-04 - accuracy: 0.9997 - recall_m: 0.9997 - precision_m: 0.9997 - f1_m: 0.9997 - val_loss: 0.0266 - val_accuracy: 0.9959 - val_recall_m: 0.9958 - val_precision_m: 0.9958 - val_f1_m: 0.9958\n",
            "Epoch 25/100\n",
            "235/235 [==============================] - 22s 92ms/step - loss: 5.2965e-04 - accuracy: 0.9998 - recall_m: 0.9998 - precision_m: 0.9998 - f1_m: 0.9998 - val_loss: 0.0271 - val_accuracy: 0.9961 - val_recall_m: 0.9960 - val_precision_m: 0.9961 - val_f1_m: 0.9961\n",
            "Epoch 26/100\n",
            "235/235 [==============================] - 22s 92ms/step - loss: 0.0026 - accuracy: 0.9993 - recall_m: 0.9993 - precision_m: 0.9993 - f1_m: 0.9993 - val_loss: 0.0494 - val_accuracy: 0.9914 - val_recall_m: 0.9913 - val_precision_m: 0.9918 - val_f1_m: 0.9916\n",
            "Epoch 27/100\n",
            "235/235 [==============================] - 22s 92ms/step - loss: 0.0026 - accuracy: 0.9993 - recall_m: 0.9993 - precision_m: 0.9993 - f1_m: 0.9993 - val_loss: 0.0271 - val_accuracy: 0.9955 - val_recall_m: 0.9953 - val_precision_m: 0.9954 - val_f1_m: 0.9954\n",
            "Epoch 28/100\n",
            "235/235 [==============================] - 22s 92ms/step - loss: 0.0010 - accuracy: 0.9998 - recall_m: 0.9998 - precision_m: 0.9998 - f1_m: 0.9998 - val_loss: 0.0231 - val_accuracy: 0.9967 - val_recall_m: 0.9966 - val_precision_m: 0.9968 - val_f1_m: 0.9967\n",
            "Epoch 29/100\n",
            "235/235 [==============================] - 22s 95ms/step - loss: 0.0012 - accuracy: 0.9997 - recall_m: 0.9997 - precision_m: 0.9997 - f1_m: 0.9997 - val_loss: 0.0259 - val_accuracy: 0.9955 - val_recall_m: 0.9954 - val_precision_m: 0.9957 - val_f1_m: 0.9956\n",
            "Epoch 30/100\n",
            "235/235 [==============================] - 22s 92ms/step - loss: 8.0805e-04 - accuracy: 0.9997 - recall_m: 0.9997 - precision_m: 0.9997 - f1_m: 0.9997 - val_loss: 0.0385 - val_accuracy: 0.9957 - val_recall_m: 0.9955 - val_precision_m: 0.9957 - val_f1_m: 0.9956\n",
            "Epoch 31/100\n",
            "235/235 [==============================] - 22s 92ms/step - loss: 8.5026e-04 - accuracy: 0.9998 - recall_m: 0.9998 - precision_m: 0.9998 - f1_m: 0.9998 - val_loss: 0.0317 - val_accuracy: 0.9956 - val_recall_m: 0.9954 - val_precision_m: 0.9956 - val_f1_m: 0.9955\n",
            "Epoch 32/100\n",
            "235/235 [==============================] - 22s 92ms/step - loss: 0.0042 - accuracy: 0.9991 - recall_m: 0.9991 - precision_m: 0.9991 - f1_m: 0.9991 - val_loss: 0.0236 - val_accuracy: 0.9962 - val_recall_m: 0.9962 - val_precision_m: 0.9962 - val_f1_m: 0.9962\n",
            "Epoch 33/100\n",
            "235/235 [==============================] - 22s 92ms/step - loss: 9.0799e-04 - accuracy: 0.9997 - recall_m: 0.9997 - precision_m: 0.9997 - f1_m: 0.9997 - val_loss: 0.0213 - val_accuracy: 0.9964 - val_recall_m: 0.9963 - val_precision_m: 0.9964 - val_f1_m: 0.9963\n",
            "Epoch 34/100\n",
            "235/235 [==============================] - 22s 92ms/step - loss: 0.0021 - accuracy: 0.9995 - recall_m: 0.9995 - precision_m: 0.9996 - f1_m: 0.9996 - val_loss: 0.0230 - val_accuracy: 0.9965 - val_recall_m: 0.9965 - val_precision_m: 0.9967 - val_f1_m: 0.9966\n",
            "Epoch 35/100\n",
            "235/235 [==============================] - 22s 95ms/step - loss: 0.0012 - accuracy: 0.9997 - recall_m: 0.9997 - precision_m: 0.9997 - f1_m: 0.9997 - val_loss: 0.0244 - val_accuracy: 0.9963 - val_recall_m: 0.9961 - val_precision_m: 0.9963 - val_f1_m: 0.9962\n",
            "Epoch 36/100\n",
            "235/235 [==============================] - 22s 92ms/step - loss: 0.0016 - accuracy: 0.9998 - recall_m: 0.9997 - precision_m: 0.9998 - f1_m: 0.9997 - val_loss: 0.0238 - val_accuracy: 0.9962 - val_recall_m: 0.9961 - val_precision_m: 0.9962 - val_f1_m: 0.9961\n",
            "Epoch 37/100\n",
            "235/235 [==============================] - 22s 92ms/step - loss: 4.6223e-04 - accuracy: 0.9999 - recall_m: 0.9999 - precision_m: 0.9999 - f1_m: 0.9999 - val_loss: 0.0241 - val_accuracy: 0.9970 - val_recall_m: 0.9968 - val_precision_m: 0.9969 - val_f1_m: 0.9969\n",
            "Epoch 38/100\n",
            "235/235 [==============================] - 22s 92ms/step - loss: 3.3557e-04 - accuracy: 0.9999 - recall_m: 0.9999 - precision_m: 0.9999 - f1_m: 0.9999 - val_loss: 0.0233 - val_accuracy: 0.9969 - val_recall_m: 0.9968 - val_precision_m: 0.9969 - val_f1_m: 0.9969\n",
            "Epoch 39/100\n",
            "235/235 [==============================] - 22s 92ms/step - loss: 6.2858e-04 - accuracy: 0.9998 - recall_m: 0.9998 - precision_m: 0.9998 - f1_m: 0.9998 - val_loss: 0.0311 - val_accuracy: 0.9948 - val_recall_m: 0.9947 - val_precision_m: 0.9949 - val_f1_m: 0.9948\n",
            "Epoch 40/100\n",
            "235/235 [==============================] - 22s 92ms/step - loss: 0.0035 - accuracy: 0.9992 - recall_m: 0.9992 - precision_m: 0.9992 - f1_m: 0.9992 - val_loss: 0.0267 - val_accuracy: 0.9956 - val_recall_m: 0.9955 - val_precision_m: 0.9956 - val_f1_m: 0.9955\n",
            "Epoch 41/100\n",
            "235/235 [==============================] - 22s 92ms/step - loss: 0.0018 - accuracy: 0.9996 - recall_m: 0.9995 - precision_m: 0.9996 - f1_m: 0.9996 - val_loss: 0.0316 - val_accuracy: 0.9955 - val_recall_m: 0.9953 - val_precision_m: 0.9953 - val_f1_m: 0.9953\n",
            "Epoch 42/100\n",
            "235/235 [==============================] - 22s 95ms/step - loss: 0.0015 - accuracy: 0.9997 - recall_m: 0.9997 - precision_m: 0.9997 - f1_m: 0.9997 - val_loss: 0.0254 - val_accuracy: 0.9962 - val_recall_m: 0.9961 - val_precision_m: 0.9963 - val_f1_m: 0.9962\n",
            "Epoch 43/100\n",
            "235/235 [==============================] - 22s 92ms/step - loss: 0.0013 - accuracy: 0.9997 - recall_m: 0.9997 - precision_m: 0.9997 - f1_m: 0.9997 - val_loss: 0.0245 - val_accuracy: 0.9965 - val_recall_m: 0.9963 - val_precision_m: 0.9966 - val_f1_m: 0.9965\n",
            "Epoch 44/100\n",
            "235/235 [==============================] - 22s 92ms/step - loss: 8.6656e-04 - accuracy: 0.9998 - recall_m: 0.9998 - precision_m: 0.9998 - f1_m: 0.9998 - val_loss: 0.0367 - val_accuracy: 0.9952 - val_recall_m: 0.9951 - val_precision_m: 0.9951 - val_f1_m: 0.9951\n",
            "Epoch 45/100\n",
            "235/235 [==============================] - 22s 92ms/step - loss: 3.8944e-04 - accuracy: 0.9999 - recall_m: 0.9999 - precision_m: 0.9999 - f1_m: 0.9999 - val_loss: 0.0218 - val_accuracy: 0.9968 - val_recall_m: 0.9967 - val_precision_m: 0.9968 - val_f1_m: 0.9968\n",
            "Epoch 46/100\n",
            "235/235 [==============================] - 22s 92ms/step - loss: 5.9897e-04 - accuracy: 0.9999 - recall_m: 0.9999 - precision_m: 0.9999 - f1_m: 0.9999 - val_loss: 0.0234 - val_accuracy: 0.9965 - val_recall_m: 0.9964 - val_precision_m: 0.9964 - val_f1_m: 0.9964\n",
            "Epoch 47/100\n",
            "235/235 [==============================] - 22s 92ms/step - loss: 5.5752e-04 - accuracy: 0.9998 - recall_m: 0.9999 - precision_m: 0.9999 - f1_m: 0.9999 - val_loss: 0.0261 - val_accuracy: 0.9964 - val_recall_m: 0.9963 - val_precision_m: 0.9964 - val_f1_m: 0.9964\n",
            "Epoch 48/100\n",
            "235/235 [==============================] - 22s 92ms/step - loss: 9.4243e-04 - accuracy: 0.9998 - recall_m: 0.9998 - precision_m: 0.9998 - f1_m: 0.9998 - val_loss: 0.0297 - val_accuracy: 0.9961 - val_recall_m: 0.9959 - val_precision_m: 0.9960 - val_f1_m: 0.9960\n",
            "Epoch 49/100\n",
            "235/235 [==============================] - 22s 92ms/step - loss: 0.0013 - accuracy: 0.9997 - recall_m: 0.9997 - precision_m: 0.9997 - f1_m: 0.9997 - val_loss: 0.0308 - val_accuracy: 0.9954 - val_recall_m: 0.9953 - val_precision_m: 0.9954 - val_f1_m: 0.9953\n",
            "Epoch 50/100\n",
            "235/235 [==============================] - 22s 92ms/step - loss: 0.0018 - accuracy: 0.9996 - recall_m: 0.9996 - precision_m: 0.9996 - f1_m: 0.9996 - val_loss: 0.0336 - val_accuracy: 0.9956 - val_recall_m: 0.9954 - val_precision_m: 0.9957 - val_f1_m: 0.9956\n",
            "Epoch 51/100\n",
            "235/235 [==============================] - 22s 92ms/step - loss: 0.0012 - accuracy: 0.9996 - recall_m: 0.9996 - precision_m: 0.9996 - f1_m: 0.9996 - val_loss: 0.0243 - val_accuracy: 0.9969 - val_recall_m: 0.9967 - val_precision_m: 0.9968 - val_f1_m: 0.9967\n",
            "Epoch 52/100\n",
            "235/235 [==============================] - 22s 93ms/step - loss: 3.9187e-04 - accuracy: 0.9999 - recall_m: 0.9999 - precision_m: 0.9999 - f1_m: 0.9999 - val_loss: 0.0229 - val_accuracy: 0.9970 - val_recall_m: 0.9969 - val_precision_m: 0.9970 - val_f1_m: 0.9970\n",
            "Epoch 53/100\n",
            "235/235 [==============================] - 22s 93ms/step - loss: 0.0012 - accuracy: 0.9997 - recall_m: 0.9997 - precision_m: 0.9997 - f1_m: 0.9997 - val_loss: 0.0291 - val_accuracy: 0.9962 - val_recall_m: 0.9961 - val_precision_m: 0.9962 - val_f1_m: 0.9962\n",
            "Epoch 54/100\n",
            "235/235 [==============================] - 22s 93ms/step - loss: 0.0014 - accuracy: 0.9998 - recall_m: 0.9998 - precision_m: 0.9998 - f1_m: 0.9998 - val_loss: 0.0271 - val_accuracy: 0.9965 - val_recall_m: 0.9964 - val_precision_m: 0.9965 - val_f1_m: 0.9965\n",
            "Epoch 55/100\n",
            "235/235 [==============================] - 22s 95ms/step - loss: 0.0014 - accuracy: 0.9996 - recall_m: 0.9996 - precision_m: 0.9996 - f1_m: 0.9996 - val_loss: 0.0259 - val_accuracy: 0.9965 - val_recall_m: 0.9964 - val_precision_m: 0.9966 - val_f1_m: 0.9965\n",
            "Epoch 56/100\n",
            "235/235 [==============================] - 22s 92ms/step - loss: 4.7377e-04 - accuracy: 0.9999 - recall_m: 0.9999 - precision_m: 0.9999 - f1_m: 0.9999 - val_loss: 0.0277 - val_accuracy: 0.9963 - val_recall_m: 0.9962 - val_precision_m: 0.9962 - val_f1_m: 0.9962\n",
            "Epoch 57/100\n",
            "235/235 [==============================] - 22s 93ms/step - loss: 7.8798e-04 - accuracy: 0.9999 - recall_m: 0.9999 - precision_m: 0.9999 - f1_m: 0.9999 - val_loss: 0.0291 - val_accuracy: 0.9962 - val_recall_m: 0.9961 - val_precision_m: 0.9962 - val_f1_m: 0.9962\n",
            "Epoch 58/100\n",
            "235/235 [==============================] - 22s 93ms/step - loss: 0.0011 - accuracy: 0.9998 - recall_m: 0.9998 - precision_m: 0.9998 - f1_m: 0.9998 - val_loss: 0.0280 - val_accuracy: 0.9963 - val_recall_m: 0.9963 - val_precision_m: 0.9964 - val_f1_m: 0.9964\n",
            "Epoch 59/100\n",
            "235/235 [==============================] - 22s 92ms/step - loss: 8.1557e-04 - accuracy: 0.9998 - recall_m: 0.9998 - precision_m: 0.9998 - f1_m: 0.9998 - val_loss: 0.0257 - val_accuracy: 0.9967 - val_recall_m: 0.9967 - val_precision_m: 0.9968 - val_f1_m: 0.9967\n",
            "Epoch 60/100\n",
            "235/235 [==============================] - 22s 92ms/step - loss: 2.8766e-04 - accuracy: 0.9999 - recall_m: 0.9999 - precision_m: 0.9999 - f1_m: 0.9999 - val_loss: 0.0343 - val_accuracy: 0.9959 - val_recall_m: 0.9958 - val_precision_m: 0.9959 - val_f1_m: 0.9959\n",
            "Epoch 61/100\n",
            "235/235 [==============================] - 22s 92ms/step - loss: 0.0021 - accuracy: 0.9995 - recall_m: 0.9995 - precision_m: 0.9995 - f1_m: 0.9995 - val_loss: 0.0427 - val_accuracy: 0.9946 - val_recall_m: 0.9944 - val_precision_m: 0.9947 - val_f1_m: 0.9945\n",
            "Epoch 62/100\n",
            "235/235 [==============================] - 22s 93ms/step - loss: 0.0021 - accuracy: 0.9997 - recall_m: 0.9997 - precision_m: 0.9997 - f1_m: 0.9997 - val_loss: 0.0271 - val_accuracy: 0.9962 - val_recall_m: 0.9962 - val_precision_m: 0.9962 - val_f1_m: 0.9962\n",
            "Epoch 63/100\n",
            "235/235 [==============================] - 22s 93ms/step - loss: 7.6784e-04 - accuracy: 0.9998 - recall_m: 0.9998 - precision_m: 0.9998 - f1_m: 0.9998 - val_loss: 0.0335 - val_accuracy: 0.9953 - val_recall_m: 0.9951 - val_precision_m: 0.9953 - val_f1_m: 0.9952\n",
            "Epoch 64/100\n",
            "235/235 [==============================] - 22s 93ms/step - loss: 0.0015 - accuracy: 0.9995 - recall_m: 0.9995 - precision_m: 0.9996 - f1_m: 0.9995 - val_loss: 0.0264 - val_accuracy: 0.9960 - val_recall_m: 0.9957 - val_precision_m: 0.9959 - val_f1_m: 0.9958\n",
            "Epoch 65/100\n",
            "235/235 [==============================] - 22s 93ms/step - loss: 2.6465e-04 - accuracy: 0.9999 - recall_m: 0.9999 - precision_m: 0.9999 - f1_m: 0.9999 - val_loss: 0.0251 - val_accuracy: 0.9966 - val_recall_m: 0.9966 - val_precision_m: 0.9966 - val_f1_m: 0.9966\n",
            "Epoch 66/100\n",
            "235/235 [==============================] - 22s 95ms/step - loss: 3.9502e-04 - accuracy: 0.9999 - recall_m: 0.9999 - precision_m: 0.9999 - f1_m: 0.9999 - val_loss: 0.0320 - val_accuracy: 0.9953 - val_recall_m: 0.9951 - val_precision_m: 0.9953 - val_f1_m: 0.9952\n",
            "Epoch 67/100\n",
            "235/235 [==============================] - 22s 92ms/step - loss: 0.0013 - accuracy: 0.9997 - recall_m: 0.9997 - precision_m: 0.9997 - f1_m: 0.9997 - val_loss: 0.0256 - val_accuracy: 0.9965 - val_recall_m: 0.9963 - val_precision_m: 0.9966 - val_f1_m: 0.9964\n",
            "Epoch 68/100\n",
            "235/235 [==============================] - 22s 93ms/step - loss: 3.7073e-04 - accuracy: 0.9998 - recall_m: 0.9998 - precision_m: 0.9999 - f1_m: 0.9998 - val_loss: 0.0246 - val_accuracy: 0.9967 - val_recall_m: 0.9966 - val_precision_m: 0.9966 - val_f1_m: 0.9966\n",
            "Epoch 69/100\n",
            "235/235 [==============================] - 22s 93ms/step - loss: 7.9908e-05 - accuracy: 1.0000 - recall_m: 1.0000 - precision_m: 1.0000 - f1_m: 1.0000 - val_loss: 0.0293 - val_accuracy: 0.9957 - val_recall_m: 0.9955 - val_precision_m: 0.9956 - val_f1_m: 0.9956\n",
            "Epoch 70/100\n",
            "235/235 [==============================] - 22s 93ms/step - loss: 7.7469e-04 - accuracy: 0.9998 - recall_m: 0.9998 - precision_m: 0.9998 - f1_m: 0.9998 - val_loss: 0.0247 - val_accuracy: 0.9964 - val_recall_m: 0.9962 - val_precision_m: 0.9963 - val_f1_m: 0.9962\n",
            "Epoch 71/100\n",
            "235/235 [==============================] - 22s 95ms/step - loss: 2.6418e-04 - accuracy: 0.9999 - recall_m: 0.9999 - precision_m: 0.9999 - f1_m: 0.9999 - val_loss: 0.0249 - val_accuracy: 0.9965 - val_recall_m: 0.9963 - val_precision_m: 0.9964 - val_f1_m: 0.9964\n",
            "Epoch 72/100\n",
            "235/235 [==============================] - 22s 93ms/step - loss: 5.4721e-04 - accuracy: 0.9999 - recall_m: 0.9999 - precision_m: 0.9999 - f1_m: 0.9999 - val_loss: 0.0279 - val_accuracy: 0.9962 - val_recall_m: 0.9961 - val_precision_m: 0.9962 - val_f1_m: 0.9962\n",
            "Epoch 73/100\n",
            "235/235 [==============================] - 22s 93ms/step - loss: 9.3675e-04 - accuracy: 0.9998 - recall_m: 0.9998 - precision_m: 0.9998 - f1_m: 0.9998 - val_loss: 0.0253 - val_accuracy: 0.9963 - val_recall_m: 0.9962 - val_precision_m: 0.9963 - val_f1_m: 0.9962\n",
            "Epoch 74/100\n",
            "235/235 [==============================] - 22s 93ms/step - loss: 0.0013 - accuracy: 0.9997 - recall_m: 0.9997 - precision_m: 0.9997 - f1_m: 0.9997 - val_loss: 0.0363 - val_accuracy: 0.9954 - val_recall_m: 0.9953 - val_precision_m: 0.9953 - val_f1_m: 0.9953\n",
            "Epoch 75/100\n",
            "235/235 [==============================] - 22s 95ms/step - loss: 0.0012 - accuracy: 0.9997 - recall_m: 0.9997 - precision_m: 0.9997 - f1_m: 0.9997 - val_loss: 0.0297 - val_accuracy: 0.9961 - val_recall_m: 0.9959 - val_precision_m: 0.9960 - val_f1_m: 0.9960\n",
            "Epoch 76/100\n",
            "235/235 [==============================] - 22s 93ms/step - loss: 5.4116e-04 - accuracy: 0.9999 - recall_m: 0.9999 - precision_m: 0.9999 - f1_m: 0.9999 - val_loss: 0.0282 - val_accuracy: 0.9965 - val_recall_m: 0.9964 - val_precision_m: 0.9965 - val_f1_m: 0.9964\n",
            "Epoch 77/100\n",
            "235/235 [==============================] - 22s 93ms/step - loss: 4.2028e-04 - accuracy: 0.9999 - recall_m: 0.9999 - precision_m: 0.9999 - f1_m: 0.9999 - val_loss: 0.0272 - val_accuracy: 0.9964 - val_recall_m: 0.9962 - val_precision_m: 0.9963 - val_f1_m: 0.9963\n",
            "Epoch 78/100\n",
            "235/235 [==============================] - 22s 93ms/step - loss: 0.0011 - accuracy: 0.9998 - recall_m: 0.9998 - precision_m: 0.9998 - f1_m: 0.9998 - val_loss: 0.0252 - val_accuracy: 0.9966 - val_recall_m: 0.9966 - val_precision_m: 0.9966 - val_f1_m: 0.9966\n",
            "Epoch 79/100\n",
            "235/235 [==============================] - 22s 95ms/step - loss: 0.0012 - accuracy: 0.9997 - recall_m: 0.9997 - precision_m: 0.9997 - f1_m: 0.9997 - val_loss: 0.0317 - val_accuracy: 0.9951 - val_recall_m: 0.9949 - val_precision_m: 0.9950 - val_f1_m: 0.9949\n",
            "Epoch 80/100\n",
            "235/235 [==============================] - 22s 93ms/step - loss: 4.1723e-04 - accuracy: 0.9999 - recall_m: 0.9999 - precision_m: 0.9999 - f1_m: 0.9999 - val_loss: 0.0297 - val_accuracy: 0.9962 - val_recall_m: 0.9961 - val_precision_m: 0.9961 - val_f1_m: 0.9961\n",
            "Epoch 81/100\n",
            "235/235 [==============================] - 22s 93ms/step - loss: 2.5702e-04 - accuracy: 0.9999 - recall_m: 0.9999 - precision_m: 0.9999 - f1_m: 0.9999 - val_loss: 0.0319 - val_accuracy: 0.9965 - val_recall_m: 0.9964 - val_precision_m: 0.9965 - val_f1_m: 0.9964\n",
            "Epoch 82/100\n",
            "235/235 [==============================] - 22s 93ms/step - loss: 6.9137e-05 - accuracy: 1.0000 - recall_m: 1.0000 - precision_m: 1.0000 - f1_m: 1.0000 - val_loss: 0.0252 - val_accuracy: 0.9969 - val_recall_m: 0.9968 - val_precision_m: 0.9969 - val_f1_m: 0.9968\n",
            "Epoch 83/100\n",
            "235/235 [==============================] - 22s 93ms/step - loss: 2.7242e-05 - accuracy: 1.0000 - recall_m: 1.0000 - precision_m: 1.0000 - f1_m: 1.0000 - val_loss: 0.0272 - val_accuracy: 0.9969 - val_recall_m: 0.9968 - val_precision_m: 0.9969 - val_f1_m: 0.9969\n",
            "Epoch 84/100\n",
            "235/235 [==============================] - 22s 93ms/step - loss: 0.0013 - accuracy: 0.9998 - recall_m: 0.9998 - precision_m: 0.9998 - f1_m: 0.9998 - val_loss: 0.0313 - val_accuracy: 0.9962 - val_recall_m: 0.9959 - val_precision_m: 0.9961 - val_f1_m: 0.9960\n",
            "Epoch 85/100\n",
            "235/235 [==============================] - 22s 93ms/step - loss: 3.0875e-04 - accuracy: 0.9999 - recall_m: 0.9999 - precision_m: 0.9999 - f1_m: 0.9999 - val_loss: 0.0338 - val_accuracy: 0.9964 - val_recall_m: 0.9963 - val_precision_m: 0.9965 - val_f1_m: 0.9964\n",
            "Epoch 86/100\n",
            "235/235 [==============================] - 22s 95ms/step - loss: 9.2237e-04 - accuracy: 0.9999 - recall_m: 0.9999 - precision_m: 0.9999 - f1_m: 0.9999 - val_loss: 0.0299 - val_accuracy: 0.9961 - val_recall_m: 0.9959 - val_precision_m: 0.9961 - val_f1_m: 0.9960\n",
            "Epoch 87/100\n",
            "235/235 [==============================] - 22s 95ms/step - loss: 6.6255e-04 - accuracy: 0.9998 - recall_m: 0.9998 - precision_m: 0.9998 - f1_m: 0.9998 - val_loss: 0.0265 - val_accuracy: 0.9964 - val_recall_m: 0.9962 - val_precision_m: 0.9963 - val_f1_m: 0.9963\n",
            "Epoch 88/100\n",
            "235/235 [==============================] - 22s 93ms/step - loss: 0.0013 - accuracy: 0.9997 - recall_m: 0.9997 - precision_m: 0.9997 - f1_m: 0.9997 - val_loss: 0.0314 - val_accuracy: 0.9957 - val_recall_m: 0.9955 - val_precision_m: 0.9957 - val_f1_m: 0.9956\n",
            "Epoch 89/100\n",
            "235/235 [==============================] - 22s 93ms/step - loss: 0.0011 - accuracy: 0.9997 - recall_m: 0.9997 - precision_m: 0.9997 - f1_m: 0.9997 - val_loss: 0.0270 - val_accuracy: 0.9959 - val_recall_m: 0.9958 - val_precision_m: 0.9960 - val_f1_m: 0.9959\n",
            "Epoch 90/100\n",
            "235/235 [==============================] - 22s 93ms/step - loss: 8.8148e-04 - accuracy: 0.9998 - recall_m: 0.9998 - precision_m: 0.9998 - f1_m: 0.9998 - val_loss: 0.0338 - val_accuracy: 0.9958 - val_recall_m: 0.9957 - val_precision_m: 0.9958 - val_f1_m: 0.9957\n",
            "Epoch 91/100\n",
            "235/235 [==============================] - 22s 93ms/step - loss: 2.1697e-04 - accuracy: 1.0000 - recall_m: 1.0000 - precision_m: 1.0000 - f1_m: 1.0000 - val_loss: 0.0262 - val_accuracy: 0.9966 - val_recall_m: 0.9965 - val_precision_m: 0.9965 - val_f1_m: 0.9965\n",
            "Epoch 92/100\n",
            "235/235 [==============================] - 22s 95ms/step - loss: 5.5348e-05 - accuracy: 1.0000 - recall_m: 1.0000 - precision_m: 1.0000 - f1_m: 1.0000 - val_loss: 0.0240 - val_accuracy: 0.9969 - val_recall_m: 0.9967 - val_precision_m: 0.9969 - val_f1_m: 0.9968\n",
            "Epoch 93/100\n",
            "235/235 [==============================] - 22s 95ms/step - loss: 1.2829e-04 - accuracy: 0.9999 - recall_m: 0.9999 - precision_m: 1.0000 - f1_m: 0.9999 - val_loss: 0.0343 - val_accuracy: 0.9959 - val_recall_m: 0.9956 - val_precision_m: 0.9958 - val_f1_m: 0.9957\n",
            "Epoch 94/100\n",
            "235/235 [==============================] - 22s 92ms/step - loss: 4.3352e-04 - accuracy: 0.9999 - recall_m: 0.9999 - precision_m: 0.9999 - f1_m: 0.9999 - val_loss: 0.0304 - val_accuracy: 0.9969 - val_recall_m: 0.9967 - val_precision_m: 0.9968 - val_f1_m: 0.9968\n",
            "Epoch 95/100\n",
            "235/235 [==============================] - 22s 93ms/step - loss: 9.8882e-04 - accuracy: 0.9998 - recall_m: 0.9998 - precision_m: 0.9998 - f1_m: 0.9998 - val_loss: 0.0354 - val_accuracy: 0.9954 - val_recall_m: 0.9951 - val_precision_m: 0.9955 - val_f1_m: 0.9953\n",
            "Epoch 96/100\n",
            "235/235 [==============================] - 22s 93ms/step - loss: 6.1628e-04 - accuracy: 0.9998 - recall_m: 0.9998 - precision_m: 0.9998 - f1_m: 0.9998 - val_loss: 0.0283 - val_accuracy: 0.9963 - val_recall_m: 0.9961 - val_precision_m: 0.9962 - val_f1_m: 0.9962\n",
            "Epoch 97/100\n",
            "235/235 [==============================] - 22s 93ms/step - loss: 8.9786e-04 - accuracy: 0.9998 - recall_m: 0.9998 - precision_m: 0.9998 - f1_m: 0.9998 - val_loss: 0.0353 - val_accuracy: 0.9956 - val_recall_m: 0.9956 - val_precision_m: 0.9957 - val_f1_m: 0.9956\n",
            "Epoch 98/100\n",
            "235/235 [==============================] - 22s 93ms/step - loss: 0.0020 - accuracy: 0.9996 - recall_m: 0.9996 - precision_m: 0.9996 - f1_m: 0.9996 - val_loss: 0.0363 - val_accuracy: 0.9958 - val_recall_m: 0.9956 - val_precision_m: 0.9957 - val_f1_m: 0.9957\n",
            "Epoch 99/100\n",
            "235/235 [==============================] - 22s 93ms/step - loss: 7.6876e-04 - accuracy: 0.9998 - recall_m: 0.9998 - precision_m: 0.9998 - f1_m: 0.9998 - val_loss: 0.0242 - val_accuracy: 0.9970 - val_recall_m: 0.9969 - val_precision_m: 0.9969 - val_f1_m: 0.9969\n",
            "Epoch 100/100\n",
            "235/235 [==============================] - 22s 93ms/step - loss: 7.6256e-04 - accuracy: 0.9998 - recall_m: 0.9998 - precision_m: 0.9998 - f1_m: 0.9998 - val_loss: 0.0276 - val_accuracy: 0.9968 - val_recall_m: 0.9968 - val_precision_m: 0.9968 - val_f1_m: 0.9968\n"
          ]
        }
      ]
    },
    {
      "cell_type": "markdown",
      "source": [
        "## Evaluation of model"
      ],
      "metadata": {
        "id": "H81L7Xcq0zf1"
      }
    },
    {
      "cell_type": "code",
      "source": [
        "import matplotlib.pyplot as plt\n",
        "%matplotlib inline\n",
        "acc = history.history['accuracy']\n",
        "val_acc = history.history['val_accuracy']\n",
        "loss = history.history['loss']\n",
        "val_loss = history.history['val_loss']\n",
        "\n",
        "epochs = range(len(acc))\n",
        "\n",
        "plt.plot(epochs, acc, 'bo', label='Training acc')\n",
        "plt.plot(epochs, val_acc, 'b', label='Validation acc')\n",
        "plt.title('Training and validation accuracy')\n",
        "plt.legend()\n",
        "\n",
        "plt.figure()\n",
        "\n",
        "plt.plot(epochs, loss, 'bo', label='Training loss')\n",
        "plt.plot(epochs, val_loss, 'b', label='Validation loss')\n",
        "plt.title('Training and validation loss')\n",
        "plt.legend()\n",
        "\n",
        "plt.show()"
      ],
      "metadata": {
        "colab": {
          "base_uri": "https://localhost:8080/",
          "height": 545
        },
        "id": "cZzH95gimocW",
        "outputId": "fab82b92-cbcf-4b6e-de6f-d0bbfdfdfebf"
      },
      "execution_count": 16,
      "outputs": [
        {
          "output_type": "display_data",
          "data": {
            "text/plain": [
              "<Figure size 432x288 with 1 Axes>"
            ],
            "image/png": "[encoded data removed]"
          },
          "metadata": {
            "needs_background": "light"
          }
        },
        {
          "output_type": "display_data",
          "data": {
            "text/plain": [
              "<Figure size 432x288 with 1 Axes>"
            ],
            "image/png": "[encoded data removed]"
          },
          "metadata": {
            "needs_background": "light"
          }
        }
      ]
    },
    {
      "cell_type": "code",
      "source": [
        "loss, acc, f1_score, precision, recall = model.evaluate(X_test.astype(np.float32), y_test.astype(np.float32), verbose=0)\n",
        "print(f\"\\n LOSS: {loss},\\n\\n ACCURACY: {acc},\\n\\n F1_SCORE: {f1_score},\\n\\n PRECISION: {precision},\\n\\n RECALL: {recall}\\n\")"
      ],
      "metadata": {
        "colab": {
          "base_uri": "https://localhost:8080/"
        },
        "id": "nffGt5LhxNj7",
        "outputId": "9db04d7d-2d8d-498d-8ba1-c71cad5cff67"
      },
      "execution_count": 17,
      "outputs": [
        {
          "output_type": "stream",
          "name": "stdout",
          "text": [
            "\n",
            " LOSS: 0.03787151724100113,\n",
            "\n",
            " ACCURACY: 0.9950000047683716,\n",
            "\n",
            " F1_SCORE: 0.9955357313156128,\n",
            "\n",
            " PRECISION: 0.9955357313156128,\n",
            "\n",
            " RECALL: 0.9955357313156128\n",
            "\n"
          ]
        }
      ]
    },
    {
      "cell_type": "markdown",
      "source": [
        "## Run for remaining dataset"
      ],
      "metadata": {
        "id": "F2xw2h2y01m9"
      }
    },
    {
      "cell_type": "code",
      "source": [
        "X_remain, y_remain = np.array(remaining_images, dtype=object), np.array(remaining_labels, dtype=object)\n",
        "X_remain /= 255\n",
        "X_remain = np.array([cv2.resize(img, dsize=(40, 40)) for img in X_remain], dtype=object)\n",
        "y_remain = keras.utils.to_categorical(y_remain, num_classes=10)\n",
        "X_remain = X_remain.reshape(-1,40,40,1)"
      ],
      "metadata": {
        "id": "JAI4NXk8x1pK"
      },
      "execution_count": 18,
      "outputs": []
    },
    {
      "cell_type": "code",
      "source": [
        "loss, acc, f1_score, precision, recall = model.evaluate(X_remain.astype(np.float32), y_remain.astype(np.float32), verbose=0)\n",
        "print(f\"\\n LOSS: {loss},\\n\\n ACCURACY: {acc},\\n\\n F1_SCORE: {f1_score},\\n\\n PRECISION: {precision},\\n\\n RECALL: {recall}\\n\")"
      ],
      "metadata": {
        "colab": {
          "base_uri": "https://localhost:8080/"
        },
        "id": "4Fk-l109xjry",
        "outputId": "ca35870c-533b-427b-ea7f-0a72ae009416"
      },
      "execution_count": 19,
      "outputs": [
        {
          "output_type": "stream",
          "name": "stdout",
          "text": [
            "\n",
            " LOSS: 0.017765024676918983,\n",
            "\n",
            " ACCURACY: 0.9978078007698059,\n",
            "\n",
            " F1_SCORE: 0.9978093504905701,\n",
            "\n",
            " PRECISION: 0.9978093504905701,\n",
            "\n",
            " RECALL: 0.9978093504905701\n",
            "\n"
          ]
        }
      ]
    },
    {
      "cell_type": "markdown",
      "source": [
        "<hr>"
      ],
      "metadata": {
        "id": "WzDBtUry3SHJ"
      }
    },
    {
      "cell_type": "markdown",
      "source": [
        "## MOMENTUM Model"
      ],
      "metadata": {
        "id": "rrwLX0y9Zs8f"
      }
    },
    {
      "cell_type": "code",
      "source": [
        "import tensorflow as tf\n",
        "\n",
        "# Define model architecture\n",
        "model = Sequential()\n",
        "model.add(layers.Conv2D(64, (3, 3), strides=(1,1), activation='relu', input_shape=(40, 40, 1), padding='same'))\n",
        "model.add(BatchNormalization())\n",
        "model.add(layers.MaxPooling2D((2, 2)))\n",
        "model.add(Dropout(0.1))\n",
        "\n",
        "model.add(layers.Conv2D(128, (3, 3), strides=(1,1), activation='relu', padding='same'))\n",
        "model.add(BatchNormalization())\n",
        "model.add(layers.Conv2D(128, (3, 3), strides=(1,1), activation='relu', padding='same'))\n",
        "model.add(BatchNormalization())\n",
        "model.add(layers.MaxPooling2D((3, 3), strides=(2,2)))\n",
        "model.add(Dropout(0.2))\n",
        "\n",
        "model.add(layers.Conv2D(256, (3, 3), strides=(1,1), activation='relu', padding='same'))\n",
        "model.add(BatchNormalization())\n",
        "model.add(layers.Conv2D(256, (3, 3), strides=(1,1), activation='relu', padding='same'))\n",
        "model.add(BatchNormalization())\n",
        "model.add(layers.MaxPooling2D((3, 3), strides=(2,2)))\n",
        "model.add(Dropout(0.3))\n",
        "\n",
        "model.add(layers.Conv2D(512, (3, 3), strides=(1,1), activation='relu', padding='same'))\n",
        "model.add(BatchNormalization())\n",
        "model.add(layers.Conv2D(512, (3, 3), strides=(1,1), activation='relu', padding='same'))\n",
        "model.add(BatchNormalization())\n",
        "model.add(layers.MaxPooling2D((3, 3), strides=(2,2)))\n",
        "model.add(Dropout(0.4))\n",
        "\n",
        "model.add(layers.Flatten())\n",
        "model.add(layers.Dense(1024, activation='relu'))\n",
        "model.add(BatchNormalization())\n",
        "model.add(Dropout(0.5))\n",
        "model.add(layers.Dense(10, activation='softmax'))\n",
        "\n",
        "# Compile model\n",
        "model.compile(loss='categorical_crossentropy',\n",
        "              optimizer=tf.keras.optimizers.experimental.SGD(0.1, momentum=0.9),\n",
        "              metrics=['accuracy', recall_m, precision_m, f1_m])\n",
        "\n",
        "model.summary()"
      ],
      "metadata": {
        "colab": {
          "base_uri": "https://localhost:8080/"
        },
        "outputId": "cdfcf76b-24b1-481c-a14a-a0dc31a1ef38",
        "id": "xzN6YGsS3Q0C"
      },
      "execution_count": 21,
      "outputs": [
        {
          "output_type": "stream",
          "name": "stdout",
          "text": [
            "Model: \"sequential_2\"\n",
            "_________________________________________________________________\n",
            " Layer (type)                Output Shape              Param #   \n",
            "=================================================================\n",
            " conv2d_14 (Conv2D)          (None, 40, 40, 64)        640       \n",
            "                                                                 \n",
            " batch_normalization_16 (Bat  (None, 40, 40, 64)       256       \n",
            " chNormalization)                                                \n",
            "                                                                 \n",
            " max_pooling2d_8 (MaxPooling  (None, 20, 20, 64)       0         \n",
            " 2D)                                                             \n",
            "                                                                 \n",
            " dropout_10 (Dropout)        (None, 20, 20, 64)        0         \n",
            "                                                                 \n",
            " conv2d_15 (Conv2D)          (None, 20, 20, 128)       73856     \n",
            "                                                                 \n",
            " batch_normalization_17 (Bat  (None, 20, 20, 128)      512       \n",
            " chNormalization)                                                \n",
            "                                                                 \n",
            " conv2d_16 (Conv2D)          (None, 20, 20, 128)       147584    \n",
            "                                                                 \n",
            " batch_normalization_18 (Bat  (None, 20, 20, 128)      512       \n",
            " chNormalization)                                                \n",
            "                                                                 \n",
            " max_pooling2d_9 (MaxPooling  (None, 9, 9, 128)        0         \n",
            " 2D)                                                             \n",
            "                                                                 \n",
            " dropout_11 (Dropout)        (None, 9, 9, 128)         0         \n",
            "                                                                 \n",
            " conv2d_17 (Conv2D)          (None, 9, 9, 256)         295168    \n",
            "                                                                 \n",
            " batch_normalization_19 (Bat  (None, 9, 9, 256)        1024      \n",
            " chNormalization)                                                \n",
            "                                                                 \n",
            " conv2d_18 (Conv2D)          (None, 9, 9, 256)         590080    \n",
            "                                                                 \n",
            " batch_normalization_20 (Bat  (None, 9, 9, 256)        1024      \n",
            " chNormalization)                                                \n",
            "                                                                 \n",
            " max_pooling2d_10 (MaxPoolin  (None, 4, 4, 256)        0         \n",
            " g2D)                                                            \n",
            "                                                                 \n",
            " dropout_12 (Dropout)        (None, 4, 4, 256)         0         \n",
            "                                                                 \n",
            " conv2d_19 (Conv2D)          (None, 4, 4, 512)         1180160   \n",
            "                                                                 \n",
            " batch_normalization_21 (Bat  (None, 4, 4, 512)        2048      \n",
            " chNormalization)                                                \n",
            "                                                                 \n",
            " conv2d_20 (Conv2D)          (None, 4, 4, 512)         2359808   \n",
            "                                                                 \n",
            " batch_normalization_22 (Bat  (None, 4, 4, 512)        2048      \n",
            " chNormalization)                                                \n",
            "                                                                 \n",
            " max_pooling2d_11 (MaxPoolin  (None, 1, 1, 512)        0         \n",
            " g2D)                                                            \n",
            "                                                                 \n",
            " dropout_13 (Dropout)        (None, 1, 1, 512)         0         \n",
            "                                                                 \n",
            " flatten_2 (Flatten)         (None, 512)               0         \n",
            "                                                                 \n",
            " dense_4 (Dense)             (None, 1024)              525312    \n",
            "                                                                 \n",
            " batch_normalization_23 (Bat  (None, 1024)             4096      \n",
            " chNormalization)                                                \n",
            "                                                                 \n",
            " dropout_14 (Dropout)        (None, 1024)              0         \n",
            "                                                                 \n",
            " dense_5 (Dense)             (None, 10)                10250     \n",
            "                                                                 \n",
            "=================================================================\n",
            "Total params: 5,194,378\n",
            "Trainable params: 5,188,618\n",
            "Non-trainable params: 5,760\n",
            "_________________________________________________________________\n"
          ]
        }
      ]
    },
    {
      "cell_type": "code",
      "source": [
        "# Fit model on training data\n",
        "history = model.fit(X_train.astype(np.float32), y_train.astype(np.float32),\n",
        "          epochs=100, batch_size=256, validation_data = (X_val.astype(np.float32), y_val.astype(np.float32)))"
      ],
      "metadata": {
        "colab": {
          "base_uri": "https://localhost:8080/"
        },
        "outputId": "9575fb1f-f699-4ab5-ec8f-89d8f1864ea4",
        "id": "yh3vzXYt3Q0D"
      },
      "execution_count": 22,
      "outputs": [
        {
          "output_type": "stream",
          "name": "stdout",
          "text": [
            "Epoch 1/100\n",
            "235/235 [==============================] - 25s 93ms/step - loss: 0.2128 - accuracy: 0.9502 - recall_m: 0.9480 - precision_m: 0.9523 - f1_m: 0.9499 - val_loss: 0.4226 - val_accuracy: 0.9313 - val_recall_m: 0.9310 - val_precision_m: 0.9321 - val_f1_m: 0.9316\n",
            "Epoch 2/100\n",
            "235/235 [==============================] - 22s 93ms/step - loss: 0.0392 - accuracy: 0.9899 - recall_m: 0.9897 - precision_m: 0.9903 - f1_m: 0.9900 - val_loss: 0.0955 - val_accuracy: 0.9796 - val_recall_m: 0.9796 - val_precision_m: 0.9800 - val_f1_m: 0.9798\n",
            "Epoch 3/100\n",
            "235/235 [==============================] - 21s 91ms/step - loss: 0.0278 - accuracy: 0.9924 - recall_m: 0.9923 - precision_m: 0.9926 - f1_m: 0.9925 - val_loss: 0.0778 - val_accuracy: 0.9825 - val_recall_m: 0.9825 - val_precision_m: 0.9831 - val_f1_m: 0.9828\n",
            "Epoch 4/100\n",
            "235/235 [==============================] - 21s 91ms/step - loss: 0.0206 - accuracy: 0.9941 - recall_m: 0.9940 - precision_m: 0.9943 - f1_m: 0.9941 - val_loss: 0.0419 - val_accuracy: 0.9905 - val_recall_m: 0.9903 - val_precision_m: 0.9906 - val_f1_m: 0.9905\n",
            "Epoch 5/100\n",
            "235/235 [==============================] - 21s 91ms/step - loss: 0.0130 - accuracy: 0.9962 - recall_m: 0.9961 - precision_m: 0.9964 - f1_m: 0.9962 - val_loss: 0.0264 - val_accuracy: 0.9934 - val_recall_m: 0.9932 - val_precision_m: 0.9934 - val_f1_m: 0.9933\n",
            "Epoch 6/100\n",
            "235/235 [==============================] - 22s 92ms/step - loss: 0.0122 - accuracy: 0.9965 - recall_m: 0.9965 - precision_m: 0.9966 - f1_m: 0.9966 - val_loss: 0.0433 - val_accuracy: 0.9920 - val_recall_m: 0.9918 - val_precision_m: 0.9920 - val_f1_m: 0.9919\n",
            "Epoch 7/100\n",
            "235/235 [==============================] - 22s 92ms/step - loss: 0.0120 - accuracy: 0.9964 - recall_m: 0.9963 - precision_m: 0.9965 - f1_m: 0.9964 - val_loss: 0.0251 - val_accuracy: 0.9939 - val_recall_m: 0.9939 - val_precision_m: 0.9940 - val_f1_m: 0.9940\n",
            "Epoch 8/100\n",
            "235/235 [==============================] - 22s 92ms/step - loss: 0.0090 - accuracy: 0.9974 - recall_m: 0.9973 - precision_m: 0.9975 - f1_m: 0.9974 - val_loss: 0.0202 - val_accuracy: 0.9957 - val_recall_m: 0.9955 - val_precision_m: 0.9956 - val_f1_m: 0.9956\n",
            "Epoch 9/100\n",
            "235/235 [==============================] - 22s 92ms/step - loss: 0.0105 - accuracy: 0.9972 - recall_m: 0.9972 - precision_m: 0.9973 - f1_m: 0.9972 - val_loss: 0.0433 - val_accuracy: 0.9906 - val_recall_m: 0.9903 - val_precision_m: 0.9908 - val_f1_m: 0.9906\n",
            "Epoch 10/100\n",
            "235/235 [==============================] - 21s 91ms/step - loss: 0.0072 - accuracy: 0.9979 - recall_m: 0.9978 - precision_m: 0.9979 - f1_m: 0.9978 - val_loss: 0.0386 - val_accuracy: 0.9913 - val_recall_m: 0.9911 - val_precision_m: 0.9914 - val_f1_m: 0.9913\n",
            "Epoch 11/100\n",
            "235/235 [==============================] - 21s 91ms/step - loss: 0.0084 - accuracy: 0.9976 - recall_m: 0.9975 - precision_m: 0.9976 - f1_m: 0.9976 - val_loss: 0.0276 - val_accuracy: 0.9931 - val_recall_m: 0.9930 - val_precision_m: 0.9932 - val_f1_m: 0.9931\n",
            "Epoch 12/100\n",
            "235/235 [==============================] - 21s 91ms/step - loss: 0.0055 - accuracy: 0.9982 - recall_m: 0.9982 - precision_m: 0.9982 - f1_m: 0.9982 - val_loss: 0.0414 - val_accuracy: 0.9920 - val_recall_m: 0.9918 - val_precision_m: 0.9920 - val_f1_m: 0.9919\n",
            "Epoch 13/100\n",
            "235/235 [==============================] - 21s 91ms/step - loss: 0.0044 - accuracy: 0.9985 - recall_m: 0.9985 - precision_m: 0.9986 - f1_m: 0.9985 - val_loss: 0.0243 - val_accuracy: 0.9953 - val_recall_m: 0.9951 - val_precision_m: 0.9952 - val_f1_m: 0.9952\n",
            "Epoch 14/100\n",
            "235/235 [==============================] - 22s 92ms/step - loss: 0.0046 - accuracy: 0.9985 - recall_m: 0.9985 - precision_m: 0.9986 - f1_m: 0.9985 - val_loss: 0.0325 - val_accuracy: 0.9937 - val_recall_m: 0.9935 - val_precision_m: 0.9938 - val_f1_m: 0.9937\n",
            "Epoch 15/100\n",
            "235/235 [==============================] - 21s 91ms/step - loss: 0.0041 - accuracy: 0.9988 - recall_m: 0.9988 - precision_m: 0.9989 - f1_m: 0.9989 - val_loss: 0.0274 - val_accuracy: 0.9947 - val_recall_m: 0.9946 - val_precision_m: 0.9948 - val_f1_m: 0.9947\n",
            "Epoch 16/100\n",
            "235/235 [==============================] - 22s 94ms/step - loss: 0.0048 - accuracy: 0.9985 - recall_m: 0.9985 - precision_m: 0.9986 - f1_m: 0.9985 - val_loss: 0.0218 - val_accuracy: 0.9950 - val_recall_m: 0.9948 - val_precision_m: 0.9950 - val_f1_m: 0.9949\n",
            "Epoch 17/100\n",
            "235/235 [==============================] - 21s 91ms/step - loss: 0.0052 - accuracy: 0.9985 - recall_m: 0.9985 - precision_m: 0.9986 - f1_m: 0.9985 - val_loss: 0.0343 - val_accuracy: 0.9935 - val_recall_m: 0.9933 - val_precision_m: 0.9936 - val_f1_m: 0.9935\n",
            "Epoch 18/100\n",
            "235/235 [==============================] - 21s 92ms/step - loss: 0.0043 - accuracy: 0.9986 - recall_m: 0.9986 - precision_m: 0.9986 - f1_m: 0.9986 - val_loss: 0.1232 - val_accuracy: 0.9791 - val_recall_m: 0.9790 - val_precision_m: 0.9792 - val_f1_m: 0.9791\n",
            "Epoch 19/100\n",
            "235/235 [==============================] - 21s 91ms/step - loss: 0.0036 - accuracy: 0.9988 - recall_m: 0.9988 - precision_m: 0.9988 - f1_m: 0.9988 - val_loss: 0.0698 - val_accuracy: 0.9883 - val_recall_m: 0.9880 - val_precision_m: 0.9883 - val_f1_m: 0.9882\n",
            "Epoch 20/100\n",
            "235/235 [==============================] - 21s 91ms/step - loss: 0.0043 - accuracy: 0.9985 - recall_m: 0.9985 - precision_m: 0.9986 - f1_m: 0.9986 - val_loss: 0.0356 - val_accuracy: 0.9932 - val_recall_m: 0.9931 - val_precision_m: 0.9933 - val_f1_m: 0.9932\n",
            "Epoch 21/100\n",
            "235/235 [==============================] - 21s 91ms/step - loss: 0.0030 - accuracy: 0.9991 - recall_m: 0.9991 - precision_m: 0.9992 - f1_m: 0.9991 - val_loss: 0.0267 - val_accuracy: 0.9959 - val_recall_m: 0.9957 - val_precision_m: 0.9958 - val_f1_m: 0.9957\n",
            "Epoch 22/100\n",
            "235/235 [==============================] - 21s 91ms/step - loss: 0.0024 - accuracy: 0.9992 - recall_m: 0.9992 - precision_m: 0.9992 - f1_m: 0.9992 - val_loss: 0.0351 - val_accuracy: 0.9941 - val_recall_m: 0.9940 - val_precision_m: 0.9941 - val_f1_m: 0.9940\n",
            "Epoch 23/100\n",
            "235/235 [==============================] - 21s 91ms/step - loss: 0.0024 - accuracy: 0.9992 - recall_m: 0.9992 - precision_m: 0.9992 - f1_m: 0.9992 - val_loss: 0.0249 - val_accuracy: 0.9963 - val_recall_m: 0.9961 - val_precision_m: 0.9962 - val_f1_m: 0.9962\n",
            "Epoch 24/100\n",
            "235/235 [==============================] - 21s 91ms/step - loss: 0.0026 - accuracy: 0.9992 - recall_m: 0.9992 - precision_m: 0.9992 - f1_m: 0.9992 - val_loss: 0.0344 - val_accuracy: 0.9943 - val_recall_m: 0.9939 - val_precision_m: 0.9939 - val_f1_m: 0.9939\n",
            "Epoch 25/100\n",
            "235/235 [==============================] - 21s 91ms/step - loss: 0.0023 - accuracy: 0.9993 - recall_m: 0.9993 - precision_m: 0.9993 - f1_m: 0.9993 - val_loss: 0.0298 - val_accuracy: 0.9945 - val_recall_m: 0.9945 - val_precision_m: 0.9946 - val_f1_m: 0.9945\n",
            "Epoch 26/100\n",
            "235/235 [==============================] - 22s 92ms/step - loss: 0.0019 - accuracy: 0.9994 - recall_m: 0.9994 - precision_m: 0.9994 - f1_m: 0.9994 - val_loss: 0.0269 - val_accuracy: 0.9959 - val_recall_m: 0.9958 - val_precision_m: 0.9959 - val_f1_m: 0.9959\n",
            "Epoch 27/100\n",
            "235/235 [==============================] - 22s 92ms/step - loss: 0.0012 - accuracy: 0.9995 - recall_m: 0.9995 - precision_m: 0.9995 - f1_m: 0.9995 - val_loss: 0.0263 - val_accuracy: 0.9960 - val_recall_m: 0.9958 - val_precision_m: 0.9959 - val_f1_m: 0.9958\n",
            "Epoch 28/100\n",
            "235/235 [==============================] - 21s 92ms/step - loss: 0.0013 - accuracy: 0.9996 - recall_m: 0.9996 - precision_m: 0.9996 - f1_m: 0.9996 - val_loss: 0.0282 - val_accuracy: 0.9953 - val_recall_m: 0.9951 - val_precision_m: 0.9951 - val_f1_m: 0.9951\n",
            "Epoch 29/100\n",
            "235/235 [==============================] - 22s 92ms/step - loss: 0.0014 - accuracy: 0.9996 - recall_m: 0.9996 - precision_m: 0.9996 - f1_m: 0.9996 - val_loss: 0.0333 - val_accuracy: 0.9942 - val_recall_m: 0.9942 - val_precision_m: 0.9942 - val_f1_m: 0.9942\n",
            "Epoch 30/100\n",
            "235/235 [==============================] - 22s 92ms/step - loss: 0.0022 - accuracy: 0.9994 - recall_m: 0.9994 - precision_m: 0.9994 - f1_m: 0.9994 - val_loss: 0.0258 - val_accuracy: 0.9957 - val_recall_m: 0.9957 - val_precision_m: 0.9957 - val_f1_m: 0.9957\n",
            "Epoch 31/100\n",
            "235/235 [==============================] - 22s 92ms/step - loss: 0.0020 - accuracy: 0.9994 - recall_m: 0.9994 - precision_m: 0.9994 - f1_m: 0.9994 - val_loss: 0.0245 - val_accuracy: 0.9962 - val_recall_m: 0.9961 - val_precision_m: 0.9961 - val_f1_m: 0.9961\n",
            "Epoch 32/100\n",
            "235/235 [==============================] - 21s 92ms/step - loss: 0.0015 - accuracy: 0.9995 - recall_m: 0.9995 - precision_m: 0.9995 - f1_m: 0.9995 - val_loss: 0.0248 - val_accuracy: 0.9958 - val_recall_m: 0.9957 - val_precision_m: 0.9957 - val_f1_m: 0.9957\n",
            "Epoch 33/100\n",
            "235/235 [==============================] - 22s 92ms/step - loss: 0.0024 - accuracy: 0.9993 - recall_m: 0.9993 - precision_m: 0.9993 - f1_m: 0.9993 - val_loss: 0.0289 - val_accuracy: 0.9951 - val_recall_m: 0.9949 - val_precision_m: 0.9950 - val_f1_m: 0.9949\n",
            "Epoch 34/100\n",
            "235/235 [==============================] - 22s 92ms/step - loss: 0.0012 - accuracy: 0.9996 - recall_m: 0.9996 - precision_m: 0.9996 - f1_m: 0.9996 - val_loss: 0.0220 - val_accuracy: 0.9967 - val_recall_m: 0.9965 - val_precision_m: 0.9966 - val_f1_m: 0.9966\n",
            "Epoch 35/100\n",
            "235/235 [==============================] - 21s 92ms/step - loss: 0.0018 - accuracy: 0.9994 - recall_m: 0.9994 - precision_m: 0.9994 - f1_m: 0.9994 - val_loss: 0.0240 - val_accuracy: 0.9960 - val_recall_m: 0.9959 - val_precision_m: 0.9960 - val_f1_m: 0.9960\n",
            "Epoch 36/100\n",
            "235/235 [==============================] - 22s 92ms/step - loss: 0.0014 - accuracy: 0.9995 - recall_m: 0.9996 - precision_m: 0.9996 - f1_m: 0.9996 - val_loss: 0.0218 - val_accuracy: 0.9964 - val_recall_m: 0.9962 - val_precision_m: 0.9963 - val_f1_m: 0.9963\n",
            "Epoch 37/100\n",
            "235/235 [==============================] - 22s 92ms/step - loss: 0.0013 - accuracy: 0.9996 - recall_m: 0.9996 - precision_m: 0.9996 - f1_m: 0.9996 - val_loss: 0.0220 - val_accuracy: 0.9965 - val_recall_m: 0.9964 - val_precision_m: 0.9964 - val_f1_m: 0.9964\n",
            "Epoch 38/100\n",
            "235/235 [==============================] - 22s 92ms/step - loss: 5.8052e-04 - accuracy: 0.9998 - recall_m: 0.9998 - precision_m: 0.9998 - f1_m: 0.9998 - val_loss: 0.0246 - val_accuracy: 0.9961 - val_recall_m: 0.9959 - val_precision_m: 0.9960 - val_f1_m: 0.9959\n",
            "Epoch 39/100\n",
            "235/235 [==============================] - 22s 92ms/step - loss: 0.0015 - accuracy: 0.9995 - recall_m: 0.9995 - precision_m: 0.9995 - f1_m: 0.9995 - val_loss: 0.0295 - val_accuracy: 0.9956 - val_recall_m: 0.9955 - val_precision_m: 0.9955 - val_f1_m: 0.9955\n",
            "Epoch 40/100\n",
            "235/235 [==============================] - 22s 92ms/step - loss: 0.0013 - accuracy: 0.9996 - recall_m: 0.9996 - precision_m: 0.9997 - f1_m: 0.9996 - val_loss: 0.0217 - val_accuracy: 0.9963 - val_recall_m: 0.9961 - val_precision_m: 0.9962 - val_f1_m: 0.9961\n",
            "Epoch 41/100\n",
            "235/235 [==============================] - 22s 92ms/step - loss: 0.0014 - accuracy: 0.9996 - recall_m: 0.9996 - precision_m: 0.9996 - f1_m: 0.9996 - val_loss: 0.0306 - val_accuracy: 0.9953 - val_recall_m: 0.9952 - val_precision_m: 0.9952 - val_f1_m: 0.9952\n",
            "Epoch 42/100\n",
            "235/235 [==============================] - 22s 92ms/step - loss: 7.9394e-04 - accuracy: 0.9997 - recall_m: 0.9997 - precision_m: 0.9997 - f1_m: 0.9997 - val_loss: 0.0309 - val_accuracy: 0.9950 - val_recall_m: 0.9949 - val_precision_m: 0.9949 - val_f1_m: 0.9949\n",
            "Epoch 43/100\n",
            "235/235 [==============================] - 22s 92ms/step - loss: 7.7045e-04 - accuracy: 0.9998 - recall_m: 0.9997 - precision_m: 0.9998 - f1_m: 0.9997 - val_loss: 0.0250 - val_accuracy: 0.9958 - val_recall_m: 0.9956 - val_precision_m: 0.9957 - val_f1_m: 0.9956\n",
            "Epoch 44/100\n",
            "235/235 [==============================] - 22s 92ms/step - loss: 7.9681e-04 - accuracy: 0.9997 - recall_m: 0.9997 - precision_m: 0.9997 - f1_m: 0.9997 - val_loss: 0.0271 - val_accuracy: 0.9958 - val_recall_m: 0.9956 - val_precision_m: 0.9956 - val_f1_m: 0.9956\n",
            "Epoch 45/100\n",
            "235/235 [==============================] - 22s 92ms/step - loss: 2.1288e-04 - accuracy: 0.9999 - recall_m: 1.0000 - precision_m: 1.0000 - f1_m: 1.0000 - val_loss: 0.0249 - val_accuracy: 0.9965 - val_recall_m: 0.9964 - val_precision_m: 0.9964 - val_f1_m: 0.9964\n",
            "Epoch 46/100\n",
            "235/235 [==============================] - 22s 92ms/step - loss: 8.8642e-04 - accuracy: 0.9997 - recall_m: 0.9997 - precision_m: 0.9997 - f1_m: 0.9997 - val_loss: 0.0259 - val_accuracy: 0.9965 - val_recall_m: 0.9964 - val_precision_m: 0.9964 - val_f1_m: 0.9964\n",
            "Epoch 47/100\n",
            "235/235 [==============================] - 22s 92ms/step - loss: 7.4766e-04 - accuracy: 0.9998 - recall_m: 0.9998 - precision_m: 0.9998 - f1_m: 0.9998 - val_loss: 0.0281 - val_accuracy: 0.9959 - val_recall_m: 0.9958 - val_precision_m: 0.9959 - val_f1_m: 0.9958\n",
            "Epoch 48/100\n",
            "235/235 [==============================] - 22s 92ms/step - loss: 8.1358e-04 - accuracy: 0.9997 - recall_m: 0.9997 - precision_m: 0.9997 - f1_m: 0.9997 - val_loss: 0.0251 - val_accuracy: 0.9964 - val_recall_m: 0.9963 - val_precision_m: 0.9964 - val_f1_m: 0.9963\n",
            "Epoch 49/100\n",
            "235/235 [==============================] - 22s 92ms/step - loss: 3.6628e-04 - accuracy: 0.9998 - recall_m: 0.9998 - precision_m: 0.9998 - f1_m: 0.9998 - val_loss: 0.0242 - val_accuracy: 0.9966 - val_recall_m: 0.9964 - val_precision_m: 0.9965 - val_f1_m: 0.9964\n",
            "Epoch 50/100\n",
            "235/235 [==============================] - 22s 92ms/step - loss: 8.3657e-04 - accuracy: 0.9998 - recall_m: 0.9998 - precision_m: 0.9998 - f1_m: 0.9998 - val_loss: 0.0266 - val_accuracy: 0.9964 - val_recall_m: 0.9962 - val_precision_m: 0.9963 - val_f1_m: 0.9963\n",
            "Epoch 51/100\n",
            "235/235 [==============================] - 22s 92ms/step - loss: 0.0012 - accuracy: 0.9997 - recall_m: 0.9997 - precision_m: 0.9997 - f1_m: 0.9997 - val_loss: 0.0301 - val_accuracy: 0.9957 - val_recall_m: 0.9955 - val_precision_m: 0.9955 - val_f1_m: 0.9955\n",
            "Epoch 52/100\n",
            "235/235 [==============================] - 22s 92ms/step - loss: 0.0010 - accuracy: 0.9997 - recall_m: 0.9996 - precision_m: 0.9996 - f1_m: 0.9996 - val_loss: 0.0228 - val_accuracy: 0.9966 - val_recall_m: 0.9964 - val_precision_m: 0.9964 - val_f1_m: 0.9964\n",
            "Epoch 53/100\n",
            "235/235 [==============================] - 22s 92ms/step - loss: 0.0016 - accuracy: 0.9996 - recall_m: 0.9995 - precision_m: 0.9995 - f1_m: 0.9995 - val_loss: 0.0366 - val_accuracy: 0.9936 - val_recall_m: 0.9934 - val_precision_m: 0.9935 - val_f1_m: 0.9934\n",
            "Epoch 54/100\n",
            "235/235 [==============================] - 22s 92ms/step - loss: 0.0018 - accuracy: 0.9996 - recall_m: 0.9996 - precision_m: 0.9996 - f1_m: 0.9996 - val_loss: 0.0248 - val_accuracy: 0.9961 - val_recall_m: 0.9960 - val_precision_m: 0.9960 - val_f1_m: 0.9960\n",
            "Epoch 55/100\n",
            "235/235 [==============================] - 22s 92ms/step - loss: 9.2986e-04 - accuracy: 0.9997 - recall_m: 0.9996 - precision_m: 0.9997 - f1_m: 0.9996 - val_loss: 0.0265 - val_accuracy: 0.9955 - val_recall_m: 0.9954 - val_precision_m: 0.9954 - val_f1_m: 0.9954\n",
            "Epoch 56/100\n",
            "235/235 [==============================] - 22s 92ms/step - loss: 0.0011 - accuracy: 0.9997 - recall_m: 0.9997 - precision_m: 0.9997 - f1_m: 0.9997 - val_loss: 0.0225 - val_accuracy: 0.9967 - val_recall_m: 0.9966 - val_precision_m: 0.9966 - val_f1_m: 0.9966\n",
            "Epoch 57/100\n",
            "235/235 [==============================] - 22s 92ms/step - loss: 7.2616e-04 - accuracy: 0.9997 - recall_m: 0.9997 - precision_m: 0.9997 - f1_m: 0.9997 - val_loss: 0.0302 - val_accuracy: 0.9958 - val_recall_m: 0.9956 - val_precision_m: 0.9957 - val_f1_m: 0.9956\n",
            "Epoch 58/100\n",
            "235/235 [==============================] - 22s 92ms/step - loss: 3.4929e-04 - accuracy: 0.9999 - recall_m: 0.9999 - precision_m: 0.9999 - f1_m: 0.9999 - val_loss: 0.0266 - val_accuracy: 0.9963 - val_recall_m: 0.9963 - val_precision_m: 0.9964 - val_f1_m: 0.9964\n",
            "Epoch 59/100\n",
            "235/235 [==============================] - 22s 92ms/step - loss: 5.7196e-04 - accuracy: 0.9997 - recall_m: 0.9997 - precision_m: 0.9997 - f1_m: 0.9997 - val_loss: 0.0243 - val_accuracy: 0.9966 - val_recall_m: 0.9965 - val_precision_m: 0.9966 - val_f1_m: 0.9966\n",
            "Epoch 60/100\n",
            "235/235 [==============================] - 22s 92ms/step - loss: 4.9857e-04 - accuracy: 0.9999 - recall_m: 0.9999 - precision_m: 0.9999 - f1_m: 0.9999 - val_loss: 0.0250 - val_accuracy: 0.9965 - val_recall_m: 0.9964 - val_precision_m: 0.9964 - val_f1_m: 0.9964\n",
            "Epoch 61/100\n",
            "235/235 [==============================] - 22s 92ms/step - loss: 4.4414e-04 - accuracy: 0.9998 - recall_m: 0.9999 - precision_m: 0.9999 - f1_m: 0.9999 - val_loss: 0.0273 - val_accuracy: 0.9962 - val_recall_m: 0.9960 - val_precision_m: 0.9960 - val_f1_m: 0.9960\n",
            "Epoch 62/100\n",
            "235/235 [==============================] - 22s 95ms/step - loss: 4.1844e-04 - accuracy: 0.9999 - recall_m: 0.9999 - precision_m: 0.9999 - f1_m: 0.9999 - val_loss: 0.0237 - val_accuracy: 0.9966 - val_recall_m: 0.9965 - val_precision_m: 0.9966 - val_f1_m: 0.9966\n",
            "Epoch 63/100\n",
            "235/235 [==============================] - 22s 92ms/step - loss: 2.4018e-04 - accuracy: 0.9999 - recall_m: 0.9999 - precision_m: 0.9999 - f1_m: 0.9999 - val_loss: 0.0240 - val_accuracy: 0.9969 - val_recall_m: 0.9968 - val_precision_m: 0.9968 - val_f1_m: 0.9968\n",
            "Epoch 64/100\n",
            "235/235 [==============================] - 22s 92ms/step - loss: 4.7099e-04 - accuracy: 0.9998 - recall_m: 0.9999 - precision_m: 0.9999 - f1_m: 0.9999 - val_loss: 0.0291 - val_accuracy: 0.9957 - val_recall_m: 0.9956 - val_precision_m: 0.9956 - val_f1_m: 0.9956\n",
            "Epoch 65/100\n",
            "235/235 [==============================] - 22s 92ms/step - loss: 4.8650e-04 - accuracy: 0.9998 - recall_m: 0.9998 - precision_m: 0.9998 - f1_m: 0.9998 - val_loss: 0.0234 - val_accuracy: 0.9968 - val_recall_m: 0.9967 - val_precision_m: 0.9967 - val_f1_m: 0.9967\n",
            "Epoch 66/100\n",
            "235/235 [==============================] - 22s 92ms/step - loss: 0.0013 - accuracy: 0.9997 - recall_m: 0.9997 - precision_m: 0.9997 - f1_m: 0.9997 - val_loss: 0.0271 - val_accuracy: 0.9961 - val_recall_m: 0.9960 - val_precision_m: 0.9960 - val_f1_m: 0.9960\n",
            "Epoch 67/100\n",
            "235/235 [==============================] - 22s 92ms/step - loss: 9.4079e-04 - accuracy: 0.9997 - recall_m: 0.9997 - precision_m: 0.9998 - f1_m: 0.9997 - val_loss: 0.0300 - val_accuracy: 0.9960 - val_recall_m: 0.9958 - val_precision_m: 0.9959 - val_f1_m: 0.9958\n",
            "Epoch 68/100\n",
            "235/235 [==============================] - 22s 92ms/step - loss: 9.3788e-04 - accuracy: 0.9997 - recall_m: 0.9997 - precision_m: 0.9997 - f1_m: 0.9997 - val_loss: 0.0234 - val_accuracy: 0.9968 - val_recall_m: 0.9966 - val_precision_m: 0.9966 - val_f1_m: 0.9966\n",
            "Epoch 69/100\n",
            "235/235 [==============================] - 22s 92ms/step - loss: 2.7913e-04 - accuracy: 0.9999 - recall_m: 0.9999 - precision_m: 0.9999 - f1_m: 0.9999 - val_loss: 0.0252 - val_accuracy: 0.9966 - val_recall_m: 0.9964 - val_precision_m: 0.9965 - val_f1_m: 0.9965\n",
            "Epoch 70/100\n",
            "235/235 [==============================] - 22s 93ms/step - loss: 4.5903e-04 - accuracy: 0.9998 - recall_m: 0.9998 - precision_m: 0.9998 - f1_m: 0.9998 - val_loss: 0.0248 - val_accuracy: 0.9966 - val_recall_m: 0.9965 - val_precision_m: 0.9966 - val_f1_m: 0.9966\n",
            "Epoch 71/100\n",
            "235/235 [==============================] - 22s 93ms/step - loss: 1.1972e-04 - accuracy: 0.9999 - recall_m: 1.0000 - precision_m: 1.0000 - f1_m: 1.0000 - val_loss: 0.0269 - val_accuracy: 0.9962 - val_recall_m: 0.9961 - val_precision_m: 0.9961 - val_f1_m: 0.9961\n",
            "Epoch 72/100\n",
            "235/235 [==============================] - 22s 95ms/step - loss: 3.4284e-04 - accuracy: 0.9999 - recall_m: 0.9999 - precision_m: 0.9999 - f1_m: 0.9999 - val_loss: 0.0425 - val_accuracy: 0.9939 - val_recall_m: 0.9939 - val_precision_m: 0.9939 - val_f1_m: 0.9939\n",
            "Epoch 73/100\n",
            "235/235 [==============================] - 22s 92ms/step - loss: 4.3016e-04 - accuracy: 0.9998 - recall_m: 0.9999 - precision_m: 0.9999 - f1_m: 0.9999 - val_loss: 0.0249 - val_accuracy: 0.9966 - val_recall_m: 0.9964 - val_precision_m: 0.9965 - val_f1_m: 0.9965\n",
            "Epoch 74/100\n",
            "235/235 [==============================] - 22s 92ms/step - loss: 3.9652e-04 - accuracy: 0.9998 - recall_m: 0.9998 - precision_m: 0.9999 - f1_m: 0.9999 - val_loss: 0.0243 - val_accuracy: 0.9968 - val_recall_m: 0.9967 - val_precision_m: 0.9967 - val_f1_m: 0.9967\n",
            "Epoch 75/100\n",
            "235/235 [==============================] - 22s 92ms/step - loss: 5.3699e-04 - accuracy: 0.9998 - recall_m: 0.9999 - precision_m: 0.9999 - f1_m: 0.9999 - val_loss: 0.0322 - val_accuracy: 0.9957 - val_recall_m: 0.9956 - val_precision_m: 0.9956 - val_f1_m: 0.9956\n",
            "Epoch 76/100\n",
            "235/235 [==============================] - 22s 92ms/step - loss: 1.6513e-04 - accuracy: 0.9999 - recall_m: 1.0000 - precision_m: 1.0000 - f1_m: 1.0000 - val_loss: 0.0244 - val_accuracy: 0.9967 - val_recall_m: 0.9966 - val_precision_m: 0.9966 - val_f1_m: 0.9966\n",
            "Epoch 77/100\n",
            "235/235 [==============================] - 22s 92ms/step - loss: 3.8020e-04 - accuracy: 0.9999 - recall_m: 0.9999 - precision_m: 0.9999 - f1_m: 0.9999 - val_loss: 0.0245 - val_accuracy: 0.9967 - val_recall_m: 0.9966 - val_precision_m: 0.9966 - val_f1_m: 0.9966\n",
            "Epoch 78/100\n",
            "235/235 [==============================] - 22s 92ms/step - loss: 3.2815e-04 - accuracy: 0.9998 - recall_m: 0.9998 - precision_m: 0.9998 - f1_m: 0.9998 - val_loss: 0.0241 - val_accuracy: 0.9966 - val_recall_m: 0.9965 - val_precision_m: 0.9966 - val_f1_m: 0.9966\n",
            "Epoch 79/100\n",
            "235/235 [==============================] - 22s 92ms/step - loss: 9.4062e-04 - accuracy: 0.9998 - recall_m: 0.9998 - precision_m: 0.9998 - f1_m: 0.9998 - val_loss: 0.0310 - val_accuracy: 0.9959 - val_recall_m: 0.9959 - val_precision_m: 0.9960 - val_f1_m: 0.9960\n",
            "Epoch 80/100\n",
            "235/235 [==============================] - 22s 92ms/step - loss: 4.6513e-04 - accuracy: 0.9999 - recall_m: 0.9999 - precision_m: 0.9999 - f1_m: 0.9999 - val_loss: 0.0217 - val_accuracy: 0.9968 - val_recall_m: 0.9968 - val_precision_m: 0.9968 - val_f1_m: 0.9968\n",
            "Epoch 81/100\n",
            "235/235 [==============================] - 22s 92ms/step - loss: 3.3117e-04 - accuracy: 0.9999 - recall_m: 0.9999 - precision_m: 0.9999 - f1_m: 0.9999 - val_loss: 0.0273 - val_accuracy: 0.9962 - val_recall_m: 0.9961 - val_precision_m: 0.9961 - val_f1_m: 0.9961\n",
            "Epoch 82/100\n",
            "235/235 [==============================] - 22s 95ms/step - loss: 2.7482e-04 - accuracy: 0.9998 - recall_m: 0.9999 - precision_m: 0.9999 - f1_m: 0.9999 - val_loss: 0.0299 - val_accuracy: 0.9962 - val_recall_m: 0.9960 - val_precision_m: 0.9961 - val_f1_m: 0.9960\n",
            "Epoch 83/100\n",
            "235/235 [==============================] - 22s 92ms/step - loss: 5.3878e-04 - accuracy: 0.9998 - recall_m: 0.9998 - precision_m: 0.9998 - f1_m: 0.9998 - val_loss: 0.0414 - val_accuracy: 0.9936 - val_recall_m: 0.9937 - val_precision_m: 0.9938 - val_f1_m: 0.9937\n",
            "Epoch 84/100\n",
            "235/235 [==============================] - 22s 93ms/step - loss: 3.1796e-04 - accuracy: 0.9999 - recall_m: 0.9999 - precision_m: 0.9999 - f1_m: 0.9999 - val_loss: 0.0275 - val_accuracy: 0.9967 - val_recall_m: 0.9966 - val_precision_m: 0.9966 - val_f1_m: 0.9966\n",
            "Epoch 85/100\n",
            "235/235 [==============================] - 22s 92ms/step - loss: 8.3524e-04 - accuracy: 0.9998 - recall_m: 0.9998 - precision_m: 0.9998 - f1_m: 0.9998 - val_loss: 0.0274 - val_accuracy: 0.9960 - val_recall_m: 0.9958 - val_precision_m: 0.9958 - val_f1_m: 0.9958\n",
            "Epoch 86/100\n",
            "235/235 [==============================] - 22s 93ms/step - loss: 5.4261e-04 - accuracy: 0.9998 - recall_m: 0.9999 - precision_m: 0.9999 - f1_m: 0.9999 - val_loss: 0.0283 - val_accuracy: 0.9965 - val_recall_m: 0.9964 - val_precision_m: 0.9964 - val_f1_m: 0.9964\n",
            "Epoch 87/100\n",
            "235/235 [==============================] - 22s 92ms/step - loss: 1.9469e-04 - accuracy: 0.9999 - recall_m: 0.9999 - precision_m: 0.9999 - f1_m: 0.9999 - val_loss: 0.0261 - val_accuracy: 0.9967 - val_recall_m: 0.9966 - val_precision_m: 0.9966 - val_f1_m: 0.9966\n",
            "Epoch 88/100\n",
            "235/235 [==============================] - 22s 92ms/step - loss: 2.9716e-04 - accuracy: 0.9999 - recall_m: 0.9999 - precision_m: 0.9999 - f1_m: 0.9999 - val_loss: 0.0272 - val_accuracy: 0.9959 - val_recall_m: 0.9958 - val_precision_m: 0.9958 - val_f1_m: 0.9958\n",
            "Epoch 89/100\n",
            "235/235 [==============================] - 22s 92ms/step - loss: 1.8345e-04 - accuracy: 0.9999 - recall_m: 0.9999 - precision_m: 0.9999 - f1_m: 0.9999 - val_loss: 0.0267 - val_accuracy: 0.9963 - val_recall_m: 0.9962 - val_precision_m: 0.9963 - val_f1_m: 0.9963\n",
            "Epoch 90/100\n",
            "235/235 [==============================] - 22s 95ms/step - loss: 3.3861e-04 - accuracy: 0.9998 - recall_m: 0.9998 - precision_m: 0.9998 - f1_m: 0.9998 - val_loss: 0.0274 - val_accuracy: 0.9965 - val_recall_m: 0.9963 - val_precision_m: 0.9964 - val_f1_m: 0.9964\n",
            "Epoch 91/100\n",
            "235/235 [==============================] - 22s 93ms/step - loss: 3.4417e-04 - accuracy: 0.9999 - recall_m: 0.9999 - precision_m: 0.9999 - f1_m: 0.9999 - val_loss: 0.0267 - val_accuracy: 0.9966 - val_recall_m: 0.9965 - val_precision_m: 0.9965 - val_f1_m: 0.9965\n",
            "Epoch 92/100\n",
            "235/235 [==============================] - 22s 93ms/step - loss: 4.3723e-04 - accuracy: 0.9999 - recall_m: 0.9999 - precision_m: 0.9999 - f1_m: 0.9999 - val_loss: 0.0398 - val_accuracy: 0.9948 - val_recall_m: 0.9946 - val_precision_m: 0.9946 - val_f1_m: 0.9946\n",
            "Epoch 93/100\n",
            "235/235 [==============================] - 22s 92ms/step - loss: 3.9378e-04 - accuracy: 0.9998 - recall_m: 0.9998 - precision_m: 0.9998 - f1_m: 0.9998 - val_loss: 0.0328 - val_accuracy: 0.9958 - val_recall_m: 0.9956 - val_precision_m: 0.9957 - val_f1_m: 0.9956\n",
            "Epoch 94/100\n",
            "235/235 [==============================] - 22s 95ms/step - loss: 3.4034e-04 - accuracy: 0.9999 - recall_m: 0.9999 - precision_m: 0.9999 - f1_m: 0.9999 - val_loss: 0.0289 - val_accuracy: 0.9961 - val_recall_m: 0.9960 - val_precision_m: 0.9960 - val_f1_m: 0.9960\n",
            "Epoch 95/100\n",
            "235/235 [==============================] - 22s 93ms/step - loss: 2.5828e-04 - accuracy: 0.9999 - recall_m: 0.9999 - precision_m: 0.9999 - f1_m: 0.9999 - val_loss: 0.0248 - val_accuracy: 0.9964 - val_recall_m: 0.9963 - val_precision_m: 0.9963 - val_f1_m: 0.9963\n",
            "Epoch 96/100\n",
            "235/235 [==============================] - 22s 93ms/step - loss: 2.1170e-04 - accuracy: 0.9999 - recall_m: 1.0000 - precision_m: 1.0000 - f1_m: 1.0000 - val_loss: 0.0269 - val_accuracy: 0.9964 - val_recall_m: 0.9963 - val_precision_m: 0.9963 - val_f1_m: 0.9963\n",
            "Epoch 97/100\n",
            "235/235 [==============================] - 22s 93ms/step - loss: 9.8773e-05 - accuracy: 1.0000 - recall_m: 1.0000 - precision_m: 1.0000 - f1_m: 1.0000 - val_loss: 0.0281 - val_accuracy: 0.9963 - val_recall_m: 0.9962 - val_precision_m: 0.9962 - val_f1_m: 0.9962\n",
            "Epoch 98/100\n",
            "235/235 [==============================] - 22s 93ms/step - loss: 8.5406e-05 - accuracy: 1.0000 - recall_m: 0.9999 - precision_m: 0.9999 - f1_m: 0.9999 - val_loss: 0.0277 - val_accuracy: 0.9965 - val_recall_m: 0.9963 - val_precision_m: 0.9963 - val_f1_m: 0.9963\n",
            "Epoch 99/100\n",
            "235/235 [==============================] - 22s 93ms/step - loss: 4.1244e-04 - accuracy: 0.9999 - recall_m: 0.9999 - precision_m: 0.9999 - f1_m: 0.9999 - val_loss: 0.0257 - val_accuracy: 0.9965 - val_recall_m: 0.9964 - val_precision_m: 0.9964 - val_f1_m: 0.9964\n",
            "Epoch 100/100\n",
            "235/235 [==============================] - 22s 93ms/step - loss: 1.3166e-04 - accuracy: 0.9999 - recall_m: 1.0000 - precision_m: 1.0000 - f1_m: 1.0000 - val_loss: 0.0241 - val_accuracy: 0.9965 - val_recall_m: 0.9964 - val_precision_m: 0.9964 - val_f1_m: 0.9964\n"
          ]
        }
      ]
    },
    {
      "cell_type": "markdown",
      "source": [
        "## Evaluation of model"
      ],
      "metadata": {
        "id": "tA1tSebf3Q0D"
      }
    },
    {
      "cell_type": "code",
      "source": [
        "import matplotlib.pyplot as plt\n",
        "%matplotlib inline\n",
        "acc = history.history['accuracy']\n",
        "val_acc = history.history['val_accuracy']\n",
        "loss = history.history['loss']\n",
        "val_loss = history.history['val_loss']\n",
        "\n",
        "epochs = range(len(acc))\n",
        "\n",
        "plt.plot(epochs, acc, 'bo', label='Training acc')\n",
        "plt.plot(epochs, val_acc, 'b', label='Validation acc')\n",
        "plt.title('Training and validation accuracy')\n",
        "plt.legend()\n",
        "\n",
        "plt.figure()\n",
        "\n",
        "plt.plot(epochs, loss, 'bo', label='Training loss')\n",
        "plt.plot(epochs, val_loss, 'b', label='Validation loss')\n",
        "plt.title('Training and validation loss')\n",
        "plt.legend()\n",
        "\n",
        "plt.show()"
      ],
      "metadata": {
        "colab": {
          "base_uri": "https://localhost:8080/",
          "height": 545
        },
        "outputId": "669656ac-90bc-4e56-b2d3-4f847a19c06e",
        "id": "N-6JSqAe3Q0D"
      },
      "execution_count": 23,
      "outputs": [
        {
          "output_type": "display_data",
          "data": {
            "text/plain": [
              "<Figure size 432x288 with 1 Axes>"
            ],
            "image/png": "[encoded data removed]"
          },
          "metadata": {
            "needs_background": "light"
          }
        },
        {
          "output_type": "display_data",
          "data": {
            "text/plain": [
              "<Figure size 432x288 with 1 Axes>"
            ],
            "image/png": "[encoded data removed]"
          },
          "metadata": {
            "needs_background": "light"
          }
        }
      ]
    },
    {
      "cell_type": "code",
      "source": [
        "loss, acc, f1_score, precision, recall = model.evaluate(X_test.astype(np.float32), y_test.astype(np.float32), verbose=0)\n",
        "print(f\"\\n LOSS: {loss},\\n\\n ACCURACY: {acc},\\n\\n F1_SCORE: {f1_score},\\n\\n PRECISION: {precision},\\n\\n RECALL: {recall}\\n\")"
      ],
      "metadata": {
        "colab": {
          "base_uri": "https://localhost:8080/"
        },
        "outputId": "49cd9464-9ee5-431b-ee36-84ae9fb3664d",
        "id": "JJ0u2SpK3Q0D"
      },
      "execution_count": 24,
      "outputs": [
        {
          "output_type": "stream",
          "name": "stdout",
          "text": [
            "\n",
            " LOSS: 0.008223810233175755,\n",
            "\n",
            " ACCURACY: 0.9950000047683716,\n",
            "\n",
            " F1_SCORE: 0.9955357313156128,\n",
            "\n",
            " PRECISION: 0.9955357313156128,\n",
            "\n",
            " RECALL: 0.9955357313156128\n",
            "\n"
          ]
        }
      ]
    },
    {
      "cell_type": "markdown",
      "source": [
        "## Run for remaining dataset"
      ],
      "metadata": {
        "id": "neXDVW2U3Q0D"
      }
    },
    {
      "cell_type": "code",
      "source": [
        "loss, acc, f1_score, precision, recall = model.evaluate(X_remain.astype(np.float32), y_remain.astype(np.float32), verbose=0)\n",
        "print(f\"\\n LOSS: {loss},\\n\\n ACCURACY: {acc},\\n\\n F1_SCORE: {f1_score},\\n\\n PRECISION: {precision},\\n\\n RECALL: {recall}\\n\")"
      ],
      "metadata": {
        "colab": {
          "base_uri": "https://localhost:8080/"
        },
        "outputId": "44a97d0b-4974-4758-8fd7-a3595a126530",
        "id": "zsh0Hmun3Q0E"
      },
      "execution_count": 25,
      "outputs": [
        {
          "output_type": "stream",
          "name": "stdout",
          "text": [
            "\n",
            " LOSS: 0.018722204491496086,\n",
            "\n",
            " ACCURACY: 0.9975393414497375,\n",
            "\n",
            " F1_SCORE: 0.9975411295890808,\n",
            "\n",
            " PRECISION: 0.9975411295890808,\n",
            "\n",
            " RECALL: 0.9975411295890808\n",
            "\n"
          ]
        }
      ]
    },
    {
      "cell_type": "markdown",
      "source": [
        "## ADADELTA Model"
      ],
      "metadata": {
        "id": "u0-fUTaKZpnw"
      }
    },
    {
      "cell_type": "code",
      "source": [
        "# Define model architecture\n",
        "model = Sequential()\n",
        "model.add(layers.Conv2D(64, (3, 3), strides=(1,1), activation='relu', input_shape=(40, 40, 1), padding='same'))\n",
        "model.add(BatchNormalization())\n",
        "model.add(layers.MaxPooling2D((2, 2)))\n",
        "model.add(Dropout(0.1))\n",
        "\n",
        "model.add(layers.Conv2D(128, (3, 3), strides=(1,1), activation='relu', padding='same'))\n",
        "model.add(BatchNormalization())\n",
        "model.add(layers.Conv2D(128, (3, 3), strides=(1,1), activation='relu', padding='same'))\n",
        "model.add(BatchNormalization())\n",
        "model.add(layers.MaxPooling2D((3, 3), strides=(2,2)))\n",
        "model.add(Dropout(0.2))\n",
        "\n",
        "model.add(layers.Conv2D(256, (3, 3), strides=(1,1), activation='relu', padding='same'))\n",
        "model.add(BatchNormalization())\n",
        "model.add(layers.Conv2D(256, (3, 3), strides=(1,1), activation='relu', padding='same'))\n",
        "model.add(BatchNormalization())\n",
        "model.add(layers.MaxPooling2D((3, 3), strides=(2,2)))\n",
        "model.add(Dropout(0.3))\n",
        "\n",
        "model.add(layers.Conv2D(512, (3, 3), strides=(1,1), activation='relu', padding='same'))\n",
        "model.add(BatchNormalization())\n",
        "model.add(layers.Conv2D(512, (3, 3), strides=(1,1), activation='relu', padding='same'))\n",
        "model.add(BatchNormalization())\n",
        "model.add(layers.MaxPooling2D((3, 3), strides=(2,2)))\n",
        "model.add(Dropout(0.4))\n",
        "\n",
        "model.add(layers.Flatten())\n",
        "model.add(layers.Dense(1024, activation='relu'))\n",
        "model.add(BatchNormalization())\n",
        "model.add(Dropout(0.5))\n",
        "model.add(layers.Dense(10, activation='softmax'))\n",
        "\n",
        "# Compile model\n",
        "model.compile(loss='categorical_crossentropy',\n",
        "              optimizer='adadelta',\n",
        "              metrics=['accuracy', recall_m, precision_m, f1_m])\n",
        "\n",
        "model.summary()"
      ],
      "metadata": {
        "colab": {
          "base_uri": "https://localhost:8080/"
        },
        "outputId": "5ed006ad-d7bf-412c-c3aa-0c84fbb9e1c5",
        "id": "e_yLRJVY3ZcZ"
      },
      "execution_count": 26,
      "outputs": [
        {
          "output_type": "stream",
          "name": "stdout",
          "text": [
            "Model: \"sequential_3\"\n",
            "_________________________________________________________________\n",
            " Layer (type)                Output Shape              Param #   \n",
            "=================================================================\n",
            " conv2d_21 (Conv2D)          (None, 40, 40, 64)        640       \n",
            "                                                                 \n",
            " batch_normalization_24 (Bat  (None, 40, 40, 64)       256       \n",
            " chNormalization)                                                \n",
            "                                                                 \n",
            " max_pooling2d_12 (MaxPoolin  (None, 20, 20, 64)       0         \n",
            " g2D)                                                            \n",
            "                                                                 \n",
            " dropout_15 (Dropout)        (None, 20, 20, 64)        0         \n",
            "                                                                 \n",
            " conv2d_22 (Conv2D)          (None, 20, 20, 128)       73856     \n",
            "                                                                 \n",
            " batch_normalization_25 (Bat  (None, 20, 20, 128)      512       \n",
            " chNormalization)                                                \n",
            "                                                                 \n",
            " conv2d_23 (Conv2D)          (None, 20, 20, 128)       147584    \n",
            "                                                                 \n",
            " batch_normalization_26 (Bat  (None, 20, 20, 128)      512       \n",
            " chNormalization)                                                \n",
            "                                                                 \n",
            " max_pooling2d_13 (MaxPoolin  (None, 9, 9, 128)        0         \n",
            " g2D)                                                            \n",
            "                                                                 \n",
            " dropout_16 (Dropout)        (None, 9, 9, 128)         0         \n",
            "                                                                 \n",
            " conv2d_24 (Conv2D)          (None, 9, 9, 256)         295168    \n",
            "                                                                 \n",
            " batch_normalization_27 (Bat  (None, 9, 9, 256)        1024      \n",
            " chNormalization)                                                \n",
            "                                                                 \n",
            " conv2d_25 (Conv2D)          (None, 9, 9, 256)         590080    \n",
            "                                                                 \n",
            " batch_normalization_28 (Bat  (None, 9, 9, 256)        1024      \n",
            " chNormalization)                                                \n",
            "                                                                 \n",
            " max_pooling2d_14 (MaxPoolin  (None, 4, 4, 256)        0         \n",
            " g2D)                                                            \n",
            "                                                                 \n",
            " dropout_17 (Dropout)        (None, 4, 4, 256)         0         \n",
            "                                                                 \n",
            " conv2d_26 (Conv2D)          (None, 4, 4, 512)         1180160   \n",
            "                                                                 \n",
            " batch_normalization_29 (Bat  (None, 4, 4, 512)        2048      \n",
            " chNormalization)                                                \n",
            "                                                                 \n",
            " conv2d_27 (Conv2D)          (None, 4, 4, 512)         2359808   \n",
            "                                                                 \n",
            " batch_normalization_30 (Bat  (None, 4, 4, 512)        2048      \n",
            " chNormalization)                                                \n",
            "                                                                 \n",
            " max_pooling2d_15 (MaxPoolin  (None, 1, 1, 512)        0         \n",
            " g2D)                                                            \n",
            "                                                                 \n",
            " dropout_18 (Dropout)        (None, 1, 1, 512)         0         \n",
            "                                                                 \n",
            " flatten_3 (Flatten)         (None, 512)               0         \n",
            "                                                                 \n",
            " dense_6 (Dense)             (None, 1024)              525312    \n",
            "                                                                 \n",
            " batch_normalization_31 (Bat  (None, 1024)             4096      \n",
            " chNormalization)                                                \n",
            "                                                                 \n",
            " dropout_19 (Dropout)        (None, 1024)              0         \n",
            "                                                                 \n",
            " dense_7 (Dense)             (None, 10)                10250     \n",
            "                                                                 \n",
            "=================================================================\n",
            "Total params: 5,194,378\n",
            "Trainable params: 5,188,618\n",
            "Non-trainable params: 5,760\n",
            "_________________________________________________________________\n"
          ]
        }
      ]
    },
    {
      "cell_type": "code",
      "source": [
        "# Fit model on training data\n",
        "history = model.fit(X_train.astype(np.float32), y_train.astype(np.float32),\n",
        "          epochs=100, batch_size=256, validation_data = (X_val.astype(np.float32), y_val.astype(np.float32)))"
      ],
      "metadata": {
        "colab": {
          "base_uri": "https://localhost:8080/"
        },
        "outputId": "880197cd-d4a8-4c4f-fd00-699cc8ce4d24",
        "id": "gPpBRiaC3Zca"
      },
      "execution_count": 27,
      "outputs": [
        {
          "output_type": "stream",
          "name": "stdout",
          "text": [
            "Epoch 1/100\n",
            "235/235 [==============================] - 24s 95ms/step - loss: 3.4344 - accuracy: 0.1343 - recall_m: 0.0696 - precision_m: 0.1428 - f1_m: 0.0935 - val_loss: 2.6977 - val_accuracy: 0.0909 - val_recall_m: 0.0000e+00 - val_precision_m: 0.0000e+00 - val_f1_m: 0.0000e+00\n",
            "Epoch 2/100\n",
            "235/235 [==============================] - 22s 94ms/step - loss: 2.9661 - accuracy: 0.1996 - recall_m: 0.1188 - precision_m: 0.2317 - f1_m: 0.1570 - val_loss: 3.3169 - val_accuracy: 0.0934 - val_recall_m: 0.0897 - val_precision_m: 0.0906 - val_f1_m: 0.0902\n",
            "Epoch 3/100\n",
            "235/235 [==============================] - 22s 93ms/step - loss: 2.6119 - accuracy: 0.2598 - recall_m: 0.1702 - precision_m: 0.3138 - f1_m: 0.2205 - val_loss: 2.3732 - val_accuracy: 0.1929 - val_recall_m: 0.1451 - val_precision_m: 0.1737 - val_f1_m: 0.1521\n",
            "Epoch 4/100\n",
            "235/235 [==============================] - 22s 95ms/step - loss: 2.3192 - accuracy: 0.3174 - recall_m: 0.2247 - precision_m: 0.3871 - f1_m: 0.2842 - val_loss: 1.8148 - val_accuracy: 0.3525 - val_recall_m: 0.2268 - val_precision_m: 0.3380 - val_f1_m: 0.2570\n",
            "Epoch 5/100\n",
            "235/235 [==============================] - 22s 96ms/step - loss: 2.0395 - accuracy: 0.3785 - recall_m: 0.2844 - precision_m: 0.4612 - f1_m: 0.3516 - val_loss: 1.6433 - val_accuracy: 0.4191 - val_recall_m: 0.2890 - val_precision_m: 0.4031 - val_f1_m: 0.3251\n",
            "Epoch 6/100\n",
            "235/235 [==============================] - 22s 96ms/step - loss: 1.8028 - accuracy: 0.4409 - recall_m: 0.3470 - precision_m: 0.5275 - f1_m: 0.4183 - val_loss: 1.5215 - val_accuracy: 0.4621 - val_recall_m: 0.3478 - val_precision_m: 0.4585 - val_f1_m: 0.3865\n",
            "Epoch 7/100\n",
            "235/235 [==============================] - 22s 96ms/step - loss: 1.5839 - accuracy: 0.4965 - recall_m: 0.4082 - precision_m: 0.5857 - f1_m: 0.4809 - val_loss: 1.3968 - val_accuracy: 0.5099 - val_recall_m: 0.4102 - val_precision_m: 0.5182 - val_f1_m: 0.4499\n",
            "Epoch 8/100\n",
            "235/235 [==============================] - 22s 93ms/step - loss: 1.3913 - accuracy: 0.5488 - recall_m: 0.4652 - precision_m: 0.6311 - f1_m: 0.5354 - val_loss: 1.3022 - val_accuracy: 0.5442 - val_recall_m: 0.4587 - val_precision_m: 0.5606 - val_f1_m: 0.4978\n",
            "Epoch 9/100\n",
            "235/235 [==============================] - 22s 95ms/step - loss: 1.2321 - accuracy: 0.5950 - recall_m: 0.5178 - precision_m: 0.6709 - f1_m: 0.5843 - val_loss: 1.2121 - val_accuracy: 0.5783 - val_recall_m: 0.5095 - val_precision_m: 0.6024 - val_f1_m: 0.5472\n",
            "Epoch 10/100\n",
            "235/235 [==============================] - 22s 93ms/step - loss: 1.0981 - accuracy: 0.6401 - recall_m: 0.5710 - precision_m: 0.7090 - f1_m: 0.6324 - val_loss: 1.1264 - val_accuracy: 0.6106 - val_recall_m: 0.5519 - val_precision_m: 0.6343 - val_f1_m: 0.5867\n",
            "Epoch 11/100\n",
            "235/235 [==============================] - 22s 93ms/step - loss: 0.9822 - accuracy: 0.6740 - recall_m: 0.6127 - precision_m: 0.7352 - f1_m: 0.6683 - val_loss: 1.0743 - val_accuracy: 0.6321 - val_recall_m: 0.5817 - val_precision_m: 0.6539 - val_f1_m: 0.6132\n",
            "Epoch 12/100\n",
            "235/235 [==============================] - 22s 93ms/step - loss: 0.8790 - accuracy: 0.7075 - recall_m: 0.6546 - precision_m: 0.7621 - f1_m: 0.7042 - val_loss: 1.0216 - val_accuracy: 0.6540 - val_recall_m: 0.6097 - val_precision_m: 0.6730 - val_f1_m: 0.6380\n",
            "Epoch 13/100\n",
            "235/235 [==============================] - 22s 93ms/step - loss: 0.7949 - accuracy: 0.7316 - recall_m: 0.6850 - precision_m: 0.7804 - f1_m: 0.7295 - val_loss: 0.9717 - val_accuracy: 0.6711 - val_recall_m: 0.6348 - val_precision_m: 0.6897 - val_f1_m: 0.6596\n",
            "Epoch 14/100\n",
            "235/235 [==============================] - 22s 93ms/step - loss: 0.7238 - accuracy: 0.7548 - recall_m: 0.7118 - precision_m: 0.7962 - f1_m: 0.7515 - val_loss: 0.9336 - val_accuracy: 0.6864 - val_recall_m: 0.6524 - val_precision_m: 0.7015 - val_f1_m: 0.6750\n",
            "Epoch 15/100\n",
            "235/235 [==============================] - 22s 93ms/step - loss: 0.6579 - accuracy: 0.7776 - recall_m: 0.7409 - precision_m: 0.8166 - f1_m: 0.7768 - val_loss: 0.8952 - val_accuracy: 0.7008 - val_recall_m: 0.6717 - val_precision_m: 0.7158 - val_f1_m: 0.6922\n",
            "Epoch 16/100\n",
            "235/235 [==============================] - 22s 96ms/step - loss: 0.6054 - accuracy: 0.7938 - recall_m: 0.7620 - precision_m: 0.8271 - f1_m: 0.7931 - val_loss: 0.8624 - val_accuracy: 0.7131 - val_recall_m: 0.6860 - val_precision_m: 0.7264 - val_f1_m: 0.7048\n",
            "Epoch 17/100\n",
            "235/235 [==============================] - 22s 93ms/step - loss: 0.5656 - accuracy: 0.8077 - recall_m: 0.7788 - precision_m: 0.8380 - f1_m: 0.8073 - val_loss: 0.8283 - val_accuracy: 0.7254 - val_recall_m: 0.7010 - val_precision_m: 0.7387 - val_f1_m: 0.7187\n",
            "Epoch 18/100\n",
            "235/235 [==============================] - 22s 93ms/step - loss: 0.5273 - accuracy: 0.8208 - recall_m: 0.7954 - precision_m: 0.8487 - f1_m: 0.8211 - val_loss: 0.7878 - val_accuracy: 0.7386 - val_recall_m: 0.7169 - val_precision_m: 0.7514 - val_f1_m: 0.7332\n",
            "Epoch 19/100\n",
            "235/235 [==============================] - 22s 93ms/step - loss: 0.4907 - accuracy: 0.8306 - recall_m: 0.8077 - precision_m: 0.8557 - f1_m: 0.8309 - val_loss: 0.7636 - val_accuracy: 0.7467 - val_recall_m: 0.7262 - val_precision_m: 0.7581 - val_f1_m: 0.7413\n",
            "Epoch 20/100\n",
            "235/235 [==============================] - 22s 93ms/step - loss: 0.4601 - accuracy: 0.8420 - recall_m: 0.8213 - precision_m: 0.8648 - f1_m: 0.8424 - val_loss: 0.7191 - val_accuracy: 0.7620 - val_recall_m: 0.7428 - val_precision_m: 0.7730 - val_f1_m: 0.7571\n",
            "Epoch 21/100\n",
            "235/235 [==============================] - 22s 93ms/step - loss: 0.4280 - accuracy: 0.8542 - recall_m: 0.8355 - precision_m: 0.8732 - f1_m: 0.8539 - val_loss: 0.6876 - val_accuracy: 0.7727 - val_recall_m: 0.7548 - val_precision_m: 0.7832 - val_f1_m: 0.7683\n",
            "Epoch 22/100\n",
            "235/235 [==============================] - 22s 93ms/step - loss: 0.4037 - accuracy: 0.8626 - recall_m: 0.8456 - precision_m: 0.8812 - f1_m: 0.8630 - val_loss: 0.6563 - val_accuracy: 0.7822 - val_recall_m: 0.7658 - val_precision_m: 0.7929 - val_f1_m: 0.7787\n",
            "Epoch 23/100\n",
            "235/235 [==============================] - 22s 93ms/step - loss: 0.3820 - accuracy: 0.8695 - recall_m: 0.8543 - precision_m: 0.8866 - f1_m: 0.8701 - val_loss: 0.6247 - val_accuracy: 0.7923 - val_recall_m: 0.7757 - val_precision_m: 0.8017 - val_f1_m: 0.7882\n",
            "Epoch 24/100\n",
            "235/235 [==============================] - 22s 93ms/step - loss: 0.3602 - accuracy: 0.8786 - recall_m: 0.8641 - precision_m: 0.8942 - f1_m: 0.8789 - val_loss: 0.5941 - val_accuracy: 0.8032 - val_recall_m: 0.7871 - val_precision_m: 0.8116 - val_f1_m: 0.7988\n",
            "Epoch 25/100\n",
            "235/235 [==============================] - 23s 96ms/step - loss: 0.3355 - accuracy: 0.8858 - recall_m: 0.8728 - precision_m: 0.9002 - f1_m: 0.8863 - val_loss: 0.5689 - val_accuracy: 0.8111 - val_recall_m: 0.7966 - val_precision_m: 0.8200 - val_f1_m: 0.8078\n",
            "Epoch 26/100\n",
            "235/235 [==============================] - 22s 94ms/step - loss: 0.3216 - accuracy: 0.8896 - recall_m: 0.8769 - precision_m: 0.9025 - f1_m: 0.8895 - val_loss: 0.5376 - val_accuracy: 0.8218 - val_recall_m: 0.8083 - val_precision_m: 0.8295 - val_f1_m: 0.8186\n",
            "Epoch 27/100\n",
            "235/235 [==============================] - 22s 93ms/step - loss: 0.3033 - accuracy: 0.8980 - recall_m: 0.8866 - precision_m: 0.9098 - f1_m: 0.8980 - val_loss: 0.5088 - val_accuracy: 0.8303 - val_recall_m: 0.8180 - val_precision_m: 0.8380 - val_f1_m: 0.8277\n",
            "Epoch 28/100\n",
            "235/235 [==============================] - 22s 93ms/step - loss: 0.2859 - accuracy: 0.9022 - recall_m: 0.8924 - precision_m: 0.9139 - f1_m: 0.9030 - val_loss: 0.4874 - val_accuracy: 0.8375 - val_recall_m: 0.8260 - val_precision_m: 0.8452 - val_f1_m: 0.8353\n",
            "Epoch 29/100\n",
            "235/235 [==============================] - 22s 93ms/step - loss: 0.2727 - accuracy: 0.9070 - recall_m: 0.8964 - precision_m: 0.9182 - f1_m: 0.9071 - val_loss: 0.4662 - val_accuracy: 0.8434 - val_recall_m: 0.8335 - val_precision_m: 0.8512 - val_f1_m: 0.8421\n",
            "Epoch 30/100\n",
            "235/235 [==============================] - 22s 93ms/step - loss: 0.2639 - accuracy: 0.9101 - recall_m: 0.9009 - precision_m: 0.9205 - f1_m: 0.9106 - val_loss: 0.4399 - val_accuracy: 0.8521 - val_recall_m: 0.8424 - val_precision_m: 0.8601 - val_f1_m: 0.8510\n",
            "Epoch 31/100\n",
            "235/235 [==============================] - 22s 96ms/step - loss: 0.2460 - accuracy: 0.9161 - recall_m: 0.9074 - precision_m: 0.9256 - f1_m: 0.9164 - val_loss: 0.4191 - val_accuracy: 0.8592 - val_recall_m: 0.8501 - val_precision_m: 0.8669 - val_f1_m: 0.8583\n",
            "Epoch 32/100\n",
            "235/235 [==============================] - 22s 96ms/step - loss: 0.2378 - accuracy: 0.9184 - recall_m: 0.9105 - precision_m: 0.9282 - f1_m: 0.9193 - val_loss: 0.3958 - val_accuracy: 0.8679 - val_recall_m: 0.8584 - val_precision_m: 0.8742 - val_f1_m: 0.8661\n",
            "Epoch 33/100\n",
            "235/235 [==============================] - 22s 93ms/step - loss: 0.2245 - accuracy: 0.9242 - recall_m: 0.9164 - precision_m: 0.9334 - f1_m: 0.9248 - val_loss: 0.3748 - val_accuracy: 0.8754 - val_recall_m: 0.8667 - val_precision_m: 0.8811 - val_f1_m: 0.8738\n",
            "Epoch 34/100\n",
            "235/235 [==============================] - 22s 94ms/step - loss: 0.2193 - accuracy: 0.9265 - recall_m: 0.9189 - precision_m: 0.9350 - f1_m: 0.9268 - val_loss: 0.3572 - val_accuracy: 0.8814 - val_recall_m: 0.8738 - val_precision_m: 0.8873 - val_f1_m: 0.8804\n",
            "Epoch 35/100\n",
            "235/235 [==============================] - 22s 94ms/step - loss: 0.2038 - accuracy: 0.9317 - recall_m: 0.9243 - precision_m: 0.9395 - f1_m: 0.9318 - val_loss: 0.3397 - val_accuracy: 0.8877 - val_recall_m: 0.8801 - val_precision_m: 0.8928 - val_f1_m: 0.8864\n",
            "Epoch 36/100\n",
            "235/235 [==============================] - 22s 93ms/step - loss: 0.1960 - accuracy: 0.9342 - recall_m: 0.9281 - precision_m: 0.9414 - f1_m: 0.9347 - val_loss: 0.3212 - val_accuracy: 0.8937 - val_recall_m: 0.8870 - val_precision_m: 0.8990 - val_f1_m: 0.8929\n",
            "Epoch 37/100\n",
            "235/235 [==============================] - 22s 93ms/step - loss: 0.1872 - accuracy: 0.9373 - recall_m: 0.9311 - precision_m: 0.9439 - f1_m: 0.9374 - val_loss: 0.3074 - val_accuracy: 0.8981 - val_recall_m: 0.8917 - val_precision_m: 0.9032 - val_f1_m: 0.8974\n",
            "Epoch 38/100\n",
            "235/235 [==============================] - 22s 93ms/step - loss: 0.1783 - accuracy: 0.9405 - recall_m: 0.9346 - precision_m: 0.9470 - f1_m: 0.9407 - val_loss: 0.2910 - val_accuracy: 0.9033 - val_recall_m: 0.8980 - val_precision_m: 0.9079 - val_f1_m: 0.9029\n",
            "Epoch 39/100\n",
            "235/235 [==============================] - 22s 94ms/step - loss: 0.1754 - accuracy: 0.9410 - recall_m: 0.9359 - precision_m: 0.9475 - f1_m: 0.9416 - val_loss: 0.2815 - val_accuracy: 0.9073 - val_recall_m: 0.9015 - val_precision_m: 0.9111 - val_f1_m: 0.9062\n",
            "Epoch 40/100\n",
            "235/235 [==============================] - 22s 93ms/step - loss: 0.1666 - accuracy: 0.9444 - recall_m: 0.9392 - precision_m: 0.9506 - f1_m: 0.9449 - val_loss: 0.2710 - val_accuracy: 0.9109 - val_recall_m: 0.9057 - val_precision_m: 0.9143 - val_f1_m: 0.9099\n",
            "Epoch 41/100\n",
            "235/235 [==============================] - 22s 92ms/step - loss: 0.1585 - accuracy: 0.9473 - recall_m: 0.9423 - precision_m: 0.9527 - f1_m: 0.9474 - val_loss: 0.2613 - val_accuracy: 0.9137 - val_recall_m: 0.9091 - val_precision_m: 0.9178 - val_f1_m: 0.9134\n",
            "Epoch 42/100\n",
            "235/235 [==============================] - 22s 92ms/step - loss: 0.1535 - accuracy: 0.9485 - recall_m: 0.9438 - precision_m: 0.9535 - f1_m: 0.9486 - val_loss: 0.2525 - val_accuracy: 0.9169 - val_recall_m: 0.9121 - val_precision_m: 0.9201 - val_f1_m: 0.9161\n",
            "Epoch 43/100\n",
            "235/235 [==============================] - 22s 92ms/step - loss: 0.1484 - accuracy: 0.9508 - recall_m: 0.9460 - precision_m: 0.9560 - f1_m: 0.9510 - val_loss: 0.2415 - val_accuracy: 0.9206 - val_recall_m: 0.9161 - val_precision_m: 0.9244 - val_f1_m: 0.9202\n",
            "Epoch 44/100\n",
            "235/235 [==============================] - 22s 92ms/step - loss: 0.1431 - accuracy: 0.9526 - recall_m: 0.9482 - precision_m: 0.9572 - f1_m: 0.9527 - val_loss: 0.2321 - val_accuracy: 0.9242 - val_recall_m: 0.9196 - val_precision_m: 0.9280 - val_f1_m: 0.9238\n",
            "Epoch 45/100\n",
            "235/235 [==============================] - 22s 92ms/step - loss: 0.1370 - accuracy: 0.9545 - recall_m: 0.9508 - precision_m: 0.9593 - f1_m: 0.9550 - val_loss: 0.2236 - val_accuracy: 0.9273 - val_recall_m: 0.9227 - val_precision_m: 0.9308 - val_f1_m: 0.9267\n",
            "Epoch 46/100\n",
            "235/235 [==============================] - 22s 92ms/step - loss: 0.1334 - accuracy: 0.9565 - recall_m: 0.9523 - precision_m: 0.9610 - f1_m: 0.9566 - val_loss: 0.2194 - val_accuracy: 0.9289 - val_recall_m: 0.9249 - val_precision_m: 0.9325 - val_f1_m: 0.9287\n",
            "Epoch 47/100\n",
            "235/235 [==============================] - 22s 92ms/step - loss: 0.1262 - accuracy: 0.9582 - recall_m: 0.9542 - precision_m: 0.9630 - f1_m: 0.9586 - val_loss: 0.2092 - val_accuracy: 0.9321 - val_recall_m: 0.9280 - val_precision_m: 0.9356 - val_f1_m: 0.9318\n",
            "Epoch 48/100\n",
            "235/235 [==============================] - 22s 92ms/step - loss: 0.1218 - accuracy: 0.9596 - recall_m: 0.9563 - precision_m: 0.9641 - f1_m: 0.9602 - val_loss: 0.2059 - val_accuracy: 0.9331 - val_recall_m: 0.9297 - val_precision_m: 0.9369 - val_f1_m: 0.9333\n",
            "Epoch 49/100\n",
            "235/235 [==============================] - 22s 92ms/step - loss: 0.1213 - accuracy: 0.9603 - recall_m: 0.9568 - precision_m: 0.9648 - f1_m: 0.9608 - val_loss: 0.1967 - val_accuracy: 0.9365 - val_recall_m: 0.9328 - val_precision_m: 0.9400 - val_f1_m: 0.9364\n",
            "Epoch 50/100\n",
            "235/235 [==============================] - 22s 92ms/step - loss: 0.1194 - accuracy: 0.9606 - recall_m: 0.9571 - precision_m: 0.9649 - f1_m: 0.9610 - val_loss: 0.1931 - val_accuracy: 0.9381 - val_recall_m: 0.9345 - val_precision_m: 0.9411 - val_f1_m: 0.9378\n",
            "Epoch 51/100\n",
            "235/235 [==============================] - 22s 92ms/step - loss: 0.1134 - accuracy: 0.9629 - recall_m: 0.9601 - precision_m: 0.9666 - f1_m: 0.9633 - val_loss: 0.1873 - val_accuracy: 0.9402 - val_recall_m: 0.9368 - val_precision_m: 0.9428 - val_f1_m: 0.9398\n",
            "Epoch 52/100\n",
            "235/235 [==============================] - 22s 95ms/step - loss: 0.1118 - accuracy: 0.9639 - recall_m: 0.9610 - precision_m: 0.9679 - f1_m: 0.9645 - val_loss: 0.1821 - val_accuracy: 0.9422 - val_recall_m: 0.9385 - val_precision_m: 0.9446 - val_f1_m: 0.9415\n",
            "Epoch 53/100\n",
            "235/235 [==============================] - 22s 92ms/step - loss: 0.1114 - accuracy: 0.9641 - recall_m: 0.9610 - precision_m: 0.9675 - f1_m: 0.9642 - val_loss: 0.1794 - val_accuracy: 0.9431 - val_recall_m: 0.9399 - val_precision_m: 0.9455 - val_f1_m: 0.9427\n",
            "Epoch 54/100\n",
            "235/235 [==============================] - 22s 92ms/step - loss: 0.1051 - accuracy: 0.9661 - recall_m: 0.9631 - precision_m: 0.9696 - f1_m: 0.9664 - val_loss: 0.1731 - val_accuracy: 0.9447 - val_recall_m: 0.9420 - val_precision_m: 0.9472 - val_f1_m: 0.9446\n",
            "Epoch 55/100\n",
            "235/235 [==============================] - 22s 92ms/step - loss: 0.1045 - accuracy: 0.9660 - recall_m: 0.9633 - precision_m: 0.9692 - f1_m: 0.9662 - val_loss: 0.1672 - val_accuracy: 0.9462 - val_recall_m: 0.9430 - val_precision_m: 0.9485 - val_f1_m: 0.9458\n",
            "Epoch 56/100\n",
            "235/235 [==============================] - 22s 92ms/step - loss: 0.0980 - accuracy: 0.9685 - recall_m: 0.9651 - precision_m: 0.9718 - f1_m: 0.9684 - val_loss: 0.1634 - val_accuracy: 0.9474 - val_recall_m: 0.9442 - val_precision_m: 0.9498 - val_f1_m: 0.9470\n",
            "Epoch 57/100\n",
            "235/235 [==============================] - 22s 93ms/step - loss: 0.0978 - accuracy: 0.9682 - recall_m: 0.9653 - precision_m: 0.9717 - f1_m: 0.9685 - val_loss: 0.1612 - val_accuracy: 0.9484 - val_recall_m: 0.9455 - val_precision_m: 0.9505 - val_f1_m: 0.9480\n",
            "Epoch 58/100\n",
            "235/235 [==============================] - 22s 93ms/step - loss: 0.0933 - accuracy: 0.9697 - recall_m: 0.9671 - precision_m: 0.9730 - f1_m: 0.9700 - val_loss: 0.1569 - val_accuracy: 0.9497 - val_recall_m: 0.9471 - val_precision_m: 0.9517 - val_f1_m: 0.9494\n",
            "Epoch 59/100\n",
            "235/235 [==============================] - 22s 93ms/step - loss: 0.0946 - accuracy: 0.9699 - recall_m: 0.9674 - precision_m: 0.9726 - f1_m: 0.9700 - val_loss: 0.1521 - val_accuracy: 0.9516 - val_recall_m: 0.9489 - val_precision_m: 0.9536 - val_f1_m: 0.9513\n",
            "Epoch 60/100\n",
            "235/235 [==============================] - 22s 92ms/step - loss: 0.0914 - accuracy: 0.9709 - recall_m: 0.9683 - precision_m: 0.9737 - f1_m: 0.9710 - val_loss: 0.1515 - val_accuracy: 0.9518 - val_recall_m: 0.9495 - val_precision_m: 0.9537 - val_f1_m: 0.9516\n",
            "Epoch 61/100\n",
            "235/235 [==============================] - 22s 92ms/step - loss: 0.0911 - accuracy: 0.9709 - recall_m: 0.9684 - precision_m: 0.9736 - f1_m: 0.9710 - val_loss: 0.1472 - val_accuracy: 0.9535 - val_recall_m: 0.9511 - val_precision_m: 0.9552 - val_f1_m: 0.9532\n",
            "Epoch 62/100\n",
            "235/235 [==============================] - 22s 92ms/step - loss: 0.0856 - accuracy: 0.9723 - recall_m: 0.9699 - precision_m: 0.9752 - f1_m: 0.9725 - val_loss: 0.1434 - val_accuracy: 0.9548 - val_recall_m: 0.9523 - val_precision_m: 0.9565 - val_f1_m: 0.9544\n",
            "Epoch 63/100\n",
            "235/235 [==============================] - 22s 93ms/step - loss: 0.0869 - accuracy: 0.9713 - recall_m: 0.9686 - precision_m: 0.9740 - f1_m: 0.9713 - val_loss: 0.1415 - val_accuracy: 0.9552 - val_recall_m: 0.9530 - val_precision_m: 0.9569 - val_f1_m: 0.9549\n",
            "Epoch 64/100\n",
            "235/235 [==============================] - 22s 92ms/step - loss: 0.0842 - accuracy: 0.9730 - recall_m: 0.9709 - precision_m: 0.9757 - f1_m: 0.9733 - val_loss: 0.1377 - val_accuracy: 0.9562 - val_recall_m: 0.9544 - val_precision_m: 0.9581 - val_f1_m: 0.9562\n",
            "Epoch 65/100\n",
            "235/235 [==============================] - 22s 92ms/step - loss: 0.0819 - accuracy: 0.9733 - recall_m: 0.9709 - precision_m: 0.9761 - f1_m: 0.9735 - val_loss: 0.1334 - val_accuracy: 0.9583 - val_recall_m: 0.9558 - val_precision_m: 0.9598 - val_f1_m: 0.9578\n",
            "Epoch 66/100\n",
            "235/235 [==============================] - 22s 92ms/step - loss: 0.0830 - accuracy: 0.9730 - recall_m: 0.9711 - precision_m: 0.9758 - f1_m: 0.9734 - val_loss: 0.1310 - val_accuracy: 0.9594 - val_recall_m: 0.9570 - val_precision_m: 0.9610 - val_f1_m: 0.9590\n",
            "Epoch 67/100\n",
            "235/235 [==============================] - 22s 92ms/step - loss: 0.0787 - accuracy: 0.9750 - recall_m: 0.9727 - precision_m: 0.9772 - f1_m: 0.9749 - val_loss: 0.1290 - val_accuracy: 0.9595 - val_recall_m: 0.9576 - val_precision_m: 0.9612 - val_f1_m: 0.9594\n",
            "Epoch 68/100\n",
            "235/235 [==============================] - 22s 92ms/step - loss: 0.0761 - accuracy: 0.9759 - recall_m: 0.9739 - precision_m: 0.9782 - f1_m: 0.9760 - val_loss: 0.1275 - val_accuracy: 0.9598 - val_recall_m: 0.9579 - val_precision_m: 0.9615 - val_f1_m: 0.9597\n",
            "Epoch 69/100\n",
            "235/235 [==============================] - 22s 92ms/step - loss: 0.0765 - accuracy: 0.9758 - recall_m: 0.9737 - precision_m: 0.9781 - f1_m: 0.9759 - val_loss: 0.1233 - val_accuracy: 0.9620 - val_recall_m: 0.9599 - val_precision_m: 0.9631 - val_f1_m: 0.9615\n",
            "Epoch 70/100\n",
            "235/235 [==============================] - 22s 92ms/step - loss: 0.0748 - accuracy: 0.9768 - recall_m: 0.9747 - precision_m: 0.9791 - f1_m: 0.9769 - val_loss: 0.1229 - val_accuracy: 0.9622 - val_recall_m: 0.9599 - val_precision_m: 0.9632 - val_f1_m: 0.9615\n",
            "Epoch 71/100\n",
            "235/235 [==============================] - 22s 92ms/step - loss: 0.0704 - accuracy: 0.9774 - recall_m: 0.9753 - precision_m: 0.9798 - f1_m: 0.9775 - val_loss: 0.1201 - val_accuracy: 0.9631 - val_recall_m: 0.9611 - val_precision_m: 0.9639 - val_f1_m: 0.9625\n",
            "Epoch 72/100\n",
            "235/235 [==============================] - 22s 92ms/step - loss: 0.0718 - accuracy: 0.9776 - recall_m: 0.9756 - precision_m: 0.9800 - f1_m: 0.9778 - val_loss: 0.1189 - val_accuracy: 0.9635 - val_recall_m: 0.9615 - val_precision_m: 0.9643 - val_f1_m: 0.9629\n",
            "Epoch 73/100\n",
            "235/235 [==============================] - 22s 92ms/step - loss: 0.0690 - accuracy: 0.9787 - recall_m: 0.9770 - precision_m: 0.9809 - f1_m: 0.9790 - val_loss: 0.1181 - val_accuracy: 0.9634 - val_recall_m: 0.9615 - val_precision_m: 0.9641 - val_f1_m: 0.9628\n",
            "Epoch 74/100\n",
            "235/235 [==============================] - 22s 92ms/step - loss: 0.0693 - accuracy: 0.9782 - recall_m: 0.9764 - precision_m: 0.9803 - f1_m: 0.9784 - val_loss: 0.1149 - val_accuracy: 0.9644 - val_recall_m: 0.9627 - val_precision_m: 0.9651 - val_f1_m: 0.9639\n",
            "Epoch 75/100\n",
            "235/235 [==============================] - 22s 92ms/step - loss: 0.0695 - accuracy: 0.9775 - recall_m: 0.9756 - precision_m: 0.9798 - f1_m: 0.9777 - val_loss: 0.1146 - val_accuracy: 0.9646 - val_recall_m: 0.9628 - val_precision_m: 0.9653 - val_f1_m: 0.9640\n",
            "Epoch 76/100\n",
            "235/235 [==============================] - 22s 93ms/step - loss: 0.0677 - accuracy: 0.9786 - recall_m: 0.9772 - precision_m: 0.9807 - f1_m: 0.9790 - val_loss: 0.1120 - val_accuracy: 0.9653 - val_recall_m: 0.9637 - val_precision_m: 0.9661 - val_f1_m: 0.9649\n",
            "Epoch 77/100\n",
            "235/235 [==============================] - 22s 92ms/step - loss: 0.0651 - accuracy: 0.9794 - recall_m: 0.9778 - precision_m: 0.9814 - f1_m: 0.9796 - val_loss: 0.1133 - val_accuracy: 0.9646 - val_recall_m: 0.9631 - val_precision_m: 0.9655 - val_f1_m: 0.9643\n",
            "Epoch 78/100\n",
            "235/235 [==============================] - 22s 92ms/step - loss: 0.0645 - accuracy: 0.9796 - recall_m: 0.9780 - precision_m: 0.9816 - f1_m: 0.9798 - val_loss: 0.1104 - val_accuracy: 0.9657 - val_recall_m: 0.9644 - val_precision_m: 0.9666 - val_f1_m: 0.9655\n",
            "Epoch 79/100\n",
            "235/235 [==============================] - 22s 95ms/step - loss: 0.0620 - accuracy: 0.9800 - recall_m: 0.9784 - precision_m: 0.9819 - f1_m: 0.9801 - val_loss: 0.1079 - val_accuracy: 0.9663 - val_recall_m: 0.9648 - val_precision_m: 0.9671 - val_f1_m: 0.9660\n",
            "Epoch 80/100\n",
            "235/235 [==============================] - 22s 92ms/step - loss: 0.0631 - accuracy: 0.9801 - recall_m: 0.9789 - precision_m: 0.9823 - f1_m: 0.9806 - val_loss: 0.1059 - val_accuracy: 0.9670 - val_recall_m: 0.9657 - val_precision_m: 0.9680 - val_f1_m: 0.9668\n",
            "Epoch 81/100\n",
            "235/235 [==============================] - 22s 92ms/step - loss: 0.0626 - accuracy: 0.9803 - recall_m: 0.9789 - precision_m: 0.9823 - f1_m: 0.9806 - val_loss: 0.1038 - val_accuracy: 0.9678 - val_recall_m: 0.9663 - val_precision_m: 0.9685 - val_f1_m: 0.9674\n",
            "Epoch 82/100\n",
            "235/235 [==============================] - 22s 92ms/step - loss: 0.0644 - accuracy: 0.9801 - recall_m: 0.9787 - precision_m: 0.9821 - f1_m: 0.9804 - val_loss: 0.1024 - val_accuracy: 0.9681 - val_recall_m: 0.9666 - val_precision_m: 0.9690 - val_f1_m: 0.9678\n",
            "Epoch 83/100\n",
            "235/235 [==============================] - 22s 92ms/step - loss: 0.0589 - accuracy: 0.9812 - recall_m: 0.9797 - precision_m: 0.9830 - f1_m: 0.9814 - val_loss: 0.1011 - val_accuracy: 0.9685 - val_recall_m: 0.9675 - val_precision_m: 0.9697 - val_f1_m: 0.9686\n",
            "Epoch 84/100\n",
            "235/235 [==============================] - 22s 92ms/step - loss: 0.0603 - accuracy: 0.9811 - recall_m: 0.9796 - precision_m: 0.9828 - f1_m: 0.9812 - val_loss: 0.1002 - val_accuracy: 0.9686 - val_recall_m: 0.9676 - val_precision_m: 0.9698 - val_f1_m: 0.9687\n",
            "Epoch 85/100\n",
            "235/235 [==============================] - 22s 92ms/step - loss: 0.0610 - accuracy: 0.9809 - recall_m: 0.9793 - precision_m: 0.9827 - f1_m: 0.9810 - val_loss: 0.0995 - val_accuracy: 0.9686 - val_recall_m: 0.9675 - val_precision_m: 0.9700 - val_f1_m: 0.9687\n",
            "Epoch 86/100\n",
            "235/235 [==============================] - 22s 92ms/step - loss: 0.0587 - accuracy: 0.9818 - recall_m: 0.9806 - precision_m: 0.9834 - f1_m: 0.9820 - val_loss: 0.0980 - val_accuracy: 0.9691 - val_recall_m: 0.9680 - val_precision_m: 0.9703 - val_f1_m: 0.9691\n",
            "Epoch 87/100\n",
            "235/235 [==============================] - 22s 92ms/step - loss: 0.0586 - accuracy: 0.9821 - recall_m: 0.9808 - precision_m: 0.9838 - f1_m: 0.9823 - val_loss: 0.0958 - val_accuracy: 0.9697 - val_recall_m: 0.9686 - val_precision_m: 0.9711 - val_f1_m: 0.9698\n",
            "Epoch 88/100\n",
            "235/235 [==============================] - 22s 92ms/step - loss: 0.0557 - accuracy: 0.9824 - recall_m: 0.9810 - precision_m: 0.9842 - f1_m: 0.9826 - val_loss: 0.0960 - val_accuracy: 0.9695 - val_recall_m: 0.9684 - val_precision_m: 0.9708 - val_f1_m: 0.9696\n",
            "Epoch 89/100\n",
            "235/235 [==============================] - 22s 93ms/step - loss: 0.0559 - accuracy: 0.9824 - recall_m: 0.9814 - precision_m: 0.9842 - f1_m: 0.9828 - val_loss: 0.0944 - val_accuracy: 0.9700 - val_recall_m: 0.9690 - val_precision_m: 0.9714 - val_f1_m: 0.9702\n",
            "Epoch 90/100\n",
            "235/235 [==============================] - 22s 92ms/step - loss: 0.0547 - accuracy: 0.9827 - recall_m: 0.9815 - precision_m: 0.9846 - f1_m: 0.9830 - val_loss: 0.0934 - val_accuracy: 0.9707 - val_recall_m: 0.9695 - val_precision_m: 0.9718 - val_f1_m: 0.9706\n",
            "Epoch 91/100\n",
            "235/235 [==============================] - 22s 92ms/step - loss: 0.0539 - accuracy: 0.9831 - recall_m: 0.9820 - precision_m: 0.9846 - f1_m: 0.9833 - val_loss: 0.0937 - val_accuracy: 0.9705 - val_recall_m: 0.9693 - val_precision_m: 0.9719 - val_f1_m: 0.9706\n",
            "Epoch 92/100\n",
            "235/235 [==============================] - 22s 92ms/step - loss: 0.0533 - accuracy: 0.9835 - recall_m: 0.9822 - precision_m: 0.9852 - f1_m: 0.9837 - val_loss: 0.0910 - val_accuracy: 0.9714 - val_recall_m: 0.9703 - val_precision_m: 0.9727 - val_f1_m: 0.9715\n",
            "Epoch 93/100\n",
            "235/235 [==============================] - 22s 93ms/step - loss: 0.0516 - accuracy: 0.9833 - recall_m: 0.9824 - precision_m: 0.9851 - f1_m: 0.9837 - val_loss: 0.0914 - val_accuracy: 0.9712 - val_recall_m: 0.9704 - val_precision_m: 0.9725 - val_f1_m: 0.9715\n",
            "Epoch 94/100\n",
            "235/235 [==============================] - 22s 92ms/step - loss: 0.0521 - accuracy: 0.9842 - recall_m: 0.9829 - precision_m: 0.9861 - f1_m: 0.9845 - val_loss: 0.0896 - val_accuracy: 0.9719 - val_recall_m: 0.9709 - val_precision_m: 0.9732 - val_f1_m: 0.9720\n",
            "Epoch 95/100\n",
            "235/235 [==============================] - 22s 92ms/step - loss: 0.0516 - accuracy: 0.9841 - recall_m: 0.9830 - precision_m: 0.9857 - f1_m: 0.9843 - val_loss: 0.0899 - val_accuracy: 0.9715 - val_recall_m: 0.9707 - val_precision_m: 0.9729 - val_f1_m: 0.9718\n",
            "Epoch 96/100\n",
            "235/235 [==============================] - 22s 93ms/step - loss: 0.0503 - accuracy: 0.9840 - recall_m: 0.9827 - precision_m: 0.9854 - f1_m: 0.9840 - val_loss: 0.0877 - val_accuracy: 0.9724 - val_recall_m: 0.9714 - val_precision_m: 0.9736 - val_f1_m: 0.9725\n",
            "Epoch 97/100\n",
            "235/235 [==============================] - 22s 92ms/step - loss: 0.0493 - accuracy: 0.9843 - recall_m: 0.9831 - precision_m: 0.9858 - f1_m: 0.9845 - val_loss: 0.0864 - val_accuracy: 0.9727 - val_recall_m: 0.9718 - val_precision_m: 0.9742 - val_f1_m: 0.9730\n",
            "Epoch 98/100\n",
            "235/235 [==============================] - 22s 92ms/step - loss: 0.0498 - accuracy: 0.9845 - recall_m: 0.9835 - precision_m: 0.9862 - f1_m: 0.9848 - val_loss: 0.0851 - val_accuracy: 0.9732 - val_recall_m: 0.9720 - val_precision_m: 0.9747 - val_f1_m: 0.9734\n",
            "Epoch 99/100\n",
            "235/235 [==============================] - 22s 92ms/step - loss: 0.0484 - accuracy: 0.9852 - recall_m: 0.9839 - precision_m: 0.9866 - f1_m: 0.9853 - val_loss: 0.0852 - val_accuracy: 0.9732 - val_recall_m: 0.9721 - val_precision_m: 0.9745 - val_f1_m: 0.9733\n",
            "Epoch 100/100\n",
            "235/235 [==============================] - 22s 92ms/step - loss: 0.0492 - accuracy: 0.9841 - recall_m: 0.9831 - precision_m: 0.9860 - f1_m: 0.9846 - val_loss: 0.0841 - val_accuracy: 0.9738 - val_recall_m: 0.9725 - val_precision_m: 0.9752 - val_f1_m: 0.9738\n"
          ]
        }
      ]
    },
    {
      "cell_type": "markdown",
      "source": [
        "## Evaluation of model"
      ],
      "metadata": {
        "id": "rM-JQlBq3Zca"
      }
    },
    {
      "cell_type": "code",
      "source": [
        "import matplotlib.pyplot as plt\n",
        "%matplotlib inline\n",
        "acc = history.history['accuracy']\n",
        "val_acc = history.history['val_accuracy']\n",
        "loss = history.history['loss']\n",
        "val_loss = history.history['val_loss']\n",
        "\n",
        "epochs = range(len(acc))\n",
        "\n",
        "plt.plot(epochs, acc, 'bo', label='Training acc')\n",
        "plt.plot(epochs, val_acc, 'b', label='Validation acc')\n",
        "plt.title('Training and validation accuracy')\n",
        "plt.legend()\n",
        "\n",
        "plt.figure()\n",
        "\n",
        "plt.plot(epochs, loss, 'bo', label='Training loss')\n",
        "plt.plot(epochs, val_loss, 'b', label='Validation loss')\n",
        "plt.title('Training and validation loss')\n",
        "plt.legend()\n",
        "\n",
        "plt.show()"
      ],
      "metadata": {
        "colab": {
          "base_uri": "https://localhost:8080/",
          "height": 545
        },
        "outputId": "3ca496f4-c2db-424f-f0d8-ea35ae250b62",
        "id": "GHrgctyZ3Zca"
      },
      "execution_count": 28,
      "outputs": [
        {
          "output_type": "display_data",
          "data": {
            "text/plain": [
              "<Figure size 432x288 with 1 Axes>"
            ],
            "image/png": "[encoded data removed]"
          },
          "metadata": {
            "needs_background": "light"
          }
        },
        {
          "output_type": "display_data",
          "data": {
            "text/plain": [
              "<Figure size 432x288 with 1 Axes>"
            ],
            "image/png": "[encoded data removed]"
          },
          "metadata": {
            "needs_background": "light"
          }
        }
      ]
    },
    {
      "cell_type": "code",
      "source": [
        "loss, acc, f1_score, precision, recall = model.evaluate(X_test.astype(np.float32), y_test.astype(np.float32), verbose=0)\n",
        "print(f\"\\n LOSS: {loss},\\n\\n ACCURACY: {acc},\\n\\n F1_SCORE: {f1_score},\\n\\n PRECISION: {precision},\\n\\n RECALL: {recall}\\n\")"
      ],
      "metadata": {
        "colab": {
          "base_uri": "https://localhost:8080/"
        },
        "outputId": "d969c974-c4fe-4329-a22c-0ab208b32a28",
        "id": "iexAL8Jd3Zca"
      },
      "execution_count": 29,
      "outputs": [
        {
          "output_type": "stream",
          "name": "stdout",
          "text": [
            "\n",
            " LOSS: 0.02179643325507641,\n",
            "\n",
            " ACCURACY: 0.9900000095367432,\n",
            "\n",
            " F1_SCORE: 0.9910714030265808,\n",
            "\n",
            " PRECISION: 0.9910714030265808,\n",
            "\n",
            " RECALL: 0.9910714030265808\n",
            "\n"
          ]
        }
      ]
    },
    {
      "cell_type": "markdown",
      "source": [
        "## Run for remaining dataset"
      ],
      "metadata": {
        "id": "pbjKmcnl3Zca"
      }
    },
    {
      "cell_type": "code",
      "source": [
        "loss, acc, f1_score, precision, recall = model.evaluate(X_remain.astype(np.float32), y_remain.astype(np.float32), verbose=0)\n",
        "print(f\"\\n LOSS: {loss},\\n\\n ACCURACY: {acc},\\n\\n F1_SCORE: {f1_score},\\n\\n PRECISION: {precision},\\n\\n RECALL: {recall}\\n\")"
      ],
      "metadata": {
        "colab": {
          "base_uri": "https://localhost:8080/"
        },
        "outputId": "741d7a8f-6036-4bf6-a541-e24c714c2595",
        "id": "IxLi-pZW3Zca"
      },
      "execution_count": 30,
      "outputs": [
        {
          "output_type": "stream",
          "name": "stdout",
          "text": [
            "\n",
            " LOSS: 0.06915955245494843,\n",
            "\n",
            " ACCURACY: 0.9791964888572693,\n",
            "\n",
            " F1_SCORE: 0.9780489802360535,\n",
            "\n",
            " PRECISION: 0.9804559350013733,\n",
            "\n",
            " RECALL: 0.9792314767837524\n",
            "\n"
          ]
        }
      ]
    }
  ]
}